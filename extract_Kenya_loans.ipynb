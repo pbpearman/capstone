{
 "cells": [
  {
   "cell_type": "code",
   "execution_count": 5,
   "metadata": {
    "collapsed": false
   },
   "outputs": [],
   "source": [
    "import pandas as pd\n",
    "import numpy as np\n",
    "import os\n",
    "import json\n",
    "from pandas.io.json import json_normalize\n",
    "import cPickle as pk"
   ]
  },
  {
   "cell_type": "code",
   "execution_count": 6,
   "metadata": {
    "collapsed": false
   },
   "outputs": [
    {
     "data": {
      "text/html": [
       "<style>body {\n",
       "    margin: 0;\n",
       "    font-family: Helvetica;\n",
       "}\n",
       "table.dataframe {\n",
       "    border-collapse: collapse;\n",
       "    border: none;\n",
       "}\n",
       "table.dataframe tr {\n",
       "    border: none;\n",
       "}\n",
       "table.dataframe td, table.dataframe th {\n",
       "    margin: 0;\n",
       "    border: 1px solid white;\n",
       "    padding-left: 0.25em;\n",
       "    padding-right: 0.25em;\n",
       "}\n",
       "table.dataframe th:not(:empty) {\n",
       "    background-color: #fec;\n",
       "    text-align: left;\n",
       "    font-weight: normal;\n",
       "}\n",
       "table.dataframe tr:nth-child(2) th:empty {\n",
       "    border-left: none;\n",
       "    border-right: 1px dashed #888;\n",
       "}\n",
       "table.dataframe td {\n",
       "    border: 2px solid #ccf;\n",
       "    background-color: #f4f4ff;\n",
       "}\n",
       "h3 {\n",
       "    color: white;\n",
       "    background-color: black;\n",
       "    padding: 0.5em;\n",
       "}\n",
       "</style>"
      ],
      "text/plain": [
       "<IPython.core.display.HTML object>"
      ]
     },
     "execution_count": 6,
     "metadata": {},
     "output_type": "execute_result"
    }
   ],
   "source": [
    "from IPython.core.display import HTML\n",
    "css = open('style-table.css').read() + open('style-notebook.css').read()\n",
    "HTML('<style>{}</style>'.format(css))"
   ]
  },
  {
   "cell_type": "code",
   "execution_count": 7,
   "metadata": {
    "collapsed": false,
    "scrolled": true
   },
   "outputs": [],
   "source": [
    "lender_dir=\"loans\"\n",
    "country='Kenya'\n",
    "df=pd.DataFrame()\n",
    "\n",
    "for files in os.listdir(lender_dir):\n",
    "    inp_file = os.path.join(lender_dir,files)\n",
    "    #print inpfile\n",
    "    with open (inp_file,'r') as inp_File:\n",
    "        try:\n",
    "            inp_json = json.load(inp_File)\n",
    "            inp_File.close()\n",
    "            #print inp_file, \" loaded and closed successfully\"\n",
    "        except:\n",
    "            #print \"**********\", inp_file, \" failed on json.load\"\n",
    "            inp_File.close()\n",
    "            continue\n",
    "        n_loans = json_normalize(inp_json,'loans')\n",
    "        #print n_loans.head()\n",
    "        n_loans.loc[:,'obs'] =range(len(n_loans.index))\n",
    "        #print normalized_json.columns\n",
    "        locat = json_normalize(n_loans['location'])\n",
    "        locat.loc[:,'obs']= range(len(locat.index))\n",
    "        #print locat.head()\n",
    "        descp = json_normalize(n_loans['description'])\n",
    "        descp.loc[:,'obs']= range(len(descp.index))\n",
    "        \n",
    "        n_loans_locat=n_loans.merge(locat)\n",
    "        #n_loans_locat.iloc[0]\n",
    "        n_loans_locat_descp=n_loans_locat.merge(descp)\n",
    "        n_loans_locat_descp=n_loans_locat_descp[n_loans_locat_descp.country==country]\n",
    "        df=pd.concat([df,n_loans_locat_descp])\n",
    "        "
   ]
  },
  {
   "cell_type": "code",
   "execution_count": 8,
   "metadata": {
    "collapsed": false,
    "scrolled": false
   },
   "outputs": [
    {
     "data": {
      "text/html": [
       "<div>\n",
       "<table border=\"1\" class=\"dataframe\">\n",
       "  <thead>\n",
       "    <tr style=\"text-align: right;\">\n",
       "      <th></th>\n",
       "      <th>country</th>\n",
       "      <th>name</th>\n",
       "      <th>texts.en</th>\n",
       "    </tr>\n",
       "  </thead>\n",
       "  <tbody>\n",
       "    <tr>\n",
       "      <th>57</th>\n",
       "      <td>Kenya</td>\n",
       "      <td>Francis</td>\n",
       "      <td>Francis has a mixed farm that produces tea, ma...</td>\n",
       "    </tr>\n",
       "    <tr>\n",
       "      <th>78</th>\n",
       "      <td>Kenya</td>\n",
       "      <td>Maureen</td>\n",
       "      <td>Maureen is a hardworking 31-year-old business ...</td>\n",
       "    </tr>\n",
       "    <tr>\n",
       "      <th>81</th>\n",
       "      <td>Kenya</td>\n",
       "      <td>Agnes</td>\n",
       "      <td>Agnes is 35 years old and married to Julius. S...</td>\n",
       "    </tr>\n",
       "  </tbody>\n",
       "</table>\n",
       "</div>"
      ],
      "text/plain": [
       "   country     name                                           texts.en\n",
       "57   Kenya  Francis  Francis has a mixed farm that produces tea, ma...\n",
       "78   Kenya  Maureen  Maureen is a hardworking 31-year-old business ...\n",
       "81   Kenya    Agnes  Agnes is 35 years old and married to Julius. S..."
      ]
     },
     "execution_count": 8,
     "metadata": {},
     "output_type": "execute_result"
    }
   ],
   "source": [
    "df[['country','name','texts.en']][1:4]"
   ]
  },
  {
   "cell_type": "code",
   "execution_count": 9,
   "metadata": {
    "collapsed": false,
    "scrolled": true
   },
   "outputs": [
    {
     "data": {
      "text/plain": [
       "Kenya    98099\n",
       "Name: country, dtype: int64"
      ]
     },
     "execution_count": 9,
     "metadata": {},
     "output_type": "execute_result"
    }
   ],
   "source": [
    "df.country.value_counts()"
   ]
  },
  {
   "cell_type": "code",
   "execution_count": 11,
   "metadata": {
    "collapsed": true
   },
   "outputs": [],
   "source": [
    "filename='Kenya.pickle'\n",
    "handle=open(filename,'w')\n",
    "pk.dump(df,handle,protocol=0)\n",
    "handle.close()"
   ]
  }
 ],
 "metadata": {
  "anaconda-cloud": {},
  "kernelspec": {
   "display_name": "Python [Root]",
   "language": "python",
   "name": "Python [Root]"
  },
  "language_info": {
   "codemirror_mode": {
    "name": "ipython",
    "version": 2
   },
   "file_extension": ".py",
   "mimetype": "text/x-python",
   "name": "python",
   "nbconvert_exporter": "python",
   "pygments_lexer": "ipython2",
   "version": "2.7.12"
  }
 },
 "nbformat": 4,
 "nbformat_minor": 0
}
