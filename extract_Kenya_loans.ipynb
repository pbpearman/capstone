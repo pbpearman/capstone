{
 "cells": [
  {
   "cell_type": "code",
   "execution_count": 1,
   "metadata": {
    "collapsed": false
   },
   "outputs": [],
   "source": [
    "import pandas as pd\n",
    "import numpy as np\n",
    "import os\n",
    "import json\n",
    "from pandas.io.json import json_normalize\n",
    "import cPickle as pk"
   ]
  },
  {
   "cell_type": "code",
   "execution_count": 2,
   "metadata": {
    "collapsed": false,
    "scrolled": true
   },
   "outputs": [],
   "source": [
    "lender_dir=\"loans\"\n",
    "country='Kenya'\n",
    "df=pd.DataFrame()\n",
    "\n",
    "for files in os.listdir(lender_dir):\n",
    "    inp_file = os.path.join(lender_dir,files)\n",
    "    #print inpfile\n",
    "    with open (inp_file,'r') as inp_File:\n",
    "        try:\n",
    "            inp_json = json.load(inp_File)\n",
    "            inp_File.close()\n",
    "            #print inp_file, \" loaded and closed successfully\"\n",
    "        except:\n",
    "            #print \"**********\", inp_file, \" failed on json.load\"\n",
    "            inp_File.close()\n",
    "            continue\n",
    "        n_loans = json_normalize(inp_json,'loans')\n",
    "        #print n_loans.head()\n",
    "        n_loans.loc[:,'obs'] =range(len(n_loans.index))\n",
    "        #print normalized_json.columns\n",
    "        locat = json_normalize(n_loans['location'])\n",
    "        locat.loc[:,'obs']= range(len(locat.index))\n",
    "        #print locat.head()\n",
    "        descp = json_normalize(n_loans['description'])\n",
    "        descp.loc[:,'obs']= range(len(descp.index))\n",
    "        \n",
    "        n_loans_locat=n_loans.merge(locat)\n",
    "        #n_loans_locat.iloc[0]\n",
    "        n_loans_locat_descp=n_loans_locat.merge(descp)\n",
    "        n_loans_locat_descp=n_loans_locat_descp[n_loans_locat_descp.country==country]\n",
    "        df=pd.concat([df,n_loans_locat_descp])\n",
    "        "
   ]
  },
  {
   "cell_type": "code",
   "execution_count": 3,
   "metadata": {
    "collapsed": false,
    "scrolled": true
   },
   "outputs": [
    {
     "data": {
      "text/plain": [
       "(98099, 47)"
      ]
     },
     "execution_count": 3,
     "metadata": {},
     "output_type": "execute_result"
    }
   ],
   "source": [
    "df.shape"
   ]
  },
  {
   "cell_type": "code",
   "execution_count": 4,
   "metadata": {
    "collapsed": false,
    "scrolled": false
   },
   "outputs": [
    {
     "data": {
      "text/plain": [
       "Kenya    98099\n",
       "Name: country, dtype: int64"
      ]
     },
     "execution_count": 4,
     "metadata": {},
     "output_type": "execute_result"
    }
   ],
   "source": [
    "df.country.value_counts()"
   ]
  },
  {
   "cell_type": "code",
   "execution_count": 5,
   "metadata": {
    "collapsed": true
   },
   "outputs": [],
   "source": [
    "filename='Kenya.pickle'\n",
    "handle=open(filename,'w')\n",
    "pk.dump(df,handle,protocol=0)\n",
    "handle.close()"
   ]
  },
  {
   "cell_type": "code",
   "execution_count": null,
   "metadata": {
    "collapsed": true
   },
   "outputs": [],
   "source": [
    "handle=open('Kenya.pickle','r')\n",
    "df2=pk.load(handle)\n",
    "handle.close()"
   ]
  },
  {
   "cell_type": "code",
   "execution_count": 14,
   "metadata": {
    "collapsed": false
   },
   "outputs": [
    {
     "data": {
      "text/plain": [
       "Index([                     u'activity',                 u'basket_amount',\n",
       "            u'bonus_credit_eligibility',                     u'borrowers',\n",
       "                             u'country',                  u'country_code',\n",
       "       u'currency_exchange_loss_amount',                    u'delinquent',\n",
       "                         u'description',                 u'funded_amount',\n",
       "                         u'funded_date',                     u'geo.level',\n",
       "                           u'geo.pairs',                      u'geo.type',\n",
       "                                  u'id',                         u'image',\n",
       "                      u'journal_totals',                     u'languages',\n",
       "                        u'lender_count',                   u'loan_amount',\n",
       "                            u'location',                          u'name',\n",
       "                                 u'obs',                   u'paid_amount',\n",
       "                           u'paid_date',                    u'partner_id',\n",
       "                            u'payments',       u'planned_expiration_date',\n",
       "                         u'posted_date',                        u'sector',\n",
       "                              u'status',                          u'tags',\n",
       "                               u'terms',                      u'texts.ar',\n",
       "                            u'texts.en',                      u'texts.es',\n",
       "                            u'texts.fr',                      u'texts.id',\n",
       "                            u'texts.mn',                      u'texts.pt',\n",
       "                            u'texts.ru',                      u'texts.vi',\n",
       "                              u'themes',                          u'town',\n",
       "                          u'translator',                           u'use',\n",
       "                               u'video'],\n",
       "      dtype='object')"
      ]
     },
     "execution_count": 14,
     "metadata": {},
     "output_type": "execute_result"
    }
   ],
   "source": [
    "df.columns"
   ]
  },
  {
   "cell_type": "code",
   "execution_count": 15,
   "metadata": {
    "collapsed": false
   },
   "outputs": [
    {
     "data": {
      "text/plain": [
       "u'Edmar E. is from the village of Acad, Aurora, Zamboanga del Sur. He is 35 years old. Edmar is married and has one school-aged child. To make a living, Edmar owns & operates a buy and sell business. While not the only means for generating revenue, the main source of income for the business comes primarily from buying and selling coconut in the local community. Edmar has been engaged in his business for over three years and earns approximately 5000 PHP a month for these activities.\\r\\n\\r\\nIn 2009, Edmar joined GDMPC to gain access to financial services to help improve his living situation and ability to engage in business activities. Edmar has successfully repaid a previous loan of 5000 PHP from GDMPC. This previous loan was used to purchase additional coconut to sell. Edmar is requesting a new loan of 7000 PHP, which will be used to invest in expanding the business. This loan will be the second loan taken out by Edmar from GDMPC. He plans to use the additional revenue generated from the business to improve the general living conditions of his family and to pay tuition for his children. \\r\\n\\r\\nAbout GDMPC:\\r\\nGDMPC is one of the most progressive cooperatives in Mindanao, Philippines. It has four branches and three unit offices covering the provinces of Zamboanga del Sur, Lanao del Norte and Misamis Occidental. Its membership is composed mostly of farmers, fisherfolks and small entrepreneurs.\\r\\n\\r\\n*Note: To maximize efficiency and reduce costs, this loan was posted using a template to automate the translation by Kiva.  Given that manual translation of entrepreneur profiles is costly, Kiva created this template for our Field Partner to allow them to continue to post loans in English while providing quality and accurate information to Kiva lenders.'"
      ]
     },
     "execution_count": 15,
     "metadata": {},
     "output_type": "execute_result"
    }
   ],
   "source": [
    "df['texts.en'].iloc[0]"
   ]
  }
 ],
 "metadata": {
  "kernelspec": {
   "display_name": "Python 2",
   "language": "python",
   "name": "python2"
  },
  "language_info": {
   "codemirror_mode": {
    "name": "ipython",
    "version": 2
   },
   "file_extension": ".py",
   "mimetype": "text/x-python",
   "name": "python",
   "nbconvert_exporter": "python",
   "pygments_lexer": "ipython2",
   "version": "2.7.11"
  }
 },
 "nbformat": 4,
 "nbformat_minor": 0
}
