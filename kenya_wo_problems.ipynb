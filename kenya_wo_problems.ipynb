{
 "cells": [
  {
   "cell_type": "code",
   "execution_count": 1,
   "metadata": {
    "collapsed": false,
    "scrolled": true
   },
   "outputs": [],
   "source": [
    "%matplotlib inline"
   ]
  },
  {
   "cell_type": "code",
   "execution_count": 2,
   "metadata": {
    "collapsed": false
   },
   "outputs": [],
   "source": [
    "import pandas as pd\n",
    "import numpy as np\n",
    "import os\n",
    "import json\n",
    "from pandas.io.json import json_normalize\n",
    "import cPickle as pk\n",
    "import matplotlib.pyplot as plt\n",
    "import seaborn as sns"
   ]
  },
  {
   "cell_type": "code",
   "execution_count": 3,
   "metadata": {
    "collapsed": false
   },
   "outputs": [
    {
     "data": {
      "text/html": [
       "<style>body {\n",
       "    margin: 0;\n",
       "    font-family: Helvetica;\n",
       "}\n",
       "table.dataframe {\n",
       "    border-collapse: collapse;\n",
       "    border: none;\n",
       "}\n",
       "table.dataframe tr {\n",
       "    border: none;\n",
       "}\n",
       "table.dataframe td, table.dataframe th {\n",
       "    margin: 0;\n",
       "    border: 1px solid white;\n",
       "    padding-left: 0.25em;\n",
       "    padding-right: 0.25em;\n",
       "}\n",
       "table.dataframe th:not(:empty) {\n",
       "    background-color: #fec;\n",
       "    text-align: left;\n",
       "    font-weight: normal;\n",
       "}\n",
       "table.dataframe tr:nth-child(2) th:empty {\n",
       "    border-left: none;\n",
       "    border-right: 1px dashed #888;\n",
       "}\n",
       "table.dataframe td {\n",
       "    border: 2px solid #ccf;\n",
       "    background-color: #f4f4ff;\n",
       "}\n",
       "h3 {\n",
       "    color: white;\n",
       "    background-color: black;\n",
       "    padding: 0.5em;\n",
       "}\n",
       "</style>"
      ],
      "text/plain": [
       "<IPython.core.display.HTML object>"
      ]
     },
     "execution_count": 3,
     "metadata": {},
     "output_type": "execute_result"
    }
   ],
   "source": [
    "from IPython.core.display import HTML\n",
    "css = open('style-table.css').read() + open('style-notebook.css').read()\n",
    "HTML('<style>{}</style>'.format(css))"
   ]
  },
  {
   "cell_type": "code",
   "execution_count": 5,
   "metadata": {
    "collapsed": false,
    "scrolled": true
   },
   "outputs": [],
   "source": [
    "handle=open('../data/Kenya.pickle','r')\n",
    "df2=pk.load(handle)\n",
    "handle.close()\n",
    "# comment line 2"
   ]
  },
  {
   "cell_type": "code",
   "execution_count": 6,
   "metadata": {
    "collapsed": false
   },
   "outputs": [
    {
     "data": {
      "text/plain": [
       "Index([                     u'activity',                 u'basket_amount',\n",
       "            u'bonus_credit_eligibility',                     u'borrowers',\n",
       "                             u'country',                  u'country_code',\n",
       "       u'currency_exchange_loss_amount',                    u'delinquent',\n",
       "                         u'description',                 u'funded_amount',\n",
       "                         u'funded_date',                     u'geo.level',\n",
       "                           u'geo.pairs',                      u'geo.type',\n",
       "                                  u'id',                         u'image',\n",
       "                      u'journal_totals',                     u'languages',\n",
       "                        u'lender_count',                   u'loan_amount',\n",
       "                            u'location',                          u'name',\n",
       "                                 u'obs',                   u'paid_amount',\n",
       "                           u'paid_date',                    u'partner_id',\n",
       "                            u'payments',       u'planned_expiration_date',\n",
       "                         u'posted_date',                        u'sector',\n",
       "                              u'status',                          u'tags',\n",
       "                               u'terms',                      u'texts.ar',\n",
       "                            u'texts.en',                      u'texts.es',\n",
       "                            u'texts.fr',                      u'texts.id',\n",
       "                            u'texts.mn',                      u'texts.pt',\n",
       "                            u'texts.ru',                      u'texts.vi',\n",
       "                              u'themes',                          u'town',\n",
       "                          u'translator',                           u'use',\n",
       "                               u'video'],\n",
       "      dtype='object')"
      ]
     },
     "execution_count": 6,
     "metadata": {},
     "output_type": "execute_result"
    }
   ],
   "source": [
    "df2.columns"
   ]
  },
  {
   "cell_type": "code",
   "execution_count": 7,
   "metadata": {
    "collapsed": true
   },
   "outputs": [],
   "source": [
    "def gender_extract(recip):\n",
    "    lst=[]\n",
    "    for i in recip:\n",
    "        lst.append(i['gender'])\n",
    "    return lst\n",
    "        "
   ]
  },
  {
   "cell_type": "code",
   "execution_count": 8,
   "metadata": {
    "collapsed": true
   },
   "outputs": [],
   "source": [
    "proportion_fem=[]\n",
    "borrower_team_size=[]"
   ]
  },
  {
   "cell_type": "code",
   "execution_count": 9,
   "metadata": {
    "collapsed": true
   },
   "outputs": [],
   "source": [
    "                                                   #This function is used in .apply() to fill two lists with\n",
    "def fl_gender(recip,proportion_fem,borrower_team_size):\n",
    "    sexes=gender_extract(recip)\n",
    "    num_borrowers=len(sexes)\n",
    "    #print 'sexes = ', sexes, 'num_borrowers = ',num_borrowers\n",
    "    proportion_fem.append(float(sexes.count('F'))/num_borrowers)\n",
    "    borrower_team_size.append(num_borrowers)"
   ]
  },
  {
   "cell_type": "code",
   "execution_count": 10,
   "metadata": {
    "collapsed": false
   },
   "outputs": [],
   "source": [
    "                                                     # Here, the two lists are filled from df2.borrowers\n",
    "df2.borrowers.apply(fl_gender, args=(proportion_fem,borrower_team_size));"
   ]
  },
  {
   "cell_type": "code",
   "execution_count": 11,
   "metadata": {
    "collapsed": false
   },
   "outputs": [],
   "source": [
    "df2.loc[:,'prop_female']= pd.Series(proportion_fem,index=df2.index)      #add the lists as columns to the dataframe"
   ]
  },
  {
   "cell_type": "code",
   "execution_count": 12,
   "metadata": {
    "collapsed": true
   },
   "outputs": [],
   "source": [
    "df2.loc[:,'num_borrowers']=pd.Series(borrower_team_size,index=df2.index) #here too"
   ]
  },
  {
   "cell_type": "code",
   "execution_count": 13,
   "metadata": {
    "collapsed": false,
    "scrolled": true
   },
   "outputs": [
    {
     "data": {
      "text/plain": [
       "Index([                     u'activity',                 u'basket_amount',\n",
       "            u'bonus_credit_eligibility',                     u'borrowers',\n",
       "                             u'country',                  u'country_code',\n",
       "       u'currency_exchange_loss_amount',                    u'delinquent',\n",
       "                         u'description',                 u'funded_amount',\n",
       "                         u'funded_date',                     u'geo.level',\n",
       "                           u'geo.pairs',                      u'geo.type',\n",
       "                                  u'id',                         u'image',\n",
       "                      u'journal_totals',                     u'languages',\n",
       "                        u'lender_count',                   u'loan_amount',\n",
       "                            u'location',                          u'name',\n",
       "                                 u'obs',                   u'paid_amount',\n",
       "                           u'paid_date',                    u'partner_id',\n",
       "                            u'payments',       u'planned_expiration_date',\n",
       "                         u'posted_date',                        u'sector',\n",
       "                              u'status',                          u'tags',\n",
       "                               u'terms',                      u'texts.ar',\n",
       "                            u'texts.en',                      u'texts.es',\n",
       "                            u'texts.fr',                      u'texts.id',\n",
       "                            u'texts.mn',                      u'texts.pt',\n",
       "                            u'texts.ru',                      u'texts.vi',\n",
       "                              u'themes',                          u'town',\n",
       "                          u'translator',                           u'use',\n",
       "                               u'video',                   u'prop_female',\n",
       "                       u'num_borrowers'],\n",
       "      dtype='object')"
      ]
     },
     "execution_count": 13,
     "metadata": {},
     "output_type": "execute_result"
    }
   ],
   "source": [
    "df2.columns"
   ]
  },
  {
   "cell_type": "code",
   "execution_count": 14,
   "metadata": {
    "collapsed": false
   },
   "outputs": [],
   "source": [
    "df2.drop(['image','terms','journal_totals'],axis=1,inplace=True)"
   ]
  },
  {
   "cell_type": "code",
   "execution_count": 16,
   "metadata": {
    "collapsed": false
   },
   "outputs": [
    {
     "data": {
      "text/plain": [
       "(98099, 46)"
      ]
     },
     "execution_count": 16,
     "metadata": {},
     "output_type": "execute_result"
    }
   ],
   "source": [
    "df2.shape"
   ]
  },
  {
   "cell_type": "code",
   "execution_count": 17,
   "metadata": {
    "collapsed": true
   },
   "outputs": [],
   "source": [
    "filename='../data/Kenya.pickle'\n",
    "handle=open(filename,'w')\n",
    "pk.dump(df2,handle,protocol=0)\n",
    "handle.close()"
   ]
  }
 ],
 "metadata": {
  "anaconda-cloud": {},
  "kernelspec": {
   "display_name": "Python [Root]",
   "language": "python",
   "name": "Python [Root]"
  },
  "language_info": {
   "codemirror_mode": {
    "name": "ipython",
    "version": 2
   },
   "file_extension": ".py",
   "mimetype": "text/x-python",
   "name": "python",
   "nbconvert_exporter": "python",
   "pygments_lexer": "ipython2",
   "version": "2.7.12"
  }
 },
 "nbformat": 4,
 "nbformat_minor": 0
}
