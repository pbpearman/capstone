{
 "cells": [
  {
   "cell_type": "code",
   "execution_count": 1,
   "metadata": {
    "collapsed": true
   },
   "outputs": [],
   "source": [
    "%matplotlib inline"
   ]
  },
  {
   "cell_type": "code",
   "execution_count": 2,
   "metadata": {
    "collapsed": true
   },
   "outputs": [],
   "source": [
    "import pandas as pd\n",
    "import numpy as np\n",
    "import os\n",
    "import json\n",
    "from pandas.io.json import json_normalize\n",
    "import cPickle as pk\n",
    "import matplotlib.pyplot as plt\n",
    "import matplotlib as mpl\n",
    "#import seaborn as sns\n",
    "import datetime as dt\n",
    "import urllib2\n",
    "import urllib\n",
    "from patsy import dmatrices, dmatrix, demo_data"
   ]
  },
  {
   "cell_type": "code",
   "execution_count": 3,
   "metadata": {
    "collapsed": false
   },
   "outputs": [
    {
     "data": {
      "text/html": [
       "<style>body {\n",
       "    margin: 0;\n",
       "    font-family: Helvetica;\n",
       "}\n",
       "table.dataframe {\n",
       "    border-collapse: collapse;\n",
       "    border: none;\n",
       "}\n",
       "table.dataframe tr {\n",
       "    border: none;\n",
       "}\n",
       "table.dataframe td, table.dataframe th {\n",
       "    margin: 0;\n",
       "    border: 1px solid white;\n",
       "    padding-left: 0.25em;\n",
       "    padding-right: 0.25em;\n",
       "}\n",
       "table.dataframe th:not(:empty) {\n",
       "    background-color: #fec;\n",
       "    text-align: left;\n",
       "    font-weight: normal;\n",
       "}\n",
       "table.dataframe tr:nth-child(2) th:empty {\n",
       "    border-left: none;\n",
       "    border-right: 1px dashed #888;\n",
       "}\n",
       "table.dataframe td {\n",
       "    border: 2px solid #ccf;\n",
       "    background-color: #f4f4ff;\n",
       "}\n",
       "h3 {\n",
       "    color: white;\n",
       "    background-color: black;\n",
       "    padding: 0.5em;\n",
       "}\n",
       "</style>"
      ],
      "text/plain": [
       "<IPython.core.display.HTML object>"
      ]
     },
     "execution_count": 3,
     "metadata": {},
     "output_type": "execute_result"
    }
   ],
   "source": [
    "from IPython.core.display import HTML\n",
    "css = open('style-table.css').read() + open('style-notebook.css').read()\n",
    "HTML('<style>{}</style>'.format(css))"
   ]
  },
  {
   "cell_type": "code",
   "execution_count": 4,
   "metadata": {
    "collapsed": true
   },
   "outputs": [],
   "source": [
    "handle=open('../data/Kenya.pickle','r')\n",
    "df2=pk.load(handle)\n",
    "handle.close()"
   ]
  },
  {
   "cell_type": "code",
   "execution_count": 5,
   "metadata": {
    "collapsed": true
   },
   "outputs": [],
   "source": [
    "df2.drop_duplicates(subset=['id','name','funded_date','status','texts.en'],inplace=True)"
   ]
  },
  {
   "cell_type": "code",
   "execution_count": 6,
   "metadata": {
    "collapsed": false
   },
   "outputs": [
    {
     "data": {
      "text/plain": [
       "Index([                     u'activity',                 u'basket_amount',\n",
       "            u'bonus_credit_eligibility',                     u'borrowers',\n",
       "                             u'country',                  u'country_code',\n",
       "       u'currency_exchange_loss_amount',                    u'delinquent',\n",
       "                         u'description',                 u'funded_amount',\n",
       "                         u'funded_date',                     u'geo.level',\n",
       "                           u'geo.pairs',                      u'geo.type',\n",
       "                                  u'id',                     u'languages',\n",
       "                        u'lender_count',                   u'loan_amount',\n",
       "                            u'location',                          u'name',\n",
       "                                 u'obs',                   u'paid_amount',\n",
       "                           u'paid_date',                    u'partner_id',\n",
       "                            u'payments',       u'planned_expiration_date',\n",
       "                         u'posted_date',                        u'sector',\n",
       "                              u'status',                          u'tags',\n",
       "                            u'texts.ar',                      u'texts.en',\n",
       "                            u'texts.es',                      u'texts.fr',\n",
       "                            u'texts.id',                      u'texts.mn',\n",
       "                            u'texts.pt',                      u'texts.ru',\n",
       "                            u'texts.vi',                        u'themes',\n",
       "                                u'town',                    u'translator',\n",
       "                                 u'use',                         u'video',\n",
       "                         u'prop_female',                 u'num_borrowers'],\n",
       "      dtype='object')"
      ]
     },
     "execution_count": 6,
     "metadata": {},
     "output_type": "execute_result"
    }
   ],
   "source": [
    "df2.columns"
   ]
  },
  {
   "cell_type": "code",
   "execution_count": 7,
   "metadata": {
    "collapsed": true
   },
   "outputs": [],
   "source": [
    "index1=range(0,len(df2['name']))"
   ]
  },
  {
   "cell_type": "code",
   "execution_count": 8,
   "metadata": {
    "collapsed": true
   },
   "outputs": [],
   "source": [
    "df2.reset_index(index1,inplace=True)"
   ]
  },
  {
   "cell_type": "code",
   "execution_count": 9,
   "metadata": {
    "collapsed": true
   },
   "outputs": [],
   "source": [
    "df2a = df2[df2.funded_amount>0]"
   ]
  },
  {
   "cell_type": "code",
   "execution_count": 10,
   "metadata": {
    "collapsed": true
   },
   "outputs": [],
   "source": [
    "def mktime(x):\n",
    "    try:\n",
    "        tym=dt.datetime.strptime(x,\"%Y-%m-%dT%H:%M:%SZ\")\n",
    "        return tym\n",
    "    except:\n",
    "        return np.nan"
   ]
  },
  {
   "cell_type": "code",
   "execution_count": 11,
   "metadata": {
    "collapsed": true
   },
   "outputs": [],
   "source": [
    "def getyear(x):\n",
    "    try:\n",
    "        yr=np.int(x.year)\n",
    "        return yr\n",
    "    except:\n",
    "        return np.nan"
   ]
  },
  {
   "cell_type": "code",
   "execution_count": 12,
   "metadata": {
    "collapsed": false
   },
   "outputs": [
    {
     "name": "stderr",
     "output_type": "stream",
     "text": [
      "/Applications/anaconda/lib/python2.7/site-packages/pandas/core/indexing.py:288: SettingWithCopyWarning: \n",
      "A value is trying to be set on a copy of a slice from a DataFrame.\n",
      "Try using .loc[row_indexer,col_indexer] = value instead\n",
      "\n",
      "See the caveats in the documentation: http://pandas.pydata.org/pandas-docs/stable/indexing.html#indexing-view-versus-copy\n",
      "  self.obj[key] = _infer_fill_value(value)\n",
      "/Applications/anaconda/lib/python2.7/site-packages/pandas/core/indexing.py:465: SettingWithCopyWarning: \n",
      "A value is trying to be set on a copy of a slice from a DataFrame.\n",
      "Try using .loc[row_indexer,col_indexer] = value instead\n",
      "\n",
      "See the caveats in the documentation: http://pandas.pydata.org/pandas-docs/stable/indexing.html#indexing-view-versus-copy\n",
      "  self.obj[item] = s\n"
     ]
    }
   ],
   "source": [
    "fun_dat=df2a['funded_date'].apply(mktime)\n",
    "df2a.loc[:,'funded_datetime']=fun_dat"
   ]
  },
  {
   "cell_type": "code",
   "execution_count": 13,
   "metadata": {
    "collapsed": true
   },
   "outputs": [],
   "source": [
    "fun_year=df2a['funded_datetime'].apply(getyear)"
   ]
  },
  {
   "cell_type": "code",
   "execution_count": 14,
   "metadata": {
    "collapsed": true
   },
   "outputs": [],
   "source": [
    "df2a.loc[:,'funded_year']=fun_year"
   ]
  },
  {
   "cell_type": "code",
   "execution_count": 15,
   "metadata": {
    "collapsed": false
   },
   "outputs": [
    {
     "data": {
      "text/plain": [
       "Index([                        u'index',                      u'activity',\n",
       "                       u'basket_amount',      u'bonus_credit_eligibility',\n",
       "                           u'borrowers',                       u'country',\n",
       "                        u'country_code', u'currency_exchange_loss_amount',\n",
       "                          u'delinquent',                   u'description',\n",
       "                       u'funded_amount',                   u'funded_date',\n",
       "                           u'geo.level',                     u'geo.pairs',\n",
       "                            u'geo.type',                            u'id',\n",
       "                           u'languages',                  u'lender_count',\n",
       "                         u'loan_amount',                      u'location',\n",
       "                                u'name',                           u'obs',\n",
       "                         u'paid_amount',                     u'paid_date',\n",
       "                          u'partner_id',                      u'payments',\n",
       "             u'planned_expiration_date',                   u'posted_date',\n",
       "                              u'sector',                        u'status',\n",
       "                                u'tags',                      u'texts.ar',\n",
       "                            u'texts.en',                      u'texts.es',\n",
       "                            u'texts.fr',                      u'texts.id',\n",
       "                            u'texts.mn',                      u'texts.pt',\n",
       "                            u'texts.ru',                      u'texts.vi',\n",
       "                              u'themes',                          u'town',\n",
       "                          u'translator',                           u'use',\n",
       "                               u'video',                   u'prop_female',\n",
       "                       u'num_borrowers',               u'funded_datetime',\n",
       "                         u'funded_year'],\n",
       "      dtype='object')"
      ]
     },
     "execution_count": 15,
     "metadata": {},
     "output_type": "execute_result"
    }
   ],
   "source": [
    "df2a.columns"
   ]
  },
  {
   "cell_type": "code",
   "execution_count": 16,
   "metadata": {
    "collapsed": true
   },
   "outputs": [],
   "source": [
    "df2b=df2a[(df2a.funded_year.isnull()==False)&(df2a.funded_year!=2016.0)]"
   ]
  },
  {
   "cell_type": "code",
   "execution_count": 17,
   "metadata": {
    "collapsed": false
   },
   "outputs": [],
   "source": [
    "df2c=df2b[((df2b.status=='paid')|(df2b.status=='defaulted'))&((df2b.prop_female==0)|(df2b.prop_female==1))&(df2b.num_borrowers==1)]"
   ]
  },
  {
   "cell_type": "code",
   "execution_count": 18,
   "metadata": {
    "collapsed": false
   },
   "outputs": [],
   "source": [
    "temp=df2c.prop_female.astype(int)\n",
    "df2c.loc[:,'prop_female']=temp"
   ]
  },
  {
   "cell_type": "code",
   "execution_count": 19,
   "metadata": {
    "collapsed": true
   },
   "outputs": [],
   "source": [
    "df2d=df2c[['status','funded_amount','prop_female','num_borrowers','sector']]"
   ]
  },
  {
   "cell_type": "code",
   "execution_count": 20,
   "metadata": {
    "collapsed": false,
    "scrolled": true
   },
   "outputs": [
    {
     "name": "stderr",
     "output_type": "stream",
     "text": [
      "/Applications/anaconda/lib/python2.7/site-packages/ipykernel/__main__.py:1: SettingWithCopyWarning: \n",
      "A value is trying to be set on a copy of a slice from a DataFrame\n",
      "\n",
      "See the caveats in the documentation: http://pandas.pydata.org/pandas-docs/stable/indexing.html#indexing-view-versus-copy\n",
      "  if __name__ == '__main__':\n",
      "/Applications/anaconda/lib/python2.7/site-packages/pandas/core/generic.py:4485: SettingWithCopyWarning: \n",
      "A value is trying to be set on a copy of a slice from a DataFrame\n",
      "\n",
      "See the caveats in the documentation: http://pandas.pydata.org/pandas-docs/stable/indexing.html#indexing-view-versus-copy\n",
      "  self._update_inplace(new_data)\n"
     ]
    }
   ],
   "source": [
    "df2d.replace(to_replace='Personal Use',value='Personal_Use', inplace=True)\n",
    "df2d.status.where(df2d.status=='defaulted',0,inplace=True)\n",
    "df2d.status.where(df2d.status==0,other=1,inplace=True)"
   ]
  },
  {
   "cell_type": "code",
   "execution_count": 21,
   "metadata": {
    "collapsed": false
   },
   "outputs": [
    {
     "data": {
      "text/html": [
       "<div>\n",
       "<table border=\"1\" class=\"dataframe\">\n",
       "  <thead>\n",
       "    <tr style=\"text-align: right;\">\n",
       "      <th></th>\n",
       "      <th>status</th>\n",
       "      <th>funded_amount</th>\n",
       "      <th>prop_female</th>\n",
       "      <th>num_borrowers</th>\n",
       "      <th>sector</th>\n",
       "    </tr>\n",
       "  </thead>\n",
       "  <tbody>\n",
       "    <tr>\n",
       "      <th>1</th>\n",
       "      <td>0</td>\n",
       "      <td>1000</td>\n",
       "      <td>0</td>\n",
       "      <td>1</td>\n",
       "      <td>Food</td>\n",
       "    </tr>\n",
       "    <tr>\n",
       "      <th>2</th>\n",
       "      <td>0</td>\n",
       "      <td>575</td>\n",
       "      <td>1</td>\n",
       "      <td>1</td>\n",
       "      <td>Clothing</td>\n",
       "    </tr>\n",
       "    <tr>\n",
       "      <th>3</th>\n",
       "      <td>0</td>\n",
       "      <td>450</td>\n",
       "      <td>1</td>\n",
       "      <td>1</td>\n",
       "      <td>Food</td>\n",
       "    </tr>\n",
       "    <tr>\n",
       "      <th>4</th>\n",
       "      <td>0</td>\n",
       "      <td>500</td>\n",
       "      <td>0</td>\n",
       "      <td>1</td>\n",
       "      <td>Retail</td>\n",
       "    </tr>\n",
       "    <tr>\n",
       "      <th>5</th>\n",
       "      <td>0</td>\n",
       "      <td>200</td>\n",
       "      <td>1</td>\n",
       "      <td>1</td>\n",
       "      <td>Agriculture</td>\n",
       "    </tr>\n",
       "  </tbody>\n",
       "</table>\n",
       "</div>"
      ],
      "text/plain": [
       "  status  funded_amount  prop_female  num_borrowers       sector\n",
       "1      0           1000            0              1         Food\n",
       "2      0            575            1              1     Clothing\n",
       "3      0            450            1              1         Food\n",
       "4      0            500            0              1       Retail\n",
       "5      0            200            1              1  Agriculture"
      ]
     },
     "execution_count": 21,
     "metadata": {},
     "output_type": "execute_result"
    }
   ],
   "source": [
    "df2d.head()"
   ]
  },
  {
   "cell_type": "code",
   "execution_count": 22,
   "metadata": {
    "collapsed": false
   },
   "outputs": [],
   "source": [
    "#funded_amount=df2d.funded_amount\n",
    "#prop_female=df2d.prop_female\n",
    "#num_borrowers=df2d.num_borrowers\n",
    "#sector=df2d.sector\n",
    "\n",
    "\n",
    "test=dmatrix(\"funded_amount+sector*prop_female\",df2d,return_type=\"dataframe\")\n",
    "#test.columns"
   ]
  },
  {
   "cell_type": "code",
   "execution_count": 23,
   "metadata": {
    "collapsed": false,
    "scrolled": true
   },
   "outputs": [],
   "source": [
    "test.columns=['intercept','Arts','Clothing','Construct','Edu','Entertain','Food','Health','Housing','Manufact',\n",
    "             'Pers_use','Retail','Serv','Transprt','Wholesale','funded_amount','prop_female','ArtsXprop_female',\n",
    "             'ClothingXprop_female','ConstructXprop_female','EduXprop_female','EntertainXprop_female',\n",
    "             'FoodXprop_female','HealthXprop_female','HousingXprop_female','ManufactXprop_female','Pers_useXprop_female',\n",
    "             'RetailXprop_female','ServXprop_female','TranprtXprop_female','WholesaleXprop_female']"
   ]
  },
  {
   "cell_type": "code",
   "execution_count": 24,
   "metadata": {
    "collapsed": false,
    "scrolled": true
   },
   "outputs": [],
   "source": [
    "test5=test.merge(df2d[['status','num_borrowers']],left_index=True,right_index=True)\n",
    "test5.drop('num_borrowers',axis=1,inplace=True)"
   ]
  },
  {
   "cell_type": "code",
   "execution_count": 25,
   "metadata": {
    "collapsed": false
   },
   "outputs": [],
   "source": [
    "from sklearn.linear_model import LogisticRegression\n",
    "from sklearn import cross_validation\n",
    "from sklearn.cross_validation import KFold\n",
    "from sklearn.metrics import accuracy_score\n",
    "from sklearn.cross_validation import train_test_split"
   ]
  },
  {
   "cell_type": "code",
   "execution_count": 26,
   "metadata": {
    "collapsed": true
   },
   "outputs": [],
   "source": [
    "iuse, ihold = train_test_split(xrange(test5.shape[0]),stratify=test5.status, train_size=0.85,random_state=123)\n",
    "mask=np.ones(test5.shape[0], dtype='int')\n",
    "mask[iuse]=1\n",
    "mask[ihold]=0\n",
    "mask = (mask==1)"
   ]
  },
  {
   "cell_type": "code",
   "execution_count": 27,
   "metadata": {
    "collapsed": true
   },
   "outputs": [],
   "source": [
    "use=test5[mask]\n",
    "hold_out=test5[~mask]"
   ]
  },
  {
   "cell_type": "code",
   "execution_count": 28,
   "metadata": {
    "collapsed": false
   },
   "outputs": [
    {
     "data": {
      "text/plain": [
       "0    49524\n",
       "1     2539\n",
       "Name: status, dtype: int64"
      ]
     },
     "execution_count": 28,
     "metadata": {},
     "output_type": "execute_result"
    }
   ],
   "source": [
    "use.status.value_counts()"
   ]
  },
  {
   "cell_type": "code",
   "execution_count": 29,
   "metadata": {
    "collapsed": false
   },
   "outputs": [
    {
     "name": "stdout",
     "output_type": "stream",
     "text": [
      "(61251, 32)\n",
      "(52063, 32)\n",
      "(9188, 32)\n",
      "number of defaults in hold_out 448\n",
      "number of defaults in use 2539\n"
     ]
    }
   ],
   "source": [
    "print test5.shape\n",
    "print use.shape\n",
    "print hold_out.shape\n",
    "print 'number of defaults in hold_out', sum(hold_out.status==1.)\n",
    "print 'number of defaults in use %i' % sum(use.status==1.)"
   ]
  },
  {
   "cell_type": "code",
   "execution_count": 30,
   "metadata": {
    "collapsed": true
   },
   "outputs": [],
   "source": [
    "use.paid=use[use.status==0]"
   ]
  },
  {
   "cell_type": "code",
   "execution_count": 31,
   "metadata": {
    "collapsed": true
   },
   "outputs": [],
   "source": [
    "bg,trash=train_test_split(use.paid,train_size=int(round(2539*1.3)),random_state=321)"
   ]
  },
  {
   "cell_type": "code",
   "execution_count": 32,
   "metadata": {
    "collapsed": true
   },
   "outputs": [],
   "source": [
    "use2=pd.concat([bg,use[use.status==1]])"
   ]
  },
  {
   "cell_type": "code",
   "execution_count": 33,
   "metadata": {
    "collapsed": false
   },
   "outputs": [
    {
     "data": {
      "text/plain": [
       "Index([u'intercept', u'Arts', u'Clothing', u'Construct', u'Edu', u'Entertain',\n",
       "       u'Food', u'Health', u'Housing', u'Manufact', u'Pers_use', u'Retail',\n",
       "       u'Serv', u'Transprt', u'Wholesale', u'funded_amount', u'prop_female',\n",
       "       u'ArtsXprop_female', u'ClothingXprop_female', u'ConstructXprop_female',\n",
       "       u'EduXprop_female', u'EntertainXprop_female', u'FoodXprop_female',\n",
       "       u'HealthXprop_female', u'HousingXprop_female', u'ManufactXprop_female',\n",
       "       u'Pers_useXprop_female', u'RetailXprop_female', u'ServXprop_female',\n",
       "       u'TranprtXprop_female', u'WholesaleXprop_female'],\n",
       "      dtype='object')"
      ]
     },
     "execution_count": 33,
     "metadata": {},
     "output_type": "execute_result"
    }
   ],
   "source": [
    "use2.iloc[-20:,:-1].columns"
   ]
  },
  {
   "cell_type": "code",
   "execution_count": 34,
   "metadata": {
    "collapsed": false
   },
   "outputs": [
    {
     "data": {
      "text/plain": [
       "0.66664302661448183"
      ]
     },
     "execution_count": 34,
     "metadata": {},
     "output_type": "execute_result"
    }
   ],
   "source": [
    "logm = LogisticRegression()\n",
    "scores=cross_validation.cross_val_score(logm,use2.iloc[:,:-1].values,(use2.status==1).values,cv=5,\n",
    "                                        scoring='roc_auc')\n",
    "scores.mean()"
   ]
  },
  {
   "cell_type": "code",
   "execution_count": 35,
   "metadata": {
    "collapsed": true
   },
   "outputs": [],
   "source": [
    "Xlr, Xtest, ylr, ytest = train_test_split(use2.iloc[:,:-1].values, \n",
    "                                          (use2.status==1).values, train_size=0.8, random_state=1234)"
   ]
  },
  {
   "cell_type": "code",
   "execution_count": 36,
   "metadata": {
    "collapsed": false
   },
   "outputs": [
    {
     "name": "stdout",
     "output_type": "stream",
     "text": [
      "0.642979452055\n"
     ]
    }
   ],
   "source": [
    "clf = LogisticRegression()\n",
    "clf.fit(Xlr,ylr)\n",
    "print accuracy_score(clf.predict(Xtest),ytest)"
   ]
  },
  {
   "cell_type": "code",
   "execution_count": 37,
   "metadata": {
    "collapsed": false
   },
   "outputs": [
    {
     "name": "stdout",
     "output_type": "stream",
     "text": [
      "the C value is  0.001  and the mean AUC-ROC value is  0.642120790582\n",
      "the C value is  0.1  and the mean AUC-ROC value is  0.676052534003\n",
      "the C value is  1  and the mean AUC-ROC value is  0.678857685225\n",
      "the C value is  10  and the mean AUC-ROC value is  0.678286091628\n",
      "the C value is  100  and the mean AUC-ROC value is  0.678272077524\n"
     ]
    }
   ],
   "source": [
    "#the grid of parameters to search over\n",
    "Cs = [0.001, 0.1, 1, 10, 100]\n",
    "\n",
    "#your turn                 \n",
    "for i, c in enumerate(Cs):\n",
    "    logm = LogisticRegression(C=c,random_state=123)\n",
    "    scores=cross_validation.cross_val_score(logm,Xlr,ylr,cv=10,\n",
    "                                        scoring='roc_auc')\n",
    "    print 'the C value is ',c, ' and the mean AUC-ROC value is ', scores.mean()"
   ]
  },
  {
   "cell_type": "code",
   "execution_count": 38,
   "metadata": {
    "collapsed": true
   },
   "outputs": [],
   "source": [
    "from sklearn import grid_search"
   ]
  },
  {
   "cell_type": "code",
   "execution_count": 39,
   "metadata": {
    "collapsed": false
   },
   "outputs": [
    {
     "name": "stdout",
     "output_type": "stream",
     "text": [
      "The best value of C is: {'C': 1}\n",
      "The accuracy score using the best model is: 0.642979452055\n"
     ]
    }
   ],
   "source": [
    "#  Here is the model, implemented with grid_search\n",
    "clf = LogisticRegression()\n",
    "parameters={\"C\": [0.01, 0.1, 1, 10, 100]}\n",
    "mod = grid_search.GridSearchCV(clf, param_grid=parameters, cv=5, scoring='roc_auc')\n",
    "mod.fit(Xlr, ylr)\n",
    "print \"The best value of C is:\", mod.best_params_\n",
    "best=mod.best_estimator_\n",
    "print \"The accuracy score using the best model is:\", best.score(Xtest,ytest)"
   ]
  },
  {
   "cell_type": "code",
   "execution_count": 40,
   "metadata": {
    "collapsed": true
   },
   "outputs": [],
   "source": [
    "from sklearn import metrics"
   ]
  },
  {
   "cell_type": "code",
   "execution_count": 41,
   "metadata": {
    "collapsed": false
   },
   "outputs": [
    {
     "name": "stdout",
     "output_type": "stream",
     "text": [
      "Test accuracy =  0.642979452055\n",
      "Test precision = 0.612813370474\n",
      "Test recall =  0.441767068273\n",
      "Test f1 =  0.513418903151\n",
      "Test AUC-ROC =  0.617152190853\n"
     ]
    }
   ],
   "source": [
    "predicted=best.predict(Xtest)\n",
    "predicted_probs=best.predict_proba(Xtest)\n",
    "accuracy=best.score(Xtest,ytest)\n",
    "precision,recall,f1,_= metrics.precision_recall_fscore_support(ytest,predicted,average='binary')\n",
    "auc = metrics.roc_auc_score(ytest,predicted)\n",
    "print 'Test accuracy = ', accuracy\n",
    "print 'Test precision =', precision\n",
    "print 'Test recall = ', recall\n",
    "print 'Test f1 = ', f1\n",
    "print 'Test AUC-ROC = ',auc"
   ]
  },
  {
   "cell_type": "code",
   "execution_count": 42,
   "metadata": {
    "collapsed": false
   },
   "outputs": [
    {
     "data": {
      "text/plain": [
       "array([False,  True], dtype=bool)"
      ]
     },
     "execution_count": 42,
     "metadata": {},
     "output_type": "execute_result"
    }
   ],
   "source": [
    "best.classes_"
   ]
  }
 ],
 "metadata": {
  "anaconda-cloud": {},
  "kernelspec": {
   "display_name": "Python [Root]",
   "language": "python",
   "name": "Python [Root]"
  },
  "language_info": {
   "codemirror_mode": {
    "name": "ipython",
    "version": 2
   },
   "file_extension": ".py",
   "mimetype": "text/x-python",
   "name": "python",
   "nbconvert_exporter": "python",
   "pygments_lexer": "ipython2",
   "version": "2.7.12"
  }
 },
 "nbformat": 4,
 "nbformat_minor": 0
}
