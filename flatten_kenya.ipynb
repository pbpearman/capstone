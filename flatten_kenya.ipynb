{
 "cells": [
  {
   "cell_type": "code",
   "execution_count": 1,
   "metadata": {
    "collapsed": true
   },
   "outputs": [],
   "source": [
    "%matplotlib inline"
   ]
  },
  {
   "cell_type": "code",
   "execution_count": 2,
   "metadata": {
    "collapsed": false
   },
   "outputs": [],
   "source": [
    "import pandas as pd\n",
    "import numpy as np\n",
    "import os\n",
    "import json\n",
    "from pandas.io.json import json_normalize\n",
    "import cPickle as pk\n",
    "import matplotlib.pyplot as plt\n",
    "import seaborn as sns"
   ]
  },
  {
   "cell_type": "code",
   "execution_count": 3,
   "metadata": {
    "collapsed": false
   },
   "outputs": [
    {
     "data": {
      "text/html": [
       "<style>body {\n",
       "    margin: 0;\n",
       "    font-family: Helvetica;\n",
       "}\n",
       "table.dataframe {\n",
       "    border-collapse: collapse;\n",
       "    border: none;\n",
       "}\n",
       "table.dataframe tr {\n",
       "    border: none;\n",
       "}\n",
       "table.dataframe td, table.dataframe th {\n",
       "    margin: 0;\n",
       "    border: 1px solid white;\n",
       "    padding-left: 0.25em;\n",
       "    padding-right: 0.25em;\n",
       "}\n",
       "table.dataframe th:not(:empty) {\n",
       "    background-color: #fec;\n",
       "    text-align: left;\n",
       "    font-weight: normal;\n",
       "}\n",
       "table.dataframe tr:nth-child(2) th:empty {\n",
       "    border-left: none;\n",
       "    border-right: 1px dashed #888;\n",
       "}\n",
       "table.dataframe td {\n",
       "    border: 2px solid #ccf;\n",
       "    background-color: #f4f4ff;\n",
       "}\n",
       "h3 {\n",
       "    color: white;\n",
       "    background-color: black;\n",
       "    padding: 0.5em;\n",
       "}\n",
       "</style>"
      ],
      "text/plain": [
       "<IPython.core.display.HTML object>"
      ]
     },
     "execution_count": 3,
     "metadata": {},
     "output_type": "execute_result"
    }
   ],
   "source": [
    "from IPython.core.display import HTML\n",
    "css = open('style-table.css').read() + open('style-notebook.css').read()\n",
    "HTML('<style>{}</style>'.format(css))"
   ]
  },
  {
   "cell_type": "code",
   "execution_count": 4,
   "metadata": {
    "collapsed": true
   },
   "outputs": [],
   "source": [
    "handle=open('../data/Kenya.pickle','r')\n",
    "df2=pk.load(handle)\n",
    "handle.close()\n",
    "# comment line 2"
   ]
  },
  {
   "cell_type": "code",
   "execution_count": 5,
   "metadata": {
    "collapsed": true
   },
   "outputs": [],
   "source": [
    "#handle=open('../data/Kenya.pickle','w')\n",
    "#pk.dump(y,handle,protocol=0)\n",
    "#handle.close()"
   ]
  },
  {
   "cell_type": "code",
   "execution_count": 6,
   "metadata": {
    "collapsed": false,
    "scrolled": true
   },
   "outputs": [
    {
     "data": {
      "text/plain": [
       "(98099, 47)"
      ]
     },
     "execution_count": 6,
     "metadata": {},
     "output_type": "execute_result"
    }
   ],
   "source": [
    "df2.shape"
   ]
  },
  {
   "cell_type": "code",
   "execution_count": 7,
   "metadata": {
    "collapsed": true
   },
   "outputs": [],
   "source": [
    "def gender_extract(recip):\n",
    "    lst=[]\n",
    "    for i in recip:\n",
    "        lst.append(i['gender'])\n",
    "    return lst\n",
    "        "
   ]
  },
  {
   "cell_type": "code",
   "execution_count": 8,
   "metadata": {
    "collapsed": true
   },
   "outputs": [],
   "source": [
    "proportion_fem=[]\n",
    "borrower_team_size=[]"
   ]
  },
  {
   "cell_type": "code",
   "execution_count": 9,
   "metadata": {
    "collapsed": true
   },
   "outputs": [],
   "source": [
    "                                                   #This function is used in .apply() to fill two lists with\n",
    "def fl_gender(recip,proportion_fem,borrower_team_size):\n",
    "    sexes=gender_extract(recip)\n",
    "    num_borrowers=len(sexes)\n",
    "    #print 'sexes = ', sexes, 'num_borrowers = ',num_borrowers\n",
    "    proportion_fem.append(float(sexes.count('F'))/num_borrowers)\n",
    "    borrower_team_size.append(num_borrowers)"
   ]
  },
  {
   "cell_type": "code",
   "execution_count": 10,
   "metadata": {
    "collapsed": false
   },
   "outputs": [],
   "source": [
    "                                                     # Here, the two lists are filled from df2.borrowers\n",
    "df2.borrowers.apply(fl_gender, args=(proportion_fem,borrower_team_size));"
   ]
  },
  {
   "cell_type": "code",
   "execution_count": 11,
   "metadata": {
    "collapsed": false
   },
   "outputs": [],
   "source": [
    "df2.loc[:,'prop_female']= pd.Series(proportion_fem,index=df2.index)      #add the lists as columns to the dataframe"
   ]
  },
  {
   "cell_type": "code",
   "execution_count": 12,
   "metadata": {
    "collapsed": true
   },
   "outputs": [],
   "source": [
    "df2.loc[:,'num_borrowers']=pd.Series(borrower_team_size,index=df2.index) #here too"
   ]
  },
  {
   "cell_type": "code",
   "execution_count": 23,
   "metadata": {
    "collapsed": false,
    "scrolled": true
   },
   "outputs": [],
   "source": [
    "#df2.columns"
   ]
  },
  {
   "cell_type": "code",
   "execution_count": 281,
   "metadata": {
    "collapsed": false,
    "scrolled": true
   },
   "outputs": [
    {
     "data": {
      "text/html": [
       "<div>\n",
       "<table border=\"1\" class=\"dataframe\">\n",
       "  <thead>\n",
       "    <tr style=\"text-align: right;\">\n",
       "      <th></th>\n",
       "      <th>disbursal_amount</th>\n",
       "      <th>disbursal_currency</th>\n",
       "      <th>disbursal_date</th>\n",
       "      <th>loan_amount</th>\n",
       "      <th>local_payments_0_amount</th>\n",
       "      <th>local_payments_0_due_date</th>\n",
       "      <th>local_payments_10_amount</th>\n",
       "      <th>local_payments_10_due_date</th>\n",
       "      <th>local_payments_11_amount</th>\n",
       "      <th>local_payments_11_due_date</th>\n",
       "      <th>...</th>\n",
       "      <th>scheduled_payments_5_amount</th>\n",
       "      <th>scheduled_payments_5_due_date</th>\n",
       "      <th>scheduled_payments_6_amount</th>\n",
       "      <th>scheduled_payments_6_due_date</th>\n",
       "      <th>scheduled_payments_7_amount</th>\n",
       "      <th>scheduled_payments_7_due_date</th>\n",
       "      <th>scheduled_payments_8_amount</th>\n",
       "      <th>scheduled_payments_8_due_date</th>\n",
       "      <th>scheduled_payments_9_amount</th>\n",
       "      <th>scheduled_payments_9_due_date</th>\n",
       "    </tr>\n",
       "  </thead>\n",
       "  <tbody>\n",
       "    <tr>\n",
       "      <th>0</th>\n",
       "      <td>20000</td>\n",
       "      <td>KES</td>\n",
       "      <td>2012-10-11T07:00:00Z</td>\n",
       "      <td>250</td>\n",
       "      <td>512.82</td>\n",
       "      <td>2012-11-15T08:00:00Z</td>\n",
       "      <td>512.82</td>\n",
       "      <td>2013-01-24T08:00:00Z</td>\n",
       "      <td>512.82</td>\n",
       "      <td>2013-01-31T08:00:00Z</td>\n",
       "      <td>...</td>\n",
       "      <td>6.41</td>\n",
       "      <td>2013-02-01T08:00:00Z</td>\n",
       "      <td>6.41</td>\n",
       "      <td>2013-02-01T08:00:00Z</td>\n",
       "      <td>6.41</td>\n",
       "      <td>2013-03-01T08:00:00Z</td>\n",
       "      <td>6.41</td>\n",
       "      <td>2013-03-01T08:00:00Z</td>\n",
       "      <td>6.41</td>\n",
       "      <td>2013-03-01T08:00:00Z</td>\n",
       "    </tr>\n",
       "  </tbody>\n",
       "</table>\n",
       "<p>1 rows × 165 columns</p>\n",
       "</div>"
      ],
      "text/plain": [
       "  disbursal_amount disbursal_currency        disbursal_date loan_amount  \\\n",
       "0            20000                KES  2012-10-11T07:00:00Z         250   \n",
       "\n",
       "  local_payments_0_amount local_payments_0_due_date local_payments_10_amount  \\\n",
       "0                  512.82      2012-11-15T08:00:00Z                   512.82   \n",
       "\n",
       "  local_payments_10_due_date local_payments_11_amount  \\\n",
       "0       2013-01-24T08:00:00Z                   512.82   \n",
       "\n",
       "  local_payments_11_due_date              ...               \\\n",
       "0       2013-01-31T08:00:00Z              ...                \n",
       "\n",
       "  scheduled_payments_5_amount scheduled_payments_5_due_date  \\\n",
       "0                        6.41          2013-02-01T08:00:00Z   \n",
       "\n",
       "  scheduled_payments_6_amount scheduled_payments_6_due_date  \\\n",
       "0                        6.41          2013-02-01T08:00:00Z   \n",
       "\n",
       "  scheduled_payments_7_amount scheduled_payments_7_due_date  \\\n",
       "0                        6.41          2013-03-01T08:00:00Z   \n",
       "\n",
       "  scheduled_payments_8_amount scheduled_payments_8_due_date  \\\n",
       "0                        6.41          2013-03-01T08:00:00Z   \n",
       "\n",
       "  scheduled_payments_9_amount scheduled_payments_9_due_date  \n",
       "0                        6.41          2013-03-01T08:00:00Z  \n",
       "\n",
       "[1 rows x 165 columns]"
      ]
     },
     "execution_count": 281,
     "metadata": {},
     "output_type": "execute_result"
    }
   ],
   "source": [
    "                     #from Amir Ziai's web page. Will flatten completely, but within a dataframe, the \n",
    "    # DO NOT RUN     #output from successive rows within may vary, making it inpossible to concatanate to a\n",
    "                     #single data frame. That would depend on each dict in successive rows being the of identical length.\n",
    "def flatten_json(y):\n",
    "    out = {}\n",
    "\n",
    "    def flatten(x, name=''):\n",
    "        if type(x) is dict:\n",
    "            for a in x:\n",
    "                flatten(x[a], name + a + '_')\n",
    "        elif type(x) is list:\n",
    "            i = 0\n",
    "            for a in x:\n",
    "                flatten(a, name + str(i) + '_')\n",
    "                i += 1\n",
    "        else:\n",
    "            out[str(name[:-1])] = str(x)\n",
    "\n",
    "    flatten(y)\n",
    "    return out\n",
    "# output is a dictionary that can be made into a dataframe with json_normalize\n",
    "\n",
    "test=flatten_json(df2.iloc[200,32])\n",
    "test2=json_normalize(test)\n",
    "test2"
   ]
  },
  {
   "cell_type": "code",
   "execution_count": 13,
   "metadata": {
    "collapsed": true
   },
   "outputs": [],
   "source": [
    "def flatten_cell(x):\n",
    "    x1=json_normalize(x)\n",
    "    return x1   "
   ]
  },
  {
   "cell_type": "code",
   "execution_count": 14,
   "metadata": {
    "collapsed": true
   },
   "outputs": [],
   "source": [
    "y=df2"
   ]
  },
  {
   "cell_type": "code",
   "execution_count": 15,
   "metadata": {
    "collapsed": false
   },
   "outputs": [],
   "source": [
    "#reset_selective df2"
   ]
  },
  {
   "cell_type": "code",
   "execution_count": 16,
   "metadata": {
    "collapsed": false
   },
   "outputs": [],
   "source": [
    "y_ind=y.index\n",
    "y.loc[:,'idnew']=y_ind"
   ]
  },
  {
   "cell_type": "code",
   "execution_count": 17,
   "metadata": {
    "collapsed": false,
    "scrolled": false
   },
   "outputs": [
    {
     "name": "stdout",
     "output_type": "stream",
     "text": [
      "activity  not flattened\n",
      "basket_amount  not flattened\n",
      "bonus_credit_eligibility  not flattened\n",
      "country  not flattened\n",
      "country_code  not flattened\n",
      "currency_exchange_loss_amount  not flattened\n",
      "delinquent  not flattened\n",
      "description  not flattened\n",
      "funded_amount  not flattened\n",
      "funded_date  not flattened\n",
      "geo.level  not flattened\n",
      "geo.pairs  not flattened\n",
      "geo.type  not flattened\n",
      "id  not flattened\n",
      "******************* image was successfuly flattened and removed\n",
      "******************* journal_totals was successfuly flattened and removed\n",
      "languages  not flattened\n",
      "lender_count  not flattened\n",
      "loan_amount  not flattened\n",
      "******************* location was successfuly flattened and removed\n",
      "name  not flattened\n",
      "obs  not flattened\n",
      "paid_amount  not flattened\n",
      "paid_date  not flattened\n",
      "partner_id  not flattened\n",
      "payments  not flattened\n",
      "planned_expiration_date  not flattened\n",
      "posted_date  not flattened\n",
      "sector  not flattened\n",
      "status  not flattened\n",
      "tags  not flattened\n",
      "******************* terms was successfuly flattened and removed\n",
      "texts.ar  not flattened\n",
      "texts.en  not flattened\n",
      "texts.es  not flattened\n",
      "texts.fr  not flattened\n",
      "texts.id  not flattened\n",
      "texts.mn  not flattened\n",
      "texts.pt  not flattened\n",
      "texts.ru  not flattened\n",
      "texts.vi  not flattened\n",
      "themes  not flattened\n",
      "town  not flattened\n",
      "translator  not flattened\n",
      "use  not flattened\n",
      "video  not flattened\n",
      "prop_female  not flattened\n",
      "num_borrowers  not flattened\n",
      "idnew  not flattened\n"
     ]
    }
   ],
   "source": [
    "for col in y:                   #  Do not run  Corrupts dataset due to flattening cells that result in differing\n",
    "    dfn=pd.DataFrame()          #  lengths.  This means that some rows have more columns than others!!\n",
    "    y1=pd.Series()\n",
    "    try:\n",
    "        if col== 'borrowers':\n",
    "            y=y.drop(col,axis=1)\n",
    "            continue\n",
    "        y1=y[col].apply(flatten_cell)\n",
    "        #print y1        \n",
    "        for item in y1:\n",
    "            dfn=dfn.append(item)\n",
    "        dfn.loc[:,'idnew']=y.index\n",
    "        y=y.merge(dfn,how='left')\n",
    "        y=y.drop([col], axis=1)\n",
    "        print '*******************',col, 'was successfuly flattened and removed'\n",
    "    except:\n",
    "        print col, ' not flattened'\n",
    "        pass"
   ]
  },
  {
   "cell_type": "code",
   "execution_count": null,
   "metadata": {
    "collapsed": true
   },
   "outputs": [],
   "source": []
  },
  {
   "cell_type": "code",
   "execution_count": null,
   "metadata": {
    "collapsed": true
   },
   "outputs": [],
   "source": []
  },
  {
   "cell_type": "code",
   "execution_count": null,
   "metadata": {
    "collapsed": true
   },
   "outputs": [],
   "source": []
  }
 ],
 "metadata": {
  "kernelspec": {
   "display_name": "Python [Root]",
   "language": "python",
   "name": "Python [Root]"
  },
  "language_info": {
   "codemirror_mode": {
    "name": "ipython",
    "version": 2
   },
   "file_extension": ".py",
   "mimetype": "text/x-python",
   "name": "python",
   "nbconvert_exporter": "python",
   "pygments_lexer": "ipython2",
   "version": "2.7.12"
  }
 },
 "nbformat": 4,
 "nbformat_minor": 0
}
