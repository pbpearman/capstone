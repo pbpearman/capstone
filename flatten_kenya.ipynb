{
 "cells": [
  {
   "cell_type": "code",
   "execution_count": 29,
   "metadata": {
    "collapsed": false
   },
   "outputs": [
    {
     "ename": "SyntaxError",
     "evalue": "invalid syntax (<ipython-input-29-f55e428969b0>, line 2)",
     "output_type": "error",
     "traceback": [
      "\u001b[0;36m  File \u001b[0;32m\"<ipython-input-29-f55e428969b0>\"\u001b[0;36m, line \u001b[0;32m2\u001b[0m\n\u001b[0;31m    My plan is to build a function for each column that will take each row value in succession (by using .apply()) and\u001b[0m\n\u001b[0m          ^\u001b[0m\n\u001b[0;31mSyntaxError\u001b[0m\u001b[0;31m:\u001b[0m invalid syntax\n"
     ]
    }
   ],
   "source": [
    "'''The idea here is to build a set of functions that I can use to flatten several columns of the kenya dataset. \n",
    "My plan is to build a function for each column that will take each row value in succession (by using .apply()) and  \n",
    "produce one or more lists, which can then be added as columns in the kenya dataframe.  In what I have below, I wanted\n",
    "to simply start to extract values from a list of dicts that make up the row values in the column u'borrowers'. The\n",
    "list in each row of this colunm can be longer than one (1) when there is more than one borrower.  So, I wanted \n",
    "to use a recursive function that could process until the list had been completed.  Perhaps this was a mistake.\n",
    "I got something to work, but the code doesn't work the way I wanted. \n",
    "First, what I want is for each row a list like ['M','M','F','M'] that shows the gender of the borrowers.\n",
    "Then I want to take the list and generate: total number borrowers\n",
    "                                           proportion that are female\n",
    "With those variables I can generate several others.\n",
    "\n",
    "There are several issues:\n",
    "1. the passing to the recursive function of a global list variable is a problem\n",
    "2. The way I've set things up, even the original DataFrame gets altered in the process. I know that this is because\n",
    "I don't really understand when something like v1=df.iloc[:,3] ends up acting like a pointer to the values in df,\n",
    "instead of being a series.  So I end up screwing up the original datasets through treating = as asignment, instead\n",
    "of as a pointer.  If you could give me some guidance here, it would help alot.\n",
    "\n",
    "I have made a bunch of notes in the notebook, below\n",
    "\n",
    "--Peter '''\n"
   ]
  },
  {
   "cell_type": "code",
   "execution_count": null,
   "metadata": {
    "collapsed": true
   },
   "outputs": [],
   "source": []
  },
  {
   "cell_type": "code",
   "execution_count": null,
   "metadata": {
    "collapsed": true
   },
   "outputs": [],
   "source": []
  },
  {
   "cell_type": "code",
   "execution_count": 1,
   "metadata": {
    "collapsed": true
   },
   "outputs": [],
   "source": [
    "%matplotlib inline"
   ]
  },
  {
   "cell_type": "code",
   "execution_count": 2,
   "metadata": {
    "collapsed": false
   },
   "outputs": [],
   "source": [
    "import pandas as pd\n",
    "import numpy as np\n",
    "import os\n",
    "import json\n",
    "from pandas.io.json import json_normalize\n",
    "import cPickle as pk\n",
    "import matplotlib.pyplot as plt\n",
    "import seaborn as sns"
   ]
  },
  {
   "cell_type": "code",
   "execution_count": 3,
   "metadata": {
    "collapsed": false
   },
   "outputs": [
    {
     "data": {
      "text/html": [
       "<style>body {\n",
       "    margin: 0;\n",
       "    font-family: Helvetica;\n",
       "}\n",
       "table.dataframe {\n",
       "    border-collapse: collapse;\n",
       "    border: none;\n",
       "}\n",
       "table.dataframe tr {\n",
       "    border: none;\n",
       "}\n",
       "table.dataframe td, table.dataframe th {\n",
       "    margin: 0;\n",
       "    border: 1px solid white;\n",
       "    padding-left: 0.25em;\n",
       "    padding-right: 0.25em;\n",
       "}\n",
       "table.dataframe th:not(:empty) {\n",
       "    background-color: #fec;\n",
       "    text-align: left;\n",
       "    font-weight: normal;\n",
       "}\n",
       "table.dataframe tr:nth-child(2) th:empty {\n",
       "    border-left: none;\n",
       "    border-right: 1px dashed #888;\n",
       "}\n",
       "table.dataframe td {\n",
       "    border: 2px solid #ccf;\n",
       "    background-color: #f4f4ff;\n",
       "}\n",
       "h3 {\n",
       "    color: white;\n",
       "    background-color: black;\n",
       "    padding: 0.5em;\n",
       "}\n",
       "</style>"
      ],
      "text/plain": [
       "<IPython.core.display.HTML object>"
      ]
     },
     "execution_count": 3,
     "metadata": {},
     "output_type": "execute_result"
    }
   ],
   "source": [
    "from IPython.core.display import HTML\n",
    "css = open('style-table.css').read() + open('style-notebook.css').read()\n",
    "HTML('<style>{}</style>'.format(css))"
   ]
  },
  {
   "cell_type": "code",
   "execution_count": 4,
   "metadata": {
    "collapsed": true
   },
   "outputs": [],
   "source": [
    "handle=open('../data/Kenya.pickle','r')\n",
    "df2=pk.load(handle)\n",
    "handle.close()\n",
    "# comment line 2"
   ]
  },
  {
   "cell_type": "code",
   "execution_count": 25,
   "metadata": {
    "collapsed": false
   },
   "outputs": [
    {
     "data": {
      "text/plain": [
       "(98099, 47)"
      ]
     },
     "execution_count": 25,
     "metadata": {},
     "output_type": "execute_result"
    }
   ],
   "source": [
    "df2.shape"
   ]
  },
  {
   "cell_type": "code",
   "execution_count": 26,
   "metadata": {
    "collapsed": false
   },
   "outputs": [
    {
     "data": {
      "text/plain": [
       "Index([                     u'activity',                 u'basket_amount',\n",
       "            u'bonus_credit_eligibility',                     u'borrowers',\n",
       "                             u'country',                  u'country_code',\n",
       "       u'currency_exchange_loss_amount',                    u'delinquent',\n",
       "                         u'description',                 u'funded_amount',\n",
       "                         u'funded_date',                     u'geo.level',\n",
       "                           u'geo.pairs',                      u'geo.type',\n",
       "                                  u'id',                         u'image',\n",
       "                      u'journal_totals',                     u'languages',\n",
       "                        u'lender_count',                   u'loan_amount',\n",
       "                            u'location',                          u'name',\n",
       "                                 u'obs',                   u'paid_amount',\n",
       "                           u'paid_date',                    u'partner_id',\n",
       "                            u'payments',       u'planned_expiration_date',\n",
       "                         u'posted_date',                        u'sector',\n",
       "                              u'status',                          u'tags',\n",
       "                               u'terms',                      u'texts.ar',\n",
       "                            u'texts.en',                      u'texts.es',\n",
       "                            u'texts.fr',                      u'texts.id',\n",
       "                            u'texts.mn',                      u'texts.pt',\n",
       "                            u'texts.ru',                      u'texts.vi',\n",
       "                              u'themes',                          u'town',\n",
       "                          u'translator',                           u'use',\n",
       "                               u'video'],\n",
       "      dtype='object')"
      ]
     },
     "execution_count": 26,
     "metadata": {},
     "output_type": "execute_result"
    }
   ],
   "source": [
    "df2.columns"
   ]
  },
  {
   "cell_type": "code",
   "execution_count": 8,
   "metadata": {
    "collapsed": true
   },
   "outputs": [],
   "source": [
    "df3=df2"
   ]
  },
  {
   "cell_type": "code",
   "execution_count": 27,
   "metadata": {
    "collapsed": false,
    "scrolled": true
   },
   "outputs": [
    {
     "data": {
      "text/plain": [
       "[{u'first_name': u'Victor',\n",
       "  u'gender': u'M',\n",
       "  u'last_name': u'',\n",
       "  u'pictured': True}]"
      ]
     },
     "execution_count": 27,
     "metadata": {},
     "output_type": "execute_result"
    }
   ],
   "source": [
    "df3.iloc[0,3]"
   ]
  },
  {
   "cell_type": "code",
   "execution_count": 10,
   "metadata": {
    "collapsed": false
   },
   "outputs": [],
   "source": [
    "recipients=df3.iloc[:,3]\n",
    "#recipients\n",
    "def length(x):\n",
    "    return len(x)\n",
    "num_recip=recipients.apply(length)#.value_counts().head(10)\n",
    "test=recipients[(num_recip==2)]#.iloc[0]\n"
   ]
  },
  {
   "cell_type": "code",
   "execution_count": 11,
   "metadata": {
    "collapsed": false
   },
   "outputs": [
    {
     "data": {
      "text/plain": [
       "619"
      ]
     },
     "execution_count": 11,
     "metadata": {},
     "output_type": "execute_result"
    }
   ],
   "source": [
    "len(test)        # after doing some tests below, and then running this line again, I find the value decreases\n",
    "                 # I am not clear on why this happens, except that I know that '=' doesn't really mean assignment\n",
    "                 # in python.  I'm simply not writing the my code in a way to use this behavior, or avoid its \n",
    "                 # consequences... What ever I am doing below is altering df2 and df3"
   ]
  },
  {
   "cell_type": "code",
   "execution_count": 12,
   "metadata": {
    "collapsed": false
   },
   "outputs": [
    {
     "data": {
      "text/plain": [
       "344    [{u'gender': u'F', u'first_name': u'Sidi', u'l...\n",
       "272    [{u'gender': u'F', u'first_name': u'Sidi', u'l...\n",
       "338    [{u'gender': u'M', u'first_name': u'Bendera', ...\n",
       "416    [{u'gender': u'F', u'first_name': u'Sidi', u'l...\n",
       "236    [{u'gender': u'M', u'first_name': u'Nyevu', u'...\n",
       "237    [{u'gender': u'F', u'first_name': u'Thabu', u'...\n",
       "499    [{u'gender': u'M', u'first_name': u'Jacob', u'...\n",
       "0      [{u'gender': u'M', u'first_name': u'Jacob', u'...\n",
       "109    [{u'gender': u'M', u'first_name': u'Mdigo ', u...\n",
       "437    [{u'gender': u'M', u'first_name': u'Jumwa', u'...\n",
       "Name: borrowers, dtype: object"
      ]
     },
     "execution_count": 12,
     "metadata": {},
     "output_type": "execute_result"
    }
   ],
   "source": [
    "test.iloc[0:10] # I started taking a single observation of this, something like test1=test.iloc[1],\n",
    "                #to use for development, but I observed that all of 'test' was becoming modified.\n",
    "                # In fact, it seemed as though a manipulation of test1 in this case changed test, which\n",
    "                # changed 'recipients', which changed 'df3, etc, etc.\n",
    "                # How could I have taken a single row of 'test' to use in function development but not\n",
    "                # alter the original Series??"
   ]
  },
  {
   "cell_type": "code",
   "execution_count": 13,
   "metadata": {
    "collapsed": true
   },
   "outputs": [],
   "source": [
    "test1=test"
   ]
  },
  {
   "cell_type": "code",
   "execution_count": 14,
   "metadata": {
    "collapsed": false
   },
   "outputs": [],
   "source": [
    "recip=test.iloc[0]"
   ]
  },
  {
   "cell_type": "code",
   "execution_count": 15,
   "metadata": {
    "collapsed": false
   },
   "outputs": [
    {
     "data": {
      "text/plain": [
       "[{u'first_name': u'Sidi',\n",
       "  u'gender': u'F',\n",
       "  u'last_name': u'',\n",
       "  u'pictured': True},\n",
       " {u'first_name': u'Jumwa',\n",
       "  u'gender': u'F',\n",
       "  u'last_name': u'',\n",
       "  u'pictured': True}]"
      ]
     },
     "execution_count": 15,
     "metadata": {},
     "output_type": "execute_result"
    }
   ],
   "source": [
    "recip"
   ]
  },
  {
   "cell_type": "code",
   "execution_count": 17,
   "metadata": {
    "collapsed": true
   },
   "outputs": [],
   "source": [
    "                               # here is a test list of dicts to simulate an entry in df2.borrowers\n",
    "                            # I started using this because of the unwanted alterations I was causing to df2 and df3\n",
    "dat1=[{u'first_name': u'Sidi',\n",
    "  u'gender': u'F',\n",
    "  u'last_name': u'',\n",
    "  u'pictured': True},\n",
    " {u'first_name': u'Jumwa',\n",
    "  u'gender': u'F',\n",
    "  u'last_name': u'',\n",
    "  u'pictured': True}]"
   ]
  },
  {
   "cell_type": "code",
   "execution_count": 18,
   "metadata": {
    "collapsed": false
   },
   "outputs": [],
   "source": [
    "lst=[]                        #a globally defined list to fill with the values of genders as given for each\n",
    "                              # entry in df2.borrowers"
   ]
  },
  {
   "cell_type": "code",
   "execution_count": 19,
   "metadata": {
    "collapsed": true
   },
   "outputs": [],
   "source": [
    "                              # a recursive function to extract the gender values from each entry in df2.borrowers \n",
    "                              # and fill the list 'lst'. This function would be used in a wrapper to grow the lists\n",
    "                              # mentioned above, which would be incorporated into the dataset as new columns.\n",
    "            \n",
    "                              # I have been trying to write this without the globally-defined variable 'lst', and have\n",
    "                              # the function return a list, but I haven't been able to get that to work.  Until now\n",
    "                              # I have had to use the globally-defined 'lst'.\n",
    "def gender_extract(recip,lst):\n",
    "    if len(recip)==1:\n",
    "        lst.append(recip.pop()['gender'])\n",
    "        print 'now on finish'\n",
    "        at_last=lst\n",
    "        return at_last\n",
    "    else:\n",
    "        cat=recip.pop()\n",
    "        lst.append(cat['gender'])\n",
    "        print 'cat = ',cat,'and lst = ',lst\n",
    "    gender_extract(recip,lst)\n"
   ]
  },
  {
   "cell_type": "code",
   "execution_count": 20,
   "metadata": {
    "collapsed": false
   },
   "outputs": [
    {
     "name": "stdout",
     "output_type": "stream",
     "text": [
      "cat =  {u'gender': u'F', u'first_name': u'Jumwa', u'last_name': u'', u'pictured': True} and lst =  [u'F']\n",
      "now on finish\n"
     ]
    }
   ],
   "source": [
    "                               #so here I feed dat1 to the function.  But what I really wanted to do was to be able to \n",
    "                               #give it a subset of df3, which I wanted to function as a copy of df2.  However, when\n",
    "                               #I did that, both df2 and df3 were altered.  If df3 got chewed up, that would be ok, if\n",
    "                               # it the copy of df2 remained unaltered.  \n",
    "                               #The idea would be to use the function gender_extract inside\n",
    "                               # another function that would put together new lists, which I would then integrate as\n",
    "                               # new columns in df2.\n",
    "                               # Then I would go and write similar functions for the other columns that need flattening\n",
    "                               #eventually have a flattened df2\n",
    "                             \n",
    "\n",
    "\n",
    "result=gender_extract(dat1,lst)"
   ]
  },
  {
   "cell_type": "code",
   "execution_count": 21,
   "metadata": {
    "collapsed": false
   },
   "outputs": [
    {
     "name": "stdout",
     "output_type": "stream",
     "text": [
      "None\n"
     ]
    }
   ],
   "source": [
    "print result   # I tried to make the function return something, but I only get a value of None"
   ]
  },
  {
   "cell_type": "code",
   "execution_count": 23,
   "metadata": {
    "collapsed": false
   },
   "outputs": [
    {
     "name": "stdout",
     "output_type": "stream",
     "text": [
      " [u'F', u'F']\n"
     ]
    }
   ],
   "source": [
    "print lst         #so the variable 'lst' has the correct values, but I am stuck with a globally-defined variable"
   ]
  },
  {
   "cell_type": "code",
   "execution_count": 24,
   "metadata": {
    "collapsed": false
   },
   "outputs": [
    {
     "data": {
      "text/plain": [
       "[]"
      ]
     },
     "execution_count": 24,
     "metadata": {},
     "output_type": "execute_result"
    }
   ],
   "source": [
    "dat1              # dat1 is empty, which is expected because I did .pop in the recursion.  However, when I defined\n",
    "                  # slices of df3 and used them, df3 and df2 also became altered!!! I am clearly not understanding something\n",
    "                  # very important"
   ]
  },
  {
   "cell_type": "code",
   "execution_count": null,
   "metadata": {
    "collapsed": true
   },
   "outputs": [],
   "source": []
  },
  {
   "cell_type": "code",
   "execution_count": null,
   "metadata": {
    "collapsed": true
   },
   "outputs": [],
   "source": [
    "# things below here were just used to get parts of gender_extract() to work."
   ]
  },
  {
   "cell_type": "code",
   "execution_count": 431,
   "metadata": {
    "collapsed": false
   },
   "outputs": [
    {
     "name": "stdout",
     "output_type": "stream",
     "text": [
      "[] [{u'gender': u'F', u'first_name': u'Sidi', u'last_name': u'', u'pictured': True}, {u'gender': u'F', u'first_name': u'Sidi', u'last_name': u'', u'pictured': True}]\n"
     ]
    }
   ],
   "source": [
    "lst=[]\n",
    "if len(recip)==1:\n",
    "        lst.append(recip.pop()['gender'])\n",
    "        print lst\n",
    "else:\n",
    "    print lst,recip"
   ]
  },
  {
   "cell_type": "code",
   "execution_count": 432,
   "metadata": {
    "collapsed": false
   },
   "outputs": [
    {
     "data": {
      "text/plain": [
       "[{u'first_name': u'Sidi',\n",
       "  u'gender': u'F',\n",
       "  u'last_name': u'',\n",
       "  u'pictured': True},\n",
       " {u'first_name': u'Sidi',\n",
       "  u'gender': u'F',\n",
       "  u'last_name': u'',\n",
       "  u'pictured': True}]"
      ]
     },
     "execution_count": 432,
     "metadata": {},
     "output_type": "execute_result"
    }
   ],
   "source": [
    "recip"
   ]
  }
 ],
 "metadata": {
  "kernelspec": {
   "display_name": "Python 2",
   "language": "python",
   "name": "python2"
  },
  "language_info": {
   "codemirror_mode": {
    "name": "ipython",
    "version": 2
   },
   "file_extension": ".py",
   "mimetype": "text/x-python",
   "name": "python",
   "nbconvert_exporter": "python",
   "pygments_lexer": "ipython2",
   "version": "2.7.11"
  }
 },
 "nbformat": 4,
 "nbformat_minor": 0
}
