{
 "cells": [
  {
   "cell_type": "markdown",
   "metadata": {
    "collapsed": true
   },
   "source": [
    "## This notebook contains an on-going analysis of Kiva loan data from Kenya\n",
    "####  This exercise provides an opportunity for exploratory data analysis, as a basis for developing a data story and as a means to generate questions and hypotheses for further work.  In this exercise, I use the data set on Kiva microloans, on which I have proposed to focus my capstone project.  Below I have addressed the exercise's tasks, and have presented graphics with descriptive titles.  At the end of the analysis, I make some observations, attempt to draw some insights, and begin to develop a narrative that can accompany and illuminate my analysis of this data set. Duplicate observations are identifed and removed for these exercises.\n",
    "#### I then continue and expand upon the initial exercise by developing Natural Language Processing. First I remove observations that refer to the loan seeker as 'anonymous' because there is no associate description of the seeker and activities. Then as an exercise, I generate tokens for the description text.  I remove additional stop words, including ones that make clear reference to the gender of the loan seeker.   Tokens, stems, and lemmatized text are generated and put into a dataframe.  Then TFIDF is incorporated into the analysis.  This is then streamlined through the use of facilities in Scikit-Learn.\n",
    "#### An interesting phenomenon is that recent growth in the number of loans has been driven by loans to women in the agricultural sector.  I am testing a hypothesis that there are differences in the characteristics of borrowers, as expressed in descriptions provided by Kiva, between the period before a large increase in loan rates to women in the agriculture sector, and the loans made after this increase had begun.  The increase is clearly shown in graphs below, and the code is in development."
   ]
  },
  {
   "cell_type": "code",
   "execution_count": 1,
   "metadata": {
    "collapsed": false,
    "scrolled": true
   },
   "outputs": [
    {
     "name": "stderr",
     "output_type": "stream",
     "text": [
      "/Users/bgppermp/anaconda/lib/python2.7/site-packages/matplotlib/font_manager.py:273: UserWarning: Matplotlib is building the font cache using fc-list. This may take a moment.\n",
      "  warnings.warn('Matplotlib is building the font cache using fc-list. This may take a moment.')\n"
     ]
    }
   ],
   "source": [
    "%matplotlib inline"
   ]
  },
  {
   "cell_type": "code",
   "execution_count": 2,
   "metadata": {
    "collapsed": false
   },
   "outputs": [],
   "source": [
    "import pandas as pd\n",
    "import numpy as np\n",
    "import os\n",
    "import json\n",
    "from pandas.io.json import json_normalize\n",
    "import cPickle as pk\n",
    "import matplotlib.pyplot as plt\n",
    "import matplotlib as mpl\n",
    "import seaborn as sns\n",
    "import datetime as dt"
   ]
  },
  {
   "cell_type": "code",
   "execution_count": 3,
   "metadata": {
    "collapsed": false,
    "scrolled": true
   },
   "outputs": [
    {
     "data": {
      "text/html": [
       "<style>body {\n",
       "    margin: 0;\n",
       "    font-family: Helvetica;\n",
       "}\n",
       "table.dataframe {\n",
       "    border-collapse: collapse;\n",
       "    border: none;\n",
       "}\n",
       "table.dataframe tr {\n",
       "    border: none;\n",
       "}\n",
       "table.dataframe td, table.dataframe th {\n",
       "    margin: 0;\n",
       "    border: 1px solid white;\n",
       "    padding-left: 0.25em;\n",
       "    padding-right: 0.25em;\n",
       "}\n",
       "table.dataframe th:not(:empty) {\n",
       "    background-color: #fec;\n",
       "    text-align: left;\n",
       "    font-weight: normal;\n",
       "}\n",
       "table.dataframe tr:nth-child(2) th:empty {\n",
       "    border-left: none;\n",
       "    border-right: 1px dashed #888;\n",
       "}\n",
       "table.dataframe td {\n",
       "    border: 2px solid #ccf;\n",
       "    background-color: #f4f4ff;\n",
       "}\n",
       "h3 {\n",
       "    color: white;\n",
       "    background-color: black;\n",
       "    padding: 0.5em;\n",
       "}\n",
       "</style>"
      ],
      "text/plain": [
       "<IPython.core.display.HTML object>"
      ]
     },
     "execution_count": 3,
     "metadata": {},
     "output_type": "execute_result"
    }
   ],
   "source": [
    "from IPython.core.display import HTML\n",
    "css = open('style-table.css').read() + open('style-notebook.css').read()\n",
    "HTML('<style>{}</style>'.format(css))"
   ]
  },
  {
   "cell_type": "code",
   "execution_count": 4,
   "metadata": {
    "collapsed": false
   },
   "outputs": [],
   "source": [
    "handle=open('../data/Kenya.pickle','r')\n",
    "df2=pk.load(handle)\n",
    "handle.close()"
   ]
  },
  {
   "cell_type": "code",
   "execution_count": 5,
   "metadata": {
    "collapsed": false
   },
   "outputs": [
    {
     "data": {
      "text/plain": [
       "(98099, 46)"
      ]
     },
     "execution_count": 5,
     "metadata": {},
     "output_type": "execute_result"
    }
   ],
   "source": [
    "df2.shape"
   ]
  },
  {
   "cell_type": "code",
   "execution_count": 6,
   "metadata": {
    "collapsed": false
   },
   "outputs": [],
   "source": [
    "df2.drop_duplicates(subset=['id','name','funded_date','status','texts.en'],inplace=True)"
   ]
  },
  {
   "cell_type": "code",
   "execution_count": 7,
   "metadata": {
    "collapsed": false
   },
   "outputs": [
    {
     "data": {
      "text/plain": [
       "0"
      ]
     },
     "execution_count": 7,
     "metadata": {},
     "output_type": "execute_result"
    }
   ],
   "source": [
    "len(df2[df2.duplicated(subset=['id','name','funded_date','status','texts.en'])])"
   ]
  },
  {
   "cell_type": "code",
   "execution_count": 9,
   "metadata": {
    "collapsed": false,
    "scrolled": false
   },
   "outputs": [],
   "source": [
    "#df2.columns"
   ]
  },
  {
   "cell_type": "code",
   "execution_count": 10,
   "metadata": {
    "collapsed": false
   },
   "outputs": [],
   "source": [
    "index=range(0,len(df2['name']))"
   ]
  },
  {
   "cell_type": "code",
   "execution_count": 11,
   "metadata": {
    "collapsed": false
   },
   "outputs": [
    {
     "data": {
      "text/plain": [
       "(92037, 46)"
      ]
     },
     "execution_count": 11,
     "metadata": {},
     "output_type": "execute_result"
    }
   ],
   "source": [
    "df2.shape"
   ]
  },
  {
   "cell_type": "code",
   "execution_count": 12,
   "metadata": {
    "collapsed": false
   },
   "outputs": [],
   "source": [
    "#df2.name.value_counts()"
   ]
  },
  {
   "cell_type": "markdown",
   "metadata": {},
   "source": [
    "## The Kiva loan data for Kenya  \n",
    "#### Here are the twenty most-frequent descriptors of the Kiva loans in Kenya. Each entry has only one of these descriptors. There seems to be some overlap in the areas covered by the activities. For example, it is not clear that *Retail* should not also include *Clothing Sales*. Does *Agriculture* include *Poultry* or *Cereals*, and should they all not fall under *Farming*?  Below this one finds counts of the loans in each of several sectors."
   ]
  },
  {
   "cell_type": "markdown",
   "metadata": {},
   "source": [
    "### Loans for Farming and Retail Activities Dominate"
   ]
  },
  {
   "cell_type": "code",
   "execution_count": 20,
   "metadata": {
    "collapsed": false,
    "scrolled": false
   },
   "outputs": [
    {
     "data": {
      "text/plain": [
       "Farming                  17412\n",
       "Dairy                     6298\n",
       "Retail                    4384\n",
       "Fruits & Vegetables       4231\n",
       "Clothing Sales            4197\n",
       "General Store             4123\n",
       "Agriculture               4112\n",
       "Poultry                   3318\n",
       "Cereals                   2574\n",
       "Grocery Store             2464\n",
       "Motorcycle Transport      2385\n",
       "Food Stall                2384\n",
       "Tailoring                 2364\n",
       "Charcoal Sales            1821\n",
       "Beauty Salon              1667\n",
       "Fish Selling              1472\n",
       "Food Production/Sales     1436\n",
       "Food                      1247\n",
       "Used Clothing             1198\n",
       "Food Market               1031\n",
       "Name: activity, dtype: int64"
      ]
     },
     "execution_count": 20,
     "metadata": {},
     "output_type": "execute_result"
    }
   ],
   "source": [
    "df2['activity'].value_counts().head(20)"
   ]
  },
  {
   "cell_type": "markdown",
   "metadata": {},
   "source": [
    "### Agriculture, Food, and Retail Loans Dominate Economic Sectors"
   ]
  },
  {
   "cell_type": "code",
   "execution_count": 21,
   "metadata": {
    "collapsed": false,
    "scrolled": true
   },
   "outputs": [
    {
     "data": {
      "text/plain": [
       "Agriculture       33819\n",
       "Food              20170\n",
       "Retail            14577\n",
       "Services           7378\n",
       "Clothing           6152\n",
       "Transportation     3074\n",
       "Construction       1481\n",
       "Education          1303\n",
       "Health             1099\n",
       "Personal Use        963\n",
       "Manufacturing       706\n",
       "Housing             682\n",
       "Arts                408\n",
       "Entertainment       115\n",
       "Wholesale           110\n",
       "Name: sector, dtype: int64"
      ]
     },
     "execution_count": 21,
     "metadata": {},
     "output_type": "execute_result"
    }
   ],
   "source": [
    "df2['sector'].value_counts().head(15)"
   ]
  },
  {
   "cell_type": "markdown",
   "metadata": {},
   "source": [
    "## Finding trends and extremes in the Kiva loan data from Kenya \n",
    "### Two of the largest loans have been in the area of renewable energy"
   ]
  },
  {
   "cell_type": "code",
   "execution_count": 23,
   "metadata": {
    "collapsed": false,
    "scrolled": false
   },
   "outputs": [
    {
     "data": {
      "text/html": [
       "<div>\n",
       "<table border=\"1\" class=\"dataframe\">\n",
       "  <thead>\n",
       "    <tr style=\"text-align: right;\">\n",
       "      <th></th>\n",
       "      <th>activity</th>\n",
       "      <th>funded_amount</th>\n",
       "    </tr>\n",
       "  </thead>\n",
       "  <tbody>\n",
       "    <tr>\n",
       "      <th>280</th>\n",
       "      <td>Utilities</td>\n",
       "      <td>50000</td>\n",
       "    </tr>\n",
       "    <tr>\n",
       "      <th>10</th>\n",
       "      <td>Renewable Energy Products</td>\n",
       "      <td>50000</td>\n",
       "    </tr>\n",
       "    <tr>\n",
       "      <th>267</th>\n",
       "      <td>Renewable Energy Products</td>\n",
       "      <td>50000</td>\n",
       "    </tr>\n",
       "    <tr>\n",
       "      <th>317</th>\n",
       "      <td>Agriculture</td>\n",
       "      <td>50000</td>\n",
       "    </tr>\n",
       "  </tbody>\n",
       "</table>\n",
       "</div>"
      ],
      "text/plain": [
       "                      activity  funded_amount\n",
       "280                  Utilities          50000\n",
       "10   Renewable Energy Products          50000\n",
       "267  Renewable Energy Products          50000\n",
       "317                Agriculture          50000"
      ]
     },
     "execution_count": 23,
     "metadata": {},
     "output_type": "execute_result"
    }
   ],
   "source": [
    "test=df2[df2.funded_amount==df2.funded_amount.max()].iloc[:,[0,9]]\n",
    "test\n",
    "#test.reset_index().iloc[0,:]"
   ]
  },
  {
   "cell_type": "markdown",
   "metadata": {},
   "source": [
    "### The smallest loans have been for just 25 USD"
   ]
  },
  {
   "cell_type": "code",
   "execution_count": 13,
   "metadata": {
    "collapsed": false,
    "scrolled": false
   },
   "outputs": [
    {
     "data": {
      "text/html": [
       "<div>\n",
       "<table border=\"1\" class=\"dataframe\">\n",
       "  <thead>\n",
       "    <tr style=\"text-align: right;\">\n",
       "      <th></th>\n",
       "      <th>activity</th>\n",
       "      <th>sector</th>\n",
       "      <th>funded_amount</th>\n",
       "      <th>loan_amount</th>\n",
       "      <th>status</th>\n",
       "    </tr>\n",
       "  </thead>\n",
       "  <tbody>\n",
       "    <tr>\n",
       "      <th>118</th>\n",
       "      <td>Agriculture</td>\n",
       "      <td>Agriculture</td>\n",
       "      <td>25</td>\n",
       "      <td>25</td>\n",
       "      <td>paid</td>\n",
       "    </tr>\n",
       "    <tr>\n",
       "      <th>323</th>\n",
       "      <td>Farming</td>\n",
       "      <td>Agriculture</td>\n",
       "      <td>25</td>\n",
       "      <td>25</td>\n",
       "      <td>in_repayment</td>\n",
       "    </tr>\n",
       "    <tr>\n",
       "      <th>76</th>\n",
       "      <td>Agriculture</td>\n",
       "      <td>Agriculture</td>\n",
       "      <td>25</td>\n",
       "      <td>25</td>\n",
       "      <td>paid</td>\n",
       "    </tr>\n",
       "    <tr>\n",
       "      <th>165</th>\n",
       "      <td>Bicycle Repair</td>\n",
       "      <td>Services</td>\n",
       "      <td>25</td>\n",
       "      <td>25</td>\n",
       "      <td>paid</td>\n",
       "    </tr>\n",
       "    <tr>\n",
       "      <th>144</th>\n",
       "      <td>Food Production/Sales</td>\n",
       "      <td>Food</td>\n",
       "      <td>25</td>\n",
       "      <td>25</td>\n",
       "      <td>paid</td>\n",
       "    </tr>\n",
       "    <tr>\n",
       "      <th>333</th>\n",
       "      <td>Agriculture</td>\n",
       "      <td>Agriculture</td>\n",
       "      <td>25</td>\n",
       "      <td>25</td>\n",
       "      <td>paid</td>\n",
       "    </tr>\n",
       "    <tr>\n",
       "      <th>271</th>\n",
       "      <td>Shoe Sales</td>\n",
       "      <td>Retail</td>\n",
       "      <td>25</td>\n",
       "      <td>25</td>\n",
       "      <td>paid</td>\n",
       "    </tr>\n",
       "    <tr>\n",
       "      <th>131</th>\n",
       "      <td>Bakery</td>\n",
       "      <td>Food</td>\n",
       "      <td>25</td>\n",
       "      <td>25</td>\n",
       "      <td>paid</td>\n",
       "    </tr>\n",
       "  </tbody>\n",
       "</table>\n",
       "</div>"
      ],
      "text/plain": [
       "                  activity       sector  funded_amount  loan_amount  \\\n",
       "118            Agriculture  Agriculture             25           25   \n",
       "323                Farming  Agriculture             25           25   \n",
       "76             Agriculture  Agriculture             25           25   \n",
       "165         Bicycle Repair     Services             25           25   \n",
       "144  Food Production/Sales         Food             25           25   \n",
       "333            Agriculture  Agriculture             25           25   \n",
       "271             Shoe Sales       Retail             25           25   \n",
       "131                 Bakery         Food             25           25   \n",
       "\n",
       "           status  \n",
       "118          paid  \n",
       "323  in_repayment  \n",
       "76           paid  \n",
       "165          paid  \n",
       "144          paid  \n",
       "333          paid  \n",
       "271          paid  \n",
       "131          paid  "
      ]
     },
     "execution_count": 13,
     "metadata": {},
     "output_type": "execute_result"
    }
   ],
   "source": [
    "df2a = df2[df2.funded_amount>0]\n",
    "test2=df2a[(df2a.funded_amount==df2a.funded_amount.min())&((df2a.status== 'paid')|(df2a.status=='in_repayment'))]\n",
    "test2[['activity','sector','funded_amount','loan_amount','status']]"
   ]
  },
  {
   "cell_type": "code",
   "execution_count": 14,
   "metadata": {
    "collapsed": true
   },
   "outputs": [],
   "source": [
    "def mktime(x):\n",
    "    try:\n",
    "        tym=dt.datetime.strptime(x,\"%Y-%m-%dT%H:%M:%SZ\")\n",
    "        return tym\n",
    "    except:\n",
    "        return np.nan"
   ]
  },
  {
   "cell_type": "code",
   "execution_count": 15,
   "metadata": {
    "collapsed": true
   },
   "outputs": [],
   "source": [
    "def getyear(x):\n",
    "    try:\n",
    "        yr=np.int(x.year)\n",
    "        return yr\n",
    "    except:\n",
    "        return np.nan"
   ]
  },
  {
   "cell_type": "code",
   "execution_count": 16,
   "metadata": {
    "collapsed": false
   },
   "outputs": [],
   "source": [
    "fun_dat=df2a['funded_date'].apply(mktime)"
   ]
  },
  {
   "cell_type": "code",
   "execution_count": 17,
   "metadata": {
    "collapsed": false,
    "scrolled": true
   },
   "outputs": [
    {
     "name": "stderr",
     "output_type": "stream",
     "text": [
      "/Applications/anaconda/lib/python2.7/site-packages/pandas/core/indexing.py:288: SettingWithCopyWarning: \n",
      "A value is trying to be set on a copy of a slice from a DataFrame.\n",
      "Try using .loc[row_indexer,col_indexer] = value instead\n",
      "\n",
      "See the caveats in the documentation: http://pandas.pydata.org/pandas-docs/stable/indexing.html#indexing-view-versus-copy\n",
      "  self.obj[key] = _infer_fill_value(value)\n",
      "/Applications/anaconda/lib/python2.7/site-packages/pandas/core/indexing.py:465: SettingWithCopyWarning: \n",
      "A value is trying to be set on a copy of a slice from a DataFrame.\n",
      "Try using .loc[row_indexer,col_indexer] = value instead\n",
      "\n",
      "See the caveats in the documentation: http://pandas.pydata.org/pandas-docs/stable/indexing.html#indexing-view-versus-copy\n",
      "  self.obj[item] = s\n"
     ]
    }
   ],
   "source": [
    "df2a.loc[:,'funded_datetime']=fun_dat  # I checked to see that it is there, and it is"
   ]
  },
  {
   "cell_type": "code",
   "execution_count": 18,
   "metadata": {
    "collapsed": false,
    "scrolled": true
   },
   "outputs": [
    {
     "data": {
      "text/plain": [
       "Index([                     u'activity',                 u'basket_amount',\n",
       "            u'bonus_credit_eligibility',                     u'borrowers',\n",
       "                             u'country',                  u'country_code',\n",
       "       u'currency_exchange_loss_amount',                    u'delinquent',\n",
       "                         u'description',                 u'funded_amount',\n",
       "                         u'funded_date',                     u'geo.level',\n",
       "                           u'geo.pairs',                      u'geo.type',\n",
       "                                  u'id',                     u'languages',\n",
       "                        u'lender_count',                   u'loan_amount',\n",
       "                            u'location',                          u'name',\n",
       "                                 u'obs',                   u'paid_amount',\n",
       "                           u'paid_date',                    u'partner_id',\n",
       "                            u'payments',       u'planned_expiration_date',\n",
       "                         u'posted_date',                        u'sector',\n",
       "                              u'status',                          u'tags',\n",
       "                            u'texts.ar',                      u'texts.en',\n",
       "                            u'texts.es',                      u'texts.fr',\n",
       "                            u'texts.id',                      u'texts.mn',\n",
       "                            u'texts.pt',                      u'texts.ru',\n",
       "                            u'texts.vi',                        u'themes',\n",
       "                                u'town',                    u'translator',\n",
       "                                 u'use',                         u'video',\n",
       "                         u'prop_female',                 u'num_borrowers',\n",
       "                     u'funded_datetime'],\n",
       "      dtype='object')"
      ]
     },
     "execution_count": 18,
     "metadata": {},
     "output_type": "execute_result"
    }
   ],
   "source": [
    "df2a.columns"
   ]
  },
  {
   "cell_type": "code",
   "execution_count": 19,
   "metadata": {
    "collapsed": false
   },
   "outputs": [
    {
     "data": {
      "text/plain": [
       "(90265, 47)"
      ]
     },
     "execution_count": 19,
     "metadata": {},
     "output_type": "execute_result"
    }
   ],
   "source": [
    "df2a.shape"
   ]
  },
  {
   "cell_type": "code",
   "execution_count": 20,
   "metadata": {
    "collapsed": false,
    "scrolled": false
   },
   "outputs": [
    {
     "data": {
      "text/plain": [
       "u'Francis has a mixed farm that produces tea, maize, tomatoes, onions, beans and bananas, which are all sold at the local market. He has been farming for fifteen years in the town of Kisii in western Kenya and employs one farmhand. He also owns and operates a butcher shop in the same location.\\r\\n\\r\\nFrancis is 47 years old. He is married and has been blessed with four children who are now between the ages of 7 and 22. All of the children attend school.\\r\\n\\r\\nFrancis recently repaid his second loan from Juhudi Kilimo and has requested this loan of 80,000KES to expand his butcher shop. The income from this investment will enable him to take his son to college and improve the livelihood of his family. The major challenges he is facing in farming are unpredictable weather conditions and diseases that affect his production. In future, he would like to do large-scale farming and own a string of butcheries to supply meat to institutions.\\r\\n\\r\\n'"
      ]
     },
     "execution_count": 20,
     "metadata": {},
     "output_type": "execute_result"
    }
   ],
   "source": [
    "df2a['texts.en'].iloc[0]"
   ]
  },
  {
   "cell_type": "code",
   "execution_count": 21,
   "metadata": {
    "collapsed": false,
    "scrolled": true
   },
   "outputs": [],
   "source": [
    "fun_year=df2a['funded_datetime'].apply(getyear)"
   ]
  },
  {
   "cell_type": "code",
   "execution_count": 22,
   "metadata": {
    "collapsed": false
   },
   "outputs": [
    {
     "data": {
      "text/plain": [
       "pandas.core.series.Series"
      ]
     },
     "execution_count": 22,
     "metadata": {},
     "output_type": "execute_result"
    }
   ],
   "source": [
    "type(fun_year)          # turns out the effort to get an int here isn't going"
   ]
  },
  {
   "cell_type": "code",
   "execution_count": 23,
   "metadata": {
    "collapsed": true
   },
   "outputs": [],
   "source": [
    "df2a.loc[:,'funded_year']=fun_year"
   ]
  },
  {
   "cell_type": "code",
   "execution_count": 24,
   "metadata": {
    "collapsed": false
   },
   "outputs": [],
   "source": [
    "df2b=df2a[(df2a.funded_year.isnull()==False)&(df2a.funded_year!=2016.0)]"
   ]
  },
  {
   "cell_type": "code",
   "execution_count": 25,
   "metadata": {
    "collapsed": false
   },
   "outputs": [
    {
     "data": {
      "text/plain": [
       "(79398, 48)"
      ]
     },
     "execution_count": 25,
     "metadata": {},
     "output_type": "execute_result"
    }
   ],
   "source": [
    "df2b.shape"
   ]
  },
  {
   "cell_type": "code",
   "execution_count": 37,
   "metadata": {
    "collapsed": true
   },
   "outputs": [],
   "source": [
    "df2b1=df2a[(df2a.funded_year.isnull()==False)&(df2a.funded_year!=2016.0)&(df2a.sector!='Agriculture')]"
   ]
  },
  {
   "cell_type": "code",
   "execution_count": 38,
   "metadata": {
    "collapsed": true
   },
   "outputs": [],
   "source": [
    "df2b2=df2a[(df2a.funded_year.isnull()==False)&(df2a.funded_year!=2016.0)&(df2a.sector=='Agriculture')]"
   ]
  },
  {
   "cell_type": "markdown",
   "metadata": {},
   "source": [
    "### Funded loans are increasing again"
   ]
  },
  {
   "cell_type": "code",
   "execution_count": 39,
   "metadata": {
    "collapsed": false,
    "scrolled": true
   },
   "outputs": [
    {
     "data": {
      "image/png": "[encoded data removed]",
      "text/plain": [
       "<matplotlib.figure.Figure at 0x1bc9c9f10>"
      ]
     },
     "metadata": {},
     "output_type": "display_data"
    }
   ],
   "source": [
    "df2b.funded_year.value_counts().sort_index().plot(title='Funded Loans by Year');"
   ]
  },
  {
   "cell_type": "code",
   "execution_count": 40,
   "metadata": {
    "collapsed": false
   },
   "outputs": [
    {
     "data": {
      "text/plain": [
       "Agriculture       27567\n",
       "Food              17982\n",
       "Retail            12815\n",
       "Services           6755\n",
       "Clothing           5501\n",
       "Transportation     2619\n",
       "Construction       1395\n",
       "Health             1023\n",
       "Education           947\n",
       "Personal Use        913\n",
       "Manufacturing       668\n",
       "Housing             626\n",
       "Arts                372\n",
       "Entertainment       114\n",
       "Wholesale           101\n",
       "Name: sector, dtype: int64"
      ]
     },
     "execution_count": 40,
     "metadata": {},
     "output_type": "execute_result"
    }
   ],
   "source": [
    "df2b.sector.value_counts()"
   ]
  },
  {
   "cell_type": "code",
   "execution_count": 41,
   "metadata": {
    "collapsed": false
   },
   "outputs": [],
   "source": [
    "df2c=df2b.groupby(['sector','funded_year']).size()"
   ]
  },
  {
   "cell_type": "code",
   "execution_count": 42,
   "metadata": {
    "collapsed": false
   },
   "outputs": [],
   "source": [
    "df2c1=pd.DataFrame(df2b1.groupby('funded_year').size())\n"
   ]
  },
  {
   "cell_type": "code",
   "execution_count": 43,
   "metadata": {
    "collapsed": false
   },
   "outputs": [
    {
     "data": {
      "text/html": [
       "<div>\n",
       "<table border=\"1\" class=\"dataframe\">\n",
       "  <thead>\n",
       "    <tr style=\"text-align: right;\">\n",
       "      <th></th>\n",
       "      <th>funded_year</th>\n",
       "      <th>Non-Agriculture</th>\n",
       "    </tr>\n",
       "  </thead>\n",
       "  <tbody>\n",
       "    <tr>\n",
       "      <th>0</th>\n",
       "      <td>2005</td>\n",
       "      <td>19</td>\n",
       "    </tr>\n",
       "    <tr>\n",
       "      <th>1</th>\n",
       "      <td>2006</td>\n",
       "      <td>230</td>\n",
       "    </tr>\n",
       "    <tr>\n",
       "      <th>2</th>\n",
       "      <td>2007</td>\n",
       "      <td>1130</td>\n",
       "    </tr>\n",
       "    <tr>\n",
       "      <th>3</th>\n",
       "      <td>2008</td>\n",
       "      <td>276</td>\n",
       "    </tr>\n",
       "    <tr>\n",
       "      <th>4</th>\n",
       "      <td>2009</td>\n",
       "      <td>1201</td>\n",
       "    </tr>\n",
       "    <tr>\n",
       "      <th>5</th>\n",
       "      <td>2010</td>\n",
       "      <td>3113</td>\n",
       "    </tr>\n",
       "    <tr>\n",
       "      <th>6</th>\n",
       "      <td>2011</td>\n",
       "      <td>6294</td>\n",
       "    </tr>\n",
       "    <tr>\n",
       "      <th>7</th>\n",
       "      <td>2012</td>\n",
       "      <td>11722</td>\n",
       "    </tr>\n",
       "    <tr>\n",
       "      <th>8</th>\n",
       "      <td>2013</td>\n",
       "      <td>10503</td>\n",
       "    </tr>\n",
       "    <tr>\n",
       "      <th>9</th>\n",
       "      <td>2014</td>\n",
       "      <td>8807</td>\n",
       "    </tr>\n",
       "    <tr>\n",
       "      <th>10</th>\n",
       "      <td>2015</td>\n",
       "      <td>8536</td>\n",
       "    </tr>\n",
       "  </tbody>\n",
       "</table>\n",
       "</div>"
      ],
      "text/plain": [
       "    funded_year  Non-Agriculture\n",
       "0          2005               19\n",
       "1          2006              230\n",
       "2          2007             1130\n",
       "3          2008              276\n",
       "4          2009             1201\n",
       "5          2010             3113\n",
       "6          2011             6294\n",
       "7          2012            11722\n",
       "8          2013            10503\n",
       "9          2014             8807\n",
       "10         2015             8536"
      ]
     },
     "execution_count": 43,
     "metadata": {},
     "output_type": "execute_result"
    }
   ],
   "source": [
    "df2c1=df2c1.reset_index()\n",
    "df2c1.funded_year=df2c1.funded_year.astype(int)\n",
    "df2c1.loc[:,'Non-Agriculture']=df2c1[0]\n",
    "df2c1=df2c1.drop(0,axis=1)\n",
    "df2c1"
   ]
  },
  {
   "cell_type": "code",
   "execution_count": 44,
   "metadata": {
    "collapsed": false
   },
   "outputs": [
    {
     "data": {
      "text/html": [
       "<div>\n",
       "<table border=\"1\" class=\"dataframe\">\n",
       "  <thead>\n",
       "    <tr style=\"text-align: right;\">\n",
       "      <th></th>\n",
       "      <th>funded_year</th>\n",
       "      <th>Agriculture</th>\n",
       "    </tr>\n",
       "  </thead>\n",
       "  <tbody>\n",
       "    <tr>\n",
       "      <th>0</th>\n",
       "      <td>2005</td>\n",
       "      <td>14</td>\n",
       "    </tr>\n",
       "    <tr>\n",
       "      <th>1</th>\n",
       "      <td>2006</td>\n",
       "      <td>144</td>\n",
       "    </tr>\n",
       "    <tr>\n",
       "      <th>2</th>\n",
       "      <td>2007</td>\n",
       "      <td>447</td>\n",
       "    </tr>\n",
       "    <tr>\n",
       "      <th>3</th>\n",
       "      <td>2008</td>\n",
       "      <td>17</td>\n",
       "    </tr>\n",
       "    <tr>\n",
       "      <th>4</th>\n",
       "      <td>2009</td>\n",
       "      <td>99</td>\n",
       "    </tr>\n",
       "    <tr>\n",
       "      <th>5</th>\n",
       "      <td>2010</td>\n",
       "      <td>1463</td>\n",
       "    </tr>\n",
       "    <tr>\n",
       "      <th>6</th>\n",
       "      <td>2011</td>\n",
       "      <td>3379</td>\n",
       "    </tr>\n",
       "    <tr>\n",
       "      <th>7</th>\n",
       "      <td>2012</td>\n",
       "      <td>3545</td>\n",
       "    </tr>\n",
       "    <tr>\n",
       "      <th>8</th>\n",
       "      <td>2013</td>\n",
       "      <td>4194</td>\n",
       "    </tr>\n",
       "    <tr>\n",
       "      <th>9</th>\n",
       "      <td>2014</td>\n",
       "      <td>4864</td>\n",
       "    </tr>\n",
       "    <tr>\n",
       "      <th>10</th>\n",
       "      <td>2015</td>\n",
       "      <td>9401</td>\n",
       "    </tr>\n",
       "  </tbody>\n",
       "</table>\n",
       "</div>"
      ],
      "text/plain": [
       "    funded_year  Agriculture\n",
       "0          2005           14\n",
       "1          2006          144\n",
       "2          2007          447\n",
       "3          2008           17\n",
       "4          2009           99\n",
       "5          2010         1463\n",
       "6          2011         3379\n",
       "7          2012         3545\n",
       "8          2013         4194\n",
       "9          2014         4864\n",
       "10         2015         9401"
      ]
     },
     "execution_count": 44,
     "metadata": {},
     "output_type": "execute_result"
    }
   ],
   "source": [
    "df2c2=df2b2.groupby('funded_year').size()\n",
    "df2c2=df2c2.reset_index()\n",
    "df2c2.funded_year=df2c2.funded_year.astype(int)\n",
    "df2c2.columns\n",
    "df2c2.loc[:,'Agriculture']=df2c2[0]\n",
    "df2c2=df2c2.drop(0,axis=1)\n",
    "df2c2"
   ]
  },
  {
   "cell_type": "markdown",
   "metadata": {},
   "source": [
    "### The increase is due to increasing support for agriculture "
   ]
  },
  {
   "cell_type": "code",
   "execution_count": 45,
   "metadata": {
    "collapsed": false,
    "scrolled": true
   },
   "outputs": [
    {
     "data": {
      "image/png": "[encoded data removed]",
      "text/plain": [
       "<matplotlib.figure.Figure at 0x125806390>"
      ]
     },
     "metadata": {},
     "output_type": "display_data"
    }
   ],
   "source": [
    "df2c.unstack('sector').fillna(0).plot(title='Number of Loans per Sector');"
   ]
  },
  {
   "cell_type": "code",
   "execution_count": 46,
   "metadata": {
    "collapsed": false,
    "scrolled": true
   },
   "outputs": [
    {
     "data": {
      "text/html": [
       "<div>\n",
       "<table border=\"1\" class=\"dataframe\">\n",
       "  <thead>\n",
       "    <tr style=\"text-align: right;\">\n",
       "      <th>sector</th>\n",
       "      <th>funded_year</th>\n",
       "      <th>Agriculture</th>\n",
       "      <th>Arts</th>\n",
       "      <th>Clothing</th>\n",
       "      <th>Construction</th>\n",
       "      <th>Education</th>\n",
       "      <th>Entertainment</th>\n",
       "      <th>Food</th>\n",
       "      <th>Health</th>\n",
       "      <th>Housing</th>\n",
       "      <th>Manufacturing</th>\n",
       "      <th>Personal Use</th>\n",
       "      <th>Retail</th>\n",
       "      <th>Services</th>\n",
       "      <th>Transportation</th>\n",
       "      <th>Wholesale</th>\n",
       "    </tr>\n",
       "  </thead>\n",
       "  <tbody>\n",
       "    <tr>\n",
       "      <th>0</th>\n",
       "      <td>2005</td>\n",
       "      <td>14.0</td>\n",
       "      <td>0.0</td>\n",
       "      <td>1.0</td>\n",
       "      <td>1.0</td>\n",
       "      <td>0.0</td>\n",
       "      <td>0.0</td>\n",
       "      <td>4.0</td>\n",
       "      <td>0.0</td>\n",
       "      <td>5.0</td>\n",
       "      <td>1.0</td>\n",
       "      <td>0.0</td>\n",
       "      <td>2.0</td>\n",
       "      <td>5.0</td>\n",
       "      <td>0.0</td>\n",
       "      <td>0.0</td>\n",
       "    </tr>\n",
       "    <tr>\n",
       "      <th>1</th>\n",
       "      <td>2006</td>\n",
       "      <td>144.0</td>\n",
       "      <td>12.0</td>\n",
       "      <td>24.0</td>\n",
       "      <td>8.0</td>\n",
       "      <td>0.0</td>\n",
       "      <td>0.0</td>\n",
       "      <td>76.0</td>\n",
       "      <td>3.0</td>\n",
       "      <td>7.0</td>\n",
       "      <td>2.0</td>\n",
       "      <td>0.0</td>\n",
       "      <td>55.0</td>\n",
       "      <td>38.0</td>\n",
       "      <td>5.0</td>\n",
       "      <td>0.0</td>\n",
       "    </tr>\n",
       "    <tr>\n",
       "      <th>2</th>\n",
       "      <td>2007</td>\n",
       "      <td>447.0</td>\n",
       "      <td>43.0</td>\n",
       "      <td>146.0</td>\n",
       "      <td>26.0</td>\n",
       "      <td>1.0</td>\n",
       "      <td>1.0</td>\n",
       "      <td>408.0</td>\n",
       "      <td>38.0</td>\n",
       "      <td>10.0</td>\n",
       "      <td>21.0</td>\n",
       "      <td>0.0</td>\n",
       "      <td>247.0</td>\n",
       "      <td>166.0</td>\n",
       "      <td>21.0</td>\n",
       "      <td>2.0</td>\n",
       "    </tr>\n",
       "    <tr>\n",
       "      <th>3</th>\n",
       "      <td>2008</td>\n",
       "      <td>17.0</td>\n",
       "      <td>9.0</td>\n",
       "      <td>54.0</td>\n",
       "      <td>6.0</td>\n",
       "      <td>0.0</td>\n",
       "      <td>2.0</td>\n",
       "      <td>97.0</td>\n",
       "      <td>14.0</td>\n",
       "      <td>4.0</td>\n",
       "      <td>4.0</td>\n",
       "      <td>0.0</td>\n",
       "      <td>48.0</td>\n",
       "      <td>32.0</td>\n",
       "      <td>5.0</td>\n",
       "      <td>1.0</td>\n",
       "    </tr>\n",
       "    <tr>\n",
       "      <th>4</th>\n",
       "      <td>2009</td>\n",
       "      <td>99.0</td>\n",
       "      <td>9.0</td>\n",
       "      <td>186.0</td>\n",
       "      <td>12.0</td>\n",
       "      <td>14.0</td>\n",
       "      <td>5.0</td>\n",
       "      <td>328.0</td>\n",
       "      <td>20.0</td>\n",
       "      <td>11.0</td>\n",
       "      <td>36.0</td>\n",
       "      <td>0.0</td>\n",
       "      <td>303.0</td>\n",
       "      <td>212.0</td>\n",
       "      <td>57.0</td>\n",
       "      <td>8.0</td>\n",
       "    </tr>\n",
       "  </tbody>\n",
       "</table>\n",
       "</div>"
      ],
      "text/plain": [
       "sector  funded_year  Agriculture  Arts  Clothing  Construction  Education  \\\n",
       "0              2005         14.0   0.0       1.0           1.0        0.0   \n",
       "1              2006        144.0  12.0      24.0           8.0        0.0   \n",
       "2              2007        447.0  43.0     146.0          26.0        1.0   \n",
       "3              2008         17.0   9.0      54.0           6.0        0.0   \n",
       "4              2009         99.0   9.0     186.0          12.0       14.0   \n",
       "\n",
       "sector  Entertainment   Food  Health  Housing  Manufacturing  Personal Use  \\\n",
       "0                 0.0    4.0     0.0      5.0            1.0           0.0   \n",
       "1                 0.0   76.0     3.0      7.0            2.0           0.0   \n",
       "2                 1.0  408.0    38.0     10.0           21.0           0.0   \n",
       "3                 2.0   97.0    14.0      4.0            4.0           0.0   \n",
       "4                 5.0  328.0    20.0     11.0           36.0           0.0   \n",
       "\n",
       "sector  Retail  Services  Transportation  Wholesale  \n",
       "0          2.0       5.0             0.0        0.0  \n",
       "1         55.0      38.0             5.0        0.0  \n",
       "2        247.0     166.0            21.0        2.0  \n",
       "3         48.0      32.0             5.0        1.0  \n",
       "4        303.0     212.0            57.0        8.0  "
      ]
     },
     "execution_count": 46,
     "metadata": {},
     "output_type": "execute_result"
    }
   ],
   "source": [
    "sectors=df2c.unstack('sector').fillna(0)\n",
    "sectors=sectors.reset_index()\n",
    "sectors.funded_year=sectors.funded_year.astype(int)\n",
    "sectors.head()"
   ]
  },
  {
   "cell_type": "code",
   "execution_count": 47,
   "metadata": {
    "collapsed": false
   },
   "outputs": [
    {
     "data": {
      "text/plain": [
       "<matplotlib.text.Text at 0x158347450>"
      ]
     },
     "execution_count": 47,
     "metadata": {},
     "output_type": "execute_result"
    },
    {
     "data": {
      "image/png": "[encoded data removed]",
      "text/plain": [
       "<matplotlib.figure.Figure at 0x14302bcd0>"
      ]
     },
     "metadata": {},
     "output_type": "display_data"
    }
   ],
   "source": [
    "fig=plt.figure(figsize=(12,8),facecolor='white')          # To Do: MAKE A PUBLICATION FIGURE OF THE ABOVE GRAPH HERE\n",
    "ax=fig.add_subplot(1,1,1)#, axisbg='white')               #USING A FOR-LOOP\n",
    "ax.spines['bottom'].set_color('red')\n",
    "ax.set_xlabel('Year',fontsize=20)\n",
    "ax.set_ylabel('Number of  Loans',fontsize=20)\n"
   ]
  },
  {
   "cell_type": "code",
   "execution_count": 48,
   "metadata": {
    "collapsed": false
   },
   "outputs": [
    {
     "name": "stdout",
     "output_type": "stream",
     "text": [
      "[2005 2006 2007 2008 2009 2010 2011 2012 2013 2014 2015]\n"
     ]
    },
    {
     "data": {
      "image/png": "[encoded data removed]",
      "text/plain": [
       "<matplotlib.figure.Figure at 0x158a043d0>"
      ]
     },
     "metadata": {},
     "output_type": "display_data"
    }
   ],
   "source": [
    "fig=plt.figure(figsize=(12,8),facecolor='white')          #open a figure\n",
    "ax=fig.add_subplot(1,1,1)#, axisbg='white')\n",
    "ax.spines['bottom'].set_color('red')\n",
    "ax.set_xlabel('Year',fontsize=20)\n",
    "ax.set_ylabel('Number of  Loans',fontsize=20)\n",
    "year=np.asarray(df2c1.funded_year.astype(int))\n",
    "print year\n",
    "ax.plot(df2c1.funded_year, df2c1['Non-Agriculture'],linewidth=4)\n",
    "ax.plot(df2c2.funded_year, df2c2['Agriculture'],linewidth=4)\n",
    "ax.ticklabel_format(useOffset=False)\n",
    "ax.legend(loc='best', prop={'size':18})         #display a legend\n",
    "for tick in ax.xaxis.get_major_ticks():                 #set the size of the tick labels on the x-axis\n",
    "                tick.label.set_fontsize(14) \n",
    "for tick in ax.yaxis.get_major_ticks():                 #set the size of the tick labels on the y-axis\n",
    "                tick.label.set_fontsize(14)"
   ]
  },
  {
   "cell_type": "code",
   "execution_count": 49,
   "metadata": {
    "collapsed": false,
    "scrolled": true
   },
   "outputs": [
    {
     "data": {
      "text/html": [
       "<div>\n",
       "<table border=\"1\" class=\"dataframe\">\n",
       "  <thead>\n",
       "    <tr style=\"text-align: right;\">\n",
       "      <th>sector</th>\n",
       "      <th>Agriculture</th>\n",
       "      <th>Arts</th>\n",
       "      <th>Clothing</th>\n",
       "      <th>Construction</th>\n",
       "      <th>Education</th>\n",
       "      <th>Entertainment</th>\n",
       "      <th>Food</th>\n",
       "      <th>Health</th>\n",
       "      <th>Housing</th>\n",
       "      <th>Manufacturing</th>\n",
       "      <th>Personal Use</th>\n",
       "      <th>Retail</th>\n",
       "      <th>Services</th>\n",
       "      <th>Transportation</th>\n",
       "      <th>Wholesale</th>\n",
       "    </tr>\n",
       "    <tr>\n",
       "      <th>funded_year</th>\n",
       "      <th></th>\n",
       "      <th></th>\n",
       "      <th></th>\n",
       "      <th></th>\n",
       "      <th></th>\n",
       "      <th></th>\n",
       "      <th></th>\n",
       "      <th></th>\n",
       "      <th></th>\n",
       "      <th></th>\n",
       "      <th></th>\n",
       "      <th></th>\n",
       "      <th></th>\n",
       "      <th></th>\n",
       "      <th></th>\n",
       "    </tr>\n",
       "  </thead>\n",
       "  <tbody>\n",
       "    <tr>\n",
       "      <th>2005.0</th>\n",
       "      <td>14.0</td>\n",
       "      <td>0.0</td>\n",
       "      <td>1.0</td>\n",
       "      <td>1.0</td>\n",
       "      <td>0.0</td>\n",
       "      <td>0.0</td>\n",
       "      <td>4.0</td>\n",
       "      <td>0.0</td>\n",
       "      <td>5.0</td>\n",
       "      <td>1.0</td>\n",
       "      <td>0.0</td>\n",
       "      <td>2.0</td>\n",
       "      <td>5.0</td>\n",
       "      <td>0.0</td>\n",
       "      <td>0.0</td>\n",
       "    </tr>\n",
       "    <tr>\n",
       "      <th>2006.0</th>\n",
       "      <td>144.0</td>\n",
       "      <td>12.0</td>\n",
       "      <td>24.0</td>\n",
       "      <td>8.0</td>\n",
       "      <td>0.0</td>\n",
       "      <td>0.0</td>\n",
       "      <td>76.0</td>\n",
       "      <td>3.0</td>\n",
       "      <td>7.0</td>\n",
       "      <td>2.0</td>\n",
       "      <td>0.0</td>\n",
       "      <td>55.0</td>\n",
       "      <td>38.0</td>\n",
       "      <td>5.0</td>\n",
       "      <td>0.0</td>\n",
       "    </tr>\n",
       "    <tr>\n",
       "      <th>2007.0</th>\n",
       "      <td>447.0</td>\n",
       "      <td>43.0</td>\n",
       "      <td>146.0</td>\n",
       "      <td>26.0</td>\n",
       "      <td>1.0</td>\n",
       "      <td>1.0</td>\n",
       "      <td>408.0</td>\n",
       "      <td>38.0</td>\n",
       "      <td>10.0</td>\n",
       "      <td>21.0</td>\n",
       "      <td>0.0</td>\n",
       "      <td>247.0</td>\n",
       "      <td>166.0</td>\n",
       "      <td>21.0</td>\n",
       "      <td>2.0</td>\n",
       "    </tr>\n",
       "    <tr>\n",
       "      <th>2008.0</th>\n",
       "      <td>17.0</td>\n",
       "      <td>9.0</td>\n",
       "      <td>54.0</td>\n",
       "      <td>6.0</td>\n",
       "      <td>0.0</td>\n",
       "      <td>2.0</td>\n",
       "      <td>97.0</td>\n",
       "      <td>14.0</td>\n",
       "      <td>4.0</td>\n",
       "      <td>4.0</td>\n",
       "      <td>0.0</td>\n",
       "      <td>48.0</td>\n",
       "      <td>32.0</td>\n",
       "      <td>5.0</td>\n",
       "      <td>1.0</td>\n",
       "    </tr>\n",
       "    <tr>\n",
       "      <th>2009.0</th>\n",
       "      <td>99.0</td>\n",
       "      <td>9.0</td>\n",
       "      <td>186.0</td>\n",
       "      <td>12.0</td>\n",
       "      <td>14.0</td>\n",
       "      <td>5.0</td>\n",
       "      <td>328.0</td>\n",
       "      <td>20.0</td>\n",
       "      <td>11.0</td>\n",
       "      <td>36.0</td>\n",
       "      <td>0.0</td>\n",
       "      <td>303.0</td>\n",
       "      <td>212.0</td>\n",
       "      <td>57.0</td>\n",
       "      <td>8.0</td>\n",
       "    </tr>\n",
       "    <tr>\n",
       "      <th>2010.0</th>\n",
       "      <td>1463.0</td>\n",
       "      <td>32.0</td>\n",
       "      <td>377.0</td>\n",
       "      <td>100.0</td>\n",
       "      <td>45.0</td>\n",
       "      <td>10.0</td>\n",
       "      <td>853.0</td>\n",
       "      <td>37.0</td>\n",
       "      <td>35.0</td>\n",
       "      <td>101.0</td>\n",
       "      <td>5.0</td>\n",
       "      <td>814.0</td>\n",
       "      <td>501.0</td>\n",
       "      <td>184.0</td>\n",
       "      <td>19.0</td>\n",
       "    </tr>\n",
       "    <tr>\n",
       "      <th>2011.0</th>\n",
       "      <td>3379.0</td>\n",
       "      <td>58.0</td>\n",
       "      <td>704.0</td>\n",
       "      <td>264.0</td>\n",
       "      <td>82.0</td>\n",
       "      <td>12.0</td>\n",
       "      <td>1911.0</td>\n",
       "      <td>75.0</td>\n",
       "      <td>84.0</td>\n",
       "      <td>122.0</td>\n",
       "      <td>22.0</td>\n",
       "      <td>1645.0</td>\n",
       "      <td>967.0</td>\n",
       "      <td>332.0</td>\n",
       "      <td>16.0</td>\n",
       "    </tr>\n",
       "    <tr>\n",
       "      <th>2012.0</th>\n",
       "      <td>3545.0</td>\n",
       "      <td>56.0</td>\n",
       "      <td>1278.0</td>\n",
       "      <td>299.0</td>\n",
       "      <td>238.0</td>\n",
       "      <td>47.0</td>\n",
       "      <td>4002.0</td>\n",
       "      <td>115.0</td>\n",
       "      <td>167.0</td>\n",
       "      <td>130.0</td>\n",
       "      <td>127.0</td>\n",
       "      <td>3038.0</td>\n",
       "      <td>1544.0</td>\n",
       "      <td>658.0</td>\n",
       "      <td>23.0</td>\n",
       "    </tr>\n",
       "    <tr>\n",
       "      <th>2013.0</th>\n",
       "      <td>4194.0</td>\n",
       "      <td>53.0</td>\n",
       "      <td>1021.0</td>\n",
       "      <td>234.0</td>\n",
       "      <td>248.0</td>\n",
       "      <td>16.0</td>\n",
       "      <td>3853.0</td>\n",
       "      <td>286.0</td>\n",
       "      <td>148.0</td>\n",
       "      <td>95.0</td>\n",
       "      <td>499.0</td>\n",
       "      <td>2303.0</td>\n",
       "      <td>1242.0</td>\n",
       "      <td>484.0</td>\n",
       "      <td>21.0</td>\n",
       "    </tr>\n",
       "    <tr>\n",
       "      <th>2014.0</th>\n",
       "      <td>4864.0</td>\n",
       "      <td>43.0</td>\n",
       "      <td>863.0</td>\n",
       "      <td>201.0</td>\n",
       "      <td>180.0</td>\n",
       "      <td>14.0</td>\n",
       "      <td>3239.0</td>\n",
       "      <td>284.0</td>\n",
       "      <td>87.0</td>\n",
       "      <td>95.0</td>\n",
       "      <td>157.0</td>\n",
       "      <td>2139.0</td>\n",
       "      <td>1086.0</td>\n",
       "      <td>413.0</td>\n",
       "      <td>6.0</td>\n",
       "    </tr>\n",
       "    <tr>\n",
       "      <th>2015.0</th>\n",
       "      <td>9401.0</td>\n",
       "      <td>57.0</td>\n",
       "      <td>847.0</td>\n",
       "      <td>244.0</td>\n",
       "      <td>139.0</td>\n",
       "      <td>7.0</td>\n",
       "      <td>3211.0</td>\n",
       "      <td>151.0</td>\n",
       "      <td>68.0</td>\n",
       "      <td>61.0</td>\n",
       "      <td>103.0</td>\n",
       "      <td>2221.0</td>\n",
       "      <td>962.0</td>\n",
       "      <td>460.0</td>\n",
       "      <td>5.0</td>\n",
       "    </tr>\n",
       "  </tbody>\n",
       "</table>\n",
       "</div>"
      ],
      "text/plain": [
       "sector       Agriculture  Arts  Clothing  Construction  Education  \\\n",
       "funded_year                                                         \n",
       "2005.0              14.0   0.0       1.0           1.0        0.0   \n",
       "2006.0             144.0  12.0      24.0           8.0        0.0   \n",
       "2007.0             447.0  43.0     146.0          26.0        1.0   \n",
       "2008.0              17.0   9.0      54.0           6.0        0.0   \n",
       "2009.0              99.0   9.0     186.0          12.0       14.0   \n",
       "2010.0            1463.0  32.0     377.0         100.0       45.0   \n",
       "2011.0            3379.0  58.0     704.0         264.0       82.0   \n",
       "2012.0            3545.0  56.0    1278.0         299.0      238.0   \n",
       "2013.0            4194.0  53.0    1021.0         234.0      248.0   \n",
       "2014.0            4864.0  43.0     863.0         201.0      180.0   \n",
       "2015.0            9401.0  57.0     847.0         244.0      139.0   \n",
       "\n",
       "sector       Entertainment    Food  Health  Housing  Manufacturing  \\\n",
       "funded_year                                                          \n",
       "2005.0                 0.0     4.0     0.0      5.0            1.0   \n",
       "2006.0                 0.0    76.0     3.0      7.0            2.0   \n",
       "2007.0                 1.0   408.0    38.0     10.0           21.0   \n",
       "2008.0                 2.0    97.0    14.0      4.0            4.0   \n",
       "2009.0                 5.0   328.0    20.0     11.0           36.0   \n",
       "2010.0                10.0   853.0    37.0     35.0          101.0   \n",
       "2011.0                12.0  1911.0    75.0     84.0          122.0   \n",
       "2012.0                47.0  4002.0   115.0    167.0          130.0   \n",
       "2013.0                16.0  3853.0   286.0    148.0           95.0   \n",
       "2014.0                14.0  3239.0   284.0     87.0           95.0   \n",
       "2015.0                 7.0  3211.0   151.0     68.0           61.0   \n",
       "\n",
       "sector       Personal Use  Retail  Services  Transportation  Wholesale  \n",
       "funded_year                                                             \n",
       "2005.0                0.0     2.0       5.0             0.0        0.0  \n",
       "2006.0                0.0    55.0      38.0             5.0        0.0  \n",
       "2007.0                0.0   247.0     166.0            21.0        2.0  \n",
       "2008.0                0.0    48.0      32.0             5.0        1.0  \n",
       "2009.0                0.0   303.0     212.0            57.0        8.0  \n",
       "2010.0                5.0   814.0     501.0           184.0       19.0  \n",
       "2011.0               22.0  1645.0     967.0           332.0       16.0  \n",
       "2012.0              127.0  3038.0    1544.0           658.0       23.0  \n",
       "2013.0              499.0  2303.0    1242.0           484.0       21.0  \n",
       "2014.0              157.0  2139.0    1086.0           413.0        6.0  \n",
       "2015.0              103.0  2221.0     962.0           460.0        5.0  "
      ]
     },
     "execution_count": 49,
     "metadata": {},
     "output_type": "execute_result"
    }
   ],
   "source": [
    "df2c.unstack('sector').fillna(0)"
   ]
  },
  {
   "cell_type": "code",
   "execution_count": 50,
   "metadata": {
    "collapsed": false,
    "scrolled": true
   },
   "outputs": [
    {
     "data": {
      "text/html": [
       "<div>\n",
       "<table border=\"1\" class=\"dataframe\">\n",
       "  <thead>\n",
       "    <tr style=\"text-align: right;\">\n",
       "      <th>prop_female</th>\n",
       "      <th>funded_year</th>\n",
       "      <th>Female</th>\n",
       "      <th>Male</th>\n",
       "    </tr>\n",
       "  </thead>\n",
       "  <tbody>\n",
       "    <tr>\n",
       "      <th>0</th>\n",
       "      <td>2005</td>\n",
       "      <td>13</td>\n",
       "      <td>1</td>\n",
       "    </tr>\n",
       "    <tr>\n",
       "      <th>1</th>\n",
       "      <td>2006</td>\n",
       "      <td>133</td>\n",
       "      <td>11</td>\n",
       "    </tr>\n",
       "    <tr>\n",
       "      <th>2</th>\n",
       "      <td>2007</td>\n",
       "      <td>384</td>\n",
       "      <td>63</td>\n",
       "    </tr>\n",
       "    <tr>\n",
       "      <th>3</th>\n",
       "      <td>2008</td>\n",
       "      <td>7</td>\n",
       "      <td>8</td>\n",
       "    </tr>\n",
       "    <tr>\n",
       "      <th>4</th>\n",
       "      <td>2009</td>\n",
       "      <td>55</td>\n",
       "      <td>44</td>\n",
       "    </tr>\n",
       "    <tr>\n",
       "      <th>5</th>\n",
       "      <td>2010</td>\n",
       "      <td>591</td>\n",
       "      <td>872</td>\n",
       "    </tr>\n",
       "    <tr>\n",
       "      <th>6</th>\n",
       "      <td>2011</td>\n",
       "      <td>1247</td>\n",
       "      <td>1551</td>\n",
       "    </tr>\n",
       "    <tr>\n",
       "      <th>7</th>\n",
       "      <td>2012</td>\n",
       "      <td>1653</td>\n",
       "      <td>1552</td>\n",
       "    </tr>\n",
       "    <tr>\n",
       "      <th>8</th>\n",
       "      <td>2013</td>\n",
       "      <td>1776</td>\n",
       "      <td>1741</td>\n",
       "    </tr>\n",
       "    <tr>\n",
       "      <th>9</th>\n",
       "      <td>2014</td>\n",
       "      <td>2679</td>\n",
       "      <td>1531</td>\n",
       "    </tr>\n",
       "    <tr>\n",
       "      <th>10</th>\n",
       "      <td>2015</td>\n",
       "      <td>5290</td>\n",
       "      <td>2227</td>\n",
       "    </tr>\n",
       "  </tbody>\n",
       "</table>\n",
       "</div>"
      ],
      "text/plain": [
       "prop_female  funded_year  Female  Male\n",
       "0                   2005      13     1\n",
       "1                   2006     133    11\n",
       "2                   2007     384    63\n",
       "3                   2008       7     8\n",
       "4                   2009      55    44\n",
       "5                   2010     591   872\n",
       "6                   2011    1247  1551\n",
       "7                   2012    1653  1552\n",
       "8                   2013    1776  1741\n",
       "9                   2014    2679  1531\n",
       "10                  2015    5290  2227"
      ]
     },
     "execution_count": 50,
     "metadata": {},
     "output_type": "execute_result"
    }
   ],
   "source": [
    "df2c1= df2b[(df2b['sector']=='Agriculture')&((df2b.prop_female==1)|(df2b.prop_female==0))].groupby(['prop_female','funded_year'],as_index=False).size()\n",
    "df2c1=df2c1.unstack('prop_female').reset_index()\n",
    "df2c1.loc[:,'Female']=df2c1.iloc[:,2]\n",
    "df2c1.loc[:,'Male']=df2c1.iloc[:,1]\n",
    "cols=[1,2]\n",
    "df2c1=df2c1.drop(df2c1.columns[cols],axis=1)\n",
    "df2c1.funded_year=df2c1.funded_year.astype(int)\n",
    "df2c1"
   ]
  },
  {
   "cell_type": "markdown",
   "metadata": {},
   "source": [
    "### Growth in Agriculture Sector Loans: More Loans to Women"
   ]
  },
  {
   "cell_type": "code",
   "execution_count": 51,
   "metadata": {
    "collapsed": false
   },
   "outputs": [
    {
     "name": "stdout",
     "output_type": "stream",
     "text": [
      "[2005 2006 2007 2008 2009 2010 2011 2012 2013 2014 2015]\n"
     ]
    },
    {
     "data": {
      "image/png": "[encoded data removed]",
      "text/plain": [
       "<matplotlib.figure.Figure at 0x1ab2faa10>"
      ]
     },
     "metadata": {},
     "output_type": "display_data"
    }
   ],
   "source": [
    "fig=plt.figure(figsize=(12,8),facecolor='white')          #open a figure\n",
    "ax=fig.add_subplot(1,1,1)#, axisbg='white')\n",
    "ax.spines['bottom'].set_color('red')\n",
    "ax.set_xlabel('Year',fontsize=20)\n",
    "ax.set_ylabel('Number of Agricultural Sector Loans',fontsize=20)\n",
    "year=np.asarray(df2c1.funded_year.astype(int))\n",
    "print year\n",
    "ax.plot(year, df2c1.Female,linewidth=4)\n",
    "ax.plot(year, df2c1.Male,linewidth=4)\n",
    "ax.ticklabel_format(useOffset=False)\n",
    "\n",
    "#ax.plot(df2c1.iloc[:,0], df2c1.iloc[:,1],linewidth=4)\n",
    "#ax.plot(df2c1.iloc[:,0], df2c1.iloc[:,2],linewidth=4)\n",
    "\n",
    "ax.legend(loc='upper center', prop={'size':18})         #display a legend\n",
    "for tick in ax.xaxis.get_major_ticks():                 #set the size of the tick labels on the x-axis\n",
    "                tick.label.set_fontsize(14) \n",
    "for tick in ax.yaxis.get_major_ticks():                 #set the size of the tick labels on the y-axis\n",
    "                tick.label.set_fontsize(14)\n",
    "\n"
   ]
  },
  {
   "cell_type": "code",
   "execution_count": 52,
   "metadata": {
    "collapsed": false,
    "scrolled": true
   },
   "outputs": [
    {
     "data": {
      "text/plain": [
       "2015    15879\n",
       "2012    14926\n",
       "2013    13873\n",
       "2014    12814\n",
       "2011     9092\n",
       "2010     4576\n",
       "2007     1573\n",
       "2009     1299\n",
       "2006      374\n",
       "2008      257\n",
       "2005       33\n",
       "Name: funded_year, dtype: int64"
      ]
     },
     "execution_count": 52,
     "metadata": {},
     "output_type": "execute_result"
    }
   ],
   "source": [
    "df2c1= df2b[((df2b.prop_female==1)|(df2b.prop_female==0))].copy()\n",
    "df2c1.funded_year=df2c1.funded_year.astype(int)\n",
    "df2c1.funded_year.value_counts()\n",
    "#for sector in df2c1['sector'].unique():\n",
    "#    print 'this is sector', sector"
   ]
  },
  {
   "cell_type": "markdown",
   "metadata": {},
   "source": [
    "## A table for loans in agriculture, by gender and year"
   ]
  },
  {
   "cell_type": "code",
   "execution_count": 53,
   "metadata": {
    "collapsed": false,
    "scrolled": false
   },
   "outputs": [
    {
     "data": {
      "text/html": [
       "<div>\n",
       "<table border=\"1\" class=\"dataframe\">\n",
       "  <thead>\n",
       "    <tr style=\"text-align: right;\">\n",
       "      <th>prop_female</th>\n",
       "      <th>funded_year</th>\n",
       "      <th>Female</th>\n",
       "      <th>Male</th>\n",
       "    </tr>\n",
       "  </thead>\n",
       "  <tbody>\n",
       "    <tr>\n",
       "      <th>0</th>\n",
       "      <td>2005.0</td>\n",
       "      <td>13</td>\n",
       "      <td>1</td>\n",
       "    </tr>\n",
       "    <tr>\n",
       "      <th>1</th>\n",
       "      <td>2006.0</td>\n",
       "      <td>133</td>\n",
       "      <td>11</td>\n",
       "    </tr>\n",
       "    <tr>\n",
       "      <th>2</th>\n",
       "      <td>2007.0</td>\n",
       "      <td>384</td>\n",
       "      <td>63</td>\n",
       "    </tr>\n",
       "    <tr>\n",
       "      <th>3</th>\n",
       "      <td>2008.0</td>\n",
       "      <td>7</td>\n",
       "      <td>8</td>\n",
       "    </tr>\n",
       "    <tr>\n",
       "      <th>4</th>\n",
       "      <td>2009.0</td>\n",
       "      <td>55</td>\n",
       "      <td>44</td>\n",
       "    </tr>\n",
       "    <tr>\n",
       "      <th>5</th>\n",
       "      <td>2010.0</td>\n",
       "      <td>591</td>\n",
       "      <td>872</td>\n",
       "    </tr>\n",
       "    <tr>\n",
       "      <th>6</th>\n",
       "      <td>2011.0</td>\n",
       "      <td>1247</td>\n",
       "      <td>1551</td>\n",
       "    </tr>\n",
       "    <tr>\n",
       "      <th>7</th>\n",
       "      <td>2012.0</td>\n",
       "      <td>1653</td>\n",
       "      <td>1552</td>\n",
       "    </tr>\n",
       "    <tr>\n",
       "      <th>8</th>\n",
       "      <td>2013.0</td>\n",
       "      <td>1776</td>\n",
       "      <td>1741</td>\n",
       "    </tr>\n",
       "    <tr>\n",
       "      <th>9</th>\n",
       "      <td>2014.0</td>\n",
       "      <td>2679</td>\n",
       "      <td>1531</td>\n",
       "    </tr>\n",
       "    <tr>\n",
       "      <th>10</th>\n",
       "      <td>2015.0</td>\n",
       "      <td>5290</td>\n",
       "      <td>2227</td>\n",
       "    </tr>\n",
       "  </tbody>\n",
       "</table>\n",
       "</div>"
      ],
      "text/plain": [
       "prop_female  funded_year  Female  Male\n",
       "0                 2005.0      13     1\n",
       "1                 2006.0     133    11\n",
       "2                 2007.0     384    63\n",
       "3                 2008.0       7     8\n",
       "4                 2009.0      55    44\n",
       "5                 2010.0     591   872\n",
       "6                 2011.0    1247  1551\n",
       "7                 2012.0    1653  1552\n",
       "8                 2013.0    1776  1741\n",
       "9                 2014.0    2679  1531\n",
       "10                2015.0    5290  2227"
      ]
     },
     "execution_count": 53,
     "metadata": {},
     "output_type": "execute_result"
    }
   ],
   "source": [
    "df2c1= df2b[((df2b.prop_female==1)|(df2b.prop_female==0))].copy()\n",
    "df2c1=df2c1[df2c1.sector=='Agriculture'].groupby(['prop_female','funded_year'],as_index=False).size()\n",
    "df2c1=df2c1.unstack('prop_female').reset_index()\n",
    "df2c1.loc[:,'Female']=df2c1.iloc[:,2]\n",
    "df2c1.loc[:,'Male']=df2c1.iloc[:,1]\n",
    "cols=[1,2]\n",
    "df2c1=df2c1.drop(df2c1.columns[cols],axis=1)\n",
    "df2c1"
   ]
  },
  {
   "cell_type": "code",
   "execution_count": 54,
   "metadata": {
    "collapsed": true
   },
   "outputs": [],
   "source": [
    "import matplotlib.ticker as ticker          #This allows more precise control of tick labels"
   ]
  },
  {
   "cell_type": "markdown",
   "metadata": {},
   "source": [
    "## The number of loans by sector and gender over time\n",
    "#### Note that the y-axis differs among panels within the figure"
   ]
  },
  {
   "cell_type": "code",
   "execution_count": 55,
   "metadata": {
    "collapsed": false
   },
   "outputs": [
    {
     "data": {
      "image/png": "[encoded data removed]",
      "text/plain": [
       "<matplotlib.figure.Figure at 0x128152650>"
      ]
     },
     "metadata": {},
     "output_type": "display_data"
    }
   ],
   "source": [
    "\n",
    "fig=plt.figure(figsize=(8,12),facecolor='white')    #open a figure, rowdim,coldim      \n",
    "df2c1= df2b[((df2b.prop_female==1)|(df2b.prop_female==0))].copy()\n",
    "i=0\n",
    "for sector in df2c1['sector'].unique():\n",
    "    \n",
    "    df2c1.funded_year=df2c1.funded_year.astype(int)\n",
    "    df2c1a=df2c1[df2c1.sector== sector].groupby(['prop_female','funded_year'],as_index=False).size()\n",
    "    df2c1a=df2c1a.unstack('prop_female').reset_index()\n",
    "    df2c1a.loc[:,'Female']=df2c1a.iloc[:,2]\n",
    "    df2c1a.loc[:,'Male']=df2c1a.iloc[:,1]\n",
    "    cols=[1,2]\n",
    "    df2c1a=df2c1a.drop(df2c1a.columns[cols],axis=1)\n",
    "\n",
    "    i=i+1\n",
    "    ax=fig.add_subplot(5,3,i)#, axisbg='white')\n",
    "    ax.spines['bottom'].set_color('red')\n",
    "    ax.set_xlabel('Year',fontsize=9)\n",
    "    ax.set_ylabel(sector,fontsize=9)\n",
    "\n",
    "    ax.plot(df2c1a.iloc[:,0], df2c1a.iloc[:,1],linewidth=2)\n",
    "    ax.plot(df2c1a.iloc[:,0], df2c1a.iloc[:,2],linewidth=2)\n",
    "    ax.ticklabel_format(useOffset=False)                    # This was necessary to print full years on some plots\n",
    "    tick_spacing=2\n",
    "    ax.xaxis.set_major_locator(ticker.MultipleLocator(tick_spacing))  # Here is how you set tick spacing\n",
    "\n",
    "    ax.legend(loc='best', prop={'size':8})         #display a legend\n",
    "    for tick in ax.xaxis.get_major_ticks():                 #set the size of the tick labels on the x-axis\n",
    "        tick.label.set_fontsize(8) \n",
    "    for tick in ax.yaxis.get_major_ticks():                 #set the size of the tick labels on the y-axis\n",
    "        tick.label.set_fontsize(8)\n",
    "fig.tight_layout()\n"
   ]
  },
  {
   "cell_type": "code",
   "execution_count": 56,
   "metadata": {
    "collapsed": false,
    "scrolled": false
   },
   "outputs": [
    {
     "data": {
      "text/plain": [
       "array([u'Agriculture', u'Arts', u'Clothing', u'Construction', u'Education',\n",
       "       u'Entertainment', u'Food', u'Health', u'Housing', u'Manufacturing',\n",
       "       u'Personal Use', u'Retail', u'Services', u'Transportation',\n",
       "       u'Wholesale'], dtype=object)"
      ]
     },
     "execution_count": 56,
     "metadata": {},
     "output_type": "execute_result"
    }
   ],
   "source": [
    "df2c1= df2b[((df2b.prop_female==1)|(df2b.prop_female==0))].groupby(['sector','prop_female','funded_year'],as_index=False).size()\n",
    "df2c1=df2c1.unstack('prop_female').reset_index()\n",
    "df2c1['funded_year']=df2c1['funded_year'].astype('int')\n",
    "#df2c1.index.names=['index']\n",
    "#df2c1.loc[:,'Female']=df2c1.iloc[:,2]\n",
    "#df2c1.loc[:,'Male']=df2c1.iloc[:,1]\n",
    "#cols=[1,2]\n",
    "#df2c1=df2c1.drop(df2c1.columns[cols],axis=1)\n",
    "df2c1.index.name='index'\n",
    "df2c1.sector.unique()\n",
    "#df2c1[df2c1.sector=='Agriculture'].plot(x='funded_year')"
   ]
  },
  {
   "cell_type": "markdown",
   "metadata": {},
   "source": [
    "## Loan sizes and default rates"
   ]
  },
  {
   "cell_type": "code",
   "execution_count": 57,
   "metadata": {
    "collapsed": true
   },
   "outputs": [],
   "source": [
    "df2d=df2a[(df2a.funded_year.isnull()==False)&(df2a.funded_year!=2016.0)]"
   ]
  },
  {
   "cell_type": "code",
   "execution_count": 58,
   "metadata": {
    "collapsed": false
   },
   "outputs": [],
   "source": [
    "arr =np.array(df2d.funded_amount[df2d.funded_amount<=2500])\n",
    "loans=pd.cut(arr,bins=[-0.1,250,500,750,1000,1500,2000,2500],labels=['<250','<500','<750','<1000','<1500','<2000','<2500'])"
   ]
  },
  {
   "cell_type": "markdown",
   "metadata": {},
   "source": [
    "### Most Loans Are Less Than 500 US Dollars"
   ]
  },
  {
   "cell_type": "code",
   "execution_count": 59,
   "metadata": {
    "collapsed": false,
    "scrolled": false
   },
   "outputs": [
    {
     "data": {
      "image/png": "[encoded data removed]",
      "text/plain": [
       "<matplotlib.figure.Figure at 0x1addcb2d0>"
      ]
     },
     "metadata": {},
     "output_type": "display_data"
    }
   ],
   "source": [
    "loans.value_counts().plot(kind='bar',title='Most Loans Are Less Than 500 USD').set_ylabel('Number Loans');"
   ]
  },
  {
   "cell_type": "markdown",
   "metadata": {},
   "source": [
    "### Defaults On Loans Are Rare"
   ]
  },
  {
   "cell_type": "code",
   "execution_count": 60,
   "metadata": {
    "collapsed": false,
    "scrolled": true
   },
   "outputs": [
    {
     "data": {
      "image/png": "[encoded data removed]",
      "text/plain": [
       "<matplotlib.figure.Figure at 0x1b5587b10>"
      ]
     },
     "metadata": {},
     "output_type": "display_data"
    }
   ],
   "source": [
    "series1=df2d.status.value_counts()/df2d.status.value_counts().sum()\n",
    "#series1\n",
    "pd.DataFrame({'proportion':series1}).plot(kind='bar');\n",
    "#pd.DataFrame(series1,columns='proportion',index=series1.index())"
   ]
  },
  {
   "cell_type": "code",
   "execution_count": 61,
   "metadata": {
    "collapsed": true
   },
   "outputs": [],
   "source": [
    "df2e=df2b[(df2b.num_borrowers==1)&((df2b.prop_female==1)|(df2b.prop_female==0))]"
   ]
  },
  {
   "cell_type": "code",
   "execution_count": 62,
   "metadata": {
    "collapsed": false,
    "scrolled": true
   },
   "outputs": [],
   "source": [
    "sex_status=df2e.groupby(['status','prop_female']).size().unstack('status')"
   ]
  },
  {
   "cell_type": "code",
   "execution_count": 63,
   "metadata": {
    "collapsed": true
   },
   "outputs": [],
   "source": [
    "sex_status['total']=sex_status.paid+sex_status.in_repayment+sex_status.defaulted"
   ]
  },
  {
   "cell_type": "code",
   "execution_count": 64,
   "metadata": {
    "collapsed": false
   },
   "outputs": [
    {
     "data": {
      "text/html": [
       "<div>\n",
       "<table border=\"1\" class=\"dataframe\">\n",
       "  <thead>\n",
       "    <tr style=\"text-align: right;\">\n",
       "      <th>status</th>\n",
       "      <th>defaulted</th>\n",
       "      <th>in_repayment</th>\n",
       "      <th>paid</th>\n",
       "      <th>total</th>\n",
       "      <th>prop_defaulted</th>\n",
       "    </tr>\n",
       "    <tr>\n",
       "      <th>prop_female</th>\n",
       "      <th></th>\n",
       "      <th></th>\n",
       "      <th></th>\n",
       "      <th></th>\n",
       "      <th></th>\n",
       "    </tr>\n",
       "  </thead>\n",
       "  <tbody>\n",
       "    <tr>\n",
       "      <th>0.0</th>\n",
       "      <td>1054</td>\n",
       "      <td>3779</td>\n",
       "      <td>20869</td>\n",
       "      <td>25702</td>\n",
       "      <td>0.041008</td>\n",
       "    </tr>\n",
       "    <tr>\n",
       "      <th>1.0</th>\n",
       "      <td>1933</td>\n",
       "      <td>8566</td>\n",
       "      <td>37395</td>\n",
       "      <td>47894</td>\n",
       "      <td>0.040360</td>\n",
       "    </tr>\n",
       "  </tbody>\n",
       "</table>\n",
       "</div>"
      ],
      "text/plain": [
       "status       defaulted  in_repayment   paid  total  prop_defaulted\n",
       "prop_female                                                       \n",
       "0.0               1054          3779  20869  25702        0.041008\n",
       "1.0               1933          8566  37395  47894        0.040360"
      ]
     },
     "execution_count": 64,
     "metadata": {},
     "output_type": "execute_result"
    }
   ],
   "source": [
    "sex_status['prop_defaulted']= sex_status.defaulted/sex_status.total\n",
    "sex_status"
   ]
  },
  {
   "cell_type": "markdown",
   "metadata": {},
   "source": [
    "### Default Rates For Men And Women Are Similar"
   ]
  },
  {
   "cell_type": "code",
   "execution_count": 65,
   "metadata": {
    "collapsed": false,
    "scrolled": true
   },
   "outputs": [
    {
     "data": {
      "image/png": "[encoded data removed]",
      "text/plain": [
       "<matplotlib.figure.Figure at 0x1a5c2d610>"
      ]
     },
     "metadata": {},
     "output_type": "display_data"
    }
   ],
   "source": [
    "graph1=sex_status.iloc[:,4].plot(kind='bar',title='Default Rate by Gender of Recipient').set_ylabel('Proportion Defaulted')"
   ]
  },
  {
   "cell_type": "code",
   "execution_count": 66,
   "metadata": {
    "collapsed": false,
    "scrolled": true
   },
   "outputs": [
    {
     "data": {
      "text/html": [
       "<div>\n",
       "<table border=\"1\" class=\"dataframe\">\n",
       "  <thead>\n",
       "    <tr style=\"text-align: right;\">\n",
       "      <th></th>\n",
       "      <th>num_borrowers</th>\n",
       "      <th>funded_amount</th>\n",
       "      <th>lender_count</th>\n",
       "    </tr>\n",
       "  </thead>\n",
       "  <tbody>\n",
       "    <tr>\n",
       "      <th>0</th>\n",
       "      <td>1</td>\n",
       "      <td>437.351215</td>\n",
       "      <td>13.828550</td>\n",
       "    </tr>\n",
       "    <tr>\n",
       "      <th>1</th>\n",
       "      <td>2</td>\n",
       "      <td>380.457380</td>\n",
       "      <td>12.004158</td>\n",
       "    </tr>\n",
       "    <tr>\n",
       "      <th>2</th>\n",
       "      <td>3</td>\n",
       "      <td>817.307692</td>\n",
       "      <td>26.459276</td>\n",
       "    </tr>\n",
       "    <tr>\n",
       "      <th>3</th>\n",
       "      <td>4</td>\n",
       "      <td>1205.188679</td>\n",
       "      <td>38.504717</td>\n",
       "    </tr>\n",
       "    <tr>\n",
       "      <th>4</th>\n",
       "      <td>5</td>\n",
       "      <td>1551.394231</td>\n",
       "      <td>50.407692</td>\n",
       "    </tr>\n",
       "    <tr>\n",
       "      <th>5</th>\n",
       "      <td>6</td>\n",
       "      <td>1503.547855</td>\n",
       "      <td>48.966997</td>\n",
       "    </tr>\n",
       "    <tr>\n",
       "      <th>6</th>\n",
       "      <td>7</td>\n",
       "      <td>1539.696486</td>\n",
       "      <td>50.281150</td>\n",
       "    </tr>\n",
       "    <tr>\n",
       "      <th>7</th>\n",
       "      <td>8</td>\n",
       "      <td>1500.708215</td>\n",
       "      <td>47.464589</td>\n",
       "    </tr>\n",
       "    <tr>\n",
       "      <th>8</th>\n",
       "      <td>9</td>\n",
       "      <td>1487.455830</td>\n",
       "      <td>46.000000</td>\n",
       "    </tr>\n",
       "    <tr>\n",
       "      <th>9</th>\n",
       "      <td>10</td>\n",
       "      <td>956.377953</td>\n",
       "      <td>29.573228</td>\n",
       "    </tr>\n",
       "    <tr>\n",
       "      <th>10</th>\n",
       "      <td>11</td>\n",
       "      <td>1086.348315</td>\n",
       "      <td>33.961798</td>\n",
       "    </tr>\n",
       "    <tr>\n",
       "      <th>11</th>\n",
       "      <td>12</td>\n",
       "      <td>1084.348442</td>\n",
       "      <td>33.158640</td>\n",
       "    </tr>\n",
       "    <tr>\n",
       "      <th>12</th>\n",
       "      <td>13</td>\n",
       "      <td>1172.605364</td>\n",
       "      <td>34.735632</td>\n",
       "    </tr>\n",
       "    <tr>\n",
       "      <th>13</th>\n",
       "      <td>14</td>\n",
       "      <td>1261.228814</td>\n",
       "      <td>37.114407</td>\n",
       "    </tr>\n",
       "    <tr>\n",
       "      <th>14</th>\n",
       "      <td>15</td>\n",
       "      <td>1346.538462</td>\n",
       "      <td>40.179487</td>\n",
       "    </tr>\n",
       "    <tr>\n",
       "      <th>15</th>\n",
       "      <td>16</td>\n",
       "      <td>1405.575540</td>\n",
       "      <td>39.928058</td>\n",
       "    </tr>\n",
       "    <tr>\n",
       "      <th>16</th>\n",
       "      <td>17</td>\n",
       "      <td>987.755102</td>\n",
       "      <td>31.428571</td>\n",
       "    </tr>\n",
       "    <tr>\n",
       "      <th>17</th>\n",
       "      <td>18</td>\n",
       "      <td>807.812500</td>\n",
       "      <td>25.656250</td>\n",
       "    </tr>\n",
       "    <tr>\n",
       "      <th>18</th>\n",
       "      <td>19</td>\n",
       "      <td>851.408451</td>\n",
       "      <td>26.915493</td>\n",
       "    </tr>\n",
       "    <tr>\n",
       "      <th>19</th>\n",
       "      <td>20</td>\n",
       "      <td>862.686567</td>\n",
       "      <td>26.716418</td>\n",
       "    </tr>\n",
       "    <tr>\n",
       "      <th>20</th>\n",
       "      <td>21</td>\n",
       "      <td>919.117647</td>\n",
       "      <td>28.382353</td>\n",
       "    </tr>\n",
       "    <tr>\n",
       "      <th>21</th>\n",
       "      <td>22</td>\n",
       "      <td>907.352941</td>\n",
       "      <td>27.058824</td>\n",
       "    </tr>\n",
       "    <tr>\n",
       "      <th>22</th>\n",
       "      <td>23</td>\n",
       "      <td>1013.333333</td>\n",
       "      <td>32.066667</td>\n",
       "    </tr>\n",
       "    <tr>\n",
       "      <th>23</th>\n",
       "      <td>24</td>\n",
       "      <td>1045.000000</td>\n",
       "      <td>33.400000</td>\n",
       "    </tr>\n",
       "    <tr>\n",
       "      <th>24</th>\n",
       "      <td>25</td>\n",
       "      <td>1025.000000</td>\n",
       "      <td>29.800000</td>\n",
       "    </tr>\n",
       "    <tr>\n",
       "      <th>25</th>\n",
       "      <td>26</td>\n",
       "      <td>2346.875000</td>\n",
       "      <td>77.375000</td>\n",
       "    </tr>\n",
       "    <tr>\n",
       "      <th>26</th>\n",
       "      <td>27</td>\n",
       "      <td>937.500000</td>\n",
       "      <td>22.000000</td>\n",
       "    </tr>\n",
       "    <tr>\n",
       "      <th>27</th>\n",
       "      <td>28</td>\n",
       "      <td>1150.000000</td>\n",
       "      <td>33.666667</td>\n",
       "    </tr>\n",
       "    <tr>\n",
       "      <th>28</th>\n",
       "      <td>29</td>\n",
       "      <td>1225.000000</td>\n",
       "      <td>44.000000</td>\n",
       "    </tr>\n",
       "    <tr>\n",
       "      <th>29</th>\n",
       "      <td>30</td>\n",
       "      <td>1225.000000</td>\n",
       "      <td>39.000000</td>\n",
       "    </tr>\n",
       "    <tr>\n",
       "      <th>30</th>\n",
       "      <td>31</td>\n",
       "      <td>1450.000000</td>\n",
       "      <td>50.000000</td>\n",
       "    </tr>\n",
       "    <tr>\n",
       "      <th>31</th>\n",
       "      <td>32</td>\n",
       "      <td>1283.333333</td>\n",
       "      <td>37.000000</td>\n",
       "    </tr>\n",
       "    <tr>\n",
       "      <th>32</th>\n",
       "      <td>33</td>\n",
       "      <td>1275.000000</td>\n",
       "      <td>45.500000</td>\n",
       "    </tr>\n",
       "    <tr>\n",
       "      <th>33</th>\n",
       "      <td>34</td>\n",
       "      <td>2150.000000</td>\n",
       "      <td>78.000000</td>\n",
       "    </tr>\n",
       "    <tr>\n",
       "      <th>34</th>\n",
       "      <td>37</td>\n",
       "      <td>1550.000000</td>\n",
       "      <td>45.000000</td>\n",
       "    </tr>\n",
       "    <tr>\n",
       "      <th>35</th>\n",
       "      <td>39</td>\n",
       "      <td>1525.000000</td>\n",
       "      <td>50.000000</td>\n",
       "    </tr>\n",
       "    <tr>\n",
       "      <th>36</th>\n",
       "      <td>40</td>\n",
       "      <td>5000.000000</td>\n",
       "      <td>133.000000</td>\n",
       "    </tr>\n",
       "    <tr>\n",
       "      <th>37</th>\n",
       "      <td>41</td>\n",
       "      <td>2600.000000</td>\n",
       "      <td>99.000000</td>\n",
       "    </tr>\n",
       "    <tr>\n",
       "      <th>38</th>\n",
       "      <td>42</td>\n",
       "      <td>1625.000000</td>\n",
       "      <td>45.000000</td>\n",
       "    </tr>\n",
       "    <tr>\n",
       "      <th>39</th>\n",
       "      <td>45</td>\n",
       "      <td>4000.000000</td>\n",
       "      <td>116.000000</td>\n",
       "    </tr>\n",
       "    <tr>\n",
       "      <th>40</th>\n",
       "      <td>46</td>\n",
       "      <td>1775.000000</td>\n",
       "      <td>60.000000</td>\n",
       "    </tr>\n",
       "  </tbody>\n",
       "</table>\n",
       "</div>"
      ],
      "text/plain": [
       "    num_borrowers  funded_amount  lender_count\n",
       "0               1     437.351215     13.828550\n",
       "1               2     380.457380     12.004158\n",
       "2               3     817.307692     26.459276\n",
       "3               4    1205.188679     38.504717\n",
       "4               5    1551.394231     50.407692\n",
       "5               6    1503.547855     48.966997\n",
       "6               7    1539.696486     50.281150\n",
       "7               8    1500.708215     47.464589\n",
       "8               9    1487.455830     46.000000\n",
       "9              10     956.377953     29.573228\n",
       "10             11    1086.348315     33.961798\n",
       "11             12    1084.348442     33.158640\n",
       "12             13    1172.605364     34.735632\n",
       "13             14    1261.228814     37.114407\n",
       "14             15    1346.538462     40.179487\n",
       "15             16    1405.575540     39.928058\n",
       "16             17     987.755102     31.428571\n",
       "17             18     807.812500     25.656250\n",
       "18             19     851.408451     26.915493\n",
       "19             20     862.686567     26.716418\n",
       "20             21     919.117647     28.382353\n",
       "21             22     907.352941     27.058824\n",
       "22             23    1013.333333     32.066667\n",
       "23             24    1045.000000     33.400000\n",
       "24             25    1025.000000     29.800000\n",
       "25             26    2346.875000     77.375000\n",
       "26             27     937.500000     22.000000\n",
       "27             28    1150.000000     33.666667\n",
       "28             29    1225.000000     44.000000\n",
       "29             30    1225.000000     39.000000\n",
       "30             31    1450.000000     50.000000\n",
       "31             32    1283.333333     37.000000\n",
       "32             33    1275.000000     45.500000\n",
       "33             34    2150.000000     78.000000\n",
       "34             37    1550.000000     45.000000\n",
       "35             39    1525.000000     50.000000\n",
       "36             40    5000.000000    133.000000\n",
       "37             41    2600.000000     99.000000\n",
       "38             42    1625.000000     45.000000\n",
       "39             45    4000.000000    116.000000\n",
       "40             46    1775.000000     60.000000"
      ]
     },
     "execution_count": 66,
     "metadata": {},
     "output_type": "execute_result"
    }
   ],
   "source": [
    "df2f=df2b[['num_borrowers','funded_amount','lender_count']].groupby('num_borrowers',as_index=False).mean()\n",
    "df2f"
   ]
  },
  {
   "cell_type": "markdown",
   "metadata": {},
   "source": [
    "### Larger Loans Involve More Lenders"
   ]
  },
  {
   "cell_type": "code",
   "execution_count": 67,
   "metadata": {
    "collapsed": false
   },
   "outputs": [
    {
     "data": {
      "image/png": "[encoded data removed]",
      "text/plain": [
       "<matplotlib.figure.Figure at 0x1ae8d6f50>"
      ]
     },
     "metadata": {},
     "output_type": "display_data"
    }
   ],
   "source": [
    "color=df2f['lender_count']#/df2f['lender_count'].max()   #define the colors on raw values\n",
    "\n",
    "fig=plt.figure(figsize=(12,8)) #,facecolor='white')          #open a figure\n",
    "ax=fig.add_subplot(1,1,1) #,axisbg='white')                #open a plot in the figure \n",
    "ax.set_xlabel('Number of Borrowers',fontsize=20)\n",
    "ax.set_ylabel('Funded Amount',fontsize=20)\n",
    "ax.spines['bottom'].set_color('red')                   #This does not work here\n",
    "for child in ax.get_children():\n",
    "    if isinstance(child, mpl.spines.Spine):\n",
    "        child.set_color('black')\n",
    "ax.grid(True,color='white')\n",
    "for tick in ax.xaxis.get_major_ticks():                 #set the size of the tick labels on the x-axis\n",
    "                tick.label.set_fontsize(14) \n",
    "for tick in ax.yaxis.get_major_ticks():                 #set the size of the tick labels on the y-axis\n",
    "                tick.label.set_fontsize(14)\n",
    "                #tick.label.set_rotation('vertical')    # you can rotate the tick labels\n",
    "\n",
    "cmap=plt.cm.Blues                                        #define a colormap, see http://scipy.github.io/old-wiki/pages/Cookbook/Matplotlib/Show_colormaps\n",
    "                                                         \n",
    "bounds=np.linspace(1,df2f['lender_count'].max(),10,      #determine the breaks for the intervals in the colorbar\n",
    "                   endpoint=True).round()\n",
    "norm = mpl.colors.BoundaryNorm(bounds, cmap.N)           #adjust the color intervals to the breaks\n",
    "scat = plt.scatter(df2f.num_borrowers,df2f.funded_amount,c=color,s=(df2f.lender_count * 5),norm=norm,cmap=cmap)\n",
    "cb=fig.colorbar(scat,ax=ax)                           #plot the colorbar\n",
    "cb.ax.tick_params(labelsize=14)\n",
    "cb.set_label(label='Mean Number Lenders',size=16,weight='bold')\n",
    "#cb.set_label(label='a label',weight='bold')\n",
    "plt.show()"
   ]
  },
  {
   "cell_type": "markdown",
   "metadata": {},
   "source": [
    "## 3. Correlations, Insights, Questions and Hypotheses\n",
    "#### Most Kiva loans in Kenya are in the agricultural, food, and retail sectors. The loans vary greatly in size, ranging from 25 to 50,000 USD.  The majority of loans have been for less than 500 USD. The number of lenders that contribute to a loan increases with loan size, which certainly is not surprising.  The number of loans made per year in Kenya decreased for two years until 2014, but then rebounded substantially in 2015.  This rebound was associated with an increase in the number of agricultural loans made to women.  The rate of default on loans is about 5%, with the default rate on single-borrower loans being roughly equal.\n",
    "**Questions and Hypotheses**: \n",
    ">What activities are subsumed by agricultural loans to women? I predict that they are primarily used for materials to increase productivity, such as newer seed varieties and fertilizer.\n",
    "\n",
    ">Do agricultural loans to women differ somehow from similar loans to men? It may be that women are commercializing household gardens, which in the data base may be described differently from loans to men\n",
    "\n",
    ">Some loans expire, having never been funded by Kiva donors.  Do these loans or the applicants somehow differ from the loans that recieve Kiva funding? It may be that there is *something about the loan that raises doubts* about the use to which the funds would go.\n",
    "\n",
    ">Is there anything that characterizes the loans or borrowers who end up in default? Are they *randomly distributed among loans of all sizes*?  Are they *geographically clustered*?  I predict that defaults are not randomly distributed among all loans, but I do not yet see a basis for making a distinct hypothesis as to how they might be characterized.\n",
    "\n",
    ">How do loans with multiple borrowers differ from loans with only a single borrower?  It may be that these loans are for more-complicated undertakings, ones that necessitate a larger social group or have a complicated administrative structure.\n",
    "\n",
    ">How are the funded loans distributed around Kenya? The increase in agriculture-sector loans to womend suggests that there may be increasing focus on rural areas.\n",
    "\n",
    "**Narrative**:\n",
    ">The Kiva loan program represents thousands of loans within Kenya.  These loans are generally small (<500 USD) and impact a range of sectors in Kenyan society.  The default rate on loans is about 5%, and men and women borrowers have similar risk of defaults.  Recently, more loans have been given to women in the agricultural sector. These loans appear to be driving the overall increase in Kiva loans over the last two years.  It would be interesting to know how these agricultural loans to women are being used, and if they indicate an increasingly rural emphasis in Kiva microloan activity.  To do this, I am first looking at the text descriptions of the borrower and his/her situation.\n",
    "\n",
    "\n"
   ]
  },
  {
   "cell_type": "code",
   "execution_count": 26,
   "metadata": {
    "collapsed": false,
    "scrolled": true
   },
   "outputs": [],
   "source": [
    "df2b=df2b[df2b.name!='Anonymous']"
   ]
  },
  {
   "cell_type": "code",
   "execution_count": 27,
   "metadata": {
    "collapsed": false
   },
   "outputs": [
    {
     "data": {
      "text/plain": [
       "(71443, 48)"
      ]
     },
     "execution_count": 27,
     "metadata": {},
     "output_type": "execute_result"
    }
   ],
   "source": [
    "df2b.shape"
   ]
  },
  {
   "cell_type": "markdown",
   "metadata": {},
   "source": [
    "### The length of the text descriptions of the loan seeker and his or her activities varies substantially"
   ]
  },
  {
   "cell_type": "code",
   "execution_count": 73,
   "metadata": {
    "collapsed": false,
    "scrolled": true
   },
   "outputs": [
    {
     "data": {
      "image/png": "[encoded data removed]",
      "text/plain": [
       "<matplotlib.figure.Figure at 0x1b28437d0>"
      ]
     },
     "metadata": {},
     "output_type": "display_data"
    }
   ],
   "source": [
    "df2b['texts.en'].str.len().hist(bins=20);"
   ]
  },
  {
   "cell_type": "markdown",
   "metadata": {
    "collapsed": true
   },
   "source": [
    "### Here are the average length (characters) of the text descriptions by year"
   ]
  },
  {
   "cell_type": "code",
   "execution_count": 75,
   "metadata": {
    "collapsed": false,
    "scrolled": true
   },
   "outputs": [
    {
     "data": {
      "text/plain": [
       "<matplotlib.axes._subplots.AxesSubplot at 0x159335350>"
      ]
     },
     "execution_count": 75,
     "metadata": {},
     "output_type": "execute_result"
    },
    {
     "data": {
      "image/png": "[encoded data removed]",
      "text/plain": [
       "<matplotlib.figure.Figure at 0x1b88e6790>"
      ]
     },
     "metadata": {},
     "output_type": "display_data"
    }
   ],
   "source": [
    "df2b['texts.en'].str.len().groupby(df2b.funded_year).mean().plot(kind='bar')"
   ]
  },
  {
   "cell_type": "code",
   "execution_count": 31,
   "metadata": {
    "collapsed": false
   },
   "outputs": [
    {
     "name": "stdout",
     "output_type": "stream",
     "text": [
      "wordcloud.color_from_image\n",
      "wordcloud.query_integral_image\n",
      "wordcloud.wordcloud\n"
     ]
    }
   ],
   "source": [
    "# DO NOT RUN THIS. REMOVE WORDCLOUD CODE BELOW\n",
    "\n",
    "import pkgutil\n",
    "import wordcloud as wc\n",
    "package=wc\n",
    "for importer, modname, ispkg in pkgutil.walk_packages(path=package.__path__,\n",
    "                                                      prefix=package.__name__+'.',\n",
    "                                                      onerror=lambda x: None):\n",
    "    print(modname)"
   ]
  },
  {
   "cell_type": "code",
   "execution_count": 28,
   "metadata": {
    "collapsed": false,
    "scrolled": false
   },
   "outputs": [],
   "source": [
    "import pkgutil\n",
    "import nltk\n",
    "#from wordcloud import wordcloud as wcld"
   ]
  },
  {
   "cell_type": "code",
   "execution_count": 29,
   "metadata": {
    "collapsed": true
   },
   "outputs": [],
   "source": [
    "import unicodedata as uni"
   ]
  },
  {
   "cell_type": "code",
   "execution_count": 30,
   "metadata": {
    "collapsed": false
   },
   "outputs": [
    {
     "data": {
      "text/plain": [
       "u'Francis has a mixed farm that produces tea, maize, tomatoes, onions, beans and bananas, which are all sold at the local market. He has been farming for fifteen years in the town of Kisii in western Kenya and employs one farmhand. He also owns and operates a butcher shop in the same location.\\r\\n\\r\\nFrancis is 47 years old. He is married and has been blessed with four children who are now between the ages of 7 and 22. All of the children attend school.\\r\\n\\r\\nFrancis recently repaid his second loan from Juhudi Kilimo and has requested this loan of 80,000KES to expand his butcher shop. The income from this investment will enable him to take his son to college and improve the livelihood of his family. The major challenges he is facing in farming are unpredictable weather conditions and diseases that affect his production. In future, he would like to do large-scale farming and own a string of butcheries to supply meat to institutions.\\r\\n\\r\\n'"
      ]
     },
     "execution_count": 30,
     "metadata": {},
     "output_type": "execute_result"
    }
   ],
   "source": [
    "df2b['texts.en'].iloc[0]"
   ]
  },
  {
   "cell_type": "markdown",
   "metadata": {},
   "source": [
    "#### Now change the unicode text to the string type"
   ]
  },
  {
   "cell_type": "code",
   "execution_count": 31,
   "metadata": {
    "collapsed": false,
    "scrolled": true
   },
   "outputs": [],
   "source": [
    "new_en=[]\n",
    "for i in range(0,len(df2b['texts.en'])):\n",
    "    new_en.append(uni.normalize('NFKD',df2b['texts.en'].iloc[i]).encode('ascii','ignore'))"
   ]
  },
  {
   "cell_type": "code",
   "execution_count": 32,
   "metadata": {
    "collapsed": true
   },
   "outputs": [],
   "source": [
    "df2b.loc[:,'texts.en']=pd.Series(new_en,index=df2b.index)   ##  This is important, or the texts will be put \n",
    "                                                            ##  in the wrong place"
   ]
  },
  {
   "cell_type": "code",
   "execution_count": 33,
   "metadata": {
    "collapsed": false
   },
   "outputs": [
    {
     "data": {
      "text/plain": [
       "'Francis has a mixed farm that produces tea, maize, tomatoes, onions, beans and bananas, which are all sold at the local market. He has been farming for fifteen years in the town of Kisii in western Kenya and employs one farmhand. He also owns and operates a butcher shop in the same location.\\r\\n\\r\\nFrancis is 47 years old. He is married and has been blessed with four children who are now between the ages of 7 and 22. All of the children attend school.\\r\\n\\r\\nFrancis recently repaid his second loan from Juhudi Kilimo and has requested this loan of 80,000KES to expand his butcher shop. The income from this investment will enable him to take his son to college and improve the livelihood of his family. The major challenges he is facing in farming are unpredictable weather conditions and diseases that affect his production. In future, he would like to do large-scale farming and own a string of butcheries to supply meat to institutions.\\r\\n\\r\\n'"
      ]
     },
     "execution_count": 33,
     "metadata": {},
     "output_type": "execute_result"
    }
   ],
   "source": [
    "df2b['texts.en'].iloc[0]"
   ]
  },
  {
   "cell_type": "code",
   "execution_count": 34,
   "metadata": {
    "collapsed": false
   },
   "outputs": [],
   "source": [
    "from nltk.corpus import stopwords\n",
    "#nltk.download()                     # I did this once already"
   ]
  },
  {
   "cell_type": "code",
   "execution_count": 35,
   "metadata": {
    "collapsed": false
   },
   "outputs": [],
   "source": [
    "stop = stopwords.words('english')"
   ]
  },
  {
   "cell_type": "code",
   "execution_count": 36,
   "metadata": {
    "collapsed": false
   },
   "outputs": [],
   "source": [
    "stop.extend(('.', ',', '\"', \"'\", '?', '!', ':', ';', '(', ')', '[', ']', '{', '}','/','-','.<','<','>','P','p','000'))"
   ]
  },
  {
   "cell_type": "code",
   "execution_count": 37,
   "metadata": {
    "collapsed": false
   },
   "outputs": [
    {
     "data": {
      "text/plain": [
       "175"
      ]
     },
     "execution_count": 37,
     "metadata": {},
     "output_type": "execute_result"
    }
   ],
   "source": [
    "len(stop)"
   ]
  },
  {
   "cell_type": "markdown",
   "metadata": {},
   "source": [
    "### Now generate tokens that do not have the stop words, as defined above."
   ]
  },
  {
   "cell_type": "code",
   "execution_count": 38,
   "metadata": {
    "collapsed": true
   },
   "outputs": [],
   "source": [
    "frequency_words_wo_stop = {}"
   ]
  },
  {
   "cell_type": "code",
   "execution_count": 39,
   "metadata": {
    "collapsed": false,
    "scrolled": true
   },
   "outputs": [],
   "source": [
    "def generate_word_frequency(row):\n",
    "    data = row['texts.en']\n",
    "    tokens = nltk.wordpunct_tokenize(data)\n",
    "    #print tokens\n",
    "    token_list = []\n",
    "    for token in tokens:\n",
    "        if token.lower() not in stop:\n",
    "            if token.lower() in frequency_words_wo_stop:\n",
    "                count = frequency_words_wo_stop[token.lower()]\n",
    "                count = count + 1\n",
    "                frequency_words_wo_stop[token.lower()] = count\n",
    "                #print token, frequency_words_wo_stop[token]\n",
    "            else:\n",
    "                frequency_words_wo_stop[token] = 1\n",
    "            token_list.append(token)                #.lower())\n",
    "    #print token_list\n",
    "    test= ','.join(token_list)\n",
    "    #print test\n",
    "    return test"
   ]
  },
  {
   "cell_type": "code",
   "execution_count": 40,
   "metadata": {
    "collapsed": false,
    "scrolled": false
   },
   "outputs": [],
   "source": [
    "df2b.loc[:,'tokens']=df2b.apply(generate_word_frequency,axis=1)"
   ]
  },
  {
   "cell_type": "code",
   "execution_count": 41,
   "metadata": {
    "collapsed": false
   },
   "outputs": [
    {
     "data": {
      "text/plain": [
       "0"
      ]
     },
     "execution_count": 41,
     "metadata": {},
     "output_type": "execute_result"
    }
   ],
   "source": [
    "df2b.tokens.isnull().astype(int).sum()"
   ]
  },
  {
   "cell_type": "code",
   "execution_count": 42,
   "metadata": {
    "collapsed": false
   },
   "outputs": [
    {
     "data": {
      "text/plain": [
       "'Francis,mixed,farm,produces,tea,maize,tomatoes,onions,beans,bananas,sold,local,market,farming,fifteen,years,town,Kisii,western,Kenya,employs,one,farmhand,also,owns,operates,butcher,shop,location,Francis,47,years,old,married,blessed,four,children,ages,7,22,children,attend,school,Francis,recently,repaid,second,loan,Juhudi,Kilimo,requested,loan,80,000KES,expand,butcher,shop,income,investment,enable,take,son,college,improve,livelihood,family,major,challenges,facing,farming,unpredictable,weather,conditions,diseases,affect,production,future,would,like,large,scale,farming,string,butcheries,supply,meat,institutions'"
      ]
     },
     "execution_count": 42,
     "metadata": {},
     "output_type": "execute_result"
    }
   ],
   "source": [
    "df2b['tokens'].iloc[0]"
   ]
  },
  {
   "cell_type": "code",
   "execution_count": 43,
   "metadata": {
    "collapsed": true
   },
   "outputs": [],
   "source": [
    "from nltk.stem.porter import PorterStemmer\n",
    "porter_stemmer = PorterStemmer()"
   ]
  },
  {
   "cell_type": "markdown",
   "metadata": {
    "collapsed": true
   },
   "source": [
    "### Generate the stems based on the tokens"
   ]
  },
  {
   "cell_type": "code",
   "execution_count": 44,
   "metadata": {
    "collapsed": true
   },
   "outputs": [],
   "source": [
    "def stem_english(data):\n",
    "    return porter_stemmer.stem(data['texts.en'])"
   ]
  },
  {
   "cell_type": "code",
   "execution_count": 45,
   "metadata": {
    "collapsed": true
   },
   "outputs": [],
   "source": [
    "freq_stems_wo_stop={}"
   ]
  },
  {
   "cell_type": "code",
   "execution_count": 46,
   "metadata": {
    "collapsed": true
   },
   "outputs": [],
   "source": [
    "def stem_tokens(row):\n",
    "    data = row['texts.en']\n",
    "    tokens = nltk.wordpunct_tokenize(data)\n",
    "    #print tokens\n",
    "    stem_list = []\n",
    "    for token in tokens:\n",
    "        if token.lower() not in stop:\n",
    "            stem=porter_stemmer.stem(token.lower())\n",
    "            if stem in freq_stems_wo_stop:\n",
    "                count = freq_stems_wo_stop[stem]\n",
    "                count = count + 1\n",
    "                freq_stems_wo_stop[stem] = count\n",
    "                #print token, frequency_words_wo_stop[token]\n",
    "            else:\n",
    "                freq_stems_wo_stop[stem] = 1\n",
    "            stem_list.append(stem)\n",
    "    #print token_list\n",
    "    test= ','.join(stem_list)\n",
    "    #print test\n",
    "    return test"
   ]
  },
  {
   "cell_type": "code",
   "execution_count": 47,
   "metadata": {
    "collapsed": false
   },
   "outputs": [],
   "source": [
    "df2b.loc[:,'stems'] = df2b.apply(stem_tokens,axis=1)"
   ]
  },
  {
   "cell_type": "code",
   "execution_count": 48,
   "metadata": {
    "collapsed": false,
    "scrolled": true
   },
   "outputs": [
    {
     "data": {
      "text/plain": [
       "57     franci,mix,farm,produc,tea,maiz,tomato,onion,b...\n",
       "78     maureen,hardwork,31,year,old,busi,woman,marri,...\n",
       "81     agn,35,year,old,marri,juliu,run,green,grocer,b...\n",
       "152    reuben,marri,four,children,support,reuben,intr...\n",
       "Name: stems, dtype: object"
      ]
     },
     "execution_count": 48,
     "metadata": {},
     "output_type": "execute_result"
    }
   ],
   "source": [
    "df2b.stems[0:4]"
   ]
  },
  {
   "cell_type": "markdown",
   "metadata": {},
   "source": [
    "### Run a lemmatizer on the text and save the results in a column"
   ]
  },
  {
   "cell_type": "code",
   "execution_count": 88,
   "metadata": {
    "collapsed": true
   },
   "outputs": [],
   "source": [
    "from nltk.stem import WordNetLemmatizer\n",
    "wordnet_lemmatizer = WordNetLemmatizer()"
   ]
  },
  {
   "cell_type": "code",
   "execution_count": 50,
   "metadata": {
    "collapsed": false
   },
   "outputs": [
    {
     "data": {
      "text/plain": [
       "u'be'"
      ]
     },
     "execution_count": 50,
     "metadata": {},
     "output_type": "execute_result"
    }
   ],
   "source": [
    "wordnet_lemmatizer.lemmatize('is',pos='v')"
   ]
  },
  {
   "cell_type": "code",
   "execution_count": 51,
   "metadata": {
    "collapsed": true
   },
   "outputs": [],
   "source": [
    "def lemmatize_text(data):\n",
    "    return wordnet_lemmatizer.lemmatize(data['texts.en'])"
   ]
  },
  {
   "cell_type": "code",
   "execution_count": 52,
   "metadata": {
    "collapsed": false
   },
   "outputs": [],
   "source": [
    "df2b.loc[:,'lemma']=df2b.apply(lemmatize_text,axis=1)"
   ]
  },
  {
   "cell_type": "code",
   "execution_count": 53,
   "metadata": {
    "collapsed": false,
    "scrolled": true
   },
   "outputs": [
    {
     "data": {
      "text/plain": [
       "57     Francis has a mixed farm that produces tea, ma...\n",
       "78     Maureen is a hardworking 31-year-old business ...\n",
       "81     Agnes is 35 years old and married to Julius. S...\n",
       "152    Reuben is married and has four children whom t...\n",
       "158    Elizabeth is 42 years old married to Martin wh...\n",
       "Name: lemma, dtype: object"
      ]
     },
     "execution_count": 53,
     "metadata": {},
     "output_type": "execute_result"
    }
   ],
   "source": [
    "df2b.lemma.iloc[0:5]"
   ]
  },
  {
   "cell_type": "markdown",
   "metadata": {},
   "source": [
    "### Add additional stop words that can identify the gender of the loan seeker, generate tokens without these words"
   ]
  },
  {
   "cell_type": "code",
   "execution_count": 54,
   "metadata": {
    "collapsed": true
   },
   "outputs": [],
   "source": [
    "stop.extend(('she','her','hers','woman','mother','businesswoman','he','him','his','man','father','businessman'))"
   ]
  },
  {
   "cell_type": "code",
   "execution_count": 55,
   "metadata": {
    "collapsed": false
   },
   "outputs": [
    {
     "data": {
      "text/plain": [
       "187"
      ]
     },
     "execution_count": 55,
     "metadata": {},
     "output_type": "execute_result"
    }
   ],
   "source": [
    "len(stop)"
   ]
  },
  {
   "cell_type": "code",
   "execution_count": 56,
   "metadata": {
    "collapsed": true
   },
   "outputs": [],
   "source": [
    "frequency_words_wo_stop_nogen = {}"
   ]
  },
  {
   "cell_type": "code",
   "execution_count": 57,
   "metadata": {
    "collapsed": true
   },
   "outputs": [],
   "source": [
    "def generate_word_frequency2(row):\n",
    "    data = row['texts.en']\n",
    "    tokens = nltk.wordpunct_tokenize(data)\n",
    "    #print tokens\n",
    "    token_list_b = []\n",
    "    for token in tokens:\n",
    "        if token.lower() not in stop:\n",
    "            #if token.lower() in frequency_words_wo_stop_nogen:\n",
    "            #    count = frequency_words_wo_stop_nogen[token.lower()]\n",
    "            #    count = count + 1\n",
    "            #    frequency_words_wo_stop_nogen[token.lower()] = count\n",
    "            #    #print token, frequency_words_wo_stop_nogen[token]\n",
    "            #else:\n",
    "            #    frequency_words_wo_stop_nogen[token.lower()] = 1\n",
    "            token_list_b.append(token.lower())              \n",
    "    #print token_list\n",
    "    #var = ','.join(token_list_b)\n",
    "    return token_list_b"
   ]
  },
  {
   "cell_type": "code",
   "execution_count": 58,
   "metadata": {
    "collapsed": false
   },
   "outputs": [
    {
     "data": {
      "text/plain": [
       "71444"
      ]
     },
     "execution_count": 58,
     "metadata": {},
     "output_type": "execute_result"
    }
   ],
   "source": [
    "len(df2b['texts.en'])+1"
   ]
  },
  {
   "cell_type": "code",
   "execution_count": 59,
   "metadata": {
    "collapsed": true
   },
   "outputs": [],
   "source": [
    "def new_tokens(row):\n",
    "    tokens=nltk.wordpunct_tokenize(row['texts.en'])\n",
    "    token_list_b = []\n",
    "    for token in tokens:\n",
    "        if token.lower() not in stop:\n",
    "            token_list_b.append(token.lower())\n",
    "    return token_list_b"
   ]
  },
  {
   "cell_type": "code",
   "execution_count": 60,
   "metadata": {
    "collapsed": false,
    "scrolled": true
   },
   "outputs": [
    {
     "data": {
      "text/plain": [
       "71443"
      ]
     },
     "execution_count": 60,
     "metadata": {},
     "output_type": "execute_result"
    }
   ],
   "source": [
    "len(df2b['texts.en'])"
   ]
  },
  {
   "cell_type": "code",
   "execution_count": 61,
   "metadata": {
    "collapsed": false
   },
   "outputs": [],
   "source": [
    "#df2b=df2b.drop('tokens_nogen',axis=1)"
   ]
  },
  {
   "cell_type": "code",
   "execution_count": 62,
   "metadata": {
    "collapsed": false,
    "scrolled": false
   },
   "outputs": [
    {
     "data": {
      "text/plain": [
       "'Francis has a mixed farm that produces tea, maize, tomatoes, onions, beans and bananas, which are all sold at the local market. He has been farming for fifteen years in the town of Kisii in western Kenya and employs one farmhand. He also owns and operates a butcher shop in the same location.\\r\\n\\r\\nFrancis is 47 years old. He is married and has been blessed with four children who are now between the ages of 7 and 22. All of the children attend school.\\r\\n\\r\\nFrancis recently repaid his second loan from Juhudi Kilimo and has requested this loan of 80,000KES to expand his butcher shop. The income from this investment will enable him to take his son to college and improve the livelihood of his family. The major challenges he is facing in farming are unpredictable weather conditions and diseases that affect his production. In future, he would like to do large-scale farming and own a string of butcheries to supply meat to institutions.\\r\\n\\r\\n'"
      ]
     },
     "execution_count": 62,
     "metadata": {},
     "output_type": "execute_result"
    }
   ],
   "source": [
    "df2b['texts.en'].iloc[0]"
   ]
  },
  {
   "cell_type": "code",
   "execution_count": 63,
   "metadata": {
    "collapsed": false
   },
   "outputs": [],
   "source": [
    "tokens_nogen=[]\n",
    "for n in range(0,len(df2b['texts.en'])):  \n",
    "    #print n\n",
    "    tokens=nltk.wordpunct_tokenize(df2b['texts.en'].iloc[n])\n",
    "    token_list_b = []\n",
    "    for token in tokens:\n",
    "        if token.lower() not in stop:\n",
    "            token_list_b.append(token.lower())\n",
    "    tokens_nogen.append(token_list_b)\n"
   ]
  },
  {
   "cell_type": "code",
   "execution_count": 64,
   "metadata": {
    "collapsed": false
   },
   "outputs": [],
   "source": [
    "df2b.loc[:,'tokens_nogen']=pd.Series(tokens_nogen, index=df2b.index)"
   ]
  },
  {
   "cell_type": "code",
   "execution_count": 65,
   "metadata": {
    "collapsed": true
   },
   "outputs": [],
   "source": [
    "pos_tags=[]\n",
    "for i in range(0,len(df2b.tokens_nogen)):\n",
    "    pos_tags.append(nltk.pos_tag(df2b.tokens_nogen.iloc[i]))\n",
    "\n",
    "df2b.loc[:,'pos_tags']=pd.Series(pos_tags,index=df2b.index)\n",
    "    "
   ]
  },
  {
   "cell_type": "code",
   "execution_count": 66,
   "metadata": {
    "collapsed": false
   },
   "outputs": [
    {
     "data": {
      "text/plain": [
       "'Francis,mixed,farm,produces,tea,maize,tomatoes,onions,beans,bananas,sold,local,market,farming,fifteen,years,town,Kisii,western,Kenya,employs,one,farmhand,also,owns,operates,butcher,shop,location,Francis,47,years,old,married,blessed,four,children,ages,7,22,children,attend,school,Francis,recently,repaid,second,loan,Juhudi,Kilimo,requested,loan,80,000KES,expand,butcher,shop,income,investment,enable,take,son,college,improve,livelihood,family,major,challenges,facing,farming,unpredictable,weather,conditions,diseases,affect,production,future,would,like,large,scale,farming,string,butcheries,supply,meat,institutions'"
      ]
     },
     "execution_count": 66,
     "metadata": {},
     "output_type": "execute_result"
    }
   ],
   "source": [
    "df2b['tokens'].iloc[0]"
   ]
  },
  {
   "cell_type": "markdown",
   "metadata": {
    "collapsed": true
   },
   "source": [
    "### Now construct tf-idf"
   ]
  },
  {
   "cell_type": "code",
   "execution_count": 67,
   "metadata": {
    "collapsed": true
   },
   "outputs": [],
   "source": [
    "tokens_list=df2b['tokens'].tolist()"
   ]
  },
  {
   "cell_type": "code",
   "execution_count": 68,
   "metadata": {
    "collapsed": false
   },
   "outputs": [
    {
     "data": {
      "text/plain": [
       "'Francis,mixed,farm,produces,tea,maize,tomatoes,onions,beans,bananas,sold,local,market,farming,fifteen,years,town,Kisii,western,Kenya,employs,one,farmhand,also,owns,operates,butcher,shop,location,Francis,47,years,old,married,blessed,four,children,ages,7,22,children,attend,school,Francis,recently,repaid,second,loan,Juhudi,Kilimo,requested,loan,80,000KES,expand,butcher,shop,income,investment,enable,take,son,college,improve,livelihood,family,major,challenges,facing,farming,unpredictable,weather,conditions,diseases,affect,production,future,would,like,large,scale,farming,string,butcheries,supply,meat,institutions'"
      ]
     },
     "execution_count": 68,
     "metadata": {},
     "output_type": "execute_result"
    }
   ],
   "source": [
    "df2b['tokens'].iloc[0]"
   ]
  },
  {
   "cell_type": "code",
   "execution_count": 314,
   "metadata": {
    "collapsed": false
   },
   "outputs": [],
   "source": [
    "frequency_words = {}\n",
    "for data in tokens_list:\n",
    "    data = data.replace(\"[\",\"\")\n",
    "    data = data.replace(\"]\",\"\")\n",
    "    data = data.replace(\"'\",\"\")\n",
    "    data_list = data.split(',')\n",
    "    #print(data_list)\n",
    "    for token in data_list:\n",
    "        token = token.rstrip()\n",
    "        token = token.lstrip()\n",
    "        if token not in stop:\n",
    "            if token in frequency_words:\n",
    "                count = frequency_words[token]\n",
    "                count = count + 1\n",
    "                frequency_words[token] = count\n",
    "            else:\n",
    "                frequency_words[token] = 1"
   ]
  },
  {
   "cell_type": "code",
   "execution_count": 327,
   "metadata": {
    "collapsed": true
   },
   "outputs": [],
   "source": [
    "df_tfidf = pd.DataFrame(data=list(frequency_words.items()),columns=['word','tf'])"
   ]
  },
  {
   "cell_type": "code",
   "execution_count": 328,
   "metadata": {
    "collapsed": false
   },
   "outputs": [
    {
     "data": {
      "text/html": [
       "<div>\n",
       "<table border=\"1\" class=\"dataframe\">\n",
       "  <thead>\n",
       "    <tr style=\"text-align: right;\">\n",
       "      <th></th>\n",
       "      <th>word</th>\n",
       "      <th>tf</th>\n",
       "    </tr>\n",
       "  </thead>\n",
       "  <tbody>\n",
       "    <tr>\n",
       "      <th>0</th>\n",
       "      <td></td>\n",
       "      <td>3821</td>\n",
       "    </tr>\n",
       "    <tr>\n",
       "      <th>1</th>\n",
       "      <td>Redemter</td>\n",
       "      <td>8</td>\n",
       "    </tr>\n",
       "    <tr>\n",
       "      <th>2</th>\n",
       "      <td>Dago</td>\n",
       "      <td>1</td>\n",
       "    </tr>\n",
       "    <tr>\n",
       "      <th>3</th>\n",
       "      <td>woods</td>\n",
       "      <td>1</td>\n",
       "    </tr>\n",
       "    <tr>\n",
       "      <th>4</th>\n",
       "      <td>hanging</td>\n",
       "      <td>4</td>\n",
       "    </tr>\n",
       "  </tbody>\n",
       "</table>\n",
       "</div>"
      ],
      "text/plain": [
       "       word    tf\n",
       "0            3821\n",
       "1  Redemter     8\n",
       "2      Dago     1\n",
       "3     woods     1\n",
       "4   hanging     4"
      ]
     },
     "execution_count": 328,
     "metadata": {},
     "output_type": "execute_result"
    }
   ],
   "source": [
    "df_tfidf.head()"
   ]
  },
  {
   "cell_type": "code",
   "execution_count": 329,
   "metadata": {
    "collapsed": true
   },
   "outputs": [],
   "source": [
    "df_tfidf.sort_values(ascending=False, by = \"tf\", inplace=True)"
   ]
  },
  {
   "cell_type": "code",
   "execution_count": 332,
   "metadata": {
    "collapsed": false,
    "scrolled": false
   },
   "outputs": [
    {
     "data": {
      "text/html": [
       "<div>\n",
       "<table border=\"1\" class=\"dataframe\">\n",
       "  <thead>\n",
       "    <tr style=\"text-align: right;\">\n",
       "      <th></th>\n",
       "      <th>word</th>\n",
       "      <th>tf</th>\n",
       "    </tr>\n",
       "  </thead>\n",
       "  <tbody>\n",
       "    <tr>\n",
       "      <th>26633</th>\n",
       "      <td>business</td>\n",
       "      <td>143407</td>\n",
       "    </tr>\n",
       "    <tr>\n",
       "      <th>25078</th>\n",
       "      <td>loan</td>\n",
       "      <td>108191</td>\n",
       "    </tr>\n",
       "    <tr>\n",
       "      <th>645</th>\n",
       "      <td>years</td>\n",
       "      <td>93524</td>\n",
       "    </tr>\n",
       "    <tr>\n",
       "      <th>28738</th>\n",
       "      <td>children</td>\n",
       "      <td>68977</td>\n",
       "    </tr>\n",
       "    <tr>\n",
       "      <th>3343</th>\n",
       "      <td>000</td>\n",
       "      <td>47908</td>\n",
       "    </tr>\n",
       "  </tbody>\n",
       "</table>\n",
       "</div>"
      ],
      "text/plain": [
       "           word      tf\n",
       "26633  business  143407\n",
       "25078      loan  108191\n",
       "645       years   93524\n",
       "28738  children   68977\n",
       "3343        000   47908"
      ]
     },
     "execution_count": 332,
     "metadata": {},
     "output_type": "execute_result"
    }
   ],
   "source": [
    "df_tfidf.head()"
   ]
  },
  {
   "cell_type": "code",
   "execution_count": 8,
   "metadata": {
    "collapsed": false
   },
   "outputs": [],
   "source": [
    "filename='../data/df2b.pickle'\n",
    "handle=open(filename,'r')\n",
    "df2b=pk.load(handle)\n",
    "handle.close()"
   ]
  },
  {
   "cell_type": "code",
   "execution_count": 82,
   "metadata": {
    "collapsed": false
   },
   "outputs": [
    {
     "data": {
      "text/plain": [
       "('0', '1', '2', '3', '4')"
      ]
     },
     "execution_count": 82,
     "metadata": {},
     "output_type": "execute_result"
    }
   ],
   "source": [
    "tuple(map(str,range(0,5)))"
   ]
  },
  {
   "cell_type": "code",
   "execution_count": 9,
   "metadata": {
    "collapsed": true
   },
   "outputs": [],
   "source": [
    "from nltk.corpus import stopwords\n",
    "#nltk.download()                     # I did this once already"
   ]
  },
  {
   "cell_type": "code",
   "execution_count": 59,
   "metadata": {
    "collapsed": true
   },
   "outputs": [],
   "source": [
    "names=df2b.name.unique()\n",
    "\n",
    "#tuple(pd.Series(names))"
   ]
  },
  {
   "cell_type": "code",
   "execution_count": 216,
   "metadata": {
    "collapsed": false
   },
   "outputs": [],
   "source": [
    "names= [x.lower() for x in names]"
   ]
  },
  {
   "cell_type": "code",
   "execution_count": 217,
   "metadata": {
    "collapsed": false
   },
   "outputs": [
    {
     "data": {
      "text/plain": [
       "(u'aaron',\n",
       " u'abakhalabani group',\n",
       " u'abas',\n",
       " u'abby',\n",
       " u\"abdala's group\",\n",
       " u'abdalla',\n",
       " u'abdallah')"
      ]
     },
     "execution_count": 217,
     "metadata": {},
     "output_type": "execute_result"
    }
   ],
   "source": [
    "#names.sort()\n",
    "tuple(names[1:8])"
   ]
  },
  {
   "cell_type": "markdown",
   "metadata": {},
   "source": [
    "## Include as stop words the common words that indicate the gender of the borrower.  Also include all the names in the data.names feature."
   ]
  },
  {
   "cell_type": "code",
   "execution_count": 258,
   "metadata": {
    "collapsed": false
   },
   "outputs": [],
   "source": [
    "stop = stopwords.words('english')\n",
    "stop.extend(('.', ',', '\"', \"'\", '?', '!', ':', ';', '(', ')', '[', ']', '{', '}','/','-','.<','<','>','P','p','000','00',' '))\n",
    "stop.extend(('mr','mrs','ms','dr','widower','widowed','husband','husbands','wife','wifes','wives','she','her','hers',\n",
    "             'woman','mother','businesswoman','he','him','his','man','father','businessman','gents'))\n",
    "\n",
    "#remove first names and a few gender specific terms, like wife, widow, etc.\n",
    "stop.extend(('fatma','beauty','rose','women','beatrice','widow','lady','housewife','housewifes','housewives'\n",
    "             'margaret','elizabeth','widowed','gladys','miriam','florence','alice','jane',\n",
    "            'christine','mary','hellen','josephine','agnes','asha'))\n",
    "stop.extend(tuple(names))\n",
    "stop.extend(tuple(map(str,range(0,1000))))"
   ]
  },
  {
   "cell_type": "code",
   "execution_count": 240,
   "metadata": {
    "collapsed": false
   },
   "outputs": [
    {
     "data": {
      "text/plain": [
       "list"
      ]
     },
     "execution_count": 240,
     "metadata": {},
     "output_type": "execute_result"
    }
   ],
   "source": [
    "type(stop)"
   ]
  },
  {
   "cell_type": "code",
   "execution_count": 241,
   "metadata": {
    "collapsed": false
   },
   "outputs": [
    {
     "data": {
      "text/plain": [
       "['990', '991', '992', '993', '994', '995', '996', '997', '998', '999']"
      ]
     },
     "execution_count": 241,
     "metadata": {},
     "output_type": "execute_result"
    }
   ],
   "source": [
    "stop[-10:]"
   ]
  },
  {
   "cell_type": "markdown",
   "metadata": {},
   "source": [
    "## Use de-gendered descriptions to distinguish between male and female recipients, including data for all sectors, using only single-recipient loans.  In a preliminary run, not presented here, first names were strong predictors of gender of recipient, providing for a prediction accuracy value of 0.99. I then removed them as well.  Here is what happens:"
   ]
  },
  {
   "cell_type": "code",
   "execution_count": 74,
   "metadata": {
    "collapsed": true
   },
   "outputs": [],
   "source": [
    "df2b_single=df2b[((df2b.prop_female==0) | (df2b.prop_female==1))]"
   ]
  },
  {
   "cell_type": "code",
   "execution_count": 75,
   "metadata": {
    "collapsed": true
   },
   "outputs": [],
   "source": [
    "y=df2b_single.prop_female"
   ]
  },
  {
   "cell_type": "code",
   "execution_count": 76,
   "metadata": {
    "collapsed": true
   },
   "outputs": [],
   "source": [
    "def log_likelihood(clf, x, y):\n",
    "    prob = clf.predict_log_proba(x)\n",
    "    male = y == 0\n",
    "    female = ~male\n",
    "    return prob[male, 0].sum() + prob[female, 1].sum()"
   ]
  },
  {
   "cell_type": "code",
   "execution_count": 77,
   "metadata": {
    "collapsed": true
   },
   "outputs": [],
   "source": [
    "def auc_test(clf,xtest,ytest):\n",
    "    # REQUIRES import sklearn.metrics\n",
    "    prob = clf.predict_proba(xtest)\n",
    "    auc = metrics.roc_auc_score(ytest,prob[:,1])\n",
    "    return auc"
   ]
  },
  {
   "cell_type": "code",
   "execution_count": 78,
   "metadata": {
    "collapsed": true
   },
   "outputs": [],
   "source": [
    "def cv_score(clf, X, y, scorefunc):\n",
    "    result = 0.\n",
    "    nfold = 5\n",
    "    for train, test in KFold(y.size, nfold): # split data into train/test groups, 5 times\n",
    "        clf.fit(X[train], y[train]) # fit\n",
    "        result += scorefunc(clf, X[test], y[test]) # evaluate score function on held-out data\n",
    "    return result / nfold # average"
   ]
  },
  {
   "cell_type": "code",
   "execution_count": 79,
   "metadata": {
    "collapsed": true
   },
   "outputs": [],
   "source": [
    "from sklearn.feature_extraction.text import CountVectorizer\n",
    "from sklearn import naive_bayes as nb\n",
    "from sklearn import metrics\n",
    "from sklearn.cross_validation import KFold\n",
    "from sklearn.cross_validation import train_test_split"
   ]
  },
  {
   "cell_type": "code",
   "execution_count": 251,
   "metadata": {
    "collapsed": false
   },
   "outputs": [],
   "source": [
    "itrain, itest = train_test_split(xrange(df2b_single.shape[0]), stratify=df2b_single.prop_female, test_size=0.3)\n",
    "mask=np.ones(df2b_single.shape[0], dtype='int')\n",
    "mask[itrain]=1\n",
    "mask[itest]=0\n",
    "mask = (mask==1)"
   ]
  },
  {
   "cell_type": "code",
   "execution_count": 81,
   "metadata": {
    "collapsed": true
   },
   "outputs": [],
   "source": [
    "def make_xyn(data=df2b_single, doc_var='texts.en',target='prop_female',pos_val=1, vectorizer=None):\n",
    "    #Your code here    \n",
    "    if vectorizer is None:\n",
    "        vectorizer = CountVectorizer(stop_words= stop)\n",
    "    X = vectorizer.fit_transform(data[doc_var])\n",
    "    X = X.tocsc()  # some versions of sklearn return COO format\n",
    "    y = (data[target] == pos_val).values.astype(np.int)\n",
    "    n = vectorizer.get_feature_names()\n",
    "    return X, y, n\n",
    "X, y, n = make_xyn()"
   ]
  },
  {
   "cell_type": "code",
   "execution_count": 252,
   "metadata": {
    "collapsed": false
   },
   "outputs": [
    {
     "data": {
      "text/plain": [
       "(66741, 53)"
      ]
     },
     "execution_count": 252,
     "metadata": {},
     "output_type": "execute_result"
    }
   ],
   "source": [
    "df2b_single.shape"
   ]
  },
  {
   "cell_type": "code",
   "execution_count": 84,
   "metadata": {
    "collapsed": false
   },
   "outputs": [
    {
     "name": "stdout",
     "output_type": "stream",
     "text": [
      "the score is >>>>>>>>>>>>>>> nan\n",
      "the score is >>>>>>>>>>>>>>> nan\n",
      "the score is >>>>>>>>>>>>>>> nan\n",
      "the score is >>>>>>>>>>>>>>> -inf\n",
      "the score is >>>>>>>>>>>>>>> -5741.01082469\n",
      "the new maxscore is: -5741.011\n",
      "best_alpha =  0 best_min_df = 0.1\n",
      "the score is >>>>>>>>>>>>>>> -6788.10320577\n",
      "the score is >>>>>>>>>>>>>>> -6794.7714068\n",
      "the score is >>>>>>>>>>>>>>> -7227.632709\n",
      "the score is >>>>>>>>>>>>>>> -7733.90383326\n",
      "the score is >>>>>>>>>>>>>>> -5740.60005812\n",
      "the new maxscore is: -5740.600\n",
      "best_alpha =  0.1 best_min_df = 0.1\n",
      "the score is >>>>>>>>>>>>>>> -6038.98692798\n",
      "the score is >>>>>>>>>>>>>>> -6672.80482589\n",
      "the score is >>>>>>>>>>>>>>> -7148.87734683\n",
      "the score is >>>>>>>>>>>>>>> -7724.71665917\n",
      "the score is >>>>>>>>>>>>>>> -5736.9064813\n",
      "the new maxscore is: -5736.906\n",
      "best_alpha =  1 best_min_df = 0.1\n",
      "the score is >>>>>>>>>>>>>>> -5578.50566135\n",
      "the new maxscore is: -5578.506\n",
      "best_alpha =  5 best_min_df = 1e-05\n",
      "the score is >>>>>>>>>>>>>>> -6080.62752002\n",
      "the score is >>>>>>>>>>>>>>> -7009.25686075\n",
      "the score is >>>>>>>>>>>>>>> -7682.00849846\n",
      "the score is >>>>>>>>>>>>>>> -5720.56211323\n",
      "the score is >>>>>>>>>>>>>>> -8349.49952823\n",
      "the score is >>>>>>>>>>>>>>> -5498.94714472\n",
      "the new maxscore is: -5498.947\n",
      "best_alpha =  10 best_min_df = 0.0001\n",
      "the score is >>>>>>>>>>>>>>> -6782.91632507\n",
      "the score is >>>>>>>>>>>>>>> -7623.29179255\n",
      "the score is >>>>>>>>>>>>>>> -5700.2922623\n",
      "the score is >>>>>>>>>>>>>>> -23006.1168275\n",
      "the score is >>>>>>>>>>>>>>> -9359.24459144\n",
      "the score is >>>>>>>>>>>>>>> -5414.74296465\n",
      "the new maxscore is: -5414.743\n",
      "best_alpha =  50 best_min_df = 0.001\n",
      "the score is >>>>>>>>>>>>>>> -7013.22390023\n",
      "the score is >>>>>>>>>>>>>>> -5543.95011374\n",
      "the score is >>>>>>>>>>>>>>> -8349.49952823\n",
      "the score is >>>>>>>>>>>>>>> -5498.94714472\n",
      "the score is >>>>>>>>>>>>>>> -6782.91632507\n",
      "the score is >>>>>>>>>>>>>>> -7623.29179255\n",
      "the score is >>>>>>>>>>>>>>> -5700.2922623\n",
      "the score is >>>>>>>>>>>>>>> -23006.1168275\n",
      "the score is >>>>>>>>>>>>>>> -9359.24459144\n",
      "the score is >>>>>>>>>>>>>>> -5414.74296465\n",
      "the score is >>>>>>>>>>>>>>> -7013.22390023\n",
      "the score is >>>>>>>>>>>>>>> -5543.95011374\n",
      "the score is >>>>>>>>>>>>>>> -26232.9794826\n",
      "the score is >>>>>>>>>>>>>>> -14113.9532749\n",
      "the score is >>>>>>>>>>>>>>> -5978.62422553\n",
      "the score is >>>>>>>>>>>>>>> -6351.74498499\n",
      "the score is >>>>>>>>>>>>>>> -5396.52673144\n",
      "the new maxscore is: -5396.527\n",
      "best_alpha =  90 best_min_df = 0.1\n"
     ]
    }
   ],
   "source": [
    "#the grid of parameters to search over\n",
    "alphas = [0, .1, 1, 5, 10, 50, 10, 50, 90] #, 130, 190, 250]\n",
    "#min_dfs = [1e-2, 1e-1, 0.4, 0.8]\n",
    "#alphas = [0, .1, 1, 5, 10, 50]\n",
    "min_dfs = [1e-5, 1e-4, 1e-3, 1e-2, 1e-1]\n",
    "\n",
    "#Find the best value for alpha and min_df, and the best classifier\n",
    "best_alpha = None\n",
    "best_min_df = None\n",
    "best_classifier=None\n",
    "maxscore=-np.inf\n",
    "for alpha in alphas:\n",
    "    for min_df in min_dfs:         \n",
    "        vectorizer = CountVectorizer(min_df = min_df, stop_words=stop)       \n",
    "        Xthis, ythis, n = make_xyn(data=df2b_single, doc_var='texts.en',target='prop_female',pos_val=1, vectorizer=vectorizer)\n",
    "        Xtrainthis=Xthis[mask]\n",
    "        ytrainthis=ythis[mask]\n",
    "        #your turn\n",
    "        Xtestthis=Xthis[~mask]\n",
    "        ytestthis=ythis[~mask]\n",
    "        classifier = nb.MultinomialNB(alpha=alpha)\n",
    "        classifier.fit(Xtrainthis,ytrainthis)\n",
    "        score=cv_score(classifier, Xtestthis, ytestthis, log_likelihood)\n",
    "        print \"the score is >>>>>>>>>>>>>>>\",score\n",
    "        if score > maxscore:\n",
    "            maxscore = score\n",
    "            best_alpha = alpha\n",
    "            best_min_df = min_df\n",
    "            best_classifier = classifier\n",
    "            print 'the new maxscore is: %0.3f' % (maxscore)\n",
    "            print 'best_alpha = ',best_alpha, 'best_min_df =',best_min_df"
   ]
  },
  {
   "cell_type": "code",
   "execution_count": 85,
   "metadata": {
    "collapsed": false
   },
   "outputs": [
    {
     "name": "stdout",
     "output_type": "stream",
     "text": [
      "alpha: 90.000000\n",
      "min_df: 0.100000\n"
     ]
    }
   ],
   "source": [
    "print \"alpha: %f\" % best_alpha\n",
    "print \"min_df: %f\" % best_min_df"
   ]
  },
  {
   "cell_type": "markdown",
   "metadata": {},
   "source": [
    "## The above optimization results in the large, marginal value of alpha and min_df being chosen.   When the optimazation uses the larger values available in the first lines of its box, those larger values are chosen."
   ]
  },
  {
   "cell_type": "code",
   "execution_count": 86,
   "metadata": {
    "collapsed": false
   },
   "outputs": [
    {
     "name": "stdout",
     "output_type": "stream",
     "text": [
      "Accuracy on training data: 0.57\n",
      "Accuracy on test data:     0.57\n"
     ]
    }
   ],
   "source": [
    "vectorizer = CountVectorizer(min_df=best_min_df, stop_words=stop)\n",
    "X, y, n = make_xyn(data=df2b_single, doc_var='texts.en',target='prop_female',pos_val=1, vectorizer=vectorizer)\n",
    "xtrain=X[mask]\n",
    "ytrain=y[mask]\n",
    "xtest=X[~mask]\n",
    "ytest=y[~mask]\n",
    "\n",
    "clf = nb.MultinomialNB(alpha=best_alpha).fit(xtrain, ytrain)\n",
    "\n",
    "training_accuracy = clf.score(xtrain, ytrain)\n",
    "test_accuracy = clf.score(xtest, ytest)\n",
    "\n",
    "print \"Accuracy on training data: %0.2f\" % (training_accuracy)\n",
    "print \"Accuracy on test data:     %0.2f\" % (test_accuracy)"
   ]
  },
  {
   "cell_type": "markdown",
   "metadata": {},
   "source": [
    "## However, even with allowance for larger values, the accuracy scores do not improve.  As an aside, I wonder about the criterion for determining the relationship between modeled probabilities and classification of the observation upon prediction.  What is the cut-off value?"
   ]
  },
  {
   "cell_type": "code",
   "execution_count": 26,
   "metadata": {
    "collapsed": false
   },
   "outputs": [
    {
     "name": "stdout",
     "output_type": "stream",
     "text": [
      "Words associated with female recipients\t     P(female | word)\n",
      "               piped 0.89\n",
      "                join 0.88\n",
      "                yehu 0.88\n",
      "            greatest 0.88\n",
      "             decided 0.87\n",
      "         electricity 0.87\n",
      "              access 0.85\n",
      "               house 0.84\n",
      "                food 0.84\n",
      "            operated 0.84\n",
      "               faces 0.84\n",
      "               boost 0.83\n",
      "               major 0.81\n",
      "             selling 0.81\n",
      "               flour 0.80\n",
      "               wants 0.80\n",
      "               water 0.80\n",
      "               loans 0.77\n",
      "                owns 0.77\n",
      "          requesting 0.76\n",
      "              school 0.76\n",
      "                kiva 0.75\n",
      "                fees 0.75\n",
      "             support 0.73\n",
      "              dreams 0.73\n",
      "           challenge 0.73\n",
      "               lives 0.73\n",
      "            purchase 0.72\n",
      "                past 0.72\n",
      "             monthly 0.71\n",
      "Words associated with male recipients\t     P(female | word)\n",
      "                shop 0.62\n",
      "             farming 0.61\n",
      "             improve 0.61\n",
      "             blessed 0.61\n",
      "              expand 0.61\n",
      "             located 0.60\n",
      "                also 0.60\n",
      "              living 0.60\n",
      "               years 0.60\n",
      "                 buy 0.60\n",
      "              within 0.60\n",
      "                 use 0.60\n",
      "               dairy 0.60\n",
      "                area 0.59\n",
      "                farm 0.59\n",
      "           shillings 0.59\n",
      "                town 0.58\n",
      "               kenya 0.58\n",
      "              second 0.58\n",
      "         anticipated 0.57\n",
      "               first 0.57\n",
      "               hopes 0.57\n",
      "                well 0.57\n",
      "                 old 0.57\n",
      "                last 0.56\n",
      "              profit 0.56\n",
      "              farmer 0.55\n",
      "               plans 0.54\n",
      "                 ltd 0.52\n",
      "               kadet 0.49\n"
     ]
    }
   ],
   "source": [
    "words = np.array(vectorizer.get_feature_names())\n",
    "\n",
    "x = np.eye(xtest.shape[1])\n",
    "probs = clf.predict_log_proba(x)[:, 0]\n",
    "ind = np.argsort(probs)\n",
    "\n",
    "good_words = words[ind[:30]]\n",
    "bad_words = words[ind[-30:]]\n",
    "\n",
    "good_prob = probs[ind[:30]]\n",
    "bad_prob = probs[ind[-30:]]\n",
    "\n",
    "print \"Words associated with female recipients\\t     P(female | word)\"\n",
    "for w, p in zip(good_words, good_prob):\n",
    "    print \"%20s\" % w, \"%0.2f\" % (1 - np.exp(p))\n",
    "    \n",
    "print \"Words associated with male recipients\\t     P(female | word)\"\n",
    "for w, p in zip(bad_words, bad_prob):\n",
    "    print \"%20s\" % w, \"%0.2f\" % (1 - np.exp(p))"
   ]
  },
  {
   "cell_type": "code",
   "execution_count": 27,
   "metadata": {
    "collapsed": false
   },
   "outputs": [
    {
     "data": {
      "text/plain": [
       "99"
      ]
     },
     "execution_count": 27,
     "metadata": {},
     "output_type": "execute_result"
    }
   ],
   "source": [
    "len(words)"
   ]
  },
  {
   "cell_type": "markdown",
   "metadata": {},
   "source": [
    "## Conclusion: There appear to be no words that are strongly associated with the recipient of a loan being male.  Some words have relatively strong (almost .90) association with the grant recipient being female, at least under the current values used in the optimization. "
   ]
  },
  {
   "cell_type": "code",
   "execution_count": 88,
   "metadata": {
    "collapsed": false
   },
   "outputs": [
    {
     "name": "stdout",
     "output_type": "stream",
     "text": [
      "Test accuracy =  0.570493931978\n",
      "Test precision = 0.823082336383\n",
      "Test recall =  0.443332575241\n",
      "Test f1 =  0.576271186441\n",
      "Test AUC-ROC =  0.665650293242\n"
     ]
    }
   ],
   "source": [
    "predicted_female=clf.predict(xtest)\n",
    "predicted_probs=clf.predict_proba(xtest)\n",
    "accuracy=clf.score(xtest,ytest)\n",
    "precision,recall,f1,_= metrics.precision_recall_fscore_support(ytest,predicted_female,average='binary')\n",
    "auc = metrics.roc_auc_score(ytest,predicted_probs[:,1])\n",
    "print 'Test accuracy = ', accuracy\n",
    "print 'Test precision =', precision\n",
    "print 'Test recall = ', recall\n",
    "print 'Test f1 = ', f1\n",
    "print 'Test AUC-ROC = ',auc"
   ]
  },
  {
   "cell_type": "code",
   "execution_count": 90,
   "metadata": {
    "collapsed": false
   },
   "outputs": [
    {
     "data": {
      "text/plain": [
       "array([[ 0.85724317,  0.14275683],\n",
       "       [ 0.932981  ,  0.067019  ],\n",
       "       [ 0.32902951,  0.67097049],\n",
       "       [ 0.69734924,  0.30265076]])"
      ]
     },
     "execution_count": 90,
     "metadata": {},
     "output_type": "execute_result"
    }
   ],
   "source": [
    "predicted_probs[0:4]"
   ]
  },
  {
   "cell_type": "markdown",
   "metadata": {},
   "source": [
    "## In any case, prediction capability plumits with the removal of first names and gender specific terms.\n",
    "\n",
    "## Now I try modeling with a reduced set of predictors, choosing a few from the list of important words"
   ]
  },
  {
   "cell_type": "code",
   "execution_count": 91,
   "metadata": {
    "collapsed": true
   },
   "outputs": [],
   "source": [
    "impt_words= ['piped','yehu','join','greatest','decided','electricity','access','food','house',\n",
    "  'operated','faces','boost','major','selling','wants','flour','water','loans','owns',\n",
    "  'requesting','school','kiva','fees']"
   ]
  },
  {
   "cell_type": "code",
   "execution_count": 92,
   "metadata": {
    "collapsed": true
   },
   "outputs": [],
   "source": [
    "X1=vectorizer.fit_transform(df2b_single['texts.en'])\n",
    "colnames= vectorizer.get_feature_names()\n",
    "cols= [colnames.index(x) for x in impt_words]"
   ]
  },
  {
   "cell_type": "code",
   "execution_count": 93,
   "metadata": {
    "collapsed": false
   },
   "outputs": [
    {
     "name": "stdout",
     "output_type": "stream",
     "text": [
      "Accuracy on training data: 0.66\n",
      "Accuracy on test data:     0.66\n"
     ]
    }
   ],
   "source": [
    "vectorizer = CountVectorizer(min_df=1e-9, stop_words=stop)\n",
    "X, y, n = make_xyn(data=df2b_single, doc_var='texts.en',target='prop_female',pos_val=1, vectorizer=vectorizer)\n",
    "X1=X[:,cols]\n",
    "xtrain=X1[mask]\n",
    "ytrain=y[mask]\n",
    "xtest=X1[~mask]\n",
    "ytest=y[~mask]\n",
    "\n",
    "clf = nb.MultinomialNB(alpha=best_alpha).fit(xtrain, ytrain)\n",
    "\n",
    "training_accuracy = clf.score(xtrain, ytrain)\n",
    "test_accuracy = clf.score(xtest, ytest)\n",
    "\n",
    "print \"Accuracy on training data: %0.2f\" % (training_accuracy)\n",
    "print \"Accuracy on test data:     %0.2f\" % (test_accuracy)"
   ]
  },
  {
   "cell_type": "markdown",
   "metadata": {},
   "source": [
    "## Conclusion: fitting the model on only the words that have strong influence does not improve the performance of the model\n",
    "\n",
    "## Now we try maximizing over AUC as the optimization criteria"
   ]
  },
  {
   "cell_type": "code",
   "execution_count": 97,
   "metadata": {
    "collapsed": false
   },
   "outputs": [
    {
     "name": "stdout",
     "output_type": "stream",
     "text": [
      "the score is >>>>>>>>>>>>>>> 0.617406454057\n",
      "the new maxscore is: 0.617\n",
      "best_alpha =  0 best_min_df = 1e-05\n",
      "the score is >>>>>>>>>>>>>>> 0.744261247302\n",
      "the new maxscore is: 0.744\n",
      "best_alpha =  0 best_min_df = 0.0001\n",
      "the score is >>>>>>>>>>>>>>> 0.840308653957\n",
      "the new maxscore is: 0.840\n",
      "best_alpha =  0 best_min_df = 0.001\n",
      "the score is >>>>>>>>>>>>>>> 0.761911911251\n",
      "the score is >>>>>>>>>>>>>>> 0.656598042671\n",
      "the score is >>>>>>>>>>>>>>> 0.880547091429\n",
      "the new maxscore is: 0.881\n",
      "best_alpha =  0.1 best_min_df = 1e-05\n",
      "the score is >>>>>>>>>>>>>>> 0.877848271918\n",
      "the score is >>>>>>>>>>>>>>> 0.85306048959\n",
      "the score is >>>>>>>>>>>>>>> 0.76188178544\n",
      "the score is >>>>>>>>>>>>>>> 0.656597707881\n",
      "the score is >>>>>>>>>>>>>>> 0.87528226544\n",
      "the score is >>>>>>>>>>>>>>> 0.872818101464\n",
      "the score is >>>>>>>>>>>>>>> 0.851196991101\n",
      "the score is >>>>>>>>>>>>>>> 0.761776586915\n",
      "the score is >>>>>>>>>>>>>>> 0.656595950407\n",
      "the score is >>>>>>>>>>>>>>> 0.860029662214\n",
      "the score is >>>>>>>>>>>>>>> 0.859575901423\n",
      "the score is >>>>>>>>>>>>>>> 0.843899361243\n",
      "the score is >>>>>>>>>>>>>>> 0.760948899414\n",
      "the score is >>>>>>>>>>>>>>> 0.656563082719\n",
      "the score is >>>>>>>>>>>>>>> 0.840165317367\n",
      "the score is >>>>>>>>>>>>>>> 0.850618393187\n",
      "the score is >>>>>>>>>>>>>>> 0.836950764861\n",
      "the score is >>>>>>>>>>>>>>> 0.76001186084\n",
      "the score is >>>>>>>>>>>>>>> 0.656564733286\n",
      "the score is >>>>>>>>>>>>>>> 0.699468076392\n",
      "the score is >>>>>>>>>>>>>>> 0.806874718687\n",
      "the score is >>>>>>>>>>>>>>> 0.810362174948\n",
      "the score is >>>>>>>>>>>>>>> 0.753979008286\n",
      "the score is >>>>>>>>>>>>>>> 0.656389798897\n",
      "the score is >>>>>>>>>>>>>>> 0.840165317367\n",
      "the score is >>>>>>>>>>>>>>> 0.850618393187\n",
      "the score is >>>>>>>>>>>>>>> 0.836950764861\n",
      "the score is >>>>>>>>>>>>>>> 0.76001186084\n",
      "the score is >>>>>>>>>>>>>>> 0.656564733286\n",
      "the score is >>>>>>>>>>>>>>> 0.699468076392\n",
      "the score is >>>>>>>>>>>>>>> 0.806874718687\n",
      "the score is >>>>>>>>>>>>>>> 0.810362174948\n",
      "the score is >>>>>>>>>>>>>>> 0.753979008286\n",
      "the score is >>>>>>>>>>>>>>> 0.656389798897\n",
      "the score is >>>>>>>>>>>>>>> 0.645286786889\n",
      "the score is >>>>>>>>>>>>>>> 0.766095471809\n",
      "the score is >>>>>>>>>>>>>>> 0.79509642985\n",
      "the score is >>>>>>>>>>>>>>> 0.749710582402\n",
      "the score is >>>>>>>>>>>>>>> 0.656152806691\n"
     ]
    }
   ],
   "source": [
    "#the grid of parameters to search over\n",
    "alphas = [0, .1, 1, 5, 10, 50, 10, 50, 90] #, 130, 190, 250]\n",
    "#min_dfs = [1e-2, 1e-1, 0.4, 0.8]\n",
    "#alphas = [0, .1, 1, 5, 10, 50]\n",
    "min_dfs = [1e-5, 1e-4, 1e-3, 1e-2, 1e-1]\n",
    "\n",
    "#Find the best value for alpha and min_df, and the best classifier\n",
    "best_alpha = None\n",
    "best_min_df = None\n",
    "best_classifier=None\n",
    "maxscore=-np.inf\n",
    "for alpha in alphas:\n",
    "    for min_df in min_dfs:         \n",
    "        vectorizer = CountVectorizer(min_df = min_df, stop_words=stop)       \n",
    "        Xthis, ythis, n = make_xyn(data=df2b_single, doc_var='texts.en',target='prop_female',pos_val=1, vectorizer=vectorizer)\n",
    "        Xtrainthis=Xthis[mask]\n",
    "        ytrainthis=ythis[mask]\n",
    "        #your turn\n",
    "        Xtestthis=Xthis[~mask]\n",
    "        ytestthis=ythis[~mask]\n",
    "        classifier = nb.MultinomialNB(alpha=alpha)\n",
    "        classifier.fit(Xtrainthis,ytrainthis)\n",
    "        score=cv_score(classifier, Xtestthis, ytestthis, auc_test)\n",
    "        print \"the score is >>>>>>>>>>>>>>>\",score\n",
    "        if score > maxscore:\n",
    "            maxscore = score\n",
    "            best_alpha = alpha\n",
    "            best_min_df = min_df\n",
    "            best_classifier = classifier\n",
    "            print 'the new maxscore is: %0.3f' % (maxscore)\n",
    "            print 'best_alpha = ',best_alpha, 'best_min_df =',best_min_df"
   ]
  },
  {
   "cell_type": "code",
   "execution_count": 98,
   "metadata": {
    "collapsed": false
   },
   "outputs": [
    {
     "name": "stdout",
     "output_type": "stream",
     "text": [
      "alpha: 0.100000\n",
      "min_df: 0.000010\n"
     ]
    }
   ],
   "source": [
    "print \"alpha: %f\" % best_alpha\n",
    "print \"min_df: %f\" % best_min_df"
   ]
  },
  {
   "cell_type": "code",
   "execution_count": 99,
   "metadata": {
    "collapsed": false
   },
   "outputs": [
    {
     "name": "stdout",
     "output_type": "stream",
     "text": [
      "Accuracy on training data: 0.82\n",
      "Accuracy on test data:     0.79\n"
     ]
    }
   ],
   "source": [
    "vectorizer = CountVectorizer(min_df=best_min_df, stop_words=stop)\n",
    "X, y, n = make_xyn(data=df2b_single, doc_var='texts.en',target='prop_female',pos_val=1, vectorizer=vectorizer)\n",
    "xtrain=X[mask]\n",
    "ytrain=y[mask]\n",
    "xtest=X[~mask]\n",
    "ytest=y[~mask]\n",
    "\n",
    "clf = nb.MultinomialNB(alpha=best_alpha).fit(xtrain, ytrain)\n",
    "\n",
    "training_accuracy = clf.score(xtrain, ytrain)\n",
    "test_accuracy = clf.score(xtest, ytest)\n",
    "\n",
    "print \"Accuracy on training data: %0.2f\" % (training_accuracy)\n",
    "print \"Accuracy on test data:     %0.2f\" % (test_accuracy)"
   ]
  },
  {
   "cell_type": "code",
   "execution_count": 100,
   "metadata": {
    "collapsed": false
   },
   "outputs": [
    {
     "name": "stdout",
     "output_type": "stream",
     "text": [
      "Words associated with female recipients\t     P(female | word)\n",
      "           mwanamisi 1.00\n",
      "               mwaka 1.00\n",
      "               chizi 1.00\n",
      "           mwanaisha 1.00\n",
      "             mejumaa 1.00\n",
      "                wrap 1.00\n",
      "           mwanatumu 1.00\n",
      "               binti 1.00\n",
      "            mwanaidi 1.00\n",
      "               mbeyu 1.00\n",
      "             mariamu 1.00\n",
      "               mishi 1.00\n",
      "                span 1.00\n",
      "                sidi 1.00\n",
      "               lesos 1.00\n",
      "                mupa 1.00\n",
      "             khadija 1.00\n",
      "         mwanahamisi 1.00\n",
      "               jumwa 1.00\n",
      "           mwanarusi 1.00\n",
      "               sofia 1.00\n",
      "             jenifer 1.00\n",
      "              masika 1.00\n",
      "              mlongo 1.00\n",
      "                tatu 1.00\n",
      "              kibibi 1.00\n",
      "              biasha 1.00\n",
      "             zainabu 1.00\n",
      "              florah 1.00\n",
      "               kanga 1.00\n",
      "Words associated with male recipients\t     P(female | word)\n",
      "           cupboards 0.01\n",
      "           harrowing 0.01\n",
      "              arnold 0.01\n",
      "              protus 0.01\n",
      "                lawi 0.01\n",
      "             cobbler 0.01\n",
      "                piki 0.01\n",
      "              matano 0.01\n",
      "               hiram 0.01\n",
      "              alfayo 0.01\n",
      "               kibet 0.01\n",
      "               marko 0.01\n",
      "            williams 0.01\n",
      "                 fsa 0.01\n",
      "           frankline 0.01\n",
      "              welder 0.00\n",
      "            stephens 0.00\n",
      "           nathaniel 0.00\n",
      "             zakaria 0.00\n",
      "          wellington 0.00\n",
      "              simeon 0.00\n",
      "              davids 0.00\n",
      "                rama 0.00\n",
      "              justin 0.00\n",
      "               willy 0.00\n",
      "              zakayo 0.00\n",
      "               johns 0.00\n",
      "              safari 0.00\n",
      "             josephs 0.00\n",
      "              peters 0.00\n"
     ]
    }
   ],
   "source": [
    "words = np.array(vectorizer.get_feature_names())\n",
    "\n",
    "x = np.eye(xtest.shape[1])\n",
    "probs = clf.predict_log_proba(x)[:, 0]\n",
    "ind = np.argsort(probs)\n",
    "\n",
    "good_words = words[ind[:30]]\n",
    "bad_words = words[ind[-30:]]\n",
    "\n",
    "good_prob = probs[ind[:30]]\n",
    "bad_prob = probs[ind[-30:]]\n",
    "\n",
    "print \"Words associated with female recipients\\t     P(female | word)\"\n",
    "for w, p in zip(good_words, good_prob):\n",
    "    print \"%20s\" % w, \"%0.2f\" % (1 - np.exp(p))\n",
    "    \n",
    "print \"Words associated with male recipients\\t     P(female | word)\"\n",
    "for w, p in zip(bad_words, bad_prob):\n",
    "    print \"%20s\" % w, \"%0.2f\" % (1 - np.exp(p))"
   ]
  },
  {
   "cell_type": "code",
   "execution_count": 101,
   "metadata": {
    "collapsed": false
   },
   "outputs": [
    {
     "name": "stdout",
     "output_type": "stream",
     "text": [
      "Test accuracy =  0.785047195725\n",
      "Test precision = 0.923876752838\n",
      "Test recall =  0.734212720794\n",
      "Test f1 =  0.818197178339\n",
      "Test AUC-ROC =  0.88623358583\n"
     ]
    }
   ],
   "source": [
    "predicted_female=clf.predict(xtest)\n",
    "predicted_probs=clf.predict_proba(xtest)\n",
    "accuracy=clf.score(xtest,ytest)\n",
    "precision,recall,f1,_= metrics.precision_recall_fscore_support(ytest,predicted_female,average='binary')\n",
    "auc = metrics.roc_auc_score(ytest,predicted_probs[:,1])\n",
    "print 'Test accuracy = ', accuracy\n",
    "print 'Test precision =', precision\n",
    "print 'Test recall = ', recall\n",
    "print 'Test f1 = ', f1\n",
    "print 'Test AUC-ROC = ',auc"
   ]
  },
  {
   "cell_type": "code",
   "execution_count": 102,
   "metadata": {
    "collapsed": true
   },
   "outputs": [],
   "source": [
    "from sklearn.feature_extraction.text import TfidfVectorizer\n",
    "#tfidfvectorizer = TfidfVectorizer(min_df=1, stop_words=stop)\n",
    "#Xtfidf=tfidfvectorizer.fit_transform(critics.quote)"
   ]
  },
  {
   "cell_type": "code",
   "execution_count": 103,
   "metadata": {
    "collapsed": true
   },
   "outputs": [],
   "source": [
    "itrain, itest = train_test_split(xrange(df2b_single.shape[0]), stratify=df2b_single.prop_female, test_size=0.3)\n",
    "mask=np.ones(df2b_single.shape[0], dtype='int')\n",
    "mask[itrain]=1\n",
    "mask[itest]=0\n",
    "mask = (mask==1)"
   ]
  },
  {
   "cell_type": "code",
   "execution_count": 104,
   "metadata": {
    "collapsed": false
   },
   "outputs": [
    {
     "name": "stdout",
     "output_type": "stream",
     "text": [
      "the score is >>>>>>>>>>>>>>> 0.869703453936\n",
      "the new maxscore is: 0.870\n",
      "best_alpha =  1e-05 best_min_df = 1e-10\n",
      "the score is >>>>>>>>>>>>>>> 0.869703453936\n",
      "the score is >>>>>>>>>>>>>>> 0.869703453936\n",
      "the score is >>>>>>>>>>>>>>> 0.879540599835\n",
      "the new maxscore is: 0.880\n",
      "best_alpha =  0.0001 best_min_df = 1e-10\n",
      "the score is >>>>>>>>>>>>>>> 0.879540599835\n",
      "the score is >>>>>>>>>>>>>>> 0.879540599835\n",
      "the score is >>>>>>>>>>>>>>> 0.890083471034\n",
      "the new maxscore is: 0.890\n",
      "best_alpha =  0.001 best_min_df = 1e-10\n",
      "the score is >>>>>>>>>>>>>>> 0.890083471034\n",
      "the score is >>>>>>>>>>>>>>> 0.890083471034\n",
      "the score is >>>>>>>>>>>>>>> 0.899870291858\n",
      "the new maxscore is: 0.900\n",
      "best_alpha =  0.01 best_min_df = 1e-10\n",
      "the score is >>>>>>>>>>>>>>> 0.899870291858\n",
      "the score is >>>>>>>>>>>>>>> 0.899870291858\n",
      "the score is >>>>>>>>>>>>>>> 0.903612157418\n",
      "the new maxscore is: 0.904\n",
      "best_alpha =  0.1 best_min_df = 1e-10\n",
      "the score is >>>>>>>>>>>>>>> 0.903612157418\n",
      "the score is >>>>>>>>>>>>>>> 0.903612157418\n",
      "the score is >>>>>>>>>>>>>>> 0.619580753888\n",
      "the score is >>>>>>>>>>>>>>> 0.619580753888\n",
      "the score is >>>>>>>>>>>>>>> 0.619580753888\n",
      "the score is >>>>>>>>>>>>>>> 0.889706944592\n",
      "the score is >>>>>>>>>>>>>>> 0.889706944592\n",
      "the score is >>>>>>>>>>>>>>> 0.889706944592\n",
      "the score is >>>>>>>>>>>>>>> 0.855776416118\n",
      "the score is >>>>>>>>>>>>>>> 0.855776416118\n",
      "the score is >>>>>>>>>>>>>>> 0.855776416118\n",
      "the score is >>>>>>>>>>>>>>> 0.834442463594\n",
      "the score is >>>>>>>>>>>>>>> 0.834442463594\n",
      "the score is >>>>>>>>>>>>>>> 0.834442463594\n",
      "the score is >>>>>>>>>>>>>>> 0.7787934263\n",
      "the score is >>>>>>>>>>>>>>> 0.7787934263\n",
      "the score is >>>>>>>>>>>>>>> 0.7787934263\n",
      "the score is >>>>>>>>>>>>>>> 0.758804545573\n",
      "the score is >>>>>>>>>>>>>>> 0.758804545573\n",
      "the score is >>>>>>>>>>>>>>> 0.758804545573\n",
      "the score is >>>>>>>>>>>>>>> 0.747271530277\n",
      "the score is >>>>>>>>>>>>>>> 0.747271530277\n",
      "the score is >>>>>>>>>>>>>>> 0.747271530277\n"
     ]
    }
   ],
   "source": [
    "#the grid of parameters to search over\n",
    "alphas = [0.00001,0.0001,0.001,0.01,0.1, 0, 1, 5, 10, 50, 90, 130] #, 190, 250]\n",
    "#min_dfs = [1e-2, 1e-1, 0.4, 0.8]\n",
    "#alphas = [0, .1, 1, 5, 10, 50]\n",
    "min_dfs = [1e-10,1e-9,1e-8] #,1e-7,1e-6,1e-5] #, 1e-4, 1e-3, 1e-2, 1e-1]\n",
    "\n",
    "#Find the best value for alpha and min_df, and the best classifier\n",
    "best_alpha = None\n",
    "best_min_df = None\n",
    "best_classifier=None\n",
    "maxscore=-np.inf\n",
    "for alpha in alphas:\n",
    "    for min_df in min_dfs:         \n",
    "        vectorizer = TfidfVectorizer(min_df = min_df, stop_words=stop)       \n",
    "        Xthis, ythis, n = make_xyn(data=df2b_single, doc_var='texts.en',target='prop_female',pos_val=1, vectorizer=vectorizer)\n",
    "        Xtrainthis=Xthis[mask]\n",
    "        ytrainthis=ythis[mask]\n",
    "        #your turn\n",
    "        Xtestthis=Xthis[~mask]\n",
    "        ytestthis=ythis[~mask]\n",
    "        classifier = nb.MultinomialNB(alpha=alpha)\n",
    "        classifier.fit(Xtrainthis,ytrainthis)\n",
    "        score=cv_score(classifier, Xtestthis, ytestthis, auc_test)\n",
    "        print \"the score is >>>>>>>>>>>>>>>\",score\n",
    "        if score > maxscore:\n",
    "            maxscore = score\n",
    "            best_alpha = alpha\n",
    "            best_min_df = min_df\n",
    "            best_classifier = classifier\n",
    "            print 'the new maxscore is: %0.3f' % (maxscore)\n",
    "            print 'best_alpha = ',best_alpha, 'best_min_df =',best_min_df"
   ]
  },
  {
   "cell_type": "code",
   "execution_count": 105,
   "metadata": {
    "collapsed": false
   },
   "outputs": [
    {
     "data": {
      "text/plain": [
       "1e-10"
      ]
     },
     "execution_count": 105,
     "metadata": {},
     "output_type": "execute_result"
    }
   ],
   "source": [
    "best_min_df"
   ]
  },
  {
   "cell_type": "code",
   "execution_count": 106,
   "metadata": {
    "collapsed": false
   },
   "outputs": [
    {
     "name": "stdout",
     "output_type": "stream",
     "text": [
      "alpha: 0.100000\n",
      "min_df: 0.000000\n"
     ]
    }
   ],
   "source": [
    "print \"alpha: %f\" % best_alpha\n",
    "print \"min_df: %f\" % best_min_df"
   ]
  },
  {
   "cell_type": "code",
   "execution_count": 107,
   "metadata": {
    "collapsed": false
   },
   "outputs": [
    {
     "name": "stdout",
     "output_type": "stream",
     "text": [
      "Accuracy on training data: 0.90\n",
      "Accuracy on test data:     0.86\n"
     ]
    }
   ],
   "source": [
    "vectorizer = TfidfVectorizer(min_df=best_min_df, stop_words=stop)\n",
    "X, y, n = make_xyn(data=df2b_single, doc_var='texts.en',target='prop_female',pos_val=1, vectorizer=vectorizer)\n",
    "xtrain=X[mask]\n",
    "ytrain=y[mask]\n",
    "xtest=X[~mask]\n",
    "ytest=y[~mask]\n",
    "\n",
    "clf = nb.MultinomialNB(alpha=best_alpha).fit(xtrain, ytrain)\n",
    "\n",
    "training_accuracy = clf.score(xtrain, ytrain)\n",
    "test_accuracy = clf.score(xtest, ytest)\n",
    "\n",
    "print \"Accuracy on training data: %0.2f\" % (training_accuracy)\n",
    "print \"Accuracy on test data:     %0.2f\" % (test_accuracy)"
   ]
  },
  {
   "cell_type": "code",
   "execution_count": 108,
   "metadata": {
    "collapsed": false
   },
   "outputs": [
    {
     "name": "stdout",
     "output_type": "stream",
     "text": [
      "Words associated with female recipients\t     P(female | word)\n",
      "           mwanamisi 1.00\n",
      "           mwanajuma 1.00\n",
      "           mwanaisha 1.00\n",
      "               mwaka 1.00\n",
      "                shes 1.00\n",
      "              fatuma 1.00\n",
      "               chizi 1.00\n",
      "              luvuno 1.00\n",
      "               mbeyu 1.00\n",
      "               umazi 1.00\n",
      "            mwanaidi 1.00\n",
      "              zawadi 1.00\n",
      "           mwanatumu 1.00\n",
      "            mwanasha 1.00\n",
      "               mishi 1.00\n",
      "             khadija 1.00\n",
      "             mariamu 1.00\n",
      "          mwanakombo 1.00\n",
      "              mlongo 0.99\n",
      "                mupa 0.99\n",
      "Words associated with male recipients\t     P(female | word)\n",
      "           frankline 0.03\n",
      "            stephens 0.03\n",
      "             albanus 0.03\n",
      "              davids 0.03\n",
      "             cobbler 0.03\n",
      "            stephene 0.02\n",
      "             mutinda 0.02\n",
      "           nathaniel 0.02\n",
      "              hudson 0.02\n",
      "              matano 0.02\n",
      "              arnold 0.02\n",
      "              kassim 0.02\n",
      "            franklin 0.02\n",
      "              donald 0.02\n",
      "              peters 0.02\n",
      "             zakaria 0.02\n",
      "              safari 0.02\n",
      "                ayub 0.02\n",
      "               willy 0.01\n",
      "              justin 0.01\n"
     ]
    }
   ],
   "source": [
    "words = np.array(vectorizer.get_feature_names())\n",
    "\n",
    "x = np.eye(xtest.shape[1])\n",
    "probs = clf.predict_log_proba(x)[:, 0]\n",
    "ind = np.argsort(probs)\n",
    "\n",
    "good_words = words[ind[:20]]\n",
    "bad_words = words[ind[-20:]]\n",
    "\n",
    "good_prob = probs[ind[:20]]\n",
    "bad_prob = probs[ind[-20:]]\n",
    "\n",
    "print \"Words associated with female recipients\\t     P(female | word)\"\n",
    "for w, p in zip(good_words, good_prob):\n",
    "    print \"%20s\" % w, \"%0.2f\" % (1 - np.exp(p))\n",
    "    \n",
    "print \"Words associated with male recipients\\t     P(female | word)\"\n",
    "for w, p in zip(bad_words, bad_prob):\n",
    "    print \"%20s\" % w, \"%0.2f\" % (1 - np.exp(p))"
   ]
  },
  {
   "cell_type": "code",
   "execution_count": 109,
   "metadata": {
    "collapsed": false
   },
   "outputs": [
    {
     "name": "stdout",
     "output_type": "stream",
     "text": [
      "Test accuracy =  0.855665984118\n",
      "Test precision = 0.900723566483\n",
      "Test recall =  0.877643848078\n",
      "Test f1 =  0.889033942559\n",
      "Test AUC-ROC =  0.845437849098\n"
     ]
    }
   ],
   "source": [
    "predicted_female=clf.predict(xtest)\n",
    "predicted_probs=clf.predict_proba(xtest)\n",
    "accuracy=clf.score(xtest,ytest)\n",
    "precision,recall,f1,_= metrics.precision_recall_fscore_support(ytest,predicted_female,average='binary')\n",
    "auc = metrics.roc_auc_score(ytest,predicted_female)\n",
    "print 'Test accuracy = ', accuracy\n",
    "print 'Test precision =', precision\n",
    "print 'Test recall = ', recall\n",
    "print 'Test f1 = ', f1\n",
    "print 'Test AUC-ROC = ',auc"
   ]
  },
  {
   "cell_type": "markdown",
   "metadata": {},
   "source": [
    "## Although the names in the 'name' feature have been removed from the text, the English words that score strongly between the two classes are mostly names.  Non-English words are also closely associated with texts describing female loan recipients.  These may be nicknames, or other memes associated with females.   An AUC score of 0.85 on the test data shows that the model has some predictive capability."
   ]
  },
  {
   "cell_type": "code",
   "execution_count": 110,
   "metadata": {
    "collapsed": false
   },
   "outputs": [
    {
     "data": {
      "text/plain": [
       "Agriculture       23875\n",
       "Food              16697\n",
       "Retail            11786\n",
       "Services           6167\n",
       "Clothing           5049\n",
       "Transportation     2362\n",
       "Construction       1214\n",
       "Health              942\n",
       "Personal Use        832\n",
       "Education           827\n",
       "Manufacturing       609\n",
       "Housing             586\n",
       "Arts                299\n",
       "Entertainment       105\n",
       "Wholesale            93\n",
       "Name: sector, dtype: int64"
      ]
     },
     "execution_count": 110,
     "metadata": {},
     "output_type": "execute_result"
    }
   ],
   "source": [
    "df2b.sector.value_counts()"
   ]
  },
  {
   "cell_type": "code",
   "execution_count": 113,
   "metadata": {
    "collapsed": false
   },
   "outputs": [
    {
     "name": "stdout",
     "output_type": "stream",
     "text": [
      "the shape of early is:  (42120, 53) \n",
      "\n",
      "the shape of late is:  (24621, 53)\n"
     ]
    }
   ],
   "source": [
    "df2bs_late=df2b_single[df2b_single.funded_year>=2014].copy()\n",
    "df2bs_early=df2b_single[df2b_single.funded_year<2014].copy()\n",
    "print \"the shape of early is: \", df2bs_early.shape,\"\\n\"\n",
    "print \"the shape of late is: \", df2bs_late.shape"
   ]
  },
  {
   "cell_type": "code",
   "execution_count": 115,
   "metadata": {
    "collapsed": false
   },
   "outputs": [
    {
     "name": "stdout",
     "output_type": "stream",
     "text": [
      "the shape of df2bse_agri is:  (10305, 53)\n",
      "the shape of df2bsl_agri is:  (9432, 53)\n"
     ]
    }
   ],
   "source": [
    "df2bse_agri=df2bs_early[df2bs_early.sector=='Agriculture'].copy()\n",
    "df2bsl_agri=df2bs_late[df2bs_late.sector=='Agriculture'].copy()\n",
    "print \"the shape of df2bse_agri is: \",df2bse_agri.shape\n",
    "print \"the shape of df2bsl_agri is: \",df2bsl_agri.shape"
   ]
  },
  {
   "cell_type": "code",
   "execution_count": 253,
   "metadata": {
    "collapsed": true
   },
   "outputs": [],
   "source": [
    "itrain, itest = train_test_split(xrange(df2bse_agri.shape[0]), stratify=df2bse_agri.prop_female, test_size=0.3)\n",
    "mask=np.ones(df2bse_agri.shape[0], dtype='int')\n",
    "mask[itrain]=1\n",
    "mask[itest]=0\n",
    "mask = (mask==1)"
   ]
  },
  {
   "cell_type": "code",
   "execution_count": 123,
   "metadata": {
    "collapsed": false
   },
   "outputs": [
    {
     "name": "stdout",
     "output_type": "stream",
     "text": [
      "the score is >>>>>>>>>>>>>>> 0.771398509519\n",
      "the new maxscore is: 0.771\n",
      "best_alpha =  1e-05 best_min_df = 1e-10\n",
      "the score is >>>>>>>>>>>>>>> 0.771398509519\n",
      "the score is >>>>>>>>>>>>>>> 0.771398509519\n",
      "the score is >>>>>>>>>>>>>>> 0.771398509519\n",
      "the score is >>>>>>>>>>>>>>> 0.771398509519\n",
      "the score is >>>>>>>>>>>>>>> 0.771398509519\n",
      "the score is >>>>>>>>>>>>>>> 0.782901001897\n",
      "the new maxscore is: 0.783\n",
      "best_alpha =  0.0001 best_min_df = 1e-10\n",
      "the score is >>>>>>>>>>>>>>> 0.782901001897\n",
      "the score is >>>>>>>>>>>>>>> 0.782901001897\n",
      "the score is >>>>>>>>>>>>>>> 0.782901001897\n",
      "the score is >>>>>>>>>>>>>>> 0.782901001897\n",
      "the score is >>>>>>>>>>>>>>> 0.782901001897\n",
      "the score is >>>>>>>>>>>>>>> 0.798773301429\n",
      "the new maxscore is: 0.799\n",
      "best_alpha =  0.001 best_min_df = 1e-10\n",
      "the score is >>>>>>>>>>>>>>> 0.798773301429\n",
      "the score is >>>>>>>>>>>>>>> 0.798773301429\n",
      "the score is >>>>>>>>>>>>>>> 0.798773301429\n",
      "the score is >>>>>>>>>>>>>>> 0.798773301429\n",
      "the score is >>>>>>>>>>>>>>> 0.798773301429\n",
      "the score is >>>>>>>>>>>>>>> 0.818663275639\n",
      "the new maxscore is: 0.819\n",
      "best_alpha =  0.01 best_min_df = 1e-10\n",
      "the score is >>>>>>>>>>>>>>> 0.818663275639\n",
      "the score is >>>>>>>>>>>>>>> 0.818663275639\n",
      "the score is >>>>>>>>>>>>>>> 0.818663275639\n",
      "the score is >>>>>>>>>>>>>>> 0.818663275639\n",
      "the score is >>>>>>>>>>>>>>> 0.818663275639\n",
      "the score is >>>>>>>>>>>>>>> 0.832912466866\n",
      "the new maxscore is: 0.833\n",
      "best_alpha =  0.1 best_min_df = 1e-10\n",
      "the score is >>>>>>>>>>>>>>> 0.832912466866\n",
      "the score is >>>>>>>>>>>>>>> 0.832912466866\n",
      "the score is >>>>>>>>>>>>>>> 0.832912466866\n",
      "the score is >>>>>>>>>>>>>>> 0.832912466866\n",
      "the score is >>>>>>>>>>>>>>> 0.832912466866\n",
      "the score is >>>>>>>>>>>>>>> 0.537015080163\n",
      "the score is >>>>>>>>>>>>>>> 0.537015080163\n",
      "the score is >>>>>>>>>>>>>>> 0.537015080163\n",
      "the score is >>>>>>>>>>>>>>> 0.537015080163\n",
      "the score is >>>>>>>>>>>>>>> 0.537015080163\n",
      "the score is >>>>>>>>>>>>>>> 0.537015080163\n",
      "the score is >>>>>>>>>>>>>>> 0.811398109751\n",
      "the score is >>>>>>>>>>>>>>> 0.811398109751\n",
      "the score is >>>>>>>>>>>>>>> 0.811398109751\n",
      "the score is >>>>>>>>>>>>>>> 0.811398109751\n",
      "the score is >>>>>>>>>>>>>>> 0.811398109751\n",
      "the score is >>>>>>>>>>>>>>> 0.811398109751\n",
      "the score is >>>>>>>>>>>>>>> 0.771079708252\n",
      "the score is >>>>>>>>>>>>>>> 0.771079708252\n",
      "the score is >>>>>>>>>>>>>>> 0.771079708252\n",
      "the score is >>>>>>>>>>>>>>> 0.771079708252\n",
      "the score is >>>>>>>>>>>>>>> 0.771079708252\n",
      "the score is >>>>>>>>>>>>>>> 0.771079708252\n",
      "the score is >>>>>>>>>>>>>>> 0.75261859561\n",
      "the score is >>>>>>>>>>>>>>> 0.75261859561\n",
      "the score is >>>>>>>>>>>>>>> 0.75261859561\n",
      "the score is >>>>>>>>>>>>>>> 0.75261859561\n",
      "the score is >>>>>>>>>>>>>>> 0.75261859561\n",
      "the score is >>>>>>>>>>>>>>> 0.75261859561\n",
      "the score is >>>>>>>>>>>>>>> 0.716853642978\n",
      "the score is >>>>>>>>>>>>>>> 0.716853642978\n",
      "the score is >>>>>>>>>>>>>>> 0.716853642978\n",
      "the score is >>>>>>>>>>>>>>> 0.716853642978\n",
      "the score is >>>>>>>>>>>>>>> 0.716853642978\n",
      "the score is >>>>>>>>>>>>>>> 0.716853642978\n",
      "the score is >>>>>>>>>>>>>>> 0.708260055584\n",
      "the score is >>>>>>>>>>>>>>> 0.708260055584\n",
      "the score is >>>>>>>>>>>>>>> 0.708260055584\n",
      "the score is >>>>>>>>>>>>>>> 0.708260055584\n",
      "the score is >>>>>>>>>>>>>>> 0.708260055584\n",
      "the score is >>>>>>>>>>>>>>> 0.708260055584\n",
      "the score is >>>>>>>>>>>>>>> 0.704288446182\n",
      "the score is >>>>>>>>>>>>>>> 0.704288446182\n",
      "the score is >>>>>>>>>>>>>>> 0.704288446182\n",
      "the score is >>>>>>>>>>>>>>> 0.704288446182\n",
      "the score is >>>>>>>>>>>>>>> 0.704288446182\n",
      "the score is >>>>>>>>>>>>>>> 0.704288446182\n"
     ]
    }
   ],
   "source": [
    "#the grid of parameters to search over\n",
    "alphas = [0.00001,0.0001,0.001,0.01,0.1, 0, 1, 5, 10, 50, 90, 130] #, 190, 250]\n",
    "#min_dfs = [1e-2, 1e-1, 0.4, 0.8]\n",
    "#alphas = [0, .1, 1, 5, 10, 50]\n",
    "min_dfs = [1e-10,1e-9,1e-8,1e-7,1e-6,1e-5] #, 1e-4, 1e-3, 1e-2, 1e-1]\n",
    "\n",
    "#Find the best value for alpha and min_df, and the best classifier\n",
    "best_alpha = None\n",
    "best_min_df = None\n",
    "best_classifier=None\n",
    "maxscore=-np.inf\n",
    "for alpha in alphas:\n",
    "    for min_df in min_dfs:         \n",
    "        vectorizer = TfidfVectorizer(min_df = min_df, stop_words=stop)       \n",
    "        Xthis, ythis, n = make_xyn(data=df2bse_agri, doc_var='texts.en',target='prop_female',pos_val=1, vectorizer=vectorizer)\n",
    "        Xtrainthis=Xthis[mask]\n",
    "        ytrainthis=ythis[mask]\n",
    "        #your turn\n",
    "        Xtestthis=Xthis[~mask]\n",
    "        ytestthis=ythis[~mask]\n",
    "        classifier = nb.MultinomialNB(alpha=alpha)\n",
    "        classifier.fit(Xtrainthis,ytrainthis)\n",
    "        score=cv_score(classifier, Xtestthis, ytestthis, auc_test)\n",
    "        print \"the score is >>>>>>>>>>>>>>>\",score\n",
    "        if score > maxscore:\n",
    "            maxscore = score\n",
    "            best_alpha = alpha\n",
    "            best_min_df = min_df\n",
    "            best_classifier = classifier\n",
    "            print 'the new maxscore is: %0.3f' % (maxscore)\n",
    "            print 'best_alpha = ',best_alpha, 'best_min_df =',best_min_df"
   ]
  },
  {
   "cell_type": "code",
   "execution_count": 124,
   "metadata": {
    "collapsed": false,
    "scrolled": true
   },
   "outputs": [
    {
     "name": "stdout",
     "output_type": "stream",
     "text": [
      "alpha: 0.100000\n",
      "min_df: 0.000000\n"
     ]
    }
   ],
   "source": [
    "print \"alpha: %f\" % best_alpha\n",
    "print \"min_df: %f\" % best_min_df"
   ]
  },
  {
   "cell_type": "code",
   "execution_count": 125,
   "metadata": {
    "collapsed": false
   },
   "outputs": [
    {
     "name": "stdout",
     "output_type": "stream",
     "text": [
      "Accuracy on training data: 0.91\n",
      "Accuracy on test data:     0.80\n"
     ]
    }
   ],
   "source": [
    "vectorizer = TfidfVectorizer(min_df=best_min_df, stop_words=stop)\n",
    "X, y, n = make_xyn(data=df2bse_agri, doc_var='texts.en',target='prop_female',pos_val=1, vectorizer=vectorizer)\n",
    "xtrain=X[mask]\n",
    "ytrain=y[mask]\n",
    "xtest=X[~mask]\n",
    "ytest=y[~mask]\n",
    "\n",
    "clf = nb.MultinomialNB(alpha=best_alpha).fit(xtrain, ytrain)\n",
    "\n",
    "training_accuracy = clf.score(xtrain, ytrain)\n",
    "test_accuracy = clf.score(xtest, ytest)\n",
    "\n",
    "print \"Accuracy on training data: %0.2f\" % (training_accuracy)\n",
    "print \"Accuracy on test data:     %0.2f\" % (test_accuracy)"
   ]
  },
  {
   "cell_type": "code",
   "execution_count": 126,
   "metadata": {
    "collapsed": false
   },
   "outputs": [
    {
     "name": "stdout",
     "output_type": "stream",
     "text": [
      "Words associated with female recipients\t     P(female | word)\n",
      "              fridah 0.99\n",
      "             charity 0.98\n",
      "               umazi 0.98\n",
      "               chizi 0.98\n",
      "            jennifer 0.98\n",
      "               norah 0.98\n",
      "                span 0.97\n",
      "           anastasia 0.97\n",
      "                sidi 0.97\n",
      "           mwanamisi 0.97\n",
      "            isabella 0.97\n",
      "              luvuno 0.97\n",
      "              janeth 0.97\n",
      "               doris 0.97\n",
      "               amina 0.97\n",
      "             stellah 0.97\n",
      "              salome 0.97\n",
      "            carolyne 0.97\n",
      "              penina 0.97\n",
      "               winny 0.97\n",
      "Words associated with male recipients\t     P(female | word)\n",
      "               haron 0.03\n",
      "              thomas 0.03\n",
      "              duncan 0.03\n",
      "            lawrence 0.03\n",
      "              zablon 0.03\n",
      "              justus 0.03\n",
      "           nicodemus 0.03\n",
      "               jonah 0.03\n",
      "                musa 0.02\n",
      "             zachary 0.02\n",
      "              gideon 0.02\n",
      "             wilfred 0.02\n",
      "               silas 0.02\n",
      "               evans 0.02\n",
      "             solomon 0.02\n",
      "             gilbert 0.02\n",
      "             kennedy 0.02\n",
      "             vincent 0.02\n",
      "              wilson 0.01\n",
      "              samwel 0.01\n"
     ]
    }
   ],
   "source": [
    "words = np.array(vectorizer.get_feature_names())\n",
    "\n",
    "x = np.eye(xtest.shape[1])\n",
    "probs = clf.predict_log_proba(x)[:, 0]\n",
    "ind = np.argsort(probs)\n",
    "\n",
    "good_words = words[ind[:20]]\n",
    "bad_words = words[ind[-20:]]\n",
    "\n",
    "good_prob = probs[ind[:20]]\n",
    "bad_prob = probs[ind[-20:]]\n",
    "\n",
    "print \"Words associated with female recipients\\t     P(female | word)\"\n",
    "for w, p in zip(good_words, good_prob):\n",
    "    print \"%20s\" % w, \"%0.2f\" % (1 - np.exp(p))\n",
    "    \n",
    "print \"Words associated with male recipients\\t     P(female | word)\"\n",
    "for w, p in zip(bad_words, bad_prob):\n",
    "    print \"%20s\" % w, \"%0.2f\" % (1 - np.exp(p))"
   ]
  },
  {
   "cell_type": "code",
   "execution_count": 130,
   "metadata": {
    "collapsed": false
   },
   "outputs": [
    {
     "data": {
      "text/plain": [
       "0"
      ]
     },
     "execution_count": 130,
     "metadata": {},
     "output_type": "execute_result"
    }
   ],
   "source": [
    "sum(df2bse_agri.name.str.contains('salome'))"
   ]
  },
  {
   "cell_type": "code",
   "execution_count": null,
   "metadata": {
    "collapsed": true
   },
   "outputs": [],
   "source": [
    "predicted_female=clf.predict(xtest)\n",
    "predicted_probs=clf.predict_proba(xtest)\n",
    "accuracy=clf.score(xtest,ytest)\n",
    "precision,recall,f1,_= metrics.precision_recall_fscore_support(ytest,predicted_female,average='binary')\n",
    "auc = metrics.roc_auc_score(ytest,predicted_female)\n",
    "print 'Test accuracy = ', accuracy\n",
    "print 'Test precision =', precision\n",
    "print 'Test recall = ', recall\n",
    "print 'Test f1 = ', f1\n",
    "print 'Test AUC-ROC = ',auc"
   ]
  },
  {
   "cell_type": "markdown",
   "metadata": {},
   "source": [
    "## Although all the names of the loan recipients have been included as stop words and removed from the analysis, many names remain in the texts and these contribute to prediction of the gender of the recipient. Here I scan the texts for words that look like names and add them to the stop words."
   ]
  },
  {
   "cell_type": "code",
   "execution_count": 137,
   "metadata": {
    "collapsed": true
   },
   "outputs": [],
   "source": [
    "import re\n",
    "import nltk"
   ]
  },
  {
   "cell_type": "code",
   "execution_count": 138,
   "metadata": {
    "collapsed": false
   },
   "outputs": [],
   "source": [
    "def split_text(text):\n",
    "        sentences = nltk.sent_tokenize(text)\n",
    "        stripped_sentences = []\n",
    "        for sentence in sentences:\n",
    "            stripped_sentences.append(sentence.strip())\n",
    "        return stripped_sentences\n"
   ]
  },
  {
   "cell_type": "code",
   "execution_count": 198,
   "metadata": {
    "collapsed": false
   },
   "outputs": [],
   "source": [
    "    def get_options(sentences):\n",
    "        options = set()\n",
    "        for s in sentences:\n",
    "            f = re.finditer(pattern, s)\n",
    "            for a in f:\n",
    "                o = a.group(\"name\").strip()\n",
    "                #print o\n",
    "                parts = o.split(\" \")\n",
    "                if (parts != [''])&(len(parts)==1):\n",
    "                    options.add(o)\n",
    "                if len(parts) > 1:\n",
    "                    for i in parts:\n",
    "                        options.add(i)\n",
    "                    #if len(parts) > 2:\n",
    "                    #    extra_options = nltk.ngrams(parts, 2)\n",
    "                    #    for e in extra_options:\n",
    "                    #        options.add(\" \".join(e))\n",
    "\n",
    "        return options"
   ]
  },
  {
   "cell_type": "code",
   "execution_count": 151,
   "metadata": {
    "collapsed": true
   },
   "outputs": [],
   "source": [
    "pattern = \"(?P<name>(([A-Z]+)([a-z]*)(\\s)?)*)\""
   ]
  },
  {
   "cell_type": "code",
   "execution_count": 177,
   "metadata": {
    "collapsed": true
   },
   "outputs": [],
   "source": [
    "def get_names(text,**kwargs):\n",
    "    ss=split_text(text)\n",
    "    words=get_options(ss)\n",
    "    for i in words:\n",
    "        nset.add(i)\n",
    "    "
   ]
  },
  {
   "cell_type": "code",
   "execution_count": 203,
   "metadata": {
    "collapsed": false,
    "scrolled": false
   },
   "outputs": [
    {
     "data": {
      "text/plain": [
       "''"
      ]
     },
     "execution_count": 203,
     "metadata": {},
     "output_type": "execute_result"
    }
   ],
   "source": [
    "aset=set()\n",
    "df2b_single['texts.en'].apply(get_names,nset=aset)\n",
    ";"
   ]
  },
  {
   "cell_type": "code",
   "execution_count": 206,
   "metadata": {
    "collapsed": true
   },
   "outputs": [],
   "source": [
    "aset = [x.lower() for x in aset]"
   ]
  },
  {
   "cell_type": "code",
   "execution_count": 259,
   "metadata": {
    "collapsed": true
   },
   "outputs": [],
   "source": [
    "stop.extend(tuple(aset))"
   ]
  },
  {
   "cell_type": "code",
   "execution_count": 260,
   "metadata": {
    "collapsed": false,
    "scrolled": true
   },
   "outputs": [
    {
     "data": {
      "text/plain": [
       "list"
      ]
     },
     "execution_count": 260,
     "metadata": {},
     "output_type": "execute_result"
    }
   ],
   "source": [
    "type(stop)"
   ]
  },
  {
   "cell_type": "code",
   "execution_count": 243,
   "metadata": {
    "collapsed": false
   },
   "outputs": [
    {
     "data": {
      "text/plain": [
       "29369"
      ]
     },
     "execution_count": 243,
     "metadata": {},
     "output_type": "execute_result"
    }
   ],
   "source": [
    "len(stop)"
   ]
  },
  {
   "cell_type": "markdown",
   "metadata": {},
   "source": [
    "## Now run the last fitting with all words that look like names removed using the new stop"
   ]
  },
  {
   "cell_type": "code",
   "execution_count": 254,
   "metadata": {
    "collapsed": false
   },
   "outputs": [
    {
     "name": "stdout",
     "output_type": "stream",
     "text": [
      "the score is >>>>>>>>>>>>>>> 0.586611622942\n",
      "the new maxscore is: 0.587\n",
      "best_alpha =  1e-05 best_min_df = 1e-10\n",
      "the score is >>>>>>>>>>>>>>> 0.586611622942\n",
      "the score is >>>>>>>>>>>>>>> 0.586611622942\n",
      "the score is >>>>>>>>>>>>>>> 0.586611622942\n",
      "the score is >>>>>>>>>>>>>>> 0.586611622942\n",
      "the score is >>>>>>>>>>>>>>> 0.586611622942\n",
      "the score is >>>>>>>>>>>>>>> 0.587988047688\n",
      "the new maxscore is: 0.588\n",
      "best_alpha =  0.0001 best_min_df = 1e-10\n",
      "the score is >>>>>>>>>>>>>>> 0.587988047688\n",
      "the score is >>>>>>>>>>>>>>> 0.587988047688\n",
      "the score is >>>>>>>>>>>>>>> 0.587988047688\n",
      "the score is >>>>>>>>>>>>>>> 0.587988047688\n",
      "the score is >>>>>>>>>>>>>>> 0.587988047688\n",
      "the score is >>>>>>>>>>>>>>> 0.590197055428\n",
      "the new maxscore is: 0.590\n",
      "best_alpha =  0.001 best_min_df = 1e-10\n",
      "the score is >>>>>>>>>>>>>>> 0.590197055428\n",
      "the score is >>>>>>>>>>>>>>> 0.590197055428\n",
      "the score is >>>>>>>>>>>>>>> 0.590197055428\n",
      "the score is >>>>>>>>>>>>>>> 0.590197055428\n",
      "the score is >>>>>>>>>>>>>>> 0.590197055428\n",
      "the score is >>>>>>>>>>>>>>> 0.594562556645\n",
      "the new maxscore is: 0.595\n",
      "best_alpha =  0.01 best_min_df = 1e-10\n",
      "the score is >>>>>>>>>>>>>>> 0.594562556645\n",
      "the score is >>>>>>>>>>>>>>> 0.594562556645\n",
      "the score is >>>>>>>>>>>>>>> 0.594562556645\n",
      "the score is >>>>>>>>>>>>>>> 0.594562556645\n",
      "the score is >>>>>>>>>>>>>>> 0.594562556645\n",
      "the score is >>>>>>>>>>>>>>> 0.603722749844\n",
      "the new maxscore is: 0.604\n",
      "best_alpha =  0.1 best_min_df = 1e-10\n",
      "the score is >>>>>>>>>>>>>>> 0.603722749844\n",
      "the score is >>>>>>>>>>>>>>> 0.603722749844\n",
      "the score is >>>>>>>>>>>>>>> 0.603722749844\n",
      "the score is >>>>>>>>>>>>>>> 0.603722749844\n",
      "the score is >>>>>>>>>>>>>>> 0.603722749844\n",
      "the score is >>>>>>>>>>>>>>> 0.534086025251\n",
      "the score is >>>>>>>>>>>>>>> 0.534086025251\n",
      "the score is >>>>>>>>>>>>>>> 0.534086025251\n",
      "the score is >>>>>>>>>>>>>>> 0.534086025251\n",
      "the score is >>>>>>>>>>>>>>> 0.534086025251\n",
      "the score is >>>>>>>>>>>>>>> 0.534086025251\n",
      "the score is >>>>>>>>>>>>>>> 0.607713977621\n",
      "the new maxscore is: 0.608\n",
      "best_alpha =  1 best_min_df = 1e-10\n",
      "the score is >>>>>>>>>>>>>>> 0.607713977621\n",
      "the score is >>>>>>>>>>>>>>> 0.607713977621\n",
      "the score is >>>>>>>>>>>>>>> 0.607713977621\n",
      "the score is >>>>>>>>>>>>>>> 0.607713977621\n",
      "the score is >>>>>>>>>>>>>>> 0.607713977621\n",
      "the score is >>>>>>>>>>>>>>> 0.602016265569\n",
      "the score is >>>>>>>>>>>>>>> 0.602016265569\n",
      "the score is >>>>>>>>>>>>>>> 0.602016265569\n",
      "the score is >>>>>>>>>>>>>>> 0.602016265569\n",
      "the score is >>>>>>>>>>>>>>> 0.602016265569\n",
      "the score is >>>>>>>>>>>>>>> 0.602016265569\n",
      "the score is >>>>>>>>>>>>>>> 0.597585668237\n",
      "the score is >>>>>>>>>>>>>>> 0.597585668237\n",
      "the score is >>>>>>>>>>>>>>> 0.597585668237\n",
      "the score is >>>>>>>>>>>>>>> 0.597585668237\n",
      "the score is >>>>>>>>>>>>>>> 0.597585668237\n",
      "the score is >>>>>>>>>>>>>>> 0.597585668237\n",
      "the score is >>>>>>>>>>>>>>> 0.588046001476\n",
      "the score is >>>>>>>>>>>>>>> 0.588046001476\n",
      "the score is >>>>>>>>>>>>>>> 0.588046001476\n",
      "the score is >>>>>>>>>>>>>>> 0.588046001476\n",
      "the score is >>>>>>>>>>>>>>> 0.588046001476\n",
      "the score is >>>>>>>>>>>>>>> 0.588046001476\n",
      "the score is >>>>>>>>>>>>>>> 0.585712563986\n",
      "the score is >>>>>>>>>>>>>>> 0.585712563986\n",
      "the score is >>>>>>>>>>>>>>> 0.585712563986\n",
      "the score is >>>>>>>>>>>>>>> 0.585712563986\n",
      "the score is >>>>>>>>>>>>>>> 0.585712563986\n",
      "the score is >>>>>>>>>>>>>>> 0.585712563986\n",
      "the score is >>>>>>>>>>>>>>> 0.584673076041\n",
      "the score is >>>>>>>>>>>>>>> 0.584673076041\n",
      "the score is >>>>>>>>>>>>>>> 0.584673076041\n",
      "the score is >>>>>>>>>>>>>>> 0.584673076041\n",
      "the score is >>>>>>>>>>>>>>> 0.584673076041\n",
      "the score is >>>>>>>>>>>>>>> 0.584673076041\n"
     ]
    }
   ],
   "source": [
    "#the grid of parameters to search over\n",
    "alphas = [0.00001,0.0001,0.001,0.01,0.1, 0, 1, 5, 10, 50, 90, 130] #, 190, 250]\n",
    "#min_dfs = [1e-2, 1e-1, 0.4, 0.8]\n",
    "#alphas = [0, .1, 1, 5, 10, 50]\n",
    "min_dfs = [1e-10,1e-9,1e-8,1e-7,1e-6,1e-5] #, 1e-4, 1e-3, 1e-2, 1e-1]\n",
    "\n",
    "#Find the best value for alpha and min_df, and the best classifier\n",
    "best_alpha = None\n",
    "best_min_df = None\n",
    "best_classifier=None\n",
    "maxscore=-np.inf\n",
    "for alpha in alphas:\n",
    "    for min_df in min_dfs:         \n",
    "        vectorizer = TfidfVectorizer(min_df = min_df, stop_words=stop)       \n",
    "        Xthis, ythis, n = make_xyn(data=df2bse_agri, doc_var='texts.en',target='prop_female',pos_val=1, vectorizer=vectorizer)\n",
    "        Xtrainthis=Xthis[mask]\n",
    "        ytrainthis=ythis[mask]\n",
    "        #your turn\n",
    "        Xtestthis=Xthis[~mask]\n",
    "        ytestthis=ythis[~mask]\n",
    "        classifier = nb.MultinomialNB(alpha=alpha)\n",
    "        classifier.fit(Xtrainthis,ytrainthis)\n",
    "        score=cv_score(classifier, Xtestthis, ytestthis, auc_test)\n",
    "        print \"the score is >>>>>>>>>>>>>>>\",score\n",
    "        if score > maxscore:\n",
    "            maxscore = score\n",
    "            best_alpha = alpha\n",
    "            best_min_df = min_df\n",
    "            best_classifier = classifier\n",
    "            print 'the new maxscore is: %0.3f' % (maxscore)\n",
    "            print 'best_alpha = ',best_alpha, 'best_min_df =',best_min_df"
   ]
  },
  {
   "cell_type": "code",
   "execution_count": 255,
   "metadata": {
    "collapsed": false
   },
   "outputs": [
    {
     "name": "stdout",
     "output_type": "stream",
     "text": [
      "alpha: 1.000000\n",
      "min_df: 0.000000\n"
     ]
    }
   ],
   "source": [
    "print \"alpha: %f\" % best_alpha\n",
    "print \"min_df: %f\" % best_min_df"
   ]
  },
  {
   "cell_type": "code",
   "execution_count": 256,
   "metadata": {
    "collapsed": false
   },
   "outputs": [
    {
     "name": "stdout",
     "output_type": "stream",
     "text": [
      "Accuracy on training data: 0.71\n",
      "Accuracy on test data:     0.61\n"
     ]
    }
   ],
   "source": [
    "vectorizer = TfidfVectorizer(min_df=best_min_df, stop_words=stop)\n",
    "X, y, n = make_xyn(data=df2bse_agri, doc_var='texts.en',target='prop_female',pos_val=1, vectorizer=vectorizer)\n",
    "xtrain=X[mask]\n",
    "ytrain=y[mask]\n",
    "xtest=X[~mask]\n",
    "ytest=y[~mask]\n",
    "\n",
    "clf = nb.MultinomialNB(alpha=best_alpha).fit(xtrain, ytrain)\n",
    "\n",
    "training_accuracy = clf.score(xtrain, ytrain)\n",
    "test_accuracy = clf.score(xtest, ytest)\n",
    "\n",
    "print \"Accuracy on training data: %0.2f\" % (training_accuracy)\n",
    "print \"Accuracy on test data:     %0.2f\" % (test_accuracy)"
   ]
  },
  {
   "cell_type": "code",
   "execution_count": 257,
   "metadata": {
    "collapsed": false
   },
   "outputs": [
    {
     "name": "stdout",
     "output_type": "stream",
     "text": [
      "Words associated with female recipients\t     P(female | word)\n",
      "                2013 0.89\n",
      "                span 0.86\n",
      "                font 0.85\n",
      "                2012 0.81\n",
      "              allows 0.80\n",
      "             satisfy 0.79\n",
      "           enrolling 0.78\n",
      "                2011 0.78\n",
      "          consisting 0.78\n",
      "                hens 0.78\n",
      "             package 0.77\n",
      "             broiler 0.77\n",
      "              chicks 0.77\n",
      "          distribute 0.76\n",
      "           delivered 0.76\n",
      "            standing 0.76\n",
      "            citizens 0.76\n",
      "         commodities 0.76\n",
      "            clothing 0.75\n",
      "               posed 0.75\n",
      "Words associated with male recipients\t     P(female | word)\n",
      "          prospering 0.20\n",
      "            disposal 0.20\n",
      "          butcheries 0.20\n",
      "           unmarried 0.20\n",
      "           colleague 0.17\n",
      "             renting 0.17\n",
      "           energetic 0.17\n",
      "               abode 0.17\n",
      "            dwelling 0.16\n",
      "               spare 0.16\n",
      "       advertisement 0.15\n",
      "             planned 0.14\n",
      "             masonry 0.14\n",
      "              proved 0.13\n",
      "           carpentry 0.13\n",
      "              funded 0.12\n",
      "            siblings 0.12\n",
      "            campaign 0.10\n",
      "           housewife 0.10\n",
      "           assiduous 0.07\n"
     ]
    }
   ],
   "source": [
    "words = np.array(vectorizer.get_feature_names())\n",
    "\n",
    "x = np.eye(xtest.shape[1])\n",
    "probs = clf.predict_log_proba(x)[:, 0]\n",
    "ind = np.argsort(probs)\n",
    "\n",
    "good_words = words[ind[:20]]\n",
    "bad_words = words[ind[-20:]]\n",
    "\n",
    "good_prob = probs[ind[:20]]\n",
    "bad_prob = probs[ind[-20:]]\n",
    "\n",
    "print \"Words associated with female recipients\\t     P(female | word)\"\n",
    "for w, p in zip(good_words, good_prob):\n",
    "    print \"%20s\" % w, \"%0.2f\" % (1 - np.exp(p))\n",
    "    \n",
    "print \"Words associated with male recipients\\t     P(female | word)\"\n",
    "for w, p in zip(bad_words, bad_prob):\n",
    "    print \"%20s\" % w, \"%0.2f\" % (1 - np.exp(p))"
   ]
  },
  {
   "cell_type": "code",
   "execution_count": 231,
   "metadata": {
    "collapsed": false
   },
   "outputs": [
    {
     "name": "stdout",
     "output_type": "stream",
     "text": [
      "Test accuracy =  0.607373868047\n",
      "Test precision = 0.613673805601\n",
      "Test recall =  0.5\n",
      "Test f1 =  0.551035502959\n",
      "Test AUC-ROC =  0.603620474407\n"
     ]
    }
   ],
   "source": [
    "predicted_female=clf.predict(xtest)\n",
    "predicted_probs=clf.predict_proba(xtest)\n",
    "accuracy=clf.score(xtest,ytest)\n",
    "precision,recall,f1,_= metrics.precision_recall_fscore_support(ytest,predicted_female,average='binary')\n",
    "auc = metrics.roc_auc_score(ytest,predicted_female)\n",
    "print 'Test accuracy = ', accuracy\n",
    "print 'Test precision =', precision\n",
    "print 'Test recall = ', recall\n",
    "print 'Test f1 = ', f1\n",
    "print 'Test AUC-ROC = ',auc"
   ]
  },
  {
   "cell_type": "markdown",
   "metadata": {},
   "source": [
    "## Once all the name-like words are removed from the text, the ability to predict gender in the data from the agriculutral sector before 2013 is much reduced.  With AUC at 0.6, the learner is not usable.  \n",
    "\n",
    "## Let's step back just a bit and try training the learner on the dataset with a single recipient, either male or female, including all sectors."
   ]
  },
  {
   "cell_type": "code",
   "execution_count": 263,
   "metadata": {
    "collapsed": true
   },
   "outputs": [],
   "source": [
    "itrain, itest = train_test_split(xrange(df2b_single.shape[0]), stratify=df2b_single.prop_female, test_size=0.2)\n",
    "mask=np.ones(df2b_single.shape[0], dtype='int')\n",
    "mask[itrain]=1\n",
    "mask[itest]=0\n",
    "mask = (mask==1)"
   ]
  },
  {
   "cell_type": "code",
   "execution_count": 264,
   "metadata": {
    "collapsed": false
   },
   "outputs": [
    {
     "name": "stdout",
     "output_type": "stream",
     "text": [
      "the score is >>>>>>>>>>>>>>> 0.681535525933\n",
      "the new maxscore is: 0.682\n",
      "best_alpha =  1e-05 best_min_df = 1e-10\n",
      "the score is >>>>>>>>>>>>>>> 0.681535525933\n",
      "the score is >>>>>>>>>>>>>>> 0.681535525933\n",
      "the score is >>>>>>>>>>>>>>> 0.687257375296\n",
      "the new maxscore is: 0.687\n",
      "best_alpha =  0.0001 best_min_df = 1e-10\n",
      "the score is >>>>>>>>>>>>>>> 0.687257375296\n",
      "the score is >>>>>>>>>>>>>>> 0.687257375296\n",
      "the score is >>>>>>>>>>>>>>> 0.69609167334\n",
      "the new maxscore is: 0.696\n",
      "best_alpha =  0.001 best_min_df = 1e-10\n",
      "the score is >>>>>>>>>>>>>>> 0.69609167334\n",
      "the score is >>>>>>>>>>>>>>> 0.69609167334\n",
      "the score is >>>>>>>>>>>>>>> 0.708261856933\n",
      "the new maxscore is: 0.708\n",
      "best_alpha =  0.01 best_min_df = 1e-10\n",
      "the score is >>>>>>>>>>>>>>> 0.708261856933\n",
      "the score is >>>>>>>>>>>>>>> 0.708261856933\n",
      "the score is >>>>>>>>>>>>>>> 0.720196863502\n",
      "the new maxscore is: 0.720\n",
      "best_alpha =  0.1 best_min_df = 1e-10\n",
      "the score is >>>>>>>>>>>>>>> 0.720196863502\n",
      "the score is >>>>>>>>>>>>>>> 0.720196863502\n",
      "the score is >>>>>>>>>>>>>>> 0.593105511271\n",
      "the score is >>>>>>>>>>>>>>> 0.593105511271\n",
      "the score is >>>>>>>>>>>>>>> 0.593105511271\n",
      "the score is >>>>>>>>>>>>>>> 0.720699967561\n",
      "the new maxscore is: 0.721\n",
      "best_alpha =  1 best_min_df = 1e-10\n",
      "the score is >>>>>>>>>>>>>>> 0.720699967561\n",
      "the score is >>>>>>>>>>>>>>> 0.720699967561\n",
      "the score is >>>>>>>>>>>>>>> 0.706268151114\n",
      "the score is >>>>>>>>>>>>>>> 0.706268151114\n",
      "the score is >>>>>>>>>>>>>>> 0.706268151114\n",
      "the score is >>>>>>>>>>>>>>> 0.696096945887\n",
      "the score is >>>>>>>>>>>>>>> 0.696096945887\n",
      "the score is >>>>>>>>>>>>>>> 0.696096945887\n",
      "the score is >>>>>>>>>>>>>>> 0.669070693961\n",
      "the score is >>>>>>>>>>>>>>> 0.669070693961\n",
      "the score is >>>>>>>>>>>>>>> 0.669070693961\n",
      "the score is >>>>>>>>>>>>>>> 0.660348957756\n",
      "the score is >>>>>>>>>>>>>>> 0.660348957756\n",
      "the score is >>>>>>>>>>>>>>> 0.660348957756\n",
      "the score is >>>>>>>>>>>>>>> 0.655632510444\n",
      "the score is >>>>>>>>>>>>>>> 0.655632510444\n",
      "the score is >>>>>>>>>>>>>>> 0.655632510444\n"
     ]
    }
   ],
   "source": [
    "#the grid of parameters to search over\n",
    "alphas = [0.00001,0.0001,0.001,0.01,0.1, 0, 1, 5, 10, 50, 90, 130] #, 190, 250]\n",
    "#min_dfs = [1e-2, 1e-1, 0.4, 0.8]\n",
    "#alphas = [0, .1, 1, 5, 10, 50]\n",
    "min_dfs = [1e-10,1e-9,1e-8] #,1e-7,1e-6,1e-5] #, 1e-4, 1e-3, 1e-2, 1e-1]\n",
    "\n",
    "#Find the best value for alpha and min_df, and the best classifier\n",
    "best_alpha = None\n",
    "best_min_df = None\n",
    "best_classifier=None\n",
    "maxscore=-np.inf\n",
    "for alpha in alphas:\n",
    "    for min_df in min_dfs:         \n",
    "        vectorizer = TfidfVectorizer(min_df = min_df, stop_words=stop)       \n",
    "        Xthis, ythis, n = make_xyn(data=df2b_single, doc_var='texts.en',target='prop_female',pos_val=1, vectorizer=vectorizer)\n",
    "        Xtrainthis=Xthis[mask]\n",
    "        ytrainthis=ythis[mask]\n",
    "        #your turn\n",
    "        Xtestthis=Xthis[~mask]\n",
    "        ytestthis=ythis[~mask]\n",
    "        classifier = nb.MultinomialNB(alpha=alpha)\n",
    "        classifier.fit(Xtrainthis,ytrainthis)\n",
    "        score=cv_score(classifier, Xtestthis, ytestthis, auc_test)\n",
    "        print \"the score is >>>>>>>>>>>>>>>\",score\n",
    "        if score > maxscore:\n",
    "            maxscore = score\n",
    "            best_alpha = alpha\n",
    "            best_min_df = min_df\n",
    "            best_classifier = classifier\n",
    "            print 'the new maxscore is: %0.3f' % (maxscore)\n",
    "            print 'best_alpha = ',best_alpha, 'best_min_df =',best_min_df"
   ]
  },
  {
   "cell_type": "code",
   "execution_count": 265,
   "metadata": {
    "collapsed": false
   },
   "outputs": [
    {
     "name": "stdout",
     "output_type": "stream",
     "text": [
      "Accuracy on training data: 0.75\n",
      "Accuracy on test data:     0.73\n"
     ]
    }
   ],
   "source": [
    "vectorizer = TfidfVectorizer(min_df=best_min_df, stop_words=stop)\n",
    "X, y, n = make_xyn(data=df2b_single, doc_var='texts.en',target='prop_female',pos_val=1, vectorizer=vectorizer)\n",
    "xtrain=X[mask]\n",
    "ytrain=y[mask]\n",
    "xtest=X[~mask]\n",
    "ytest=y[~mask]\n",
    "\n",
    "clf = nb.MultinomialNB(alpha=best_alpha).fit(xtrain, ytrain)\n",
    "\n",
    "training_accuracy = clf.score(xtrain, ytrain)\n",
    "test_accuracy = clf.score(xtest, ytest)\n",
    "\n",
    "print \"Accuracy on training data: %0.2f\" % (training_accuracy)\n",
    "print \"Accuracy on test data:     %0.2f\" % (test_accuracy)"
   ]
  },
  {
   "cell_type": "code",
   "execution_count": 266,
   "metadata": {
    "collapsed": false
   },
   "outputs": [
    {
     "name": "stdout",
     "output_type": "stream",
     "text": [
      "Words associated with female recipients\t     P(female | word)\n",
      "                wrap 0.98\n",
      "           dumplings 0.97\n",
      "              weaves 0.97\n",
      "        conditioners 0.97\n",
      "              cashew 0.96\n",
      "                flat 0.96\n",
      "             weaving 0.96\n",
      "         consumables 0.95\n",
      "                font 0.95\n",
      "                 nut 0.95\n",
      "           mentioned 0.95\n",
      "                 mat 0.95\n",
      "           lipsticks 0.94\n",
      "              braids 0.94\n",
      "        thankfulness 0.94\n",
      "           creditors 0.94\n",
      "            underage 0.94\n",
      "            landlady 0.94\n",
      "               wraps 0.94\n",
      "             lotions 0.94\n",
      "Words associated with male recipients\t     P(female | word)\n",
      "            quarries 0.15\n",
      "            pedigree 0.14\n",
      "            showroom 0.14\n",
      "             watches 0.14\n",
      "       advertisement 0.14\n",
      "           repairing 0.13\n",
      "        photographer 0.13\n",
      "             shaving 0.13\n",
      "         fabrication 0.13\n",
      "               abode 0.13\n",
      "           assiduous 0.12\n",
      "                glue 0.12\n",
      "               fleet 0.11\n",
      "                rods 0.11\n",
      "          motorbikes 0.11\n",
      "             cobbler 0.10\n",
      "             welding 0.08\n",
      "           carpentry 0.08\n",
      "             masonry 0.08\n",
      "          transports 0.05\n"
     ]
    }
   ],
   "source": [
    "words = np.array(vectorizer.get_feature_names())\n",
    "\n",
    "x = np.eye(xtest.shape[1])\n",
    "probs = clf.predict_log_proba(x)[:, 0]\n",
    "ind = np.argsort(probs)\n",
    "\n",
    "good_words = words[ind[:20]]\n",
    "bad_words = words[ind[-20:]]\n",
    "\n",
    "good_prob = probs[ind[:20]]\n",
    "bad_prob = probs[ind[-20:]]\n",
    "\n",
    "print \"Words associated with female recipients\\t     P(female | word)\"\n",
    "for w, p in zip(good_words, good_prob):\n",
    "    print \"%20s\" % w, \"%0.2f\" % (1 - np.exp(p))\n",
    "    \n",
    "print \"Words associated with male recipients\\t     P(female | word)\"\n",
    "for w, p in zip(bad_words, bad_prob):\n",
    "    print \"%20s\" % w, \"%0.2f\" % (1 - np.exp(p))"
   ]
  },
  {
   "cell_type": "code",
   "execution_count": 267,
   "metadata": {
    "collapsed": false
   },
   "outputs": [
    {
     "name": "stdout",
     "output_type": "stream",
     "text": [
      "Test accuracy =  0.725897070942\n",
      "Test precision = 0.750903938239\n",
      "Test recall =  0.87377757562\n",
      "Test f1 =  0.807694329111\n",
      "Test AUC-ROC =  0.657086372881\n"
     ]
    }
   ],
   "source": [
    "predicted_female=clf.predict(xtest)\n",
    "predicted_probs=clf.predict_proba(xtest)\n",
    "accuracy=clf.score(xtest,ytest)\n",
    "precision,recall,f1,_= metrics.precision_recall_fscore_support(ytest,predicted_female,average='binary')\n",
    "auc = metrics.roc_auc_score(ytest,predicted_female)\n",
    "print 'Test accuracy = ', accuracy\n",
    "print 'Test precision =', precision\n",
    "print 'Test recall = ', recall\n",
    "print 'Test f1 = ', f1\n",
    "print 'Test AUC-ROC = ',auc"
   ]
  },
  {
   "cell_type": "markdown",
   "metadata": {},
   "source": [
    "## The use of the entire single-recipient data set leads to a 10% increase in AUC. However, 0.66 is not large enough to indicate a useful learner.  There is likely simply not enough data to train a useful learner, likely because the number of informative words that are not names is limited.  While some words in the above analysis are closely associated with gender, a larger sample size appears to be needed.  Thus, it will not be possible to compare learners trained on the data from the agricultural sector to examine potential descrepancies between declared gender and the actual description of the person applying for the loan."
   ]
  },
  {
   "cell_type": "code",
   "execution_count": null,
   "metadata": {
    "collapsed": true
   },
   "outputs": [],
   "source": []
  },
  {
   "cell_type": "code",
   "execution_count": null,
   "metadata": {
    "collapsed": true
   },
   "outputs": [],
   "source": []
  },
  {
   "cell_type": "code",
   "execution_count": 250,
   "metadata": {
    "collapsed": false,
    "scrolled": false
   },
   "outputs": [],
   "source": [
    "test= \"Peter B. Pearman\""
   ]
  },
  {
   "cell_type": "code",
   "execution_count": 196,
   "metadata": {
    "collapsed": true
   },
   "outputs": [],
   "source": [
    "import string"
   ]
  },
  {
   "cell_type": "code",
   "execution_count": 197,
   "metadata": {
    "collapsed": false
   },
   "outputs": [
    {
     "data": {
      "text/plain": [
       "'Peter B Pearman'"
      ]
     },
     "execution_count": 197,
     "metadata": {},
     "output_type": "execute_result"
    }
   ],
   "source": [
    "table = string.maketrans(\"\",\"\")\n",
    "test.translate(table, string.punctuation)"
   ]
  },
  {
   "cell_type": "code",
   "execution_count": null,
   "metadata": {
    "collapsed": true
   },
   "outputs": [],
   "source": []
  },
  {
   "cell_type": "code",
   "execution_count": null,
   "metadata": {
    "collapsed": true
   },
   "outputs": [],
   "source": []
  }
 ],
 "metadata": {
  "anaconda-cloud": {},
  "kernelspec": {
   "display_name": "Python [Root]",
   "language": "python",
   "name": "Python [Root]"
  },
  "language_info": {
   "codemirror_mode": {
    "name": "ipython",
    "version": 2
   },
   "file_extension": ".py",
   "mimetype": "text/x-python",
   "name": "python",
   "nbconvert_exporter": "python",
   "pygments_lexer": "ipython2",
   "version": "2.7.12"
  }
 },
 "nbformat": 4,
 "nbformat_minor": 0
}
