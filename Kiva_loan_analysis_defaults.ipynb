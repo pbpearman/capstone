{
 "cells": [
  {
   "cell_type": "code",
   "execution_count": 1,
   "metadata": {
    "collapsed": true
   },
   "outputs": [],
   "source": [
    "%matplotlib inline"
   ]
  },
  {
   "cell_type": "code",
   "execution_count": 2,
   "metadata": {
    "collapsed": true
   },
   "outputs": [],
   "source": [
    "import pandas as pd\n",
    "import numpy as np\n",
    "import os\n",
    "import json\n",
    "from pandas.io.json import json_normalize\n",
    "import cPickle as pk\n",
    "import matplotlib.pyplot as plt\n",
    "import matplotlib as mpl\n",
    "#import seaborn as sns\n",
    "import datetime as dt\n",
    "import urllib2\n",
    "import urllib"
   ]
  },
  {
   "cell_type": "code",
   "execution_count": 3,
   "metadata": {
    "collapsed": false
   },
   "outputs": [
    {
     "data": {
      "text/html": [
       "<style>body {\n",
       "    margin: 0;\n",
       "    font-family: Helvetica;\n",
       "}\n",
       "table.dataframe {\n",
       "    border-collapse: collapse;\n",
       "    border: none;\n",
       "}\n",
       "table.dataframe tr {\n",
       "    border: none;\n",
       "}\n",
       "table.dataframe td, table.dataframe th {\n",
       "    margin: 0;\n",
       "    border: 1px solid white;\n",
       "    padding-left: 0.25em;\n",
       "    padding-right: 0.25em;\n",
       "}\n",
       "table.dataframe th:not(:empty) {\n",
       "    background-color: #fec;\n",
       "    text-align: left;\n",
       "    font-weight: normal;\n",
       "}\n",
       "table.dataframe tr:nth-child(2) th:empty {\n",
       "    border-left: none;\n",
       "    border-right: 1px dashed #888;\n",
       "}\n",
       "table.dataframe td {\n",
       "    border: 2px solid #ccf;\n",
       "    background-color: #f4f4ff;\n",
       "}\n",
       "h3 {\n",
       "    color: white;\n",
       "    background-color: black;\n",
       "    padding: 0.5em;\n",
       "}\n",
       "</style>"
      ],
      "text/plain": [
       "<IPython.core.display.HTML object>"
      ]
     },
     "execution_count": 3,
     "metadata": {},
     "output_type": "execute_result"
    }
   ],
   "source": [
    "from IPython.core.display import HTML\n",
    "css = open('style-table.css').read() + open('style-notebook.css').read()\n",
    "HTML('<style>{}</style>'.format(css))"
   ]
  },
  {
   "cell_type": "code",
   "execution_count": 4,
   "metadata": {
    "collapsed": true
   },
   "outputs": [],
   "source": [
    "handle=open('../data/Kenya.pickle','r')\n",
    "df2=pk.load(handle)\n",
    "handle.close()"
   ]
  },
  {
   "cell_type": "code",
   "execution_count": 5,
   "metadata": {
    "collapsed": false
   },
   "outputs": [
    {
     "data": {
      "text/plain": [
       "(98099, 46)"
      ]
     },
     "execution_count": 5,
     "metadata": {},
     "output_type": "execute_result"
    }
   ],
   "source": [
    "df2.shape"
   ]
  },
  {
   "cell_type": "code",
   "execution_count": 6,
   "metadata": {
    "collapsed": true
   },
   "outputs": [],
   "source": [
    "df2.drop_duplicates(subset=['id','name','funded_date','status','texts.en'],inplace=True)"
   ]
  },
  {
   "cell_type": "code",
   "execution_count": 7,
   "metadata": {
    "collapsed": false
   },
   "outputs": [
    {
     "data": {
      "text/plain": [
       "(92037, 46)"
      ]
     },
     "execution_count": 7,
     "metadata": {},
     "output_type": "execute_result"
    }
   ],
   "source": [
    "df2.shape"
   ]
  },
  {
   "cell_type": "code",
   "execution_count": 8,
   "metadata": {
    "collapsed": false,
    "scrolled": true
   },
   "outputs": [
    {
     "data": {
      "text/plain": [
       "0            Victor\n",
       "57          Francis\n",
       "78          Maureen\n",
       "81            Agnes\n",
       "152    Reuben Mwilu\n",
       "Name: name, dtype: object"
      ]
     },
     "execution_count": 8,
     "metadata": {},
     "output_type": "execute_result"
    }
   ],
   "source": [
    "df2.name[0:5]"
   ]
  },
  {
   "cell_type": "code",
   "execution_count": 9,
   "metadata": {
    "collapsed": true
   },
   "outputs": [],
   "source": [
    "index1=range(0,len(df2['name']))"
   ]
  },
  {
   "cell_type": "code",
   "execution_count": 10,
   "metadata": {
    "collapsed": false
   },
   "outputs": [
    {
     "data": {
      "text/plain": [
       "Index([                     u'activity',                 u'basket_amount',\n",
       "            u'bonus_credit_eligibility',                     u'borrowers',\n",
       "                             u'country',                  u'country_code',\n",
       "       u'currency_exchange_loss_amount',                    u'delinquent',\n",
       "                         u'description',                 u'funded_amount',\n",
       "                         u'funded_date',                     u'geo.level',\n",
       "                           u'geo.pairs',                      u'geo.type',\n",
       "                                  u'id',                     u'languages',\n",
       "                        u'lender_count',                   u'loan_amount',\n",
       "                            u'location',                          u'name',\n",
       "                                 u'obs',                   u'paid_amount',\n",
       "                           u'paid_date',                    u'partner_id',\n",
       "                            u'payments',       u'planned_expiration_date',\n",
       "                         u'posted_date',                        u'sector',\n",
       "                              u'status',                          u'tags',\n",
       "                            u'texts.ar',                      u'texts.en',\n",
       "                            u'texts.es',                      u'texts.fr',\n",
       "                            u'texts.id',                      u'texts.mn',\n",
       "                            u'texts.pt',                      u'texts.ru',\n",
       "                            u'texts.vi',                        u'themes',\n",
       "                                u'town',                    u'translator',\n",
       "                                 u'use',                         u'video',\n",
       "                         u'prop_female',                 u'num_borrowers'],\n",
       "      dtype='object')"
      ]
     },
     "execution_count": 10,
     "metadata": {},
     "output_type": "execute_result"
    }
   ],
   "source": [
    "df2.columns"
   ]
  },
  {
   "cell_type": "code",
   "execution_count": 11,
   "metadata": {
    "collapsed": false
   },
   "outputs": [],
   "source": [
    "df2.reset_index(index1,inplace=True)"
   ]
  },
  {
   "cell_type": "code",
   "execution_count": 12,
   "metadata": {
    "collapsed": false
   },
   "outputs": [
    {
     "data": {
      "text/plain": [
       "paid                62122\n",
       "in_repayment        21403\n",
       "defaulted            3609\n",
       "expired              2789\n",
       "inactive_expired      966\n",
       "refunded              410\n",
       "fundraising           361\n",
       "inactive              142\n",
       "deleted               141\n",
       "funded                 67\n",
       "issue                  25\n",
       "                        2\n",
       "Name: status, dtype: int64"
      ]
     },
     "execution_count": 12,
     "metadata": {},
     "output_type": "execute_result"
    }
   ],
   "source": [
    "df2.status.value_counts()"
   ]
  },
  {
   "cell_type": "code",
   "execution_count": 13,
   "metadata": {
    "collapsed": true
   },
   "outputs": [],
   "source": [
    "df2a = df2[df2.funded_amount>0]"
   ]
  },
  {
   "cell_type": "code",
   "execution_count": 14,
   "metadata": {
    "collapsed": true
   },
   "outputs": [],
   "source": [
    "def mktime(x):\n",
    "    try:\n",
    "        tym=dt.datetime.strptime(x,\"%Y-%m-%dT%H:%M:%SZ\")\n",
    "        return tym\n",
    "    except:\n",
    "        return np.nan"
   ]
  },
  {
   "cell_type": "code",
   "execution_count": 15,
   "metadata": {
    "collapsed": true
   },
   "outputs": [],
   "source": [
    "def getyear(x):\n",
    "    try:\n",
    "        yr=np.int(x.year)\n",
    "        return yr\n",
    "    except:\n",
    "        return np.nan"
   ]
  },
  {
   "cell_type": "code",
   "execution_count": 16,
   "metadata": {
    "collapsed": false
   },
   "outputs": [
    {
     "name": "stderr",
     "output_type": "stream",
     "text": [
      "/Applications/anaconda/lib/python2.7/site-packages/pandas/core/indexing.py:288: SettingWithCopyWarning: \n",
      "A value is trying to be set on a copy of a slice from a DataFrame.\n",
      "Try using .loc[row_indexer,col_indexer] = value instead\n",
      "\n",
      "See the caveats in the documentation: http://pandas.pydata.org/pandas-docs/stable/indexing.html#indexing-view-versus-copy\n",
      "  self.obj[key] = _infer_fill_value(value)\n",
      "/Applications/anaconda/lib/python2.7/site-packages/pandas/core/indexing.py:465: SettingWithCopyWarning: \n",
      "A value is trying to be set on a copy of a slice from a DataFrame.\n",
      "Try using .loc[row_indexer,col_indexer] = value instead\n",
      "\n",
      "See the caveats in the documentation: http://pandas.pydata.org/pandas-docs/stable/indexing.html#indexing-view-versus-copy\n",
      "  self.obj[item] = s\n"
     ]
    }
   ],
   "source": [
    "fun_dat=df2a['funded_date'].apply(mktime)\n",
    "df2a.loc[:,'funded_datetime']=fun_dat"
   ]
  },
  {
   "cell_type": "code",
   "execution_count": 17,
   "metadata": {
    "collapsed": true
   },
   "outputs": [],
   "source": [
    "fun_year=df2a['funded_datetime'].apply(getyear)"
   ]
  },
  {
   "cell_type": "code",
   "execution_count": 18,
   "metadata": {
    "collapsed": true
   },
   "outputs": [],
   "source": [
    "df2a.loc[:,'funded_year']=fun_year"
   ]
  },
  {
   "cell_type": "code",
   "execution_count": 19,
   "metadata": {
    "collapsed": true
   },
   "outputs": [],
   "source": [
    "df2b=df2a[(df2a.funded_year.isnull()==False)&(df2a.funded_year!=2016.0)]"
   ]
  },
  {
   "cell_type": "code",
   "execution_count": 133,
   "metadata": {
    "collapsed": false
   },
   "outputs": [],
   "source": [
    "df2c=df2b[((df2b.status=='paid')|(df2b.status=='defaulted'))&((df2b.prop_female==0)|(df2b.prop_female==1))]"
   ]
  },
  {
   "cell_type": "code",
   "execution_count": 134,
   "metadata": {
    "collapsed": false
   },
   "outputs": [
    {
     "data": {
      "text/plain": [
       "str"
      ]
     },
     "execution_count": 134,
     "metadata": {},
     "output_type": "execute_result"
    }
   ],
   "source": [
    "df2c.prop_female=df2c.prop_female.astype(int, inplace=True)\n",
    "df2c.prop_female=df2c.prop_female.astype(str, inplace=True)\n",
    "type(df2c.prop_female.iloc[0])"
   ]
  },
  {
   "cell_type": "code",
   "execution_count": 135,
   "metadata": {
    "collapsed": false,
    "scrolled": false
   },
   "outputs": [
    {
     "data": {
      "text/plain": [
       "status     sector          prop_female\n",
       "defaulted  Agriculture     0                456\n",
       "                           1                855\n",
       "           Arts            0                  4\n",
       "                           1                 51\n",
       "           Clothing        0                 57\n",
       "                           1                170\n",
       "           Construction    0                 23\n",
       "                           1                 16\n",
       "           Education       0                 15\n",
       "                           1                 20\n",
       "           Entertainment   0                  8\n",
       "           Food            0                152\n",
       "                           1                399\n",
       "           Health          0                 45\n",
       "                           1                 24\n",
       "           Housing         0                  2\n",
       "                           1                 16\n",
       "           Manufacturing   0                 26\n",
       "                           1                  5\n",
       "           Personal Use    0                  2\n",
       "                           1                  9\n",
       "           Retail          0                155\n",
       "                           1                243\n",
       "           Services        0                112\n",
       "                           1                139\n",
       "           Transportation  0                 39\n",
       "                           1                 10\n",
       "           Wholesale       0                  5\n",
       "                           1                  2\n",
       "paid       Agriculture     0               6905\n",
       "                           1               8798\n",
       "           Arts            0                 68\n",
       "                           1                207\n",
       "           Clothing        0                807\n",
       "                           1               3840\n",
       "           Construction    0                815\n",
       "                           1                353\n",
       "           Education       0                197\n",
       "                           1                532\n",
       "           Entertainment   0                 74\n",
       "                           1                 25\n",
       "           Food            0               2913\n",
       "                           1              12159\n",
       "           Health          0                163\n",
       "                           1                251\n",
       "           Housing         0                148\n",
       "                           1                402\n",
       "           Manufacturing   0                482\n",
       "                           1                101\n",
       "           Personal Use    0                249\n",
       "                           1                522\n",
       "           Retail          0               4015\n",
       "                           1               6858\n",
       "           Services        0               2120\n",
       "                           1               3622\n",
       "           Transportation  0               1935\n",
       "                           1                302\n",
       "           Wholesale       0                 55\n",
       "                           1                 35\n",
       "dtype: int64"
      ]
     },
     "execution_count": 135,
     "metadata": {},
     "output_type": "execute_result"
    }
   ],
   "source": [
    "default_sector=df2c.groupby(['status','sector','prop_female']).size() #.unstack('status').fillna(0)\n",
    "default_sector"
   ]
  },
  {
   "cell_type": "code",
   "execution_count": 136,
   "metadata": {
    "collapsed": false,
    "scrolled": true
   },
   "outputs": [
    {
     "data": {
      "text/html": [
       "<div>\n",
       "<table border=\"1\" class=\"dataframe\">\n",
       "  <thead>\n",
       "    <tr style=\"text-align: right;\">\n",
       "      <th></th>\n",
       "      <th>status</th>\n",
       "      <th>defaulted</th>\n",
       "      <th>paid</th>\n",
       "    </tr>\n",
       "    <tr>\n",
       "      <th>sector</th>\n",
       "      <th>prop_female</th>\n",
       "      <th></th>\n",
       "      <th></th>\n",
       "    </tr>\n",
       "  </thead>\n",
       "  <tbody>\n",
       "    <tr>\n",
       "      <th rowspan=\"2\" valign=\"top\">Agriculture</th>\n",
       "      <th>0</th>\n",
       "      <td>456.0</td>\n",
       "      <td>6905.0</td>\n",
       "    </tr>\n",
       "    <tr>\n",
       "      <th>1</th>\n",
       "      <td>855.0</td>\n",
       "      <td>8798.0</td>\n",
       "    </tr>\n",
       "    <tr>\n",
       "      <th rowspan=\"2\" valign=\"top\">Arts</th>\n",
       "      <th>0</th>\n",
       "      <td>4.0</td>\n",
       "      <td>68.0</td>\n",
       "    </tr>\n",
       "    <tr>\n",
       "      <th>1</th>\n",
       "      <td>51.0</td>\n",
       "      <td>207.0</td>\n",
       "    </tr>\n",
       "    <tr>\n",
       "      <th rowspan=\"2\" valign=\"top\">Clothing</th>\n",
       "      <th>0</th>\n",
       "      <td>57.0</td>\n",
       "      <td>807.0</td>\n",
       "    </tr>\n",
       "    <tr>\n",
       "      <th>1</th>\n",
       "      <td>170.0</td>\n",
       "      <td>3840.0</td>\n",
       "    </tr>\n",
       "    <tr>\n",
       "      <th rowspan=\"2\" valign=\"top\">Construction</th>\n",
       "      <th>0</th>\n",
       "      <td>23.0</td>\n",
       "      <td>815.0</td>\n",
       "    </tr>\n",
       "    <tr>\n",
       "      <th>1</th>\n",
       "      <td>16.0</td>\n",
       "      <td>353.0</td>\n",
       "    </tr>\n",
       "    <tr>\n",
       "      <th rowspan=\"2\" valign=\"top\">Education</th>\n",
       "      <th>0</th>\n",
       "      <td>15.0</td>\n",
       "      <td>197.0</td>\n",
       "    </tr>\n",
       "    <tr>\n",
       "      <th>1</th>\n",
       "      <td>20.0</td>\n",
       "      <td>532.0</td>\n",
       "    </tr>\n",
       "    <tr>\n",
       "      <th rowspan=\"2\" valign=\"top\">Entertainment</th>\n",
       "      <th>0</th>\n",
       "      <td>8.0</td>\n",
       "      <td>74.0</td>\n",
       "    </tr>\n",
       "    <tr>\n",
       "      <th>1</th>\n",
       "      <td>0.0</td>\n",
       "      <td>25.0</td>\n",
       "    </tr>\n",
       "    <tr>\n",
       "      <th rowspan=\"2\" valign=\"top\">Food</th>\n",
       "      <th>0</th>\n",
       "      <td>152.0</td>\n",
       "      <td>2913.0</td>\n",
       "    </tr>\n",
       "    <tr>\n",
       "      <th>1</th>\n",
       "      <td>399.0</td>\n",
       "      <td>12159.0</td>\n",
       "    </tr>\n",
       "    <tr>\n",
       "      <th rowspan=\"2\" valign=\"top\">Health</th>\n",
       "      <th>0</th>\n",
       "      <td>45.0</td>\n",
       "      <td>163.0</td>\n",
       "    </tr>\n",
       "    <tr>\n",
       "      <th>1</th>\n",
       "      <td>24.0</td>\n",
       "      <td>251.0</td>\n",
       "    </tr>\n",
       "    <tr>\n",
       "      <th rowspan=\"2\" valign=\"top\">Housing</th>\n",
       "      <th>0</th>\n",
       "      <td>2.0</td>\n",
       "      <td>148.0</td>\n",
       "    </tr>\n",
       "    <tr>\n",
       "      <th>1</th>\n",
       "      <td>16.0</td>\n",
       "      <td>402.0</td>\n",
       "    </tr>\n",
       "    <tr>\n",
       "      <th rowspan=\"2\" valign=\"top\">Manufacturing</th>\n",
       "      <th>0</th>\n",
       "      <td>26.0</td>\n",
       "      <td>482.0</td>\n",
       "    </tr>\n",
       "    <tr>\n",
       "      <th>1</th>\n",
       "      <td>5.0</td>\n",
       "      <td>101.0</td>\n",
       "    </tr>\n",
       "    <tr>\n",
       "      <th rowspan=\"2\" valign=\"top\">Personal Use</th>\n",
       "      <th>0</th>\n",
       "      <td>2.0</td>\n",
       "      <td>249.0</td>\n",
       "    </tr>\n",
       "    <tr>\n",
       "      <th>1</th>\n",
       "      <td>9.0</td>\n",
       "      <td>522.0</td>\n",
       "    </tr>\n",
       "    <tr>\n",
       "      <th rowspan=\"2\" valign=\"top\">Retail</th>\n",
       "      <th>0</th>\n",
       "      <td>155.0</td>\n",
       "      <td>4015.0</td>\n",
       "    </tr>\n",
       "    <tr>\n",
       "      <th>1</th>\n",
       "      <td>243.0</td>\n",
       "      <td>6858.0</td>\n",
       "    </tr>\n",
       "    <tr>\n",
       "      <th rowspan=\"2\" valign=\"top\">Services</th>\n",
       "      <th>0</th>\n",
       "      <td>112.0</td>\n",
       "      <td>2120.0</td>\n",
       "    </tr>\n",
       "    <tr>\n",
       "      <th>1</th>\n",
       "      <td>139.0</td>\n",
       "      <td>3622.0</td>\n",
       "    </tr>\n",
       "    <tr>\n",
       "      <th rowspan=\"2\" valign=\"top\">Transportation</th>\n",
       "      <th>0</th>\n",
       "      <td>39.0</td>\n",
       "      <td>1935.0</td>\n",
       "    </tr>\n",
       "    <tr>\n",
       "      <th>1</th>\n",
       "      <td>10.0</td>\n",
       "      <td>302.0</td>\n",
       "    </tr>\n",
       "    <tr>\n",
       "      <th rowspan=\"2\" valign=\"top\">Wholesale</th>\n",
       "      <th>0</th>\n",
       "      <td>5.0</td>\n",
       "      <td>55.0</td>\n",
       "    </tr>\n",
       "    <tr>\n",
       "      <th>1</th>\n",
       "      <td>2.0</td>\n",
       "      <td>35.0</td>\n",
       "    </tr>\n",
       "  </tbody>\n",
       "</table>\n",
       "</div>"
      ],
      "text/plain": [
       "status                      defaulted     paid\n",
       "sector         prop_female                    \n",
       "Agriculture    0                456.0   6905.0\n",
       "               1                855.0   8798.0\n",
       "Arts           0                  4.0     68.0\n",
       "               1                 51.0    207.0\n",
       "Clothing       0                 57.0    807.0\n",
       "               1                170.0   3840.0\n",
       "Construction   0                 23.0    815.0\n",
       "               1                 16.0    353.0\n",
       "Education      0                 15.0    197.0\n",
       "               1                 20.0    532.0\n",
       "Entertainment  0                  8.0     74.0\n",
       "               1                  0.0     25.0\n",
       "Food           0                152.0   2913.0\n",
       "               1                399.0  12159.0\n",
       "Health         0                 45.0    163.0\n",
       "               1                 24.0    251.0\n",
       "Housing        0                  2.0    148.0\n",
       "               1                 16.0    402.0\n",
       "Manufacturing  0                 26.0    482.0\n",
       "               1                  5.0    101.0\n",
       "Personal Use   0                  2.0    249.0\n",
       "               1                  9.0    522.0\n",
       "Retail         0                155.0   4015.0\n",
       "               1                243.0   6858.0\n",
       "Services       0                112.0   2120.0\n",
       "               1                139.0   3622.0\n",
       "Transportation 0                 39.0   1935.0\n",
       "               1                 10.0    302.0\n",
       "Wholesale      0                  5.0     55.0\n",
       "               1                  2.0     35.0"
      ]
     },
     "execution_count": 136,
     "metadata": {},
     "output_type": "execute_result"
    }
   ],
   "source": [
    "default_sector=default_sector.unstack('status').fillna(0)\n",
    "default_sector"
   ]
  },
  {
   "cell_type": "code",
   "execution_count": 138,
   "metadata": {
    "collapsed": false
   },
   "outputs": [
    {
     "data": {
      "text/html": [
       "<div>\n",
       "<table border=\"1\" class=\"dataframe\">\n",
       "  <thead>\n",
       "    <tr>\n",
       "      <th>status</th>\n",
       "      <th colspan=\"2\" halign=\"left\">defaulted</th>\n",
       "      <th colspan=\"2\" halign=\"left\">paid</th>\n",
       "    </tr>\n",
       "    <tr>\n",
       "      <th>prop_female</th>\n",
       "      <th>0</th>\n",
       "      <th>1</th>\n",
       "      <th>0</th>\n",
       "      <th>1</th>\n",
       "    </tr>\n",
       "    <tr>\n",
       "      <th>sector</th>\n",
       "      <th></th>\n",
       "      <th></th>\n",
       "      <th></th>\n",
       "      <th></th>\n",
       "    </tr>\n",
       "  </thead>\n",
       "  <tbody>\n",
       "    <tr>\n",
       "      <th>Agriculture</th>\n",
       "      <td>456.0</td>\n",
       "      <td>855.0</td>\n",
       "      <td>6905.0</td>\n",
       "      <td>8798.0</td>\n",
       "    </tr>\n",
       "    <tr>\n",
       "      <th>Arts</th>\n",
       "      <td>4.0</td>\n",
       "      <td>51.0</td>\n",
       "      <td>68.0</td>\n",
       "      <td>207.0</td>\n",
       "    </tr>\n",
       "    <tr>\n",
       "      <th>Clothing</th>\n",
       "      <td>57.0</td>\n",
       "      <td>170.0</td>\n",
       "      <td>807.0</td>\n",
       "      <td>3840.0</td>\n",
       "    </tr>\n",
       "    <tr>\n",
       "      <th>Construction</th>\n",
       "      <td>23.0</td>\n",
       "      <td>16.0</td>\n",
       "      <td>815.0</td>\n",
       "      <td>353.0</td>\n",
       "    </tr>\n",
       "    <tr>\n",
       "      <th>Education</th>\n",
       "      <td>15.0</td>\n",
       "      <td>20.0</td>\n",
       "      <td>197.0</td>\n",
       "      <td>532.0</td>\n",
       "    </tr>\n",
       "    <tr>\n",
       "      <th>Entertainment</th>\n",
       "      <td>8.0</td>\n",
       "      <td>0.0</td>\n",
       "      <td>74.0</td>\n",
       "      <td>25.0</td>\n",
       "    </tr>\n",
       "    <tr>\n",
       "      <th>Food</th>\n",
       "      <td>152.0</td>\n",
       "      <td>399.0</td>\n",
       "      <td>2913.0</td>\n",
       "      <td>12159.0</td>\n",
       "    </tr>\n",
       "    <tr>\n",
       "      <th>Health</th>\n",
       "      <td>45.0</td>\n",
       "      <td>24.0</td>\n",
       "      <td>163.0</td>\n",
       "      <td>251.0</td>\n",
       "    </tr>\n",
       "    <tr>\n",
       "      <th>Housing</th>\n",
       "      <td>2.0</td>\n",
       "      <td>16.0</td>\n",
       "      <td>148.0</td>\n",
       "      <td>402.0</td>\n",
       "    </tr>\n",
       "    <tr>\n",
       "      <th>Manufacturing</th>\n",
       "      <td>26.0</td>\n",
       "      <td>5.0</td>\n",
       "      <td>482.0</td>\n",
       "      <td>101.0</td>\n",
       "    </tr>\n",
       "    <tr>\n",
       "      <th>Personal Use</th>\n",
       "      <td>2.0</td>\n",
       "      <td>9.0</td>\n",
       "      <td>249.0</td>\n",
       "      <td>522.0</td>\n",
       "    </tr>\n",
       "    <tr>\n",
       "      <th>Retail</th>\n",
       "      <td>155.0</td>\n",
       "      <td>243.0</td>\n",
       "      <td>4015.0</td>\n",
       "      <td>6858.0</td>\n",
       "    </tr>\n",
       "    <tr>\n",
       "      <th>Services</th>\n",
       "      <td>112.0</td>\n",
       "      <td>139.0</td>\n",
       "      <td>2120.0</td>\n",
       "      <td>3622.0</td>\n",
       "    </tr>\n",
       "    <tr>\n",
       "      <th>Transportation</th>\n",
       "      <td>39.0</td>\n",
       "      <td>10.0</td>\n",
       "      <td>1935.0</td>\n",
       "      <td>302.0</td>\n",
       "    </tr>\n",
       "    <tr>\n",
       "      <th>Wholesale</th>\n",
       "      <td>5.0</td>\n",
       "      <td>2.0</td>\n",
       "      <td>55.0</td>\n",
       "      <td>35.0</td>\n",
       "    </tr>\n",
       "  </tbody>\n",
       "</table>\n",
       "</div>"
      ],
      "text/plain": [
       "status         defaulted           paid         \n",
       "prop_female            0      1       0        1\n",
       "sector                                          \n",
       "Agriculture        456.0  855.0  6905.0   8798.0\n",
       "Arts                 4.0   51.0    68.0    207.0\n",
       "Clothing            57.0  170.0   807.0   3840.0\n",
       "Construction        23.0   16.0   815.0    353.0\n",
       "Education           15.0   20.0   197.0    532.0\n",
       "Entertainment        8.0    0.0    74.0     25.0\n",
       "Food               152.0  399.0  2913.0  12159.0\n",
       "Health              45.0   24.0   163.0    251.0\n",
       "Housing              2.0   16.0   148.0    402.0\n",
       "Manufacturing       26.0    5.0   482.0    101.0\n",
       "Personal Use         2.0    9.0   249.0    522.0\n",
       "Retail             155.0  243.0  4015.0   6858.0\n",
       "Services           112.0  139.0  2120.0   3622.0\n",
       "Transportation      39.0   10.0  1935.0    302.0\n",
       "Wholesale            5.0    2.0    55.0     35.0"
      ]
     },
     "execution_count": 138,
     "metadata": {},
     "output_type": "execute_result"
    }
   ],
   "source": [
    "default_sector=default_sector.unstack('prop_female')\n",
    "default_sector\n",
    "#default_sector=default_sector.columns.map(flattenHierarchicalCol)\n",
    "#default_sector"
   ]
  },
  {
   "cell_type": "code",
   "execution_count": null,
   "metadata": {
    "collapsed": true
   },
   "outputs": [],
   "source": [
    "def flattenHierarchicalCol(col,sep = '_'):\n",
    "    if not type(col) is tuple:\n",
    "        return col\n",
    "    else:\n",
    "        new_col = ''\n",
    "        for leveli,level in enumerate(col):\n",
    "            if not level == '':\n",
    "                if not leveli == 0:\n",
    "                    new_col += sep\n",
    "                new_col += level\n",
    "        return new_col"
   ]
  },
  {
   "cell_type": "code",
   "execution_count": 139,
   "metadata": {
    "collapsed": false
   },
   "outputs": [
    {
     "data": {
      "text/html": [
       "<div>\n",
       "<table border=\"1\" class=\"dataframe\">\n",
       "  <thead>\n",
       "    <tr style=\"text-align: right;\">\n",
       "      <th></th>\n",
       "      <th>defaulted_0</th>\n",
       "      <th>defaulted_1</th>\n",
       "      <th>paid_0</th>\n",
       "      <th>paid_1</th>\n",
       "    </tr>\n",
       "    <tr>\n",
       "      <th>sector</th>\n",
       "      <th></th>\n",
       "      <th></th>\n",
       "      <th></th>\n",
       "      <th></th>\n",
       "    </tr>\n",
       "  </thead>\n",
       "  <tbody>\n",
       "    <tr>\n",
       "      <th>Agriculture</th>\n",
       "      <td>456.0</td>\n",
       "      <td>855.0</td>\n",
       "      <td>6905.0</td>\n",
       "      <td>8798.0</td>\n",
       "    </tr>\n",
       "    <tr>\n",
       "      <th>Arts</th>\n",
       "      <td>4.0</td>\n",
       "      <td>51.0</td>\n",
       "      <td>68.0</td>\n",
       "      <td>207.0</td>\n",
       "    </tr>\n",
       "    <tr>\n",
       "      <th>Clothing</th>\n",
       "      <td>57.0</td>\n",
       "      <td>170.0</td>\n",
       "      <td>807.0</td>\n",
       "      <td>3840.0</td>\n",
       "    </tr>\n",
       "    <tr>\n",
       "      <th>Construction</th>\n",
       "      <td>23.0</td>\n",
       "      <td>16.0</td>\n",
       "      <td>815.0</td>\n",
       "      <td>353.0</td>\n",
       "    </tr>\n",
       "    <tr>\n",
       "      <th>Education</th>\n",
       "      <td>15.0</td>\n",
       "      <td>20.0</td>\n",
       "      <td>197.0</td>\n",
       "      <td>532.0</td>\n",
       "    </tr>\n",
       "    <tr>\n",
       "      <th>Entertainment</th>\n",
       "      <td>8.0</td>\n",
       "      <td>0.0</td>\n",
       "      <td>74.0</td>\n",
       "      <td>25.0</td>\n",
       "    </tr>\n",
       "    <tr>\n",
       "      <th>Food</th>\n",
       "      <td>152.0</td>\n",
       "      <td>399.0</td>\n",
       "      <td>2913.0</td>\n",
       "      <td>12159.0</td>\n",
       "    </tr>\n",
       "    <tr>\n",
       "      <th>Health</th>\n",
       "      <td>45.0</td>\n",
       "      <td>24.0</td>\n",
       "      <td>163.0</td>\n",
       "      <td>251.0</td>\n",
       "    </tr>\n",
       "    <tr>\n",
       "      <th>Housing</th>\n",
       "      <td>2.0</td>\n",
       "      <td>16.0</td>\n",
       "      <td>148.0</td>\n",
       "      <td>402.0</td>\n",
       "    </tr>\n",
       "    <tr>\n",
       "      <th>Manufacturing</th>\n",
       "      <td>26.0</td>\n",
       "      <td>5.0</td>\n",
       "      <td>482.0</td>\n",
       "      <td>101.0</td>\n",
       "    </tr>\n",
       "    <tr>\n",
       "      <th>Personal Use</th>\n",
       "      <td>2.0</td>\n",
       "      <td>9.0</td>\n",
       "      <td>249.0</td>\n",
       "      <td>522.0</td>\n",
       "    </tr>\n",
       "    <tr>\n",
       "      <th>Retail</th>\n",
       "      <td>155.0</td>\n",
       "      <td>243.0</td>\n",
       "      <td>4015.0</td>\n",
       "      <td>6858.0</td>\n",
       "    </tr>\n",
       "    <tr>\n",
       "      <th>Services</th>\n",
       "      <td>112.0</td>\n",
       "      <td>139.0</td>\n",
       "      <td>2120.0</td>\n",
       "      <td>3622.0</td>\n",
       "    </tr>\n",
       "    <tr>\n",
       "      <th>Transportation</th>\n",
       "      <td>39.0</td>\n",
       "      <td>10.0</td>\n",
       "      <td>1935.0</td>\n",
       "      <td>302.0</td>\n",
       "    </tr>\n",
       "    <tr>\n",
       "      <th>Wholesale</th>\n",
       "      <td>5.0</td>\n",
       "      <td>2.0</td>\n",
       "      <td>55.0</td>\n",
       "      <td>35.0</td>\n",
       "    </tr>\n",
       "  </tbody>\n",
       "</table>\n",
       "</div>"
      ],
      "text/plain": [
       "                defaulted_0  defaulted_1  paid_0   paid_1\n",
       "sector                                                   \n",
       "Agriculture           456.0        855.0  6905.0   8798.0\n",
       "Arts                    4.0         51.0    68.0    207.0\n",
       "Clothing               57.0        170.0   807.0   3840.0\n",
       "Construction           23.0         16.0   815.0    353.0\n",
       "Education              15.0         20.0   197.0    532.0\n",
       "Entertainment           8.0          0.0    74.0     25.0\n",
       "Food                  152.0        399.0  2913.0  12159.0\n",
       "Health                 45.0         24.0   163.0    251.0\n",
       "Housing                 2.0         16.0   148.0    402.0\n",
       "Manufacturing          26.0          5.0   482.0    101.0\n",
       "Personal Use            2.0          9.0   249.0    522.0\n",
       "Retail                155.0        243.0  4015.0   6858.0\n",
       "Services              112.0        139.0  2120.0   3622.0\n",
       "Transportation         39.0         10.0  1935.0    302.0\n",
       "Wholesale               5.0          2.0    55.0     35.0"
      ]
     },
     "execution_count": 139,
     "metadata": {},
     "output_type": "execute_result"
    }
   ],
   "source": [
    "default_sector.columns=default_sector.columns.map(flattenHierarchicalCol)\n",
    "default_sector"
   ]
  },
  {
   "cell_type": "code",
   "execution_count": 143,
   "metadata": {
    "collapsed": true
   },
   "outputs": [],
   "source": [
    "default_sector.loc[:,'n']=default_sector.sum(axis=1)"
   ]
  },
  {
   "cell_type": "code",
   "execution_count": 144,
   "metadata": {
    "collapsed": false
   },
   "outputs": [
    {
     "data": {
      "text/html": [
       "<div>\n",
       "<table border=\"1\" class=\"dataframe\">\n",
       "  <thead>\n",
       "    <tr style=\"text-align: right;\">\n",
       "      <th></th>\n",
       "      <th>defaulted_0</th>\n",
       "      <th>defaulted_1</th>\n",
       "      <th>paid_0</th>\n",
       "      <th>paid_1</th>\n",
       "      <th>n</th>\n",
       "    </tr>\n",
       "    <tr>\n",
       "      <th>sector</th>\n",
       "      <th></th>\n",
       "      <th></th>\n",
       "      <th></th>\n",
       "      <th></th>\n",
       "      <th></th>\n",
       "    </tr>\n",
       "  </thead>\n",
       "  <tbody>\n",
       "    <tr>\n",
       "      <th>Agriculture</th>\n",
       "      <td>456.0</td>\n",
       "      <td>855.0</td>\n",
       "      <td>6905.0</td>\n",
       "      <td>8798.0</td>\n",
       "      <td>17014.0</td>\n",
       "    </tr>\n",
       "    <tr>\n",
       "      <th>Arts</th>\n",
       "      <td>4.0</td>\n",
       "      <td>51.0</td>\n",
       "      <td>68.0</td>\n",
       "      <td>207.0</td>\n",
       "      <td>330.0</td>\n",
       "    </tr>\n",
       "    <tr>\n",
       "      <th>Clothing</th>\n",
       "      <td>57.0</td>\n",
       "      <td>170.0</td>\n",
       "      <td>807.0</td>\n",
       "      <td>3840.0</td>\n",
       "      <td>4874.0</td>\n",
       "    </tr>\n",
       "    <tr>\n",
       "      <th>Construction</th>\n",
       "      <td>23.0</td>\n",
       "      <td>16.0</td>\n",
       "      <td>815.0</td>\n",
       "      <td>353.0</td>\n",
       "      <td>1207.0</td>\n",
       "    </tr>\n",
       "    <tr>\n",
       "      <th>Education</th>\n",
       "      <td>15.0</td>\n",
       "      <td>20.0</td>\n",
       "      <td>197.0</td>\n",
       "      <td>532.0</td>\n",
       "      <td>764.0</td>\n",
       "    </tr>\n",
       "    <tr>\n",
       "      <th>Entertainment</th>\n",
       "      <td>8.0</td>\n",
       "      <td>0.0</td>\n",
       "      <td>74.0</td>\n",
       "      <td>25.0</td>\n",
       "      <td>107.0</td>\n",
       "    </tr>\n",
       "    <tr>\n",
       "      <th>Food</th>\n",
       "      <td>152.0</td>\n",
       "      <td>399.0</td>\n",
       "      <td>2913.0</td>\n",
       "      <td>12159.0</td>\n",
       "      <td>15623.0</td>\n",
       "    </tr>\n",
       "    <tr>\n",
       "      <th>Health</th>\n",
       "      <td>45.0</td>\n",
       "      <td>24.0</td>\n",
       "      <td>163.0</td>\n",
       "      <td>251.0</td>\n",
       "      <td>483.0</td>\n",
       "    </tr>\n",
       "    <tr>\n",
       "      <th>Housing</th>\n",
       "      <td>2.0</td>\n",
       "      <td>16.0</td>\n",
       "      <td>148.0</td>\n",
       "      <td>402.0</td>\n",
       "      <td>568.0</td>\n",
       "    </tr>\n",
       "    <tr>\n",
       "      <th>Manufacturing</th>\n",
       "      <td>26.0</td>\n",
       "      <td>5.0</td>\n",
       "      <td>482.0</td>\n",
       "      <td>101.0</td>\n",
       "      <td>614.0</td>\n",
       "    </tr>\n",
       "    <tr>\n",
       "      <th>Personal Use</th>\n",
       "      <td>2.0</td>\n",
       "      <td>9.0</td>\n",
       "      <td>249.0</td>\n",
       "      <td>522.0</td>\n",
       "      <td>782.0</td>\n",
       "    </tr>\n",
       "    <tr>\n",
       "      <th>Retail</th>\n",
       "      <td>155.0</td>\n",
       "      <td>243.0</td>\n",
       "      <td>4015.0</td>\n",
       "      <td>6858.0</td>\n",
       "      <td>11271.0</td>\n",
       "    </tr>\n",
       "    <tr>\n",
       "      <th>Services</th>\n",
       "      <td>112.0</td>\n",
       "      <td>139.0</td>\n",
       "      <td>2120.0</td>\n",
       "      <td>3622.0</td>\n",
       "      <td>5993.0</td>\n",
       "    </tr>\n",
       "    <tr>\n",
       "      <th>Transportation</th>\n",
       "      <td>39.0</td>\n",
       "      <td>10.0</td>\n",
       "      <td>1935.0</td>\n",
       "      <td>302.0</td>\n",
       "      <td>2286.0</td>\n",
       "    </tr>\n",
       "    <tr>\n",
       "      <th>Wholesale</th>\n",
       "      <td>5.0</td>\n",
       "      <td>2.0</td>\n",
       "      <td>55.0</td>\n",
       "      <td>35.0</td>\n",
       "      <td>97.0</td>\n",
       "    </tr>\n",
       "  </tbody>\n",
       "</table>\n",
       "</div>"
      ],
      "text/plain": [
       "                defaulted_0  defaulted_1  paid_0   paid_1        n\n",
       "sector                                                            \n",
       "Agriculture           456.0        855.0  6905.0   8798.0  17014.0\n",
       "Arts                    4.0         51.0    68.0    207.0    330.0\n",
       "Clothing               57.0        170.0   807.0   3840.0   4874.0\n",
       "Construction           23.0         16.0   815.0    353.0   1207.0\n",
       "Education              15.0         20.0   197.0    532.0    764.0\n",
       "Entertainment           8.0          0.0    74.0     25.0    107.0\n",
       "Food                  152.0        399.0  2913.0  12159.0  15623.0\n",
       "Health                 45.0         24.0   163.0    251.0    483.0\n",
       "Housing                 2.0         16.0   148.0    402.0    568.0\n",
       "Manufacturing          26.0          5.0   482.0    101.0    614.0\n",
       "Personal Use            2.0          9.0   249.0    522.0    782.0\n",
       "Retail                155.0        243.0  4015.0   6858.0  11271.0\n",
       "Services              112.0        139.0  2120.0   3622.0   5993.0\n",
       "Transportation         39.0         10.0  1935.0    302.0   2286.0\n",
       "Wholesale               5.0          2.0    55.0     35.0     97.0"
      ]
     },
     "execution_count": 144,
     "metadata": {},
     "output_type": "execute_result"
    }
   ],
   "source": [
    "default_sector"
   ]
  },
  {
   "cell_type": "code",
   "execution_count": 148,
   "metadata": {
    "collapsed": false,
    "scrolled": false
   },
   "outputs": [],
   "source": [
    "default_sector.loc[:,'def_rate_female']=default_sector.defaulted_1/(default_sector.defaulted_1 + default_sector.paid_1)\n",
    "default_sector.loc[:,'def_rate_male']=default_sector.defaulted_0/(default_sector.defaulted_0 + default_sector.paid_0)"
   ]
  },
  {
   "cell_type": "code",
   "execution_count": 152,
   "metadata": {
    "collapsed": false
   },
   "outputs": [
    {
     "data": {
      "text/html": [
       "<div>\n",
       "<table border=\"1\" class=\"dataframe\">\n",
       "  <thead>\n",
       "    <tr style=\"text-align: right;\">\n",
       "      <th></th>\n",
       "      <th>defaulted_0</th>\n",
       "      <th>defaulted_1</th>\n",
       "      <th>paid_0</th>\n",
       "      <th>paid_1</th>\n",
       "      <th>n</th>\n",
       "      <th>def_rate_female</th>\n",
       "      <th>def_rate_male</th>\n",
       "    </tr>\n",
       "    <tr>\n",
       "      <th>sector</th>\n",
       "      <th></th>\n",
       "      <th></th>\n",
       "      <th></th>\n",
       "      <th></th>\n",
       "      <th></th>\n",
       "      <th></th>\n",
       "      <th></th>\n",
       "    </tr>\n",
       "  </thead>\n",
       "  <tbody>\n",
       "    <tr>\n",
       "      <th>Agriculture</th>\n",
       "      <td>456.0</td>\n",
       "      <td>855.0</td>\n",
       "      <td>6905.0</td>\n",
       "      <td>8798.0</td>\n",
       "      <td>17014.0</td>\n",
       "      <td>0.088574</td>\n",
       "      <td>0.061948</td>\n",
       "    </tr>\n",
       "    <tr>\n",
       "      <th>Arts</th>\n",
       "      <td>4.0</td>\n",
       "      <td>51.0</td>\n",
       "      <td>68.0</td>\n",
       "      <td>207.0</td>\n",
       "      <td>330.0</td>\n",
       "      <td>0.197674</td>\n",
       "      <td>0.055556</td>\n",
       "    </tr>\n",
       "    <tr>\n",
       "      <th>Clothing</th>\n",
       "      <td>57.0</td>\n",
       "      <td>170.0</td>\n",
       "      <td>807.0</td>\n",
       "      <td>3840.0</td>\n",
       "      <td>4874.0</td>\n",
       "      <td>0.042394</td>\n",
       "      <td>0.065972</td>\n",
       "    </tr>\n",
       "    <tr>\n",
       "      <th>Construction</th>\n",
       "      <td>23.0</td>\n",
       "      <td>16.0</td>\n",
       "      <td>815.0</td>\n",
       "      <td>353.0</td>\n",
       "      <td>1207.0</td>\n",
       "      <td>0.043360</td>\n",
       "      <td>0.027446</td>\n",
       "    </tr>\n",
       "    <tr>\n",
       "      <th>Education</th>\n",
       "      <td>15.0</td>\n",
       "      <td>20.0</td>\n",
       "      <td>197.0</td>\n",
       "      <td>532.0</td>\n",
       "      <td>764.0</td>\n",
       "      <td>0.036232</td>\n",
       "      <td>0.070755</td>\n",
       "    </tr>\n",
       "    <tr>\n",
       "      <th>Entertainment</th>\n",
       "      <td>8.0</td>\n",
       "      <td>0.0</td>\n",
       "      <td>74.0</td>\n",
       "      <td>25.0</td>\n",
       "      <td>107.0</td>\n",
       "      <td>0.000000</td>\n",
       "      <td>0.097561</td>\n",
       "    </tr>\n",
       "    <tr>\n",
       "      <th>Food</th>\n",
       "      <td>152.0</td>\n",
       "      <td>399.0</td>\n",
       "      <td>2913.0</td>\n",
       "      <td>12159.0</td>\n",
       "      <td>15623.0</td>\n",
       "      <td>0.031773</td>\n",
       "      <td>0.049592</td>\n",
       "    </tr>\n",
       "    <tr>\n",
       "      <th>Health</th>\n",
       "      <td>45.0</td>\n",
       "      <td>24.0</td>\n",
       "      <td>163.0</td>\n",
       "      <td>251.0</td>\n",
       "      <td>483.0</td>\n",
       "      <td>0.087273</td>\n",
       "      <td>0.216346</td>\n",
       "    </tr>\n",
       "    <tr>\n",
       "      <th>Housing</th>\n",
       "      <td>2.0</td>\n",
       "      <td>16.0</td>\n",
       "      <td>148.0</td>\n",
       "      <td>402.0</td>\n",
       "      <td>568.0</td>\n",
       "      <td>0.038278</td>\n",
       "      <td>0.013333</td>\n",
       "    </tr>\n",
       "    <tr>\n",
       "      <th>Manufacturing</th>\n",
       "      <td>26.0</td>\n",
       "      <td>5.0</td>\n",
       "      <td>482.0</td>\n",
       "      <td>101.0</td>\n",
       "      <td>614.0</td>\n",
       "      <td>0.047170</td>\n",
       "      <td>0.051181</td>\n",
       "    </tr>\n",
       "    <tr>\n",
       "      <th>Personal Use</th>\n",
       "      <td>2.0</td>\n",
       "      <td>9.0</td>\n",
       "      <td>249.0</td>\n",
       "      <td>522.0</td>\n",
       "      <td>782.0</td>\n",
       "      <td>0.016949</td>\n",
       "      <td>0.007968</td>\n",
       "    </tr>\n",
       "    <tr>\n",
       "      <th>Retail</th>\n",
       "      <td>155.0</td>\n",
       "      <td>243.0</td>\n",
       "      <td>4015.0</td>\n",
       "      <td>6858.0</td>\n",
       "      <td>11271.0</td>\n",
       "      <td>0.034221</td>\n",
       "      <td>0.037170</td>\n",
       "    </tr>\n",
       "    <tr>\n",
       "      <th>Services</th>\n",
       "      <td>112.0</td>\n",
       "      <td>139.0</td>\n",
       "      <td>2120.0</td>\n",
       "      <td>3622.0</td>\n",
       "      <td>5993.0</td>\n",
       "      <td>0.036958</td>\n",
       "      <td>0.050179</td>\n",
       "    </tr>\n",
       "    <tr>\n",
       "      <th>Transportation</th>\n",
       "      <td>39.0</td>\n",
       "      <td>10.0</td>\n",
       "      <td>1935.0</td>\n",
       "      <td>302.0</td>\n",
       "      <td>2286.0</td>\n",
       "      <td>0.032051</td>\n",
       "      <td>0.019757</td>\n",
       "    </tr>\n",
       "    <tr>\n",
       "      <th>Wholesale</th>\n",
       "      <td>5.0</td>\n",
       "      <td>2.0</td>\n",
       "      <td>55.0</td>\n",
       "      <td>35.0</td>\n",
       "      <td>97.0</td>\n",
       "      <td>0.054054</td>\n",
       "      <td>0.083333</td>\n",
       "    </tr>\n",
       "  </tbody>\n",
       "</table>\n",
       "</div>"
      ],
      "text/plain": [
       "                defaulted_0  defaulted_1  paid_0   paid_1        n  \\\n",
       "sector                                                               \n",
       "Agriculture           456.0        855.0  6905.0   8798.0  17014.0   \n",
       "Arts                    4.0         51.0    68.0    207.0    330.0   \n",
       "Clothing               57.0        170.0   807.0   3840.0   4874.0   \n",
       "Construction           23.0         16.0   815.0    353.0   1207.0   \n",
       "Education              15.0         20.0   197.0    532.0    764.0   \n",
       "Entertainment           8.0          0.0    74.0     25.0    107.0   \n",
       "Food                  152.0        399.0  2913.0  12159.0  15623.0   \n",
       "Health                 45.0         24.0   163.0    251.0    483.0   \n",
       "Housing                 2.0         16.0   148.0    402.0    568.0   \n",
       "Manufacturing          26.0          5.0   482.0    101.0    614.0   \n",
       "Personal Use            2.0          9.0   249.0    522.0    782.0   \n",
       "Retail                155.0        243.0  4015.0   6858.0  11271.0   \n",
       "Services              112.0        139.0  2120.0   3622.0   5993.0   \n",
       "Transportation         39.0         10.0  1935.0    302.0   2286.0   \n",
       "Wholesale               5.0          2.0    55.0     35.0     97.0   \n",
       "\n",
       "                def_rate_female  def_rate_male  \n",
       "sector                                          \n",
       "Agriculture            0.088574       0.061948  \n",
       "Arts                   0.197674       0.055556  \n",
       "Clothing               0.042394       0.065972  \n",
       "Construction           0.043360       0.027446  \n",
       "Education              0.036232       0.070755  \n",
       "Entertainment          0.000000       0.097561  \n",
       "Food                   0.031773       0.049592  \n",
       "Health                 0.087273       0.216346  \n",
       "Housing                0.038278       0.013333  \n",
       "Manufacturing          0.047170       0.051181  \n",
       "Personal Use           0.016949       0.007968  \n",
       "Retail                 0.034221       0.037170  \n",
       "Services               0.036958       0.050179  \n",
       "Transportation         0.032051       0.019757  \n",
       "Wholesale              0.054054       0.083333  "
      ]
     },
     "execution_count": 152,
     "metadata": {},
     "output_type": "execute_result"
    }
   ],
   "source": [
    "default_sector"
   ]
  },
  {
   "cell_type": "code",
   "execution_count": 154,
   "metadata": {
    "collapsed": false
   },
   "outputs": [
    {
     "data": {
      "text/plain": [
       "Index([u'Agriculture', u'Arts', u'Clothing', u'Construction', u'Education',\n",
       "       u'Entertainment', u'Food', u'Health', u'Housing', u'Manufacturing',\n",
       "       u'Personal Use', u'Retail', u'Services', u'Transportation',\n",
       "       u'Wholesale'],\n",
       "      dtype='object', name=u'sector')"
      ]
     },
     "execution_count": 154,
     "metadata": {},
     "output_type": "execute_result"
    }
   ],
   "source": [
    "default_sector.index"
   ]
  },
  {
   "cell_type": "code",
   "execution_count": 173,
   "metadata": {
    "collapsed": false
   },
   "outputs": [
    {
     "data": {
      "text/plain": [
       "array([ 0,  1,  2,  3,  4,  5,  6,  7,  8,  9, 10, 11, 12, 13, 14])"
      ]
     },
     "execution_count": 173,
     "metadata": {},
     "output_type": "execute_result"
    }
   ],
   "source": [
    "locs"
   ]
  },
  {
   "cell_type": "code",
   "execution_count": 270,
   "metadata": {
    "collapsed": false,
    "scrolled": false
   },
   "outputs": [
    {
     "data": {
      "image/png": "[encoded data removed]",
      "text/plain": [
       "<matplotlib.figure.Figure at 0x1b6257ed0>"
      ]
     },
     "metadata": {},
     "output_type": "display_data"
    }
   ],
   "source": [
    "fig=plt.figure(figsize=(12,8),facecolor='white')#open a figure\n",
    "ax=fig.add_subplot(1,1,1)\n",
    "width=0.35\n",
    "\n",
    "N= len(default_sector.index)\n",
    "locs=np.arange(N)\n",
    "male=ax.bar(locs,default_sector.def_rate_male,width=width,color='blue',alpha=0.5)\n",
    "female=ax.bar(locs+width,default_sector.def_rate_female,width=width,color='green',alpha=0.6)\n",
    "\n",
    "ax.legend((male[0],female[0]),('Male Borrowers','Female Borrowers'),loc='center right',prop={'size':18})\n",
    "ax.tick_params(labeltop='off', labelright='off')\n",
    "ax.set_ylabel('Default Rates',fontsize=20)\n",
    "ax.set_title('Default Rates By Sector and Gender of Borrower',fontsize=20)\n",
    "ax.spines['right'].set_visible(False)\n",
    "ax.spines['top'].set_visible(False)\n",
    "ax.yaxis.set_ticks_position('left')\n",
    "ax.xaxis.set_ticks_position('bottom')\n",
    "ax.set_xticks(np.arange(N)+width)\n",
    "ax.set_xticklabels(default_sector.index,rotation=65,fontsize=15)\n",
    "for tick in ax.yaxis.get_major_ticks():\n",
    "                tick.label.set_fontsize(14) \n",
    "\n",
    "heights=list(default_sector.def_rate_male)+list(default_sector.def_rate_female)\n",
    "\n",
    "bar_labelsm=[str(\"%.2f\" % round(i,2))for i in list(default_sector.def_rate_male)]\n",
    "bar_labelsf=[str(\"%.2f\" % round(i,2))for i in list(default_sector.def_rate_female)]\n",
    "bar_labels=bar_labelsm + bar_labelsf\n",
    "\n",
    "rects=ax.patches\n",
    "\n",
    "for rect,label in zip(rects,bar_labels):\n",
    "    height = rect.get_height()\n",
    "    ax.text(rect.get_x() + rect.get_width()/1.8, height + 0.007, label, ha='center', va='bottom',fontsize=8,rotation=90)\n",
    "\n",
    "\n",
    "plt.show()"
   ]
  },
  {
   "cell_type": "code",
   "execution_count": 273,
   "metadata": {
    "collapsed": false
   },
   "outputs": [
    {
     "data": {
      "text/plain": [
       "Index([                        u'index',                      u'activity',\n",
       "                       u'basket_amount',      u'bonus_credit_eligibility',\n",
       "                           u'borrowers',                       u'country',\n",
       "                        u'country_code', u'currency_exchange_loss_amount',\n",
       "                          u'delinquent',                   u'description',\n",
       "                       u'funded_amount',                   u'funded_date',\n",
       "                           u'geo.level',                     u'geo.pairs',\n",
       "                            u'geo.type',                            u'id',\n",
       "                           u'languages',                  u'lender_count',\n",
       "                         u'loan_amount',                      u'location',\n",
       "                                u'name',                           u'obs',\n",
       "                         u'paid_amount',                     u'paid_date',\n",
       "                          u'partner_id',                      u'payments',\n",
       "             u'planned_expiration_date',                   u'posted_date',\n",
       "                              u'sector',                        u'status',\n",
       "                                u'tags',                      u'texts.ar',\n",
       "                            u'texts.en',                      u'texts.es',\n",
       "                            u'texts.fr',                      u'texts.id',\n",
       "                            u'texts.mn',                      u'texts.pt',\n",
       "                            u'texts.ru',                      u'texts.vi',\n",
       "                              u'themes',                          u'town',\n",
       "                          u'translator',                           u'use',\n",
       "                               u'video',                   u'prop_female',\n",
       "                       u'num_borrowers',               u'funded_datetime',\n",
       "                         u'funded_year'],\n",
       "      dtype='object')"
      ]
     },
     "execution_count": 273,
     "metadata": {},
     "output_type": "execute_result"
    }
   ],
   "source": [
    "df2c.columns"
   ]
  },
  {
   "cell_type": "code",
   "execution_count": 360,
   "metadata": {
    "collapsed": false
   },
   "outputs": [
    {
     "data": {
      "text/plain": [
       "0"
      ]
     },
     "execution_count": 360,
     "metadata": {},
     "output_type": "execute_result"
    }
   ],
   "source": [
    "len(df2c.town[df2c.status=='default'])"
   ]
  },
  {
   "cell_type": "code",
   "execution_count": 363,
   "metadata": {
    "collapsed": false
   },
   "outputs": [
    {
     "data": {
      "text/plain": [
       "0"
      ]
     },
     "execution_count": 363,
     "metadata": {},
     "output_type": "execute_result"
    }
   ],
   "source": [
    "len(df2c.name[df2c.status=='default'])"
   ]
  },
  {
   "cell_type": "markdown",
   "metadata": {},
   "source": [
    "#### The above two lines show that there are no non-null location, or name feature values for any of the loans that have defaulted"
   ]
  },
  {
   "cell_type": "code",
   "execution_count": 356,
   "metadata": {
    "collapsed": false
   },
   "outputs": [
    {
     "data": {
      "text/plain": [
       "323"
      ]
     },
     "execution_count": 356,
     "metadata": {},
     "output_type": "execute_result"
    }
   ],
   "source": [
    "len(df2c.funded_amount[(df2c.status=='defaulted')&(df2c.funded_amount >1000)])"
   ]
  },
  {
   "cell_type": "code",
   "execution_count": 357,
   "metadata": {
    "collapsed": false,
    "scrolled": true
   },
   "outputs": [
    {
     "data": {
      "text/plain": [
       "<matplotlib.axes._subplots.AxesSubplot at 0x143922f90>"
      ]
     },
     "execution_count": 357,
     "metadata": {},
     "output_type": "execute_result"
    },
    {
     "data": {
      "image/png": "[encoded data removed]",
      "text/plain": [
       "<matplotlib.figure.Figure at 0x116ee2050>"
      ]
     },
     "metadata": {},
     "output_type": "display_data"
    }
   ],
   "source": [
    "df2c.funded_amount[(df2c.status=='defaulted')&(df2c.funded_amount >1000)].hist()"
   ]
  },
  {
   "cell_type": "markdown",
   "metadata": {},
   "source": [
    "#### The above plot shows that only a few defaulted loans were for more than $2000"
   ]
  },
  {
   "cell_type": "code",
   "execution_count": 359,
   "metadata": {
    "collapsed": false,
    "scrolled": true
   },
   "outputs": [
    {
     "data": {
      "image/png": "[encoded data removed]",
      "text/plain": [
       "<matplotlib.figure.Figure at 0x1777d61d0>"
      ]
     },
     "metadata": {},
     "output_type": "display_data"
    }
   ],
   "source": [
    "df2c.funded_amount[(df2c.status=='defaulted')&(df2c.funded_amount <=2000)].hist();"
   ]
  },
  {
   "cell_type": "code",
   "execution_count": null,
   "metadata": {
    "collapsed": true
   },
   "outputs": [],
   "source": [
    "#### Most defaulted loans are quite small, but then, most loans are small too."
   ]
  },
  {
   "cell_type": "code",
   "execution_count": 366,
   "metadata": {
    "collapsed": false,
    "scrolled": false
   },
   "outputs": [],
   "source": [
    "df2d=df2c[(df2c.status=='defaulted')&(df2c.funded_amount <=1000)][['activity','sector','loan_amount']].groupby(['sector','activity'],as_index=False).mean()\n",
    "#df2d"
   ]
  },
  {
   "cell_type": "code",
   "execution_count": 367,
   "metadata": {
    "collapsed": false
   },
   "outputs": [],
   "source": [
    "n=df2c[(df2c.status=='defaulted')&(df2c.funded_amount <=1000)][['activity','sector','loan_amount']].groupby(['sector','activity'],as_index=False).size()\n",
    "n=n.reset_index()\n",
    "n.rename(columns={0:'n'},inplace=True)\n",
    "df2d.loc[:,'n']=n.n\n",
    "#df2d\n"
   ]
  },
  {
   "cell_type": "code",
   "execution_count": 379,
   "metadata": {
    "collapsed": false
   },
   "outputs": [
    {
     "data": {
      "text/plain": [
       "0"
      ]
     },
     "execution_count": 379,
     "metadata": {},
     "output_type": "execute_result"
    }
   ],
   "source": [
    "sum(df2c.loan_amount[df2c.loan_amount==0])"
   ]
  },
  {
   "cell_type": "code",
   "execution_count": 392,
   "metadata": {
    "collapsed": false
   },
   "outputs": [
    {
     "data": {
      "text/plain": [
       "array([0, 0, 0, 0, 0, 0, 1, 2, 2])"
      ]
     },
     "execution_count": 392,
     "metadata": {},
     "output_type": "execute_result"
    }
   ],
   "source": [
    "x=[1,1,1,1,1,2,3,4,5]\n",
    "pd.cut(x,3,labels=False)"
   ]
  },
  {
   "cell_type": "code",
   "execution_count": 384,
   "metadata": {
    "collapsed": false,
    "scrolled": true
   },
   "outputs": [
    {
     "data": {
      "text/plain": [
       "0.1    175.0\n",
       "Name: loan_amount, dtype: float64"
      ]
     },
     "execution_count": 384,
     "metadata": {},
     "output_type": "execute_result"
    }
   ],
   "source": [
    "df2c.loan_amount.quantile(np.arange(0.1,1,9))"
   ]
  },
  {
   "cell_type": "code",
   "execution_count": 428,
   "metadata": {
    "collapsed": false
   },
   "outputs": [],
   "source": [
    "df2e=df2c[df2c.loan_amount<=1600]\n",
    "bins=pd.cut(df2e.loan_amount,[0,200,300,400,500,600,800,1600],labels=False)\n",
    "df2e.loc[:,'bins']=bins.astype(int)"
   ]
  },
  {
   "cell_type": "code",
   "execution_count": 429,
   "metadata": {
    "collapsed": false,
    "scrolled": true
   },
   "outputs": [
    {
     "data": {
      "text/plain": [
       "0     8893\n",
       "1    17809\n",
       "2     9215\n",
       "3     7252\n",
       "4     7468\n",
       "5     5749\n",
       "6     5475\n",
       "Name: loan_amount, dtype: int64"
      ]
     },
     "execution_count": 429,
     "metadata": {},
     "output_type": "execute_result"
    }
   ],
   "source": [
    "bins.value_counts(sort=False)"
   ]
  },
  {
   "cell_type": "code",
   "execution_count": 457,
   "metadata": {
    "collapsed": false,
    "scrolled": true
   },
   "outputs": [
    {
     "data": {
      "text/html": [
       "<div>\n",
       "<table border=\"1\" class=\"dataframe\">\n",
       "  <thead>\n",
       "    <tr style=\"text-align: right;\">\n",
       "      <th>status</th>\n",
       "      <th>defaulted</th>\n",
       "      <th>paid</th>\n",
       "      <th>n</th>\n",
       "      <th>prop_defaulted</th>\n",
       "    </tr>\n",
       "  </thead>\n",
       "  <tbody>\n",
       "    <tr>\n",
       "      <th>0</th>\n",
       "      <td>368</td>\n",
       "      <td>8525</td>\n",
       "      <td>8893</td>\n",
       "      <td>0.041381</td>\n",
       "    </tr>\n",
       "    <tr>\n",
       "      <th>1</th>\n",
       "      <td>515</td>\n",
       "      <td>17294</td>\n",
       "      <td>17809</td>\n",
       "      <td>0.028918</td>\n",
       "    </tr>\n",
       "    <tr>\n",
       "      <th>2</th>\n",
       "      <td>299</td>\n",
       "      <td>8916</td>\n",
       "      <td>9215</td>\n",
       "      <td>0.032447</td>\n",
       "    </tr>\n",
       "    <tr>\n",
       "      <th>3</th>\n",
       "      <td>421</td>\n",
       "      <td>6831</td>\n",
       "      <td>7252</td>\n",
       "      <td>0.058053</td>\n",
       "    </tr>\n",
       "    <tr>\n",
       "      <th>4</th>\n",
       "      <td>355</td>\n",
       "      <td>7113</td>\n",
       "      <td>7468</td>\n",
       "      <td>0.047536</td>\n",
       "    </tr>\n",
       "    <tr>\n",
       "      <th>5</th>\n",
       "      <td>513</td>\n",
       "      <td>5236</td>\n",
       "      <td>5749</td>\n",
       "      <td>0.089233</td>\n",
       "    </tr>\n",
       "    <tr>\n",
       "      <th>6</th>\n",
       "      <td>563</td>\n",
       "      <td>4912</td>\n",
       "      <td>5475</td>\n",
       "      <td>0.102831</td>\n",
       "    </tr>\n",
       "  </tbody>\n",
       "</table>\n",
       "</div>"
      ],
      "text/plain": [
       "status  defaulted   paid      n  prop_defaulted\n",
       "0             368   8525   8893        0.041381\n",
       "1             515  17294  17809        0.028918\n",
       "2             299   8916   9215        0.032447\n",
       "3             421   6831   7252        0.058053\n",
       "4             355   7113   7468        0.047536\n",
       "5             513   5236   5749        0.089233\n",
       "6             563   4912   5475        0.102831"
      ]
     },
     "execution_count": 457,
     "metadata": {},
     "output_type": "execute_result"
    }
   ],
   "source": [
    "df2f=df2e[:][['status','sector','bins']].groupby(['bins','status']).size().unstack('status').reset_index(drop=True)\n",
    "df2f.loc[:,'n']=df2f.defaulted + df2f.paid\n",
    "df2f.loc[:,'prop_defaulted']=df2f.defaulted/(df2f.n)\n",
    "df2f"
   ]
  },
  {
   "cell_type": "markdown",
   "metadata": {},
   "source": [
    "### You can see in the next calculation that, historically, the odds of a default are over three times as great for loans in the highest category (\\$800-\\$1600), which have a default rate of about one-in-ten, compared to loans in the second category (\\$100-\\$200)."
   ]
  },
  {
   "cell_type": "code",
   "execution_count": 493,
   "metadata": {
    "collapsed": false
   },
   "outputs": [
    {
     "data": {
      "text/plain": [
       "3.2852989138717179"
      ]
     },
     "execution_count": 493,
     "metadata": {},
     "output_type": "execute_result"
    }
   ],
   "source": [
    "mindf=min(df2f.prop_defaulted)\n",
    "maxdf=max(df2f.prop_defaulted)\n",
    "max_odds_ratio= (maxdf*(1-maxdf))/(mindf*(1-mindf))\n",
    "max_odds_ratio"
   ]
  },
  {
   "cell_type": "code",
   "execution_count": 458,
   "metadata": {
    "collapsed": false
   },
   "outputs": [
    {
     "data": {
      "text/plain": [
       "RangeIndex(start=0, stop=7, step=1)"
      ]
     },
     "execution_count": 458,
     "metadata": {},
     "output_type": "execute_result"
    }
   ],
   "source": [
    "df2f.index"
   ]
  },
  {
   "cell_type": "code",
   "execution_count": 459,
   "metadata": {
    "collapsed": false
   },
   "outputs": [
    {
     "data": {
      "text/plain": [
       "<function matplotlib.pyplot.show>"
      ]
     },
     "execution_count": 459,
     "metadata": {},
     "output_type": "execute_result"
    },
    {
     "data": {
      "image/png": "[encoded data removed]",
      "text/plain": [
       "<matplotlib.figure.Figure at 0x1577e7f10>"
      ]
     },
     "metadata": {},
     "output_type": "display_data"
    }
   ],
   "source": [
    "fig=plt.figure(figsize=(12,8),facecolor='white')#open a figure\n",
    "ax=fig.add_subplot(1,1,1)\n",
    "width=0.9\n",
    "N= len(df2f.index)\n",
    "locs=np.arange(N)\n",
    "bar=ax.bar(locs,df2f.prop_defaulted,width=width,color='blue',alpha=0.5)\n",
    "ax.tick_params(labeltop='off', labelright='off')\n",
    "ax.set_ylabel('Default Rate',fontsize=20)\n",
    "ax.set_title('Default Rate By Loan Size',fontsize=20)\n",
    "ax.spines['right'].set_visible(False)\n",
    "ax.spines['top'].set_visible(False)\n",
    "ax.yaxis.set_ticks_position('left')\n",
    "ax.xaxis.set_ticks_position('bottom')\n",
    "xlabels=['<=$200','<=$300','<=$400','<=$500','<=$600','<=$800','<=$1600']\n",
    "\n",
    "ax.set_xticks(np.arange(N)+width/2)\n",
    "ax.set_xticklabels(xlabels,rotation=0,fontsize=15)\n",
    "for tick in ax.yaxis.get_major_ticks():\n",
    "                tick.label.set_fontsize(14)\n",
    "plt.show"
   ]
  },
  {
   "cell_type": "code",
   "execution_count": 484,
   "metadata": {
    "collapsed": false,
    "scrolled": true
   },
   "outputs": [
    {
     "data": {
      "text/html": [
       "<div>\n",
       "<table border=\"1\" class=\"dataframe\">\n",
       "  <thead>\n",
       "    <tr style=\"text-align: right;\">\n",
       "      <th></th>\n",
       "      <th>defaulted_0</th>\n",
       "      <th>paid_0</th>\n",
       "      <th>defaulted_1</th>\n",
       "      <th>paid_1</th>\n",
       "      <th>def_rate_male</th>\n",
       "      <th>def_rate_female</th>\n",
       "    </tr>\n",
       "    <tr>\n",
       "      <th>bins</th>\n",
       "      <th></th>\n",
       "      <th></th>\n",
       "      <th></th>\n",
       "      <th></th>\n",
       "      <th></th>\n",
       "      <th></th>\n",
       "    </tr>\n",
       "  </thead>\n",
       "  <tbody>\n",
       "    <tr>\n",
       "      <th>0</th>\n",
       "      <td>89</td>\n",
       "      <td>2379</td>\n",
       "      <td>279</td>\n",
       "      <td>6146</td>\n",
       "      <td>0.036062</td>\n",
       "      <td>0.043424</td>\n",
       "    </tr>\n",
       "    <tr>\n",
       "      <th>1</th>\n",
       "      <td>152</td>\n",
       "      <td>5621</td>\n",
       "      <td>363</td>\n",
       "      <td>11673</td>\n",
       "      <td>0.026329</td>\n",
       "      <td>0.030160</td>\n",
       "    </tr>\n",
       "    <tr>\n",
       "      <th>2</th>\n",
       "      <td>125</td>\n",
       "      <td>3111</td>\n",
       "      <td>174</td>\n",
       "      <td>5805</td>\n",
       "      <td>0.038628</td>\n",
       "      <td>0.029102</td>\n",
       "    </tr>\n",
       "    <tr>\n",
       "      <th>3</th>\n",
       "      <td>151</td>\n",
       "      <td>2514</td>\n",
       "      <td>270</td>\n",
       "      <td>4317</td>\n",
       "      <td>0.056660</td>\n",
       "      <td>0.058862</td>\n",
       "    </tr>\n",
       "    <tr>\n",
       "      <th>4</th>\n",
       "      <td>129</td>\n",
       "      <td>2328</td>\n",
       "      <td>226</td>\n",
       "      <td>4785</td>\n",
       "      <td>0.052503</td>\n",
       "      <td>0.045101</td>\n",
       "    </tr>\n",
       "    <tr>\n",
       "      <th>5</th>\n",
       "      <td>205</td>\n",
       "      <td>2507</td>\n",
       "      <td>308</td>\n",
       "      <td>2729</td>\n",
       "      <td>0.075590</td>\n",
       "      <td>0.101416</td>\n",
       "    </tr>\n",
       "    <tr>\n",
       "      <th>6</th>\n",
       "      <td>234</td>\n",
       "      <td>2444</td>\n",
       "      <td>329</td>\n",
       "      <td>2468</td>\n",
       "      <td>0.087379</td>\n",
       "      <td>0.117626</td>\n",
       "    </tr>\n",
       "  </tbody>\n",
       "</table>\n",
       "</div>"
      ],
      "text/plain": [
       "      defaulted_0  paid_0  defaulted_1  paid_1  def_rate_male  def_rate_female\n",
       "bins                                                                          \n",
       "0              89    2379          279    6146       0.036062         0.043424\n",
       "1             152    5621          363   11673       0.026329         0.030160\n",
       "2             125    3111          174    5805       0.038628         0.029102\n",
       "3             151    2514          270    4317       0.056660         0.058862\n",
       "4             129    2328          226    4785       0.052503         0.045101\n",
       "5             205    2507          308    2729       0.075590         0.101416\n",
       "6             234    2444          329    2468       0.087379         0.117626"
      ]
     },
     "execution_count": 484,
     "metadata": {},
     "output_type": "execute_result"
    }
   ],
   "source": [
    "df2g=df2e[:][['status','sector','prop_female','bins']].groupby(['bins','prop_female','status']).size().unstack(['status','prop_female'])\n",
    "df2g.columns=df2g.columns.map(flattenHierarchicalCol)\n",
    "df2g.loc[:,'def_rate_male']=df2g.defaulted_0/(df2g.defaulted_0 + df2g.paid_0)\n",
    "df2g.loc[:,'def_rate_female']=df2g.defaulted_1/(df2g.defaulted_1 + df2g.paid_1)\n",
    "\n",
    "df2g"
   ]
  },
  {
   "cell_type": "code",
   "execution_count": 494,
   "metadata": {
    "collapsed": false
   },
   "outputs": [
    {
     "data": {
      "image/png": "[encoded data removed]",
      "text/plain": [
       "<matplotlib.figure.Figure at 0x142dfb3d0>"
      ]
     },
     "metadata": {},
     "output_type": "display_data"
    }
   ],
   "source": [
    "fig=plt.figure(figsize=(12,8),facecolor='white')#open a figure\n",
    "ax=fig.add_subplot(1,1,1)\n",
    "width=0.35\n",
    "\n",
    "N= len(df2g.index)\n",
    "locs=np.arange(N)\n",
    "male=ax.bar(locs,df2g.def_rate_male,width=width,color='blue',alpha=0.5)\n",
    "female=ax.bar(locs+width,df2g.def_rate_female,width=width,color='green',alpha=0.6)\n",
    "\n",
    "ax.legend((male[0],female[0]),('Male Borrowers','Female Borrowers'),loc='top left',prop={'size':18})\n",
    "ax.tick_params(labeltop='off', labelright='off')\n",
    "ax.set_ylabel('Default Rates',fontsize=20)\n",
    "ax.set_xlabel('Loan Size in Dollars',fontsize=20)\n",
    "ax.set_title('Default Rates By Gender of Borrower and Sector \\n',fontsize=20)\n",
    "ax.spines['right'].set_visible(False)\n",
    "ax.spines['top'].set_visible(False)\n",
    "ax.yaxis.set_ticks_position('left')\n",
    "ax.xaxis.set_ticks_position('bottom')\n",
    "ax.set_xticks(np.arange(N)+width)\n",
    "ax.set_xticklabels(['<=$200','<=$300','<=$400','<=$500','<=$600','<=$800','<=$1600'],rotation=45,fontsize=15)\n",
    "\n",
    "for tick in ax.yaxis.get_major_ticks():\n",
    "                tick.label.set_fontsize(14) \n",
    "\n",
    "heights=list(df2g.def_rate_male)+list(df2g.def_rate_female)\n",
    "\n",
    "bar_labelsm=[str(\"%.2f\" % round(i,2))for i in list(df2g.def_rate_male)]\n",
    "bar_labelsf=[str(\"%.2f\" % round(i,2))for i in list(df2g.def_rate_female)]\n",
    "bar_labels=bar_labelsm + bar_labelsf\n",
    "\n",
    "rects=ax.patches\n",
    "\n",
    "for rect,label in zip(rects,bar_labels):\n",
    "    height = rect.get_height()\n",
    "    ax.text(rect.get_x() + rect.get_width()/1.8, height + 0.002, label, ha='center', va='bottom',fontsize=8,rotation=0)\n",
    "\n",
    "\n",
    "plt.show()"
   ]
  },
  {
   "cell_type": "code",
   "execution_count": 474,
   "metadata": {
    "collapsed": false
   },
   "outputs": [],
   "source": [
    "a1=np.array(df2g.iloc[:,0:2])\n",
    "a2=np.array(df2g.iloc[:,2:4])\n",
    "a3=np.stack((a1,a2))\n",
    "a3"
   ]
  },
  {
   "cell_type": "code",
   "execution_count": 479,
   "metadata": {
    "collapsed": false
   },
   "outputs": [],
   "source": [
    "from scipy import stats as st"
   ]
  },
  {
   "cell_type": "code",
   "execution_count": 481,
   "metadata": {
    "collapsed": false
   },
   "outputs": [
    {
     "data": {
      "text/plain": [
       "0.0"
      ]
     },
     "execution_count": 481,
     "metadata": {},
     "output_type": "execute_result"
    }
   ],
   "source": [
    "test_stat, P,df,expected=st.chi2_contingency(a3,lambda_=\"log-likelihood\")\n",
    "P"
   ]
  }
 ],
 "metadata": {
  "anaconda-cloud": {},
  "kernelspec": {
   "display_name": "Python [Root]",
   "language": "python",
   "name": "Python [Root]"
  },
  "language_info": {
   "codemirror_mode": {
    "name": "ipython",
    "version": 2
   },
   "file_extension": ".py",
   "mimetype": "text/x-python",
   "name": "python",
   "nbconvert_exporter": "python",
   "pygments_lexer": "ipython2",
   "version": "2.7.12"
  }
 },
 "nbformat": 4,
 "nbformat_minor": 0
}
