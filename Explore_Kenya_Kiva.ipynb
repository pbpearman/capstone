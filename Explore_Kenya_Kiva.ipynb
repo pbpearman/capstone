{
 "cells": [
  {
   "cell_type": "code",
   "execution_count": 1,
   "metadata": {
    "collapsed": true
   },
   "outputs": [],
   "source": [
    "%matplotlib inline"
   ]
  },
  {
   "cell_type": "code",
   "execution_count": 2,
   "metadata": {
    "collapsed": false
   },
   "outputs": [],
   "source": [
    "import pandas as pd\n",
    "import numpy as np\n",
    "import os\n",
    "import json\n",
    "from pandas.io.json import json_normalize\n",
    "import cPickle as pk\n",
    "import matplotlib.pyplot as plt\n",
    "import seaborn as sns"
   ]
  },
  {
   "cell_type": "code",
   "execution_count": 3,
   "metadata": {
    "collapsed": false
   },
   "outputs": [
    {
     "data": {
      "text/html": [
       "<style>body {\n",
       "    margin: 0;\n",
       "    font-family: Helvetica;\n",
       "}\n",
       "table.dataframe {\n",
       "    border-collapse: collapse;\n",
       "    border: none;\n",
       "}\n",
       "table.dataframe tr {\n",
       "    border: none;\n",
       "}\n",
       "table.dataframe td, table.dataframe th {\n",
       "    margin: 0;\n",
       "    border: 1px solid white;\n",
       "    padding-left: 0.25em;\n",
       "    padding-right: 0.25em;\n",
       "}\n",
       "table.dataframe th:not(:empty) {\n",
       "    background-color: #fec;\n",
       "    text-align: left;\n",
       "    font-weight: normal;\n",
       "}\n",
       "table.dataframe tr:nth-child(2) th:empty {\n",
       "    border-left: none;\n",
       "    border-right: 1px dashed #888;\n",
       "}\n",
       "table.dataframe td {\n",
       "    border: 2px solid #ccf;\n",
       "    background-color: #f4f4ff;\n",
       "}\n",
       "h3 {\n",
       "    color: white;\n",
       "    background-color: black;\n",
       "    padding: 0.5em;\n",
       "}\n",
       "</style>"
      ],
      "text/plain": [
       "<IPython.core.display.HTML object>"
      ]
     },
     "execution_count": 3,
     "metadata": {},
     "output_type": "execute_result"
    }
   ],
   "source": [
    "from IPython.core.display import HTML\n",
    "css = open('style-table.css').read() + open('style-notebook.css').read()\n",
    "HTML('<style>{}</style>'.format(css))"
   ]
  },
  {
   "cell_type": "code",
   "execution_count": 4,
   "metadata": {
    "collapsed": true
   },
   "outputs": [],
   "source": [
    "handle=open('Kenya.pickle','r')\n",
    "df2=pk.load(handle)\n",
    "handle.close()"
   ]
  },
  {
   "cell_type": "code",
   "execution_count": 5,
   "metadata": {
    "collapsed": false
   },
   "outputs": [
    {
     "data": {
      "text/plain": [
       "Index([                     u'activity',                 u'basket_amount',\n",
       "            u'bonus_credit_eligibility',                     u'borrowers',\n",
       "                             u'country',                  u'country_code',\n",
       "       u'currency_exchange_loss_amount',                    u'delinquent',\n",
       "                         u'description',                 u'funded_amount',\n",
       "                         u'funded_date',                     u'geo.level',\n",
       "                           u'geo.pairs',                      u'geo.type',\n",
       "                                  u'id',                         u'image',\n",
       "                      u'journal_totals',                     u'languages',\n",
       "                        u'lender_count',                   u'loan_amount',\n",
       "                            u'location',                          u'name',\n",
       "                                 u'obs',                   u'paid_amount',\n",
       "                           u'paid_date',                    u'partner_id',\n",
       "                            u'payments',       u'planned_expiration_date',\n",
       "                         u'posted_date',                        u'sector',\n",
       "                              u'status',                          u'tags',\n",
       "                               u'terms',                      u'texts.ar',\n",
       "                            u'texts.en',                      u'texts.es',\n",
       "                            u'texts.fr',                      u'texts.id',\n",
       "                            u'texts.mn',                      u'texts.pt',\n",
       "                            u'texts.ru',                      u'texts.vi',\n",
       "                              u'themes',                          u'town',\n",
       "                          u'translator',                           u'use',\n",
       "                               u'video'],\n",
       "      dtype='object')"
      ]
     },
     "execution_count": 5,
     "metadata": {},
     "output_type": "execute_result"
    }
   ],
   "source": [
    "df2.columns"
   ]
  },
  {
   "cell_type": "code",
   "execution_count": 6,
   "metadata": {
    "collapsed": false
   },
   "outputs": [
    {
     "data": {
      "text/plain": [
       "{u'first_name': u'Victor',\n",
       " u'gender': u'M',\n",
       " u'last_name': u'',\n",
       " u'pictured': True}"
      ]
     },
     "execution_count": 6,
     "metadata": {},
     "output_type": "execute_result"
    }
   ],
   "source": [
    "df2['borrowers'].iloc[0][0]"
   ]
  },
  {
   "cell_type": "code",
   "execution_count": 7,
   "metadata": {
    "collapsed": false
   },
   "outputs": [
    {
     "data": {
      "text/html": [
       "<div>\n",
       "<table border=\"1\" class=\"dataframe\">\n",
       "  <thead>\n",
       "    <tr style=\"text-align: right;\">\n",
       "      <th></th>\n",
       "      <th>activity</th>\n",
       "      <th>basket_amount</th>\n",
       "      <th>bonus_credit_eligibility</th>\n",
       "      <th>borrowers</th>\n",
       "      <th>country</th>\n",
       "      <th>country_code</th>\n",
       "      <th>currency_exchange_loss_amount</th>\n",
       "      <th>delinquent</th>\n",
       "      <th>description</th>\n",
       "      <th>funded_amount</th>\n",
       "      <th>...</th>\n",
       "      <th>texts.id</th>\n",
       "      <th>texts.mn</th>\n",
       "      <th>texts.pt</th>\n",
       "      <th>texts.ru</th>\n",
       "      <th>texts.vi</th>\n",
       "      <th>themes</th>\n",
       "      <th>town</th>\n",
       "      <th>translator</th>\n",
       "      <th>use</th>\n",
       "      <th>video</th>\n",
       "    </tr>\n",
       "  </thead>\n",
       "  <tbody>\n",
       "    <tr>\n",
       "      <th>0</th>\n",
       "      <td>Motorcycle Transport</td>\n",
       "      <td>None</td>\n",
       "      <td>False</td>\n",
       "      <td>[{u'gender': u'M', u'first_name': u'Victor', u...</td>\n",
       "      <td>Kenya</td>\n",
       "      <td>KE</td>\n",
       "      <td>NaN</td>\n",
       "      <td>None</td>\n",
       "      <td>{u'languages': [u'en'], u'texts': {u'en': u'Vi...</td>\n",
       "      <td>0</td>\n",
       "      <td>...</td>\n",
       "      <td>NaN</td>\n",
       "      <td>NaN</td>\n",
       "      <td>NaN</td>\n",
       "      <td>NaN</td>\n",
       "      <td>NaN</td>\n",
       "      <td>None</td>\n",
       "      <td>Matuu</td>\n",
       "      <td>{u'image': 1109275, u'byline': u'Christine Bru...</td>\n",
       "      <td>to buy another motorcycle</td>\n",
       "      <td>None</td>\n",
       "    </tr>\n",
       "    <tr>\n",
       "      <th>57</th>\n",
       "      <td>Butcher Shop</td>\n",
       "      <td>None</td>\n",
       "      <td>False</td>\n",
       "      <td>[{u'gender': u'M', u'first_name': u'Francis', ...</td>\n",
       "      <td>Kenya</td>\n",
       "      <td>KE</td>\n",
       "      <td>1.74</td>\n",
       "      <td>None</td>\n",
       "      <td>{u'languages': [u'en'], u'texts': {u'en': u'Fr...</td>\n",
       "      <td>1000</td>\n",
       "      <td>...</td>\n",
       "      <td>NaN</td>\n",
       "      <td>NaN</td>\n",
       "      <td>NaN</td>\n",
       "      <td>NaN</td>\n",
       "      <td>NaN</td>\n",
       "      <td>None</td>\n",
       "      <td>Kisii</td>\n",
       "      <td>{u'image': None, u'byline': u'Alice Lee'}</td>\n",
       "      <td>To expand his butcher shop.</td>\n",
       "      <td>None</td>\n",
       "    </tr>\n",
       "    <tr>\n",
       "      <th>78</th>\n",
       "      <td>Clothing Sales</td>\n",
       "      <td>None</td>\n",
       "      <td>False</td>\n",
       "      <td>[{u'gender': u'F', u'first_name': u'Maureen', ...</td>\n",
       "      <td>Kenya</td>\n",
       "      <td>KE</td>\n",
       "      <td>NaN</td>\n",
       "      <td>None</td>\n",
       "      <td>{u'languages': [u'en'], u'texts': {u'en': u'Ma...</td>\n",
       "      <td>575</td>\n",
       "      <td>...</td>\n",
       "      <td>NaN</td>\n",
       "      <td>NaN</td>\n",
       "      <td>NaN</td>\n",
       "      <td>NaN</td>\n",
       "      <td>NaN</td>\n",
       "      <td>None</td>\n",
       "      <td>None</td>\n",
       "      <td>{u'image': 1324922, u'byline': u'Laurie  Russe...</td>\n",
       "      <td>to buy clothes for sale.</td>\n",
       "      <td>None</td>\n",
       "    </tr>\n",
       "  </tbody>\n",
       "</table>\n",
       "<p>3 rows × 47 columns</p>\n",
       "</div>"
      ],
      "text/plain": [
       "                activity basket_amount bonus_credit_eligibility  \\\n",
       "0   Motorcycle Transport          None                    False   \n",
       "57          Butcher Shop          None                    False   \n",
       "78        Clothing Sales          None                    False   \n",
       "\n",
       "                                            borrowers country country_code  \\\n",
       "0   [{u'gender': u'M', u'first_name': u'Victor', u...   Kenya           KE   \n",
       "57  [{u'gender': u'M', u'first_name': u'Francis', ...   Kenya           KE   \n",
       "78  [{u'gender': u'F', u'first_name': u'Maureen', ...   Kenya           KE   \n",
       "\n",
       "   currency_exchange_loss_amount delinquent  \\\n",
       "0                            NaN       None   \n",
       "57                          1.74       None   \n",
       "78                           NaN       None   \n",
       "\n",
       "                                          description  funded_amount  ...    \\\n",
       "0   {u'languages': [u'en'], u'texts': {u'en': u'Vi...              0  ...     \n",
       "57  {u'languages': [u'en'], u'texts': {u'en': u'Fr...           1000  ...     \n",
       "78  {u'languages': [u'en'], u'texts': {u'en': u'Ma...            575  ...     \n",
       "\n",
       "   texts.id texts.mn texts.pt texts.ru  texts.vi themes   town  \\\n",
       "0       NaN      NaN      NaN      NaN       NaN   None  Matuu   \n",
       "57      NaN      NaN      NaN      NaN       NaN   None  Kisii   \n",
       "78      NaN      NaN      NaN      NaN       NaN   None   None   \n",
       "\n",
       "                                           translator  \\\n",
       "0   {u'image': 1109275, u'byline': u'Christine Bru...   \n",
       "57          {u'image': None, u'byline': u'Alice Lee'}   \n",
       "78  {u'image': 1324922, u'byline': u'Laurie  Russe...   \n",
       "\n",
       "                            use  video  \n",
       "0     to buy another motorcycle   None  \n",
       "57  To expand his butcher shop.   None  \n",
       "78     to buy clothes for sale.   None  \n",
       "\n",
       "[3 rows x 47 columns]"
      ]
     },
     "execution_count": 7,
     "metadata": {},
     "output_type": "execute_result"
    }
   ],
   "source": [
    "df2.head(3)"
   ]
  },
  {
   "cell_type": "code",
   "execution_count": 30,
   "metadata": {
    "collapsed": false
   },
   "outputs": [
    {
     "data": {
      "text/plain": [
       "<matplotlib.axes._subplots.AxesSubplot at 0x119c9a850>"
      ]
     },
     "execution_count": 30,
     "metadata": {},
     "output_type": "execute_result"
    },
    {
     "data": {
      "image/png": "[encoded data removed]",
      "text/plain": [
       "<matplotlib.figure.Figure at 0x119c8e950>"
      ]
     },
     "metadata": {},
     "output_type": "display_data"
    }
   ],
   "source": [
    "df2.funded_amount.plot(kind='hist')"
   ]
  },
  {
   "cell_type": "code",
   "execution_count": 12,
   "metadata": {
    "collapsed": false
   },
   "outputs": [],
   "source": [
    "arr =np.array(df2.funded_amount[df2.funded_amount<=2500])\n",
    "test=pd.cut(arr,bins=[-0.1,5,1000,1500,2000,2500],labels=['a','b','c','d','e'])"
   ]
  },
  {
   "cell_type": "code",
   "execution_count": 13,
   "metadata": {
    "collapsed": false
   },
   "outputs": [
    {
     "data": {
      "image/png": "[encoded data removed]",
      "text/plain": [
       "<matplotlib.figure.Figure at 0x1585a4610>"
      ]
     },
     "metadata": {},
     "output_type": "display_data"
    }
   ],
   "source": [
    "#test.unique()\n",
    "test.value_counts().plot(kind='bar');"
   ]
  },
  {
   "cell_type": "code",
   "execution_count": 14,
   "metadata": {
    "collapsed": false
   },
   "outputs": [
    {
     "data": {
      "image/png": "[encoded data removed]",
      "text/plain": [
       "<matplotlib.figure.Figure at 0x158e63950>"
      ]
     },
     "metadata": {},
     "output_type": "display_data"
    }
   ],
   "source": [
    "plt.hist(df2.funded_amount[df2.funded_amount<=2500]);"
   ]
  },
  {
   "cell_type": "code",
   "execution_count": 21,
   "metadata": {
    "collapsed": false
   },
   "outputs": [
    {
     "data": {
      "text/plain": [
       "paid                0.683565\n",
       "in_repayment        0.218320\n",
       "defaulted           0.043436\n",
       "expired             0.028451\n",
       "inactive_expired    0.012895\n",
       "refunded            0.004740\n",
       "fundraising         0.003680\n",
       "deleted             0.001947\n",
       "inactive            0.001927\n",
       "funded              0.000693\n",
       "issue               0.000326\n",
       "                    0.000020\n",
       "Name: status, dtype: float64"
      ]
     },
     "execution_count": 21,
     "metadata": {},
     "output_type": "execute_result"
    }
   ],
   "source": [
    "#df2.status.value_counts().plot(kind='bar')\n",
    "df2.status.value_counts()/df2.status.value_counts().sum()"
   ]
  },
  {
   "cell_type": "code",
   "execution_count": null,
   "metadata": {
    "collapsed": true
   },
   "outputs": [],
   "source": []
  },
  {
   "cell_type": "code",
   "execution_count": 44,
   "metadata": {
    "collapsed": false
   },
   "outputs": [
    {
     "data": {
      "image/png": "[encoded data removed]",
      "text/plain": [
       "<matplotlib.figure.Figure at 0x11b798710>"
      ]
     },
     "metadata": {},
     "output_type": "display_data"
    }
   ],
   "source": [
    "plt.hist(df2.funded_amount[(df2.funded_amount<=2500)&(df2.status=='defaulted')]);"
   ]
  },
  {
   "cell_type": "code",
   "execution_count": 23,
   "metadata": {
    "collapsed": false
   },
   "outputs": [
    {
     "data": {
      "text/plain": [
       "143"
      ]
     },
     "execution_count": 23,
     "metadata": {},
     "output_type": "execute_result"
    }
   ],
   "source": [
    "len(df2.activity.value_counts())"
   ]
  },
  {
   "cell_type": "code",
   "execution_count": 24,
   "metadata": {
    "collapsed": false
   },
   "outputs": [
    {
     "data": {
      "text/plain": [
       "98099"
      ]
     },
     "execution_count": 24,
     "metadata": {},
     "output_type": "execute_result"
    }
   ],
   "source": [
    "len(df2)"
   ]
  },
  {
   "cell_type": "code",
   "execution_count": 9,
   "metadata": {
    "collapsed": false
   },
   "outputs": [
    {
     "data": {
      "text/plain": [
       "97492"
      ]
     },
     "execution_count": 9,
     "metadata": {},
     "output_type": "execute_result"
    }
   ],
   "source": [
    "df3=df2[df2.funded_amount<=2500]\n",
    "len(df3)"
   ]
  },
  {
   "cell_type": "code",
   "execution_count": 13,
   "metadata": {
    "collapsed": true
   },
   "outputs": [],
   "source": [
    "arr =np.array(df3.funded_amount)"
   ]
  },
  {
   "cell_type": "code",
   "execution_count": 14,
   "metadata": {
    "collapsed": false
   },
   "outputs": [
    {
     "data": {
      "text/plain": [
       "97492"
      ]
     },
     "execution_count": 14,
     "metadata": {},
     "output_type": "execute_result"
    }
   ],
   "source": [
    "len(arr)"
   ]
  },
  {
   "cell_type": "code",
   "execution_count": 15,
   "metadata": {
    "collapsed": true
   },
   "outputs": [],
   "source": [
    "\n",
    "df3.binned=pd.cut(arr,bins=[-0.1,5,250,500,750,1000,1500,2000,2500],labels=['0','<250','250-500','500-750','750-1000',\n",
    "                                                                           '100-1500','1500-2000','2000-2500'])"
   ]
  },
  {
   "cell_type": "code",
   "execution_count": 20,
   "metadata": {
    "collapsed": false
   },
   "outputs": [
    {
     "data": {
      "text/html": [
       "<div>\n",
       "<table border=\"1\" class=\"dataframe\">\n",
       "  <thead>\n",
       "    <tr style=\"text-align: right;\">\n",
       "      <th></th>\n",
       "      <th>activity</th>\n",
       "      <th>basket_amount</th>\n",
       "      <th>bonus_credit_eligibility</th>\n",
       "      <th>borrowers</th>\n",
       "      <th>country</th>\n",
       "      <th>country_code</th>\n",
       "      <th>currency_exchange_loss_amount</th>\n",
       "      <th>delinquent</th>\n",
       "      <th>description</th>\n",
       "      <th>funded_amount</th>\n",
       "      <th>...</th>\n",
       "      <th>texts.id</th>\n",
       "      <th>texts.mn</th>\n",
       "      <th>texts.pt</th>\n",
       "      <th>texts.ru</th>\n",
       "      <th>texts.vi</th>\n",
       "      <th>themes</th>\n",
       "      <th>town</th>\n",
       "      <th>translator</th>\n",
       "      <th>use</th>\n",
       "      <th>video</th>\n",
       "    </tr>\n",
       "  </thead>\n",
       "  <tbody>\n",
       "    <tr>\n",
       "      <th>0</th>\n",
       "      <td>Motorcycle Transport</td>\n",
       "      <td>None</td>\n",
       "      <td>False</td>\n",
       "      <td>[{u'gender': u'M', u'first_name': u'Victor', u...</td>\n",
       "      <td>Kenya</td>\n",
       "      <td>KE</td>\n",
       "      <td>NaN</td>\n",
       "      <td>None</td>\n",
       "      <td>{u'languages': [u'en'], u'texts': {u'en': u'Vi...</td>\n",
       "      <td>0</td>\n",
       "      <td>...</td>\n",
       "      <td>NaN</td>\n",
       "      <td>NaN</td>\n",
       "      <td>NaN</td>\n",
       "      <td>NaN</td>\n",
       "      <td>NaN</td>\n",
       "      <td>None</td>\n",
       "      <td>Matuu</td>\n",
       "      <td>{u'image': 1109275, u'byline': u'Christine Bru...</td>\n",
       "      <td>to buy another motorcycle</td>\n",
       "      <td>None</td>\n",
       "    </tr>\n",
       "    <tr>\n",
       "      <th>57</th>\n",
       "      <td>Butcher Shop</td>\n",
       "      <td>None</td>\n",
       "      <td>False</td>\n",
       "      <td>[{u'gender': u'M', u'first_name': u'Francis', ...</td>\n",
       "      <td>Kenya</td>\n",
       "      <td>KE</td>\n",
       "      <td>1.74</td>\n",
       "      <td>None</td>\n",
       "      <td>{u'languages': [u'en'], u'texts': {u'en': u'Fr...</td>\n",
       "      <td>1000</td>\n",
       "      <td>...</td>\n",
       "      <td>NaN</td>\n",
       "      <td>NaN</td>\n",
       "      <td>NaN</td>\n",
       "      <td>NaN</td>\n",
       "      <td>NaN</td>\n",
       "      <td>None</td>\n",
       "      <td>Kisii</td>\n",
       "      <td>{u'image': None, u'byline': u'Alice Lee'}</td>\n",
       "      <td>To expand his butcher shop.</td>\n",
       "      <td>None</td>\n",
       "    </tr>\n",
       "    <tr>\n",
       "      <th>78</th>\n",
       "      <td>Clothing Sales</td>\n",
       "      <td>None</td>\n",
       "      <td>False</td>\n",
       "      <td>[{u'gender': u'F', u'first_name': u'Maureen', ...</td>\n",
       "      <td>Kenya</td>\n",
       "      <td>KE</td>\n",
       "      <td>NaN</td>\n",
       "      <td>None</td>\n",
       "      <td>{u'languages': [u'en'], u'texts': {u'en': u'Ma...</td>\n",
       "      <td>575</td>\n",
       "      <td>...</td>\n",
       "      <td>NaN</td>\n",
       "      <td>NaN</td>\n",
       "      <td>NaN</td>\n",
       "      <td>NaN</td>\n",
       "      <td>NaN</td>\n",
       "      <td>None</td>\n",
       "      <td>None</td>\n",
       "      <td>{u'image': 1324922, u'byline': u'Laurie  Russe...</td>\n",
       "      <td>to buy clothes for sale.</td>\n",
       "      <td>None</td>\n",
       "    </tr>\n",
       "    <tr>\n",
       "      <th>81</th>\n",
       "      <td>Fruits &amp; Vegetables</td>\n",
       "      <td>None</td>\n",
       "      <td>False</td>\n",
       "      <td>[{u'gender': u'F', u'first_name': u' Agnes', u...</td>\n",
       "      <td>Kenya</td>\n",
       "      <td>KE</td>\n",
       "      <td>NaN</td>\n",
       "      <td>None</td>\n",
       "      <td>{u'languages': [u'en'], u'texts': {u'en': u'Ag...</td>\n",
       "      <td>450</td>\n",
       "      <td>...</td>\n",
       "      <td>NaN</td>\n",
       "      <td>NaN</td>\n",
       "      <td>NaN</td>\n",
       "      <td>NaN</td>\n",
       "      <td>NaN</td>\n",
       "      <td>None</td>\n",
       "      <td>Thika</td>\n",
       "      <td>{u'image': 1324922, u'byline': u'Laurie  Russe...</td>\n",
       "      <td>to buy kale, cabbages and green maize to add t...</td>\n",
       "      <td>None</td>\n",
       "    </tr>\n",
       "    <tr>\n",
       "      <th>152</th>\n",
       "      <td>General Store</td>\n",
       "      <td>None</td>\n",
       "      <td>False</td>\n",
       "      <td>[{u'gender': u'M', u'first_name': u'Reuben Mwi...</td>\n",
       "      <td>Kenya</td>\n",
       "      <td>KE</td>\n",
       "      <td>NaN</td>\n",
       "      <td>None</td>\n",
       "      <td>{u'languages': [u'en'], u'texts': {u'en': u'Re...</td>\n",
       "      <td>500</td>\n",
       "      <td>...</td>\n",
       "      <td>NaN</td>\n",
       "      <td>NaN</td>\n",
       "      <td>NaN</td>\n",
       "      <td>NaN</td>\n",
       "      <td>NaN</td>\n",
       "      <td>None</td>\n",
       "      <td>Kwan-Njenga</td>\n",
       "      <td>{u'image': None, u'byline': u'Brett &amp; Margaret...</td>\n",
       "      <td>To add more stock.</td>\n",
       "      <td>None</td>\n",
       "    </tr>\n",
       "  </tbody>\n",
       "</table>\n",
       "<p>5 rows × 47 columns</p>\n",
       "</div>"
      ],
      "text/plain": [
       "                 activity basket_amount bonus_credit_eligibility  \\\n",
       "0    Motorcycle Transport          None                    False   \n",
       "57           Butcher Shop          None                    False   \n",
       "78         Clothing Sales          None                    False   \n",
       "81    Fruits & Vegetables          None                    False   \n",
       "152         General Store          None                    False   \n",
       "\n",
       "                                             borrowers country country_code  \\\n",
       "0    [{u'gender': u'M', u'first_name': u'Victor', u...   Kenya           KE   \n",
       "57   [{u'gender': u'M', u'first_name': u'Francis', ...   Kenya           KE   \n",
       "78   [{u'gender': u'F', u'first_name': u'Maureen', ...   Kenya           KE   \n",
       "81   [{u'gender': u'F', u'first_name': u' Agnes', u...   Kenya           KE   \n",
       "152  [{u'gender': u'M', u'first_name': u'Reuben Mwi...   Kenya           KE   \n",
       "\n",
       "    currency_exchange_loss_amount delinquent  \\\n",
       "0                             NaN       None   \n",
       "57                           1.74       None   \n",
       "78                            NaN       None   \n",
       "81                            NaN       None   \n",
       "152                           NaN       None   \n",
       "\n",
       "                                           description  funded_amount  ...    \\\n",
       "0    {u'languages': [u'en'], u'texts': {u'en': u'Vi...              0  ...     \n",
       "57   {u'languages': [u'en'], u'texts': {u'en': u'Fr...           1000  ...     \n",
       "78   {u'languages': [u'en'], u'texts': {u'en': u'Ma...            575  ...     \n",
       "81   {u'languages': [u'en'], u'texts': {u'en': u'Ag...            450  ...     \n",
       "152  {u'languages': [u'en'], u'texts': {u'en': u'Re...            500  ...     \n",
       "\n",
       "    texts.id texts.mn texts.pt texts.ru  texts.vi themes         town  \\\n",
       "0        NaN      NaN      NaN      NaN       NaN   None        Matuu   \n",
       "57       NaN      NaN      NaN      NaN       NaN   None        Kisii   \n",
       "78       NaN      NaN      NaN      NaN       NaN   None         None   \n",
       "81       NaN      NaN      NaN      NaN       NaN   None        Thika   \n",
       "152      NaN      NaN      NaN      NaN       NaN   None  Kwan-Njenga   \n",
       "\n",
       "                                            translator  \\\n",
       "0    {u'image': 1109275, u'byline': u'Christine Bru...   \n",
       "57           {u'image': None, u'byline': u'Alice Lee'}   \n",
       "78   {u'image': 1324922, u'byline': u'Laurie  Russe...   \n",
       "81   {u'image': 1324922, u'byline': u'Laurie  Russe...   \n",
       "152  {u'image': None, u'byline': u'Brett & Margaret...   \n",
       "\n",
       "                                                   use  video  \n",
       "0                            to buy another motorcycle   None  \n",
       "57                         To expand his butcher shop.   None  \n",
       "78                            to buy clothes for sale.   None  \n",
       "81   to buy kale, cabbages and green maize to add t...   None  \n",
       "152                                 To add more stock.   None  \n",
       "\n",
       "[5 rows x 47 columns]"
      ]
     },
     "execution_count": 20,
     "metadata": {},
     "output_type": "execute_result"
    }
   ],
   "source": [
    "#df3.binned.value_counts()\n",
    "df3.head()"
   ]
  },
  {
   "cell_type": "code",
   "execution_count": 22,
   "metadata": {
    "collapsed": false
   },
   "outputs": [],
   "source": [
    "df4=df3.groupby([df3.activity,df3.binned]).size()"
   ]
  },
  {
   "cell_type": "code",
   "execution_count": 26,
   "metadata": {
    "collapsed": false
   },
   "outputs": [
    {
     "data": {
      "text/plain": [
       "activity                   \n",
       "Agriculture       0             123\n",
       "                  <250          836\n",
       "                  250-500      1252\n",
       "                  500-750       656\n",
       "                  750-1000      615\n",
       "                  100-1500      557\n",
       "                  1500-2000      78\n",
       "                  2000-2500      19\n",
       "Air Conditioning  0               1\n",
       "Animal Sales      0              15\n",
       "                  <250          240\n",
       "                  250-500       290\n",
       "                  500-750       184\n",
       "                  750-1000       36\n",
       "                  100-1500       24\n",
       "Arts              <250           22\n",
       "                  250-500        52\n",
       "                  500-750         5\n",
       "                  750-1000        4\n",
       "                  100-1500        6\n",
       "Auto Repair       0               3\n",
       "                  <250           52\n",
       "                  250-500        29\n",
       "                  500-750        13\n",
       "                  750-1000       15\n",
       "                  100-1500       10\n",
       "Bakery            0              10\n",
       "                  <250           84\n",
       "                  250-500        66\n",
       "                  500-750        40\n",
       "                  750-1000       12\n",
       "                  100-1500       16\n",
       "Barber Shop       0              15\n",
       "                  <250          157\n",
       "                  250-500       124\n",
       "                  500-750        34\n",
       "                  750-1000       21\n",
       "                  100-1500       12\n",
       "Beauty Salon      0              54\n",
       "                  <250          738\n",
       "dtype: int64"
      ]
     },
     "execution_count": 26,
     "metadata": {},
     "output_type": "execute_result"
    }
   ],
   "source": [
    "df4.head(40)"
   ]
  },
  {
   "cell_type": "code",
   "execution_count": 27,
   "metadata": {
    "collapsed": false
   },
   "outputs": [
    {
     "data": {
      "text/plain": [
       "activity\n",
       "Agriculture                     4136\n",
       "Air Conditioning                   1\n",
       "Animal Sales                     789\n",
       "Arts                              89\n",
       "Auto Repair                      122\n",
       "Bakery                           228\n",
       "Barber Shop                      363\n",
       "Beauty Salon                    1830\n",
       "Bicycle Repair                    90\n",
       "Bicycle Sales                     17\n",
       "Blacksmith                       115\n",
       "Bookbinding                        3\n",
       "Bookstore                        104\n",
       "Bricks                           156\n",
       "Butcher Shop                     823\n",
       "Cafe                             924\n",
       "Call Center                       31\n",
       "Carpentry                        481\n",
       "Catering                          46\n",
       "Cattle                           278\n",
       "Cement                            11\n",
       "Cereals                         2709\n",
       "Charcoal Sales                  1917\n",
       "Child Care                        14\n",
       "Cloth & Dressmaking Supplies      95\n",
       "Clothing                         659\n",
       "Clothing Sales                  4503\n",
       "Cobbler                          128\n",
       "Computers                         91\n",
       "Construction                     154\n",
       "                                ... \n",
       "Retail                          4618\n",
       "Rickshaw                          17\n",
       "Secretarial Services              35\n",
       "Services                         918\n",
       "Sewing                            90\n",
       "Shoe Sales                       629\n",
       "Soft Drinks                      282\n",
       "Souvenir Sales                    31\n",
       "Spare Parts                      474\n",
       "Sporting Good Sales                4\n",
       "Tailoring                       2533\n",
       "Taxi                             255\n",
       "Textiles                          31\n",
       "Timber Sales                     245\n",
       "Tourism                            1\n",
       "Transportation                   482\n",
       "Traveling Sales                   27\n",
       "Upholstery                         4\n",
       "Used Clothing                   1327\n",
       "Used Shoes                       135\n",
       "Utilities                          8\n",
       "Vehicle                           19\n",
       "Vehicle Repairs                  204\n",
       "Veterinary Sales                  83\n",
       "Waste Management                 263\n",
       "Water Distribution               388\n",
       "Weaving                          136\n",
       "Wedding Expenses                   1\n",
       "Well digging                       4\n",
       "Wholesale                         52\n",
       "dtype: int64"
      ]
     },
     "execution_count": 27,
     "metadata": {},
     "output_type": "execute_result"
    }
   ],
   "source": [
    "df3.groupby(['activity']).size()"
   ]
  }
 ],
 "metadata": {
  "kernelspec": {
   "display_name": "Python 2",
   "language": "python",
   "name": "python2"
  },
  "language_info": {
   "codemirror_mode": {
    "name": "ipython",
    "version": 2
   },
   "file_extension": ".py",
   "mimetype": "text/x-python",
   "name": "python",
   "nbconvert_exporter": "python",
   "pygments_lexer": "ipython2",
   "version": "2.7.11"
  }
 },
 "nbformat": 4,
 "nbformat_minor": 0
}
